{
  "nbformat": 4,
  "nbformat_minor": 0,
  "metadata": {
    "colab": {
      "provenance": [],
      "toc_visible": true,
      "authorship_tag": "ABX9TyOQiDCkAXhTEGIVEnB0u45N",
      "include_colab_link": true
    },
    "kernelspec": {
      "name": "python3",
      "display_name": "Python 3"
    },
    "language_info": {
      "name": "python"
    }
  },
  "cells": [
    {
      "cell_type": "markdown",
      "metadata": {
        "id": "view-in-github",
        "colab_type": "text"
      },
      "source": [
        "<a href=\"https://colab.research.google.com/github/jeguns/EP7173/blob/main/Unidad%2004/04_Tratamiento_de_valores_at%C3%ADpicos.ipynb\" target=\"_parent\"><img src=\"https://colab.research.google.com/assets/colab-badge.svg\" alt=\"Open In Colab\"/></a>"
      ]
    },
    {
      "cell_type": "markdown",
      "source": [
        "# Paquetes"
      ],
      "metadata": {
        "id": "9kReOvhrYg1c"
      }
    },
    {
      "cell_type": "code",
      "source": [
        "pip install pandas==1.5.3 &> /dev/null"
      ],
      "metadata": {
        "id": "1AluTPFLhHV9"
      },
      "execution_count": null,
      "outputs": []
    },
    {
      "cell_type": "code",
      "execution_count": null,
      "metadata": {
        "id": "pdSJu4Tg_YXl"
      },
      "outputs": [],
      "source": [
        "pip install outlier_utils  &> /dev/null"
      ]
    },
    {
      "cell_type": "code",
      "source": [
        "pip install outliers  &> /dev/null"
      ],
      "metadata": {
        "id": "gHdbEURP_prE"
      },
      "execution_count": null,
      "outputs": []
    },
    {
      "cell_type": "code",
      "source": [
        "pip install PyAstronomy  &> /dev/null"
      ],
      "metadata": {
        "id": "sLAW42J2_rPZ"
      },
      "execution_count": null,
      "outputs": []
    },
    {
      "cell_type": "markdown",
      "source": [
        "# Lectura de datos"
      ],
      "metadata": {
        "id": "ypsy1flhYj-W"
      }
    },
    {
      "cell_type": "markdown",
      "source": [
        "El archivo Postulantes.xlsx contiene los siguientes datos acerca de los postulantes a la UNALM:\n",
        "\n",
        "- Edad, en años\n",
        "\n",
        "- Puntaje RM, toma como máximo el valor 24\n",
        "\n",
        "- Puntaje RV, toma como máximo el valor 24\n",
        "\n",
        "- Puntaje Biología, toma como máximo el valor 6\n",
        "\n",
        "- Puntaje Economía, toma como máximo el valor 4\n",
        "\n",
        "- Tiempo, desde que terminó el colegio, en años"
      ],
      "metadata": {
        "id": "pGhHEI9_YqWP"
      }
    },
    {
      "cell_type": "code",
      "source": [
        "import pandas as pd"
      ],
      "metadata": {
        "id": "GvkpYbQg_bcR"
      },
      "execution_count": null,
      "outputs": []
    },
    {
      "cell_type": "code",
      "source": [
        "datos1 = pd.read_excel('04_Postulantes.xlsx', )\n",
        "datos1"
      ],
      "metadata": {
        "id": "2P2oGaj2_tL8"
      },
      "execution_count": null,
      "outputs": []
    },
    {
      "cell_type": "markdown",
      "source": [
        "# Inspección gráfica"
      ],
      "metadata": {
        "id": "k7ORCKLnZZHP"
      }
    },
    {
      "cell_type": "code",
      "source": [
        "datos1.hist(bins=10,figsize=(15,10))"
      ],
      "metadata": {
        "id": "oXYLGtHl_yjd"
      },
      "execution_count": null,
      "outputs": []
    },
    {
      "cell_type": "markdown",
      "source": [
        "Analizando la asimetría"
      ],
      "metadata": {
        "id": "T6XtwYzTA3lq"
      }
    },
    {
      "cell_type": "code",
      "source": [
        "datos1['EDAD'].skew() # Para obtener el coeficiente de asimetría de una variable"
      ],
      "metadata": {
        "id": "1DM5IwljA3G6"
      },
      "execution_count": null,
      "outputs": []
    },
    {
      "cell_type": "code",
      "source": [
        "datos1.apply(lambda x: x.skew()).to_frame(\"Asimetría\") # Para obtener el coeficiente de asimetría de todas las variables"
      ],
      "metadata": {
        "id": "0hIPzY0UA7wd"
      },
      "execution_count": null,
      "outputs": []
    },
    {
      "cell_type": "markdown",
      "source": [
        "Realizamos una prueba de hipótesis sobre el coeficiente de asimetría\n",
        "\n",
        "$H0: as = 0$\n",
        "\n",
        "$H1: as \\neq 0$\n",
        "\n",
        "Si $pvalor < \\alpha$, se rechaza la hipótesis nula"
      ],
      "metadata": {
        "id": "fpzYgylqBC4R"
      }
    },
    {
      "cell_type": "code",
      "source": [
        "from scipy.stats import skewtest\n",
        "datos1.apply(lambda x: skewtest(x, nan_policy='omit'))"
      ],
      "metadata": {
        "id": "i44Lz3NgBBQK"
      },
      "execution_count": null,
      "outputs": []
    },
    {
      "cell_type": "markdown",
      "source": [
        "A un nivel de significancia $\\alpha=0.01$, se rechaza la hipótesis nula para las variables ..., mientras que ... Por lo tanto"
      ],
      "metadata": {
        "id": "4Xx7rgORZiCA"
      }
    },
    {
      "cell_type": "code",
      "source": [
        "datos1.boxplot(figsize=(15,5))"
      ],
      "metadata": {
        "id": "mAapbvx4BT1u"
      },
      "execution_count": null,
      "outputs": []
    },
    {
      "cell_type": "code",
      "source": [
        "import matplotlib as plt\n",
        "datos1.plot(kind='box', subplots=True, sharey=False, figsize=(15,5));"
      ],
      "metadata": {
        "id": "k1X29RH6BWgG"
      },
      "execution_count": null,
      "outputs": []
    },
    {
      "cell_type": "markdown",
      "source": [
        "Verificando normalidad de los datos:\n",
        "\n",
        "$H_0$: ...\n",
        "\n",
        "$H_1$: ..."
      ],
      "metadata": {
        "id": "MOlGFWWgaLyC"
      }
    },
    {
      "cell_type": "code",
      "source": [
        "from scipy.stats import shapiro\n",
        "stat, p_valor = shapiro(datos1['EDAD'])\n",
        "p_valor"
      ],
      "metadata": {
        "id": "3odPwv-KBmo7"
      },
      "execution_count": null,
      "outputs": []
    },
    {
      "cell_type": "code",
      "source": [
        "datos1.apply(lambda x: shapiro(x))"
      ],
      "metadata": {
        "id": "Xo8dg78oBp4o"
      },
      "execution_count": null,
      "outputs": []
    },
    {
      "cell_type": "markdown",
      "source": [
        "En conclusión, ..."
      ],
      "metadata": {
        "id": "YAJT2L1AaR_Q"
      }
    },
    {
      "cell_type": "code",
      "source": [
        "datos1.describe()"
      ],
      "metadata": {
        "id": "PdUl-ZQJBtcv"
      },
      "execution_count": null,
      "outputs": []
    },
    {
      "cell_type": "markdown",
      "source": [
        "# **Filtros**"
      ],
      "metadata": {
        "id": "nRhlS__xahXC"
      }
    },
    {
      "cell_type": "markdown",
      "source": [
        "## Filtro z-score"
      ],
      "metadata": {
        "id": "6ixtguhGaim8"
      }
    },
    {
      "cell_type": "code",
      "source": [
        "import numpy as np\n",
        "from scipy.stats import zscore"
      ],
      "metadata": {
        "id": "vZiLXd5oBvBH"
      },
      "execution_count": null,
      "outputs": []
    },
    {
      "cell_type": "code",
      "source": [
        "datos1_zscore = datos1.apply(zscore).abs()\n",
        "datos1_zscore"
      ],
      "metadata": {
        "id": "PLhTJoNABwQ2"
      },
      "execution_count": null,
      "outputs": []
    },
    {
      "cell_type": "markdown",
      "source": [
        "### RM"
      ],
      "metadata": {
        "id": "r0vfwrvxbaT8"
      }
    },
    {
      "cell_type": "code",
      "source": [
        "filtro_zscore_rm = datos1_zscore['PUNTAJE RM'] >3\n",
        "filtro_zscore_rm"
      ],
      "metadata": {
        "id": "bjTL5ve4B4pW"
      },
      "execution_count": null,
      "outputs": []
    },
    {
      "cell_type": "code",
      "source": [
        "np.where(filtro_zscore_rm)"
      ],
      "metadata": {
        "id": "mN19bSlTCBbX"
      },
      "execution_count": null,
      "outputs": []
    },
    {
      "cell_type": "code",
      "source": [
        "datos1[filtro_zscore_rm]"
      ],
      "metadata": {
        "id": "E3HGG_jqCoFB"
      },
      "execution_count": null,
      "outputs": []
    },
    {
      "cell_type": "markdown",
      "source": [
        "### RV"
      ],
      "metadata": {
        "id": "DQtwAyl4beAy"
      }
    },
    {
      "cell_type": "code",
      "source": [
        "filtro_score_rv = abs(datos1_zscore['PUNTAJE RV'])>3\n",
        "np.where(filtro_score_rv)"
      ],
      "metadata": {
        "id": "O4sm59e3Cyn5"
      },
      "execution_count": null,
      "outputs": []
    },
    {
      "cell_type": "code",
      "source": [
        "datos1[filtro_score_rv]"
      ],
      "metadata": {
        "id": "rVaP5O2mC97I"
      },
      "execution_count": null,
      "outputs": []
    },
    {
      "cell_type": "markdown",
      "source": [
        "### EDAD"
      ],
      "metadata": {
        "id": "tZUZPgsNbfV0"
      }
    },
    {
      "cell_type": "code",
      "source": [
        "filtro_score_edad = abs(datos1_zscore['EDAD'])>3\n",
        "np.where(filtro_score_edad)"
      ],
      "metadata": {
        "id": "L1jXKeLzDALG"
      },
      "execution_count": null,
      "outputs": []
    },
    {
      "cell_type": "code",
      "source": [
        "datos1[filtro_score_edad]"
      ],
      "metadata": {
        "id": "l6lZn0VRDE4_"
      },
      "execution_count": null,
      "outputs": []
    },
    {
      "cell_type": "markdown",
      "source": [
        "## Chauvenet"
      ],
      "metadata": {
        "id": "I3-ojbbBbnP0"
      }
    },
    {
      "cell_type": "code",
      "source": [
        "import numpy as np\n",
        "from scipy.stats import norm\n",
        "\n",
        "def chauvenet(data): # Creación de la función para filtro de Chauvenet\n",
        "    mu            = data.mean()\n",
        "    sigma         = data.std()\n",
        "    distances     = abs(data - mu) / sigma\n",
        "    probabilities = norm.sf(distances)\n",
        "    outliers      = probabilities < 1 / (2 * len(data)) # regla de Chauvenet\n",
        "    return outliers"
      ],
      "metadata": {
        "id": "Lj_i4PSCD1C_"
      },
      "execution_count": null,
      "outputs": []
    },
    {
      "cell_type": "code",
      "source": [
        "datos1_chauvenet = datos1.apply(chauvenet)\n",
        "datos1_chauvenet"
      ],
      "metadata": {
        "id": "HyvUBQQSD8FQ"
      },
      "execution_count": null,
      "outputs": []
    },
    {
      "cell_type": "markdown",
      "source": [
        "### RM"
      ],
      "metadata": {
        "id": "No0eX9X7b5QA"
      }
    },
    {
      "cell_type": "code",
      "source": [
        "filtro_chauvenet_rm = datos1_chauvenet['PUNTAJE RM']\n",
        "np.where(filtro_chauvenet_rm)"
      ],
      "metadata": {
        "id": "O7UySFwDD_bK"
      },
      "execution_count": null,
      "outputs": []
    },
    {
      "cell_type": "code",
      "source": [
        "datos1[filtro_chauvenet_rm]"
      ],
      "metadata": {
        "id": "Fx3MUntmEMEm"
      },
      "execution_count": null,
      "outputs": []
    },
    {
      "cell_type": "markdown",
      "source": [
        "### RV"
      ],
      "metadata": {
        "id": "AzyZRZyeb6v1"
      }
    },
    {
      "cell_type": "code",
      "source": [
        "filtro_chauvenet_rv = datos1_chauvenet['PUNTAJE RV']\n",
        "np.where(filtro_chauvenet_rv)"
      ],
      "metadata": {
        "id": "uAJt34TNEOZ2"
      },
      "execution_count": null,
      "outputs": []
    },
    {
      "cell_type": "markdown",
      "source": [
        "### EDAD"
      ],
      "metadata": {
        "id": "Gacgj6o2b8TL"
      }
    },
    {
      "cell_type": "code",
      "source": [
        "filtro_chauvenet_edad = datos1_chauvenet['EDAD']\n",
        "np.where(filtro_chauvenet_edad)"
      ],
      "metadata": {
        "id": "n5HMuDRiETvJ"
      },
      "execution_count": null,
      "outputs": []
    },
    {
      "cell_type": "code",
      "source": [
        "datos1[filtro_chauvenet_edad]"
      ],
      "metadata": {
        "id": "UMB2ggyyEYNg"
      },
      "execution_count": null,
      "outputs": []
    },
    {
      "cell_type": "markdown",
      "source": [
        "## Tukey"
      ],
      "metadata": {
        "id": "uh1EexbYcGqj"
      }
    },
    {
      "cell_type": "code",
      "source": [
        "def tukey(data):\n",
        "    outliers  = []\n",
        "    q1        = np.percentile(data, 25) # Cuartil 1 o percentil 25\n",
        "    q3        = np.percentile(data, 75) # Cuartil 3 o percentil 75\n",
        "    lwr_bound = q1-1.5*(q3-q1) # limite inferior # ric = q3-q1\n",
        "    upr_bound = q3+1.5*(q3-q1) # limite superior # ric = q3-q1\n",
        "    outliers  = np.array([(x < lwr_bound) or (x > upr_bound) for x in data]) # regla de Tukey\n",
        "    return outliers"
      ],
      "metadata": {
        "id": "vy54_CJCEsXL"
      },
      "execution_count": null,
      "outputs": []
    },
    {
      "cell_type": "code",
      "source": [
        "datos1_tukey = datos1.apply(tukey)\n",
        "datos1_tukey"
      ],
      "metadata": {
        "id": "L9fKZOidEtxT"
      },
      "execution_count": null,
      "outputs": []
    },
    {
      "cell_type": "markdown",
      "source": [
        "### RM"
      ],
      "metadata": {
        "id": "Gi7Ax7FJcLZt"
      }
    },
    {
      "cell_type": "code",
      "source": [
        "filtro_tukey_rm = datos1_tukey['PUNTAJE RM']\n",
        "np.where(filtro_tukey_rm)"
      ],
      "metadata": {
        "id": "9AwjEmgVEwM9"
      },
      "execution_count": null,
      "outputs": []
    },
    {
      "cell_type": "code",
      "source": [
        "datos1[filtro_tukey_rm]"
      ],
      "metadata": {
        "id": "KJDs8mwXE1_n"
      },
      "execution_count": null,
      "outputs": []
    },
    {
      "cell_type": "markdown",
      "source": [
        "### RV"
      ],
      "metadata": {
        "id": "2jJp1JpYcNWI"
      }
    },
    {
      "cell_type": "code",
      "source": [
        "filtro_tukey_rv = datos1_tukey['PUNTAJE RV']\n",
        "np.where(filtro_tukey_rv)"
      ],
      "metadata": {
        "id": "5K5AvtSlE4ox"
      },
      "execution_count": null,
      "outputs": []
    },
    {
      "cell_type": "code",
      "source": [
        "datos1[filtro_tukey_rv]"
      ],
      "metadata": {
        "id": "LpvBWqvTE9b6"
      },
      "execution_count": null,
      "outputs": []
    },
    {
      "cell_type": "markdown",
      "source": [
        "### EDAD"
      ],
      "metadata": {
        "id": "Lq9WcDM4cPUS"
      }
    },
    {
      "cell_type": "code",
      "source": [
        "filtro_tukey_edad = datos1_tukey['EDAD']\n",
        "np.where(filtro_tukey_edad)"
      ],
      "metadata": {
        "id": "bztYavcaE-8i"
      },
      "execution_count": null,
      "outputs": []
    },
    {
      "cell_type": "code",
      "source": [
        "datos1[filtro_tukey_edad]"
      ],
      "metadata": {
        "id": "nM4vV6KvFDZ0"
      },
      "execution_count": null,
      "outputs": []
    },
    {
      "cell_type": "code",
      "source": [
        "np.intersect1d(np.where(filtro_tukey_rv), np.where(filtro_tukey_edad)) # este código solo vale para 2 variables"
      ],
      "metadata": {
        "id": "6X8vw58oFqGS"
      },
      "execution_count": null,
      "outputs": []
    },
    {
      "cell_type": "code",
      "source": [
        "datos1.loc[np.intersect1d(np.where(filtro_tukey_rv), np.where(filtro_tukey_edad))]"
      ],
      "metadata": {
        "id": "H8rEnB9uF-Ti"
      },
      "execution_count": null,
      "outputs": []
    },
    {
      "cell_type": "code",
      "source": [
        "conj1 = set(np.where(filtro_tukey_rm)[0])\n",
        "conj2 = set(np.where(filtro_tukey_rv)[0])\n",
        "conj3 = set(np.where(filtro_tukey_edad)[0])\n",
        "\n",
        "conj1"
      ],
      "metadata": {
        "id": "Nvgm4ZxSGS_L"
      },
      "execution_count": null,
      "outputs": []
    },
    {
      "cell_type": "code",
      "source": [
        "conj1.intersection(conj3)"
      ],
      "metadata": {
        "id": "qUCiSKS0HBpU"
      },
      "execution_count": null,
      "outputs": []
    },
    {
      "cell_type": "code",
      "source": [
        "conj1.intersection(conj3,conj2)"
      ],
      "metadata": {
        "id": "t-mpIjMQHGFJ"
      },
      "execution_count": null,
      "outputs": []
    },
    {
      "cell_type": "markdown",
      "source": [
        "# **Métodos inferenciales univariados**"
      ],
      "metadata": {
        "id": "fDxSU6FLcvKm"
      }
    },
    {
      "cell_type": "markdown",
      "source": [
        "## Test de Grubbs"
      ],
      "metadata": {
        "id": "CK2Eg_zleYSq"
      }
    },
    {
      "cell_type": "code",
      "source": [
        "from outliers import smirnov_grubbs as grubbs"
      ],
      "metadata": {
        "id": "LwH5IHhiHKEX"
      },
      "execution_count": null,
      "outputs": []
    },
    {
      "cell_type": "markdown",
      "source": [
        "### RM"
      ],
      "metadata": {
        "id": "aejog1mWeW0K"
      }
    },
    {
      "cell_type": "code",
      "source": [
        "datos1['PUNTAJE RM'].describe()"
      ],
      "metadata": {
        "id": "DVmfZl8HHLM0"
      },
      "execution_count": null,
      "outputs": []
    },
    {
      "cell_type": "markdown",
      "source": [
        "La media es 10.83, el máximo es 24 y el mínimo es -3.06"
      ],
      "metadata": {
        "id": "0Wrtk79qdWy2"
      }
    },
    {
      "cell_type": "code",
      "source": [
        "10.83 - (-3.06), 24 - 10.83"
      ],
      "metadata": {
        "id": "eGvebNK_dbqi"
      },
      "execution_count": null,
      "outputs": []
    },
    {
      "cell_type": "markdown",
      "source": [
        "La cantidad más alejada de la media es el mínimo, por lo tanto la hipótesis inicial analizará si el mínimo es un outlier."
      ],
      "metadata": {
        "id": "b7flu_XJdk_s"
      }
    },
    {
      "cell_type": "markdown",
      "source": [
        "$H_0:$ No existe un valor atípico inferior en los datos /// El mínimo no es un outlier\n",
        "\n",
        "\n",
        "$H_1:$ Existe un valor atípico inferior en los datos /// El mínimo es un outlier"
      ],
      "metadata": {
        "id": "AeIB3Ep3dw-a"
      }
    },
    {
      "cell_type": "code",
      "source": [
        "len(grubbs.test(datos1['PUNTAJE RM'], alpha=.05))"
      ],
      "metadata": {
        "id": "uJJElqTFdj0c"
      },
      "execution_count": null,
      "outputs": []
    },
    {
      "cell_type": "markdown",
      "source": [
        "En el código anterior, devuelve 1830 elementos, que corresponde a la cantidad de filas, por lo tanto no encontró ningún outlier inferior.\n"
      ],
      "metadata": {
        "id": "6IcpSiiyeIVw"
      }
    },
    {
      "cell_type": "code",
      "source": [
        "len(grubbs.min_test(datos1['PUNTAJE RM'], alpha=.05))"
      ],
      "metadata": {
        "id": "s60ELyrTeDt0"
      },
      "execution_count": null,
      "outputs": []
    },
    {
      "cell_type": "code",
      "source": [
        "grubbs.min_test_indices(datos1['PUNTAJE RM'], alpha=.05)"
      ],
      "metadata": {
        "id": "5ur_hdqceNnE"
      },
      "execution_count": null,
      "outputs": []
    },
    {
      "cell_type": "code",
      "source": [
        "len(grubbs.max_test(datos1['PUNTAJE RM'], alpha=.05))"
      ],
      "metadata": {
        "id": "XLmuJcg6eP3A"
      },
      "execution_count": null,
      "outputs": []
    },
    {
      "cell_type": "code",
      "source": [
        "grubbs.max_test_indices(datos1['PUNTAJE RM'], alpha=.05)"
      ],
      "metadata": {
        "id": "OZ9s4TJneSIJ"
      },
      "execution_count": null,
      "outputs": []
    },
    {
      "cell_type": "markdown",
      "source": [
        "### RV"
      ],
      "metadata": {
        "id": "RU_xRfe2ec7Q"
      }
    },
    {
      "cell_type": "code",
      "source": [
        "len(grubbs.test(datos1['PUNTAJE RV'], alpha=.05))"
      ],
      "metadata": {
        "id": "HNL3dMfJeffm"
      },
      "execution_count": null,
      "outputs": []
    },
    {
      "cell_type": "markdown",
      "source": [
        "### EDAD"
      ],
      "metadata": {
        "id": "aBbODGfIehfo"
      }
    },
    {
      "cell_type": "code",
      "source": [
        "len(grubbs.test(datos1['EDAD'], alpha=.05))"
      ],
      "metadata": {
        "id": "fBCVw3CeejCQ"
      },
      "execution_count": null,
      "outputs": []
    },
    {
      "cell_type": "code",
      "source": [
        "datos_sin_outliers = pd.DataFrame(grubbs.test(datos1['EDAD'], alpha=.05), columns=['EDAD'])\n",
        "datos1[~datos1['EDAD'].isin(datos_sin_outliers['EDAD'])]"
      ],
      "metadata": {
        "id": "moZAfz-wflk9"
      },
      "execution_count": null,
      "outputs": []
    },
    {
      "cell_type": "code",
      "source": [
        "len(grubbs.min_test(datos1['EDAD'], alpha=.05))"
      ],
      "metadata": {
        "id": "brUny-p8etc6"
      },
      "execution_count": null,
      "outputs": []
    },
    {
      "cell_type": "code",
      "source": [
        "len(grubbs.max_test(datos1['EDAD'], alpha=.05))"
      ],
      "metadata": {
        "id": "yXzquGNjevom"
      },
      "execution_count": null,
      "outputs": []
    },
    {
      "cell_type": "code",
      "source": [
        "grubbs.max_test_indices(datos1['EDAD'], alpha=.05)"
      ],
      "metadata": {
        "id": "0zBeqZeFexl4"
      },
      "execution_count": null,
      "outputs": []
    },
    {
      "cell_type": "markdown",
      "source": [
        "## Test de Dixon"
      ],
      "metadata": {
        "id": "1D0almYRgtf2"
      }
    },
    {
      "cell_type": "code",
      "source": [
        "import rpy2"
      ],
      "metadata": {
        "id": "Df4Dt0dEg4ua"
      },
      "execution_count": null,
      "outputs": []
    },
    {
      "cell_type": "code",
      "source": [
        "%load_ext rpy2.ipython"
      ],
      "metadata": {
        "id": "7cX-wZwGg5x2"
      },
      "execution_count": null,
      "outputs": []
    },
    {
      "cell_type": "code",
      "source": [
        "%R -i datos1 # pasamos de Python a R"
      ],
      "metadata": {
        "id": "OHR9xSnkg66l"
      },
      "execution_count": null,
      "outputs": []
    },
    {
      "cell_type": "code",
      "source": [
        "%%R\n",
        "install.packages(\"outliers\")"
      ],
      "metadata": {
        "id": "SZAQAlQXg8HV"
      },
      "execution_count": null,
      "outputs": []
    },
    {
      "cell_type": "code",
      "source": [
        "%%R\n",
        "library(outliers)"
      ],
      "metadata": {
        "id": "uAZXHnd6g9CT"
      },
      "execution_count": null,
      "outputs": []
    },
    {
      "cell_type": "markdown",
      "source": [
        "Solo para mostrar el funcionamiento del código, se seleccionarán las 30 primeras filas."
      ],
      "metadata": {
        "id": "orVgFYvChmjf"
      }
    },
    {
      "cell_type": "markdown",
      "source": [
        "### RM"
      ],
      "metadata": {
        "id": "QCicz90-g9vh"
      }
    },
    {
      "cell_type": "code",
      "source": [
        "%%R\n",
        "min(datos1$'PUNTAJE RM'[1:30]) - mean(datos1$'PUNTAJE RM'[1:30])"
      ],
      "metadata": {
        "id": "-LmG8SfDh_p4"
      },
      "execution_count": null,
      "outputs": []
    },
    {
      "cell_type": "code",
      "source": [
        "%%R\n",
        "max(datos1$'PUNTAJE RM'[1:30]) - mean(datos1$'PUNTAJE RM'[1:30])"
      ],
      "metadata": {
        "id": "_QKhAwbUiQGK"
      },
      "execution_count": null,
      "outputs": []
    },
    {
      "cell_type": "code",
      "source": [
        "%%R\n",
        "dixon.test(datos1$'PUNTAJE RM'[1:30])"
      ],
      "metadata": {
        "id": "tV7a6Tjlht5B"
      },
      "execution_count": null,
      "outputs": []
    },
    {
      "cell_type": "markdown",
      "source": [
        "A un nivel de significancia del $1\\%$, el valor más alto no es un outlier."
      ],
      "metadata": {
        "id": "BuBAMyc0h4ch"
      }
    },
    {
      "cell_type": "code",
      "source": [
        "%%R\n",
        "dixon.test(datos1$'PUNTAJE RM'[1:30], opposite = TRUE) # al colocar opposite TRUE, ya no analiza el máximo, sino ahora el mínimo."
      ],
      "metadata": {
        "id": "u0M6o4bWiymM"
      },
      "execution_count": null,
      "outputs": []
    },
    {
      "cell_type": "markdown",
      "source": [
        "A un nivel de significancia del $1\\%$, el valor más bajo no es un outlier."
      ],
      "metadata": {
        "id": "5ZbpgfQ_i52O"
      }
    },
    {
      "cell_type": "markdown",
      "source": [
        "## Test de Rosner"
      ],
      "metadata": {
        "id": "rBxnCDnei-rb"
      }
    },
    {
      "cell_type": "code",
      "source": [
        "from PyAstronomy import pyasl"
      ],
      "metadata": {
        "id": "s8ObJaHXjEOF"
      },
      "execution_count": null,
      "outputs": []
    },
    {
      "cell_type": "code",
      "source": [
        "# Ejemplo\n",
        "pyasl.generalizedESD(np.array([10,1,3,2,3,4,3,4,6,300,400,15500,5,6,5,6,5,4,4,5,5,20]), 10, 0.05)"
      ],
      "metadata": {
        "id": "jqYr7n4YjFof"
      },
      "execution_count": null,
      "outputs": []
    },
    {
      "cell_type": "markdown",
      "source": [
        "### RM"
      ],
      "metadata": {
        "id": "Fee9HXyBjG7O"
      }
    },
    {
      "cell_type": "code",
      "source": [
        "pyasl.generalizedESD(np.array(datos1['PUNTAJE RM']), 10, 0.05)"
      ],
      "metadata": {
        "id": "6M-lGLeojH5x"
      },
      "execution_count": null,
      "outputs": []
    },
    {
      "cell_type": "markdown",
      "source": [
        "### RV"
      ],
      "metadata": {
        "id": "NicVvXe9jnuV"
      }
    },
    {
      "cell_type": "code",
      "source": [
        "pyasl.generalizedESD(np.array(datos1['PUNTAJE RV']), 10, 0.05)"
      ],
      "metadata": {
        "id": "c5r1AwQsjPES"
      },
      "execution_count": null,
      "outputs": []
    },
    {
      "cell_type": "markdown",
      "source": [
        "### EDAD"
      ],
      "metadata": {
        "id": "_t6vZpKmjoi8"
      }
    },
    {
      "cell_type": "code",
      "source": [
        "pyasl.generalizedESD(np.array(datos1['EDAD']), 10, 0.05)"
      ],
      "metadata": {
        "id": "Lr1Zv1NZjQ4N"
      },
      "execution_count": null,
      "outputs": []
    },
    {
      "cell_type": "code",
      "source": [
        "datos1.loc[pyasl.generalizedESD(np.array(datos1['EDAD']), 10, 0.05)[1]]"
      ],
      "metadata": {
        "id": "_-W0lUVAjiYy"
      },
      "execution_count": null,
      "outputs": []
    },
    {
      "cell_type": "markdown",
      "source": [
        "# **Métodos multivariados de identificación de outliers**\n",
        "\n",
        "\n"
      ],
      "metadata": {
        "id": "e25bzvv8jttM"
      }
    },
    {
      "cell_type": "markdown",
      "source": [
        "## Identificación gráfica bivariada"
      ],
      "metadata": {
        "id": "o6Lg8P8Zj5v3"
      }
    },
    {
      "cell_type": "code",
      "source": [
        "import plotly.express as px"
      ],
      "metadata": {
        "id": "NVZ5svIzHfas"
      },
      "execution_count": null,
      "outputs": []
    },
    {
      "cell_type": "code",
      "source": [
        "fig = px.scatter_matrix(datos1)\n",
        "fig.update_layout(width=900, height=900)"
      ],
      "metadata": {
        "id": "wi0n-wAPHg-w"
      },
      "execution_count": null,
      "outputs": []
    },
    {
      "cell_type": "markdown",
      "source": [
        "## Distancia de Malahanobis"
      ],
      "metadata": {
        "id": "YK23DC3Wj_-x"
      }
    },
    {
      "cell_type": "code",
      "source": [
        "# Aplicar .dropna().reset_index(drop=True) en caso haya perdidos, o imputar"
      ],
      "metadata": {
        "id": "TUX8fTiWIeOs"
      },
      "execution_count": null,
      "outputs": []
    },
    {
      "cell_type": "code",
      "source": [
        "from sklearn.preprocessing import StandardScaler\n",
        "\n",
        "scaler  = StandardScaler() # definimos el estandarizador\n",
        "datos1a = pd.DataFrame(scaler.fit_transform(datos1)) # aplicamos la estandarización, almacenando el resultado en un DataFrame\n",
        "datos1a"
      ],
      "metadata": {
        "id": "3QTC4eizHoEr"
      },
      "execution_count": null,
      "outputs": []
    },
    {
      "cell_type": "code",
      "source": [
        "datos1a.columns = datos1.columns # las columnas del nuevo data frame datos1b serán las mismas que datos1\n",
        "datos1a"
      ],
      "metadata": {
        "id": "I74yvL4QHpsD"
      },
      "execution_count": null,
      "outputs": []
    },
    {
      "cell_type": "code",
      "source": [
        "from numpy.linalg import pinv\n",
        "from scipy.spatial.distance import mahalanobis\n",
        "\n",
        "mean_vector    = np.mean(datos1a, axis = 0) ## datos1b.mean()\n",
        "cov_matrix     = np.cov(datos1a.T)\n",
        "inv_cov_matrix = np.linalg.inv(cov_matrix)\n",
        "\n",
        "datos1a['Mahalanobis_Distance'] = datos1a.apply(lambda row: mahalanobis(row, mean_vector, inv_cov_matrix), axis=1)"
      ],
      "metadata": {
        "id": "pPKAfF5uJFNE"
      },
      "execution_count": null,
      "outputs": []
    },
    {
      "cell_type": "code",
      "source": [
        "datos1a"
      ],
      "metadata": {
        "id": "eYd58CEbJdVB"
      },
      "execution_count": null,
      "outputs": []
    },
    {
      "cell_type": "code",
      "source": [
        "mean_mahalanobis = np.mean(datos1a['Mahalanobis_Distance'])\n",
        "std_mahalanobis = np.std(datos1a['Mahalanobis_Distance'])\n",
        "umbral = mean_mahalanobis + 3 * std_mahalanobis\n",
        "umbral"
      ],
      "metadata": {
        "id": "9szxaYi6-Ada"
      },
      "execution_count": null,
      "outputs": []
    },
    {
      "cell_type": "code",
      "source": [
        "np.where(datos1a['Mahalanobis_Distance'] > umbral)"
      ],
      "metadata": {
        "id": "MydWnije-Iiv"
      },
      "execution_count": null,
      "outputs": []
    },
    {
      "cell_type": "code",
      "source": [
        "datos1a[datos1a['Mahalanobis_Distance'] > umbral]"
      ],
      "metadata": {
        "id": "mRr8oG9Q-Ecf"
      },
      "execution_count": null,
      "outputs": []
    },
    {
      "cell_type": "code",
      "source": [
        "outlier_mah = datos1[datos1a['Mahalanobis_Distance'] > umbral]\n",
        "outlier_mah"
      ],
      "metadata": {
        "id": "WZfetuPf-Qt7"
      },
      "execution_count": null,
      "outputs": []
    },
    {
      "cell_type": "code",
      "source": [
        "pd.DataFrame(np.mean(outlier_mah, axis=0)).T"
      ],
      "metadata": {
        "id": "c_OQPO6tJwI4"
      },
      "execution_count": null,
      "outputs": []
    },
    {
      "cell_type": "code",
      "source": [
        "pd.DataFrame(np.mean(datos1, axis = 0)).T"
      ],
      "metadata": {
        "id": "GUbPNxozJlfb"
      },
      "execution_count": null,
      "outputs": []
    },
    {
      "cell_type": "markdown",
      "source": [
        "## Elliptic Envelope"
      ],
      "metadata": {
        "id": "aRUgCFfq_WcQ"
      }
    },
    {
      "cell_type": "code",
      "source": [
        "round(np.mean(datos1a, axis = 0))"
      ],
      "metadata": {
        "id": "-k1YlylXAD23"
      },
      "execution_count": null,
      "outputs": []
    },
    {
      "cell_type": "code",
      "source": [
        "from sklearn.covariance import EllipticEnvelope\n",
        "ee = EllipticEnvelope(contamination = 0.02, support_fraction = 0.8, assume_centered=True).fit_predict(datos1a)\n",
        "ee"
      ],
      "metadata": {
        "id": "WfULJ6sK_Ykp"
      },
      "execution_count": null,
      "outputs": []
    },
    {
      "cell_type": "code",
      "source": [
        "np.where(ee == -1)"
      ],
      "metadata": {
        "id": "z8g7J5brAPlM"
      },
      "execution_count": null,
      "outputs": []
    },
    {
      "cell_type": "code",
      "source": [
        "datos1.iloc[ee == -1]"
      ],
      "metadata": {
        "id": "0556iCL6AQyT"
      },
      "execution_count": null,
      "outputs": []
    },
    {
      "cell_type": "markdown",
      "source": [
        "## Isolation Forest"
      ],
      "metadata": {
        "id": "a7CWKD_aAWl6"
      }
    },
    {
      "cell_type": "code",
      "source": [
        "from sklearn.ensemble import IsolationForest\n",
        "isof = IsolationForest(contamination = 'auto').fit_predict(datos1) #detecta automáticamente el % de atípicos\n",
        "np.where(isof == -1)"
      ],
      "metadata": {
        "id": "cVS2XdxrAX6K"
      },
      "execution_count": null,
      "outputs": []
    },
    {
      "cell_type": "code",
      "source": [
        "datos1.iloc[isof == -1]"
      ],
      "metadata": {
        "id": "Q1L6gt_DAcY7"
      },
      "execution_count": null,
      "outputs": []
    },
    {
      "cell_type": "markdown",
      "source": [
        "## Local Outlier Factor"
      ],
      "metadata": {
        "id": "HYpZI60aAgFn"
      }
    },
    {
      "cell_type": "code",
      "source": [
        "from sklearn.neighbors import LocalOutlierFactor\n",
        "lof = LocalOutlierFactor(contamination = 'auto').fit_predict(datos1)\n",
        "np.where(lof == -1)"
      ],
      "metadata": {
        "id": "0Phmg4eIAi6f"
      },
      "execution_count": null,
      "outputs": []
    },
    {
      "cell_type": "code",
      "source": [
        "datos1.iloc[lof == -1]"
      ],
      "metadata": {
        "id": "65aWwdGxAkMV"
      },
      "execution_count": null,
      "outputs": []
    },
    {
      "cell_type": "code",
      "source": [
        "pos_atipicos1 = np.intersect1d(np.where(datos1a['Mahalanobis_Distance'] > umbral), np.where(ee == -1))\n",
        "pos_atipicos1"
      ],
      "metadata": {
        "id": "6XAfn1OmAoVY"
      },
      "execution_count": null,
      "outputs": []
    },
    {
      "cell_type": "code",
      "source": [
        "pos_atipicos2 = np.intersect1d(np.where(isof == -1), np.where(lof == -1))\n",
        "pos_atipicos2"
      ],
      "metadata": {
        "id": "dFbr4lugAnPc"
      },
      "execution_count": null,
      "outputs": []
    },
    {
      "cell_type": "code",
      "source": [
        "conj_0 = set(np.where(datos1a['Mahalanobis_Distance'] > umbral)[0])\n",
        "conj_1 = set(np.where(ee == -1)[0])\n",
        "conj_2 = set(np.where(isof == -1)[0])\n",
        "conj_3 = set(np.where(lof == -1)[0])\n",
        "pos_atipicos3 = np.array(list(conj_0.intersection(conj_1,conj_2,conj_3)))\n",
        "pos_atipicos3"
      ],
      "metadata": {
        "id": "elolcsxeA5qc"
      },
      "execution_count": null,
      "outputs": []
    },
    {
      "cell_type": "code",
      "source": [
        "datos1.iloc[pos_atipicos3]"
      ],
      "metadata": {
        "id": "23IscpQUBC1M"
      },
      "execution_count": null,
      "outputs": []
    },
    {
      "cell_type": "markdown",
      "source": [
        "# Manipulación de outliers"
      ],
      "metadata": {
        "id": "MRKMODxOBphC"
      }
    },
    {
      "cell_type": "code",
      "source": [
        "datos1.describe() # datos completos"
      ],
      "metadata": {
        "id": "pEHCVQcGBsHI"
      },
      "execution_count": null,
      "outputs": []
    },
    {
      "cell_type": "code",
      "source": [
        "datos1.loc[pos_atipicos2].describe() # descripción de los datos atípicos"
      ],
      "metadata": {
        "id": "PNGOjok9B02t"
      },
      "execution_count": null,
      "outputs": []
    },
    {
      "cell_type": "code",
      "source": [
        "datos1.drop(pos_atipicos2).describe() # descripción de los datos que no son atípicos"
      ],
      "metadata": {
        "id": "ZoXzZjSPCZOY"
      },
      "execution_count": null,
      "outputs": []
    },
    {
      "cell_type": "markdown",
      "source": [
        "## Winsorizing"
      ],
      "metadata": {
        "id": "EbtWU8BeDBOy"
      }
    },
    {
      "cell_type": "code",
      "source": [
        "from scipy.stats.mstats import winsorize"
      ],
      "metadata": {
        "id": "NpQFHd_7DEvV"
      },
      "execution_count": null,
      "outputs": []
    },
    {
      "cell_type": "code",
      "source": [
        "datos1['PUNTAJE RM WINSO'] = winsorize(datos1['PUNTAJE RM'], limits=[0.01, 0.01]) # winsorize con percentiles 1 y 99\n",
        "np.percentile(datos1['PUNTAJE RM'], [1,99])"
      ],
      "metadata": {
        "id": "8vrn-XV2DXov"
      },
      "execution_count": null,
      "outputs": []
    },
    {
      "cell_type": "code",
      "source": [
        "datos1[['PUNTAJE RM','PUNTAJE RM WINSO']].sort_values('PUNTAJE RM')"
      ],
      "metadata": {
        "id": "VCAKkOA4Dojl"
      },
      "execution_count": null,
      "outputs": []
    },
    {
      "cell_type": "code",
      "source": [
        "datos1[['PUNTAJE RM','PUNTAJE RM WINSO']].describe()"
      ],
      "metadata": {
        "id": "8BB3UpuZDwN7"
      },
      "execution_count": null,
      "outputs": []
    },
    {
      "cell_type": "code",
      "source": [
        "import matplotlib.pyplot as plt\n",
        "fig, axs = plt.subplots(1, 2, figsize=(15, 10))\n",
        "axs[0].hist(datos1['PUNTAJE RM'], bins=20)\n",
        "axs[0].set_title('PUNTAJE RM')\n",
        "axs[1].hist(datos1['PUNTAJE RM WINSO'], bins=20)\n",
        "axs[1].set_title('PUNTAJE RM WINSO')\n",
        "\n",
        "for ax in axs:\n",
        "    ax.set_xlim((-5,25))\n",
        "    ax.set_ylim((0,225))\n",
        "plt.show()"
      ],
      "metadata": {
        "id": "Eg-BSw-nD1oL"
      },
      "execution_count": null,
      "outputs": []
    },
    {
      "cell_type": "code",
      "source": [
        "datos1['EDAD WINSO'] = winsorize(datos1['EDAD'], limits=[0.001, 0.01]) # winsorize con percentiles 0.1 y 99\n",
        "np.percentile(datos1['EDAD'], [0.1,99])"
      ],
      "metadata": {
        "id": "F6auJTjlFEK8"
      },
      "execution_count": null,
      "outputs": []
    },
    {
      "cell_type": "code",
      "source": [
        "datos1[['EDAD','EDAD WINSO']].sort_values('EDAD')"
      ],
      "metadata": {
        "id": "NxU82Gq7L3Rp"
      },
      "execution_count": null,
      "outputs": []
    },
    {
      "cell_type": "code",
      "source": [
        "datos1[['EDAD','EDAD WINSO']].describe()"
      ],
      "metadata": {
        "id": "AtCPs_Q6L8XW"
      },
      "execution_count": null,
      "outputs": []
    },
    {
      "cell_type": "code",
      "source": [
        "fig, axs = plt.subplots(1, 2, figsize=(15, 10))\n",
        "axs[0].hist(datos1['EDAD'], bins=20)\n",
        "axs[0].set_title('EDAD')\n",
        "axs[1].hist(datos1['EDAD WINSO'], bins=20)\n",
        "axs[1].set_title('EDAD WINSO')\n",
        "\n",
        "for ax in axs:\n",
        "    ax.set_xlim((16,48))\n",
        "    ax.set_ylim((0,1500))\n",
        "plt.show()"
      ],
      "metadata": {
        "id": "JbIE-z84L_FX"
      },
      "execution_count": null,
      "outputs": []
    },
    {
      "cell_type": "markdown",
      "source": [
        "## Trimming\n",
        "\n",
        "Es útil cuando los valores atípicos son el resultado de errores de medición o entrada de datos incorrecta, o tienen un impacto desproporcionado en los resultados del análisis. Por ejemplo, la presencia de outliers altera en demasía los supuestos de la regresión.\n",
        "\n",
        "También se puede usar en caso se trate de valores atípicos debido a la variabilidad natural de los datos, teniendo siempre en cuenta que la eliminación de datos puede reducir el tamaño de la muestra y, en algunos casos, eliminar información importante."
      ],
      "metadata": {
        "id": "YZ_eti5YEwrS"
      }
    },
    {
      "cell_type": "code",
      "source": [
        "# Calcular los valores de corte para la columna seleccionada\n",
        "lower_cutoff, upper_cutoff = np.percentile(datos1['PUNTAJE RM'], [1,99])\n",
        "lower_cutoff, upper_cutoff"
      ],
      "metadata": {
        "id": "ljfFaeHVExn0"
      },
      "execution_count": null,
      "outputs": []
    },
    {
      "cell_type": "code",
      "source": [
        "trim = (datos1['PUNTAJE RM'] >= lower_cutoff) & (datos1['PUNTAJE RM'] <= upper_cutoff) # si se encuentra entre los P1 y P99\n",
        "trim.head(10)"
      ],
      "metadata": {
        "id": "fTtMzlIkF8vQ"
      },
      "execution_count": null,
      "outputs": []
    },
    {
      "cell_type": "code",
      "source": [
        "datos1.loc[trim] # solo muestra los registros para los que TAX se encuentra entre su percentil 1 y 99"
      ],
      "metadata": {
        "id": "3mF09uDfHBTR"
      },
      "execution_count": null,
      "outputs": []
    },
    {
      "cell_type": "code",
      "source": [
        "datos1.loc[trim].info()"
      ],
      "metadata": {
        "id": "zuE90pLSHEz8"
      },
      "execution_count": null,
      "outputs": []
    }
  ]
}