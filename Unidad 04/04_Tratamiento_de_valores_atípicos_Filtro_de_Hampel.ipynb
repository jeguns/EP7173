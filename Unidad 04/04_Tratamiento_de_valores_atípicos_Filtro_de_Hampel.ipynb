{
  "nbformat": 4,
  "nbformat_minor": 0,
  "metadata": {
    "colab": {
      "provenance": [],
      "authorship_tag": "ABX9TyNmdiOxVjUEWzZX8JFcy2iY",
      "include_colab_link": true
    },
    "kernelspec": {
      "name": "python3",
      "display_name": "Python 3"
    },
    "language_info": {
      "name": "python"
    }
  },
  "cells": [
    {
      "cell_type": "markdown",
      "metadata": {
        "id": "view-in-github",
        "colab_type": "text"
      },
      "source": [
        "<a href=\"https://colab.research.google.com/github/jeguns/EP7173/blob/main/Unidad%2004/04_Tratamiento_de_valores_at%C3%ADpicos_Filtro_de_Hampel.ipynb\" target=\"_parent\"><img src=\"https://colab.research.google.com/assets/colab-badge.svg\" alt=\"Open In Colab\"/></a>"
      ]
    },
    {
      "cell_type": "markdown",
      "source": [
        "# **Preliminares**"
      ],
      "metadata": {
        "id": "RKG3P4x42IX7"
      }
    },
    {
      "cell_type": "code",
      "execution_count": null,
      "metadata": {
        "id": "Q9SBabRB1_6X"
      },
      "outputs": [],
      "source": [
        "pip install hampel  &> /dev/null"
      ]
    },
    {
      "cell_type": "markdown",
      "source": [
        "El archivo 04 - SENAMHI.xlsx contiene datos hidrometeorológicos recopilados en la estación von Humboldt, localizada en el campus UNALM, durante el mes de setiembre del 2024.\n",
        "\n",
        "Fuente: https://www.senamhi.gob.pe/?p=estaciones"
      ],
      "metadata": {
        "id": "-S63lAqR2N82"
      }
    },
    {
      "cell_type": "code",
      "source": [
        "import pandas as pd\n",
        "datos2 = pd.read_excel('04 - SENAMHI.xlsx',   na_values = ['S/D'])\n",
        "datos2"
      ],
      "metadata": {
        "id": "T31noVZq2XhK"
      },
      "execution_count": null,
      "outputs": []
    },
    {
      "cell_type": "markdown",
      "source": [
        "## **Filtro de Hampel**"
      ],
      "metadata": {
        "id": "ZJVm0WZ_5MUX"
      }
    },
    {
      "cell_type": "code",
      "source": [
        "from hampel import hampel\n",
        "out_hamp = hampel(datos2['TEMPERATURA (°C) '], window_size = 24)\n",
        "out_hamp.outlier_indices"
      ],
      "metadata": {
        "id": "WcccLf2w2vMm"
      },
      "execution_count": null,
      "outputs": []
    },
    {
      "cell_type": "code",
      "source": [
        "datos2.loc[out_hamp.outlier_indices]"
      ],
      "metadata": {
        "id": "omZHaNzW4GjB"
      },
      "execution_count": null,
      "outputs": []
    },
    {
      "cell_type": "code",
      "source": [
        "datos2.loc[[12,13,14,15,16,17,18]]"
      ],
      "metadata": {
        "id": "Ja98BxfuhEuo"
      },
      "execution_count": null,
      "outputs": []
    },
    {
      "cell_type": "code",
      "source": [
        "datos2.loc[[35,36,37,38,39,40,41,42]]"
      ],
      "metadata": {
        "id": "mTDOxOvccshX"
      },
      "execution_count": null,
      "outputs": []
    },
    {
      "cell_type": "code",
      "source": [
        "datos2.loc[[58,59,60,61,62,63]]"
      ],
      "metadata": {
        "id": "36kdkdjNc0JK"
      },
      "execution_count": null,
      "outputs": []
    },
    {
      "cell_type": "code",
      "source": [
        "pd.DataFrame(out_hamp.filtered_data).loc[[58,59,60,61,62,63]] # reemplaza los atípicos por la media de la ventana (24), solo usar si los outliers son errores."
      ],
      "metadata": {
        "id": "jUX1i6LH4tt8"
      },
      "execution_count": null,
      "outputs": []
    },
    {
      "cell_type": "code",
      "source": [
        "datos2[['TEMPERATURA (°C) ']].loc[[58,59,60,61,62,63]]"
      ],
      "metadata": {
        "id": "qTtSWKdxV3Tt"
      },
      "execution_count": null,
      "outputs": []
    }
  ]
}