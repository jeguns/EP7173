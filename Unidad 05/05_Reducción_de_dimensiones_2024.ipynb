{
  "nbformat": 4,
  "nbformat_minor": 0,
  "metadata": {
    "colab": {
      "provenance": [],
      "authorship_tag": "ABX9TyNnPgKuDRofqnVAGP7vW9D/",
      "include_colab_link": true
    },
    "kernelspec": {
      "name": "python3",
      "display_name": "Python 3"
    },
    "language_info": {
      "name": "python"
    }
  },
  "cells": [
    {
      "cell_type": "markdown",
      "metadata": {
        "id": "view-in-github",
        "colab_type": "text"
      },
      "source": [
        "<a href=\"https://colab.research.google.com/github/jeguns/EP7173/blob/main/Unidad%2005/05_Reducci%C3%B3n_de_dimensiones_2024.ipynb\" target=\"_parent\"><img src=\"https://colab.research.google.com/assets/colab-badge.svg\" alt=\"Open In Colab\"/></a>"
      ]
    },
    {
      "cell_type": "markdown",
      "source": [
        "# **Preliminares**\n",
        "\n"
      ],
      "metadata": {
        "id": "FPTFm5z5oWaf"
      }
    },
    {
      "cell_type": "code",
      "execution_count": null,
      "metadata": {
        "id": "6Jzp2RDNn63a"
      },
      "outputs": [],
      "source": [
        "pip install factor_analyzer &> /dev/null"
      ]
    },
    {
      "cell_type": "code",
      "source": [
        "pip install pca &> /dev/null"
      ],
      "metadata": {
        "id": "jbTcHZwEoagU"
      },
      "execution_count": null,
      "outputs": []
    },
    {
      "cell_type": "code",
      "source": [
        "import numpy as np\n",
        "np.set_printoptions(precision=5, suppress=True) # suprime la notación científica, y muestra los resultados con 5 decimales"
      ],
      "metadata": {
        "id": "csYxfLO-Harz"
      },
      "execution_count": null,
      "outputs": []
    },
    {
      "cell_type": "code",
      "source": [
        "import pandas as pd\n",
        "pd.set_option('display.float_format', '{:.5f}'.format) # muestra los resultados en formato decimal con 5 decimales"
      ],
      "metadata": {
        "id": "dK3m1E6uHd6Y"
      },
      "execution_count": null,
      "outputs": []
    },
    {
      "cell_type": "markdown",
      "source": [
        "En el conjunto de datos 05 - Datos - 01.xlsx se registran las puntuaciones obtenidas en 6 evaluaciones del curso Estadística 1.\n",
        "\n",
        "La lista de atributos corresponde a puntuaciones obtenidas por estudiantes en evaluaciones cuyo valor máximo varia.\n",
        "\n",
        "- P1: de 0 a 200\n",
        "\n",
        "- P2: de 0 a 7\n",
        "\n",
        "- P3: de 0 a 20\n",
        "\n",
        "- P4: de 0 a 4\n",
        "\n",
        "- P5: de 0 a 6\n",
        "\n",
        "- P6: de 0 a 4\n",
        "\n"
      ],
      "metadata": {
        "id": "z0YwwrA6oi4i"
      }
    },
    {
      "cell_type": "code",
      "source": [
        "datos1 = pd.read_excel('05 - Datos - 01.xlsx', na_values = [\"-\"])\n",
        "datos1"
      ],
      "metadata": {
        "id": "ISbNqidUow6A"
      },
      "execution_count": null,
      "outputs": []
    },
    {
      "cell_type": "code",
      "source": [
        "datos1 = datos1.drop(['ESTUDIANTE'], axis=1)"
      ],
      "metadata": {
        "id": "AFQDuhuJep5Y"
      },
      "execution_count": null,
      "outputs": []
    },
    {
      "cell_type": "code",
      "source": [
        "datos1.info()"
      ],
      "metadata": {
        "id": "SjueKBUJo5vI"
      },
      "execution_count": null,
      "outputs": []
    },
    {
      "cell_type": "code",
      "source": [
        "datos1.head(10)"
      ],
      "metadata": {
        "id": "WvPbdWJwo3_n"
      },
      "execution_count": null,
      "outputs": []
    },
    {
      "cell_type": "code",
      "source": [
        "datos1.describe()"
      ],
      "metadata": {
        "id": "Vm4242Bao7JS"
      },
      "execution_count": null,
      "outputs": []
    },
    {
      "cell_type": "markdown",
      "source": [
        "Tomar atención con las variables P1 y P3 pues su promedio es  más alto que las demás.\n",
        "\n",
        "Esto nos llevará a tomar la decisión de estandarizar los datos."
      ],
      "metadata": {
        "id": "BNeaFuY2Wj2G"
      }
    },
    {
      "cell_type": "markdown",
      "source": [
        "# **Análisis exploratorio**"
      ],
      "metadata": {
        "id": "dmTAD-dxo_N0"
      }
    },
    {
      "cell_type": "markdown",
      "source": [
        "## **Matriz de correlación**"
      ],
      "metadata": {
        "id": "Rksfa4VOpYqx"
      }
    },
    {
      "cell_type": "code",
      "source": [
        "datos1.corr()"
      ],
      "metadata": {
        "id": "eVLt5FP6o-_y"
      },
      "execution_count": null,
      "outputs": []
    },
    {
      "cell_type": "code",
      "source": [
        "datos1[['P2','P6']].corr()"
      ],
      "metadata": {
        "id": "vsv2hJUfpVpf"
      },
      "execution_count": null,
      "outputs": []
    },
    {
      "cell_type": "code",
      "source": [
        "datos1[['P3','P4']].corr()"
      ],
      "metadata": {
        "id": "9XRaTY6GpUiS"
      },
      "execution_count": null,
      "outputs": []
    },
    {
      "cell_type": "markdown",
      "source": [
        "### **Gráficos de la matriz de correlación**"
      ],
      "metadata": {
        "id": "raOmYLOVqJC4"
      }
    },
    {
      "cell_type": "code",
      "source": [
        "import matplotlib.pyplot as plt\n",
        "plt.matshow(datos1.corr())"
      ],
      "metadata": {
        "id": "ZI12SzQuqL_h"
      },
      "execution_count": null,
      "outputs": []
    },
    {
      "cell_type": "code",
      "source": [
        "import seaborn as sns\n",
        "sns.heatmap(datos1.corr(),\n",
        "            xticklabels=datos1.corr().columns.values,\n",
        "            yticklabels=datos1.corr().columns.values)"
      ],
      "metadata": {
        "id": "OGB236UcqNrt"
      },
      "execution_count": null,
      "outputs": []
    },
    {
      "cell_type": "code",
      "source": [
        "datos1.corr().style.background_gradient(cmap='coolwarm')"
      ],
      "metadata": {
        "id": "JqUkJuHAqPM5"
      },
      "execution_count": null,
      "outputs": []
    },
    {
      "cell_type": "code",
      "source": [
        "datos1.corr().style.background_gradient(cmap='coolwarm').set_properties(**{'font-size': '0pt'})"
      ],
      "metadata": {
        "id": "r7sM2dF1qSl7"
      },
      "execution_count": null,
      "outputs": []
    },
    {
      "cell_type": "markdown",
      "source": [
        "### **Determinante de la matriz de correlación**"
      ],
      "metadata": {
        "id": "pV-W3-IzpauL"
      }
    },
    {
      "cell_type": "code",
      "source": [
        "np.linalg.det(datos1.corr()) # buscamos determinantes cercanos a 0."
      ],
      "metadata": {
        "id": "1h4YQBxXpdsd"
      },
      "execution_count": null,
      "outputs": []
    },
    {
      "cell_type": "code",
      "source": [
        "np.linalg.det(datos1[['P2','P6']].corr())"
      ],
      "metadata": {
        "id": "SW80NoHCphwv"
      },
      "execution_count": null,
      "outputs": []
    },
    {
      "cell_type": "markdown",
      "source": [
        "'P2' y 'P6' no están asociadas y su determinante es aproximadamente 1."
      ],
      "metadata": {
        "id": "pBb8m3SYYEWu"
      }
    },
    {
      "cell_type": "code",
      "source": [
        "np.linalg.det(datos1[['P3','P4']].corr())"
      ],
      "metadata": {
        "id": "0UulS7QKpgC-"
      },
      "execution_count": null,
      "outputs": []
    },
    {
      "cell_type": "markdown",
      "source": [
        "'P2' y 'P3' están fuertemente asociadas y su determinante es más bajo."
      ],
      "metadata": {
        "id": "FbagE4SVYNbh"
      }
    },
    {
      "cell_type": "markdown",
      "source": [
        "## **KMO (Kaiser-Meyer-Olkin)**"
      ],
      "metadata": {
        "id": "l9LJY3p2pjvG"
      }
    },
    {
      "cell_type": "markdown",
      "source": [
        "KMO < 0.5 $\\rightarrow$ no ejecutar el análisis factorial o de componentes principales\n",
        "\n",
        "0.5 <= KMO < 0.7  $\\rightarrow$ ok, ejecutar el análisis factorial o de componentes principales\n",
        "\n",
        "0.7 <= KMO <= 1  $\\rightarrow$ es el mejor escenario para aplicar el análisis factorial o de componentes principales"
      ],
      "metadata": {
        "id": "MFK0IP2ZYwx0"
      }
    },
    {
      "cell_type": "code",
      "source": [
        "from factor_analyzer.factor_analyzer import calculate_kmo\n",
        "kmo_all, kmo_model = calculate_kmo(datos1)"
      ],
      "metadata": {
        "id": "qQl4lz_Epmgo"
      },
      "execution_count": null,
      "outputs": []
    },
    {
      "cell_type": "code",
      "source": [
        "kmo_all"
      ],
      "metadata": {
        "id": "zQB0Z8Ozpnna"
      },
      "execution_count": null,
      "outputs": []
    },
    {
      "cell_type": "code",
      "source": [
        "kmo_model"
      ],
      "metadata": {
        "id": "UrvxnXbRpoSQ"
      },
      "execution_count": null,
      "outputs": []
    },
    {
      "cell_type": "markdown",
      "source": [
        "## **Prueba de esfericidad de Bartlett**"
      ],
      "metadata": {
        "id": "BZ7kMnt8qBYw"
      }
    },
    {
      "cell_type": "markdown",
      "source": [
        "$H_0: R = \\mathbf{I}$\n",
        "\n",
        "$H_1: R \\neq \\mathbf{I}$\n",
        "\n",
        "$R:$ Matriz de correlaciones\n",
        "\n",
        "$\\mathbf{I}:$ Matriz identidad\n",
        "\n",
        "Nostoros buscamos rechazar la hipótesis nula a fin de poder aplicar el análisis factorial o el análisis de componentes principales."
      ],
      "metadata": {
        "id": "RZQCAuO0aF1l"
      }
    },
    {
      "cell_type": "code",
      "source": [
        "from factor_analyzer.factor_analyzer import calculate_bartlett_sphericity\n",
        "chi_cuadrado, pv = calculate_bartlett_sphericity(datos1)\n",
        "chi_cuadrado, pv # mientras más grande el chi cuadrado, es más significativa la prueba"
      ],
      "metadata": {
        "id": "442SC29sqCrd"
      },
      "execution_count": null,
      "outputs": []
    },
    {
      "cell_type": "markdown",
      "source": [
        "Dado que el pvalor es 0, se decide rechazar la hipótesis nula. Por lo tanto, sí existe asociación entre al menos un par de variables, y en consecuencia es factible aplicar el análisis factorial o el de componentes principales"
      ],
      "metadata": {
        "id": "zMtfTflTbq18"
      }
    },
    {
      "cell_type": "markdown",
      "source": [
        "# **Análisis de componentes principales**\n",
        "\n"
      ],
      "metadata": {
        "id": "djabGb_v6ubH"
      }
    },
    {
      "cell_type": "code",
      "source": [
        "from pca import pca\n",
        "import matplotlib.pyplot as plt"
      ],
      "metadata": {
        "id": "fRavCZT26yLN"
      },
      "execution_count": null,
      "outputs": []
    },
    {
      "cell_type": "markdown",
      "source": [
        "Usamos los datos originales (a pesar de que no es correcto, pero con la finalidad de ver la consecuencia de hacerlo)"
      ],
      "metadata": {
        "id": "TlqX_jIY60yT"
      }
    },
    {
      "cell_type": "code",
      "source": [
        "mod_cp  = pca(n_components = 6) # define acp\n",
        "cp1     = mod_cp.fit_transform(datos1) # aplica acp\n",
        "mod_cp.plot()"
      ],
      "metadata": {
        "id": "NdMbYjRf6zJV"
      },
      "execution_count": null,
      "outputs": []
    },
    {
      "cell_type": "code",
      "source": [
        "cp1['variance_ratio']*100 # varianza explicada por eje"
      ],
      "metadata": {
        "id": "S0Ggg5aH_0mx"
      },
      "execution_count": null,
      "outputs": []
    },
    {
      "cell_type": "code",
      "source": [
        "cp1['explained_var']*100 # varianza explicada acumulada"
      ],
      "metadata": {
        "id": "_cEFUyrpkQzD"
      },
      "execution_count": null,
      "outputs": []
    },
    {
      "cell_type": "code",
      "source": [
        "cp1['loadings'] # cargas"
      ],
      "metadata": {
        "id": "0CCJ43GLADU8"
      },
      "execution_count": null,
      "outputs": []
    },
    {
      "cell_type": "code",
      "source": [
        "cp1['PC'] # scores"
      ],
      "metadata": {
        "id": "yYuYDIPhAeJZ"
      },
      "execution_count": null,
      "outputs": []
    },
    {
      "cell_type": "code",
      "source": [
        "mod_cp.biplot(n_feat=13)"
      ],
      "metadata": {
        "id": "Ng0MifSq60Zh"
      },
      "execution_count": null,
      "outputs": []
    },
    {
      "cell_type": "markdown",
      "source": [
        "Es necesario estandarizar para evitar este problema"
      ],
      "metadata": {
        "id": "RS-jHjvf7EYd"
      }
    },
    {
      "cell_type": "code",
      "source": [
        "from sklearn.preprocessing import StandardScaler\n",
        "datos1_st = datos1.copy()\n",
        "datos1_st[['P1','P2','P3','P4','P5','P6']] = StandardScaler().fit_transform(datos1_st[['P1','P2','P3','P4','P5','P6']]) # estandarizamos o escalamos (x-media)/sd"
      ],
      "metadata": {
        "id": "Wv0Ptkhh7ROh"
      },
      "execution_count": null,
      "outputs": []
    },
    {
      "cell_type": "code",
      "source": [
        "mod_cp  = pca(n_components = 6) # define acp\n",
        "cp2     = mod_cp.fit_transform(datos1_st) # aplica acp\n",
        "mod_cp.plot()"
      ],
      "metadata": {
        "id": "xQA7SZ0i7fOq"
      },
      "execution_count": null,
      "outputs": []
    },
    {
      "cell_type": "code",
      "source": [
        "cp2['variance_ratio']*100 # varianza explicada por eje"
      ],
      "metadata": {
        "id": "ISgE_SGh769i"
      },
      "execution_count": null,
      "outputs": []
    },
    {
      "cell_type": "code",
      "source": [
        "cp2['explained_var']*100 # varianza explicada acumulada"
      ],
      "metadata": {
        "id": "tTIsRjm278wZ"
      },
      "execution_count": null,
      "outputs": []
    },
    {
      "cell_type": "code",
      "source": [
        "cp2['loadings'] # cargas"
      ],
      "metadata": {
        "id": "2pzPXjOV7zG2"
      },
      "execution_count": null,
      "outputs": []
    },
    {
      "cell_type": "code",
      "source": [
        "cp2['PC'] # scores o puntajes # objetivo final en el preprocesamiento"
      ],
      "metadata": {
        "id": "y2Xlwu-8741U"
      },
      "execution_count": null,
      "outputs": []
    },
    {
      "cell_type": "code",
      "source": [
        "cp2['PC'].info()"
      ],
      "metadata": {
        "id": "DBALP4XQ71kb"
      },
      "execution_count": null,
      "outputs": []
    },
    {
      "cell_type": "code",
      "source": [
        "cp2['PC'][['PC1','PC2']] # scores solo de los dos primeros ejes o componentes"
      ],
      "metadata": {
        "id": "pc-IfzA87_WL"
      },
      "execution_count": null,
      "outputs": []
    },
    {
      "cell_type": "code",
      "source": [
        "mod_cp.biplot(n_feat = 6)"
      ],
      "metadata": {
        "id": "eBZdj97E7xGc"
      },
      "execution_count": null,
      "outputs": []
    },
    {
      "cell_type": "code",
      "source": [
        "cp2['PC'].corr()"
      ],
      "metadata": {
        "id": "BBiP5MbboSrl"
      },
      "execution_count": null,
      "outputs": []
    },
    {
      "cell_type": "code",
      "source": [
        "plt.matshow(cp2['PC'].corr())"
      ],
      "metadata": {
        "id": "2JjvcigU8Jsp"
      },
      "execution_count": null,
      "outputs": []
    },
    {
      "cell_type": "markdown",
      "source": [
        "También es posible ejecutar el análisis de componentes principales usando los paquete sklearn y statmodels.\n",
        "\n",
        "Por otro lado, en R, es posible ejecutar el análisis de componentes principales usando alguno de estos paquetes:\n",
        "\n",
        "- stats::prcomp\n",
        "\n",
        "- stats::princomp\n",
        "\n",
        "- FactoMineR::PCA\n",
        "\n",
        "- psych::principal"
      ],
      "metadata": {
        "id": "6grdf1rU8Mqm"
      }
    },
    {
      "cell_type": "markdown",
      "source": [
        "# **Análisis factorial**\n"
      ],
      "metadata": {
        "id": "BCPA_BTe8pBK"
      }
    },
    {
      "cell_type": "code",
      "source": [
        "from factor_analyzer import FactorAnalyzer"
      ],
      "metadata": {
        "id": "zPBz8P1h8ozQ"
      },
      "execution_count": null,
      "outputs": []
    },
    {
      "cell_type": "code",
      "source": [
        "fa = FactorAnalyzer(rotation = None, n_factors = 6)\n",
        "fa.fit(datos1_st)"
      ],
      "metadata": {
        "id": "kiZpp6-p8tuD"
      },
      "execution_count": null,
      "outputs": []
    },
    {
      "cell_type": "code",
      "source": [
        "fa.get_factor_variance()"
      ],
      "metadata": {
        "id": "Op_op844RsXR"
      },
      "execution_count": null,
      "outputs": []
    },
    {
      "cell_type": "code",
      "source": [
        "pd.DataFrame(fa.get_factor_variance(), index=['Variance','Proportional Var','Cumulative Var']).T"
      ],
      "metadata": {
        "id": "l38wYRi580wv"
      },
      "execution_count": null,
      "outputs": []
    },
    {
      "cell_type": "code",
      "source": [
        "pd.DataFrame(fa.get_factor_variance(), index=['Variance','Proportional Var','Cumulative Var']).T['Proportional Var']"
      ],
      "metadata": {
        "id": "sQRVf7vpE2L5"
      },
      "execution_count": null,
      "outputs": []
    },
    {
      "cell_type": "code",
      "source": [
        "sum(pd.DataFrame(fa.get_factor_variance(), index=['Variance','Proportional Var','Cumulative Var']).T['Proportional Var'])"
      ],
      "metadata": {
        "id": "X1hLVDRhFwer"
      },
      "execution_count": null,
      "outputs": []
    },
    {
      "cell_type": "code",
      "source": [
        "ev,_ = fa.get_eigenvalues() # LA cantidad de autovalores es la misma que la de variables\n",
        "ev"
      ],
      "metadata": {
        "id": "0NCJ5W7jF7ui"
      },
      "execution_count": null,
      "outputs": []
    },
    {
      "cell_type": "code",
      "source": [
        "plt.scatter(range(1,datos1.shape[1]+1),ev)\n",
        "plt.plot(range(1,datos1.shape[1]+1),ev)\n",
        "plt.title('Scree Plot')\n",
        "plt.xlabel('Factors')\n",
        "plt.ylabel('Eigen Value')\n",
        "plt.grid()"
      ],
      "metadata": {
        "id": "N-B2MhlnF3mC"
      },
      "execution_count": null,
      "outputs": []
    },
    {
      "cell_type": "markdown",
      "source": [
        "Elegimos la cantidad de factores a ser retenidos:\n",
        "\n",
        "- Según proporción de varianza explicada\n",
        "\n",
        "- Según gráfico del codo\n",
        "\n",
        "- Por conveniencia: 2"
      ],
      "metadata": {
        "id": "zXkNT7C7GKkC"
      }
    },
    {
      "cell_type": "markdown",
      "source": [
        "Considerando 3 factores:"
      ],
      "metadata": {
        "id": "If1Qc6hN9D6D"
      }
    },
    {
      "cell_type": "code",
      "source": [
        "fa2 = FactorAnalyzer(rotation = None, n_factors = 3)\n",
        "fa2.fit(datos1_st)"
      ],
      "metadata": {
        "id": "UFvT2S9O9DhI"
      },
      "execution_count": null,
      "outputs": []
    },
    {
      "cell_type": "code",
      "source": [
        "pd.DataFrame(fa2.loadings_, index = datos1.columns) # loadings = cargas"
      ],
      "metadata": {
        "id": "lxL78Oxa9HH1"
      },
      "execution_count": null,
      "outputs": []
    },
    {
      "cell_type": "code",
      "source": [
        "pd.DataFrame(fa2.get_communalities(), index = datos1.columns, columns = ['Comunalidades'])"
      ],
      "metadata": {
        "id": "yHcdxyyp9IpS"
      },
      "execution_count": null,
      "outputs": []
    },
    {
      "cell_type": "code",
      "source": [
        "pd.DataFrame(fa2.get_uniquenesses(), index = datos1.columns, columns = ['Especificidades'])"
      ],
      "metadata": {
        "id": "H_oOk6Gb9KdN"
      },
      "execution_count": null,
      "outputs": []
    },
    {
      "cell_type": "code",
      "source": [
        "scores = pd.DataFrame(fa2.transform(datos1_st))\n",
        "scores"
      ],
      "metadata": {
        "id": "636jEfvJFS40"
      },
      "execution_count": null,
      "outputs": []
    },
    {
      "cell_type": "code",
      "source": [
        "scores.corr()"
      ],
      "metadata": {
        "id": "tPV78B9RrZ4_"
      },
      "execution_count": null,
      "outputs": []
    },
    {
      "cell_type": "code",
      "source": [
        "plt.matshow(scores.corr())"
      ],
      "metadata": {
        "id": "1LmKZTHD9M-g"
      },
      "execution_count": null,
      "outputs": []
    },
    {
      "cell_type": "markdown",
      "source": [
        "En R, es posible ejecutar el análisis factorial usando alguno de estos paquetes:\n",
        "\n",
        "- stats::factanal\n",
        "\n",
        "- psych::fa"
      ],
      "metadata": {
        "id": "pvlkbp1M9V2U"
      }
    },
    {
      "cell_type": "markdown",
      "source": [
        "# **Escalamiento Multidimensional**"
      ],
      "metadata": {
        "id": "YkwcmQIdHL5B"
      }
    },
    {
      "cell_type": "markdown",
      "source": [
        "### **Ejemplo 1**"
      ],
      "metadata": {
        "id": "3FGWEbpGIxEj"
      }
    },
    {
      "cell_type": "markdown",
      "source": [
        "El archivo 05 - Datos - 2.xlsx contiene las distancias, en km, entre 7 distintas ciudades de Perú"
      ],
      "metadata": {
        "id": "qcgAbDI4I1bS"
      }
    },
    {
      "cell_type": "code",
      "source": [
        "datos2 = pd.read_excel('05 - Datos - 2.xlsx', index_col = 0)\n",
        "datos2"
      ],
      "metadata": {
        "id": "pgxOUSOqIzqt"
      },
      "execution_count": null,
      "outputs": []
    },
    {
      "cell_type": "code",
      "source": [
        "from sklearn.manifold import MDS\n",
        "mds = MDS(dissimilarity = 'precomputed', n_components = 2, random_state = 10) # PASO 2\n",
        "Ejes = mds.fit_transform(datos2) # PASO 3\n",
        "Ejes"
      ],
      "metadata": {
        "id": "sGQWDBxyJOrI"
      },
      "execution_count": null,
      "outputs": []
    },
    {
      "cell_type": "code",
      "source": [
        "Ejes = pd.DataFrame(Ejes,\n",
        "                   index   = ['Arequipa','Cuzco','Chiclayo','Lima','Puno','Tacna','Iquitos'],\n",
        "                   columns = ['Eje1','Eje2'] )\n",
        "Ejes"
      ],
      "metadata": {
        "id": "-QzG5IVxJPyY"
      },
      "execution_count": null,
      "outputs": []
    },
    {
      "cell_type": "code",
      "source": [
        "plt.scatter(Ejes[['Eje1']],Ejes[['Eje2']], marker= '*')\n",
        "for i in range(Ejes.shape[0]):\n",
        " plt.text(x = Ejes.Eje1[i]+0.3,\n",
        "          y = Ejes.Eje2[i]+0.3,\n",
        "          s = Ejes.index[i])\n",
        "plt.axvline(x=0.0)\n",
        "plt.axhline(y=0.0)"
      ],
      "metadata": {
        "id": "kTDe75fmJQ45"
      },
      "execution_count": null,
      "outputs": []
    },
    {
      "cell_type": "code",
      "source": [
        "mds.stress_"
      ],
      "metadata": {
        "id": "pdosZQCyJSSo"
      },
      "execution_count": null,
      "outputs": []
    },
    {
      "cell_type": "code",
      "source": [
        "stress = []\n",
        "for dim in range(2, 10):\n",
        "    # Configurar el objeto MDS\n",
        "    mds = MDS(dissimilarity = 'precomputed', n_components = dim, random_state = 10)\n",
        "    # Aplicar MDS\n",
        "    ejes = mds.fit_transform(datos2)\n",
        "    # Obtener el estres\n",
        "    stress.append(mds.stress_)\n",
        "# Graficar stress vs. n_components\n",
        "plt.plot(range(2, 10), stress)\n",
        "plt.xticks(range(2, 10, 2))\n",
        "plt.xlabel('n_components')\n",
        "plt.ylabel('stress')\n",
        "plt.show()"
      ],
      "metadata": {
        "id": "1W8SNO6XJZXh"
      },
      "execution_count": null,
      "outputs": []
    },
    {
      "cell_type": "code",
      "source": [
        "stress"
      ],
      "metadata": {
        "id": "5aU6K1IHcRTC"
      },
      "execution_count": null,
      "outputs": []
    },
    {
      "cell_type": "code",
      "source": [
        "mds2 = MDS(dissimilarity = 'precomputed', n_components = 3, random_state = 10)\n",
        "Ejes = mds2.fit_transform(datos2)\n",
        "Ejes = pd.DataFrame(Ejes,\n",
        "                     index = ['Arequipa','Cuzco','Chiclayo','Lima','Puno','Tacna','Iquitos'],\n",
        "                     columns = ['Eje1','Eje2','Eje3'] )\n",
        "Ejes"
      ],
      "metadata": {
        "id": "ZZYAVIvdJdDl"
      },
      "execution_count": null,
      "outputs": []
    },
    {
      "cell_type": "code",
      "source": [
        "plt.scatter(Ejes[['Eje1']],Ejes[['Eje2']], marker= '.')\n",
        "for i in range(Ejes.shape[0]):\n",
        " plt.text(x = Ejes.Eje1[i]+0.3,\n",
        "          y = Ejes.Eje2[i]+0.3,\n",
        "          s = Ejes.index[i])\n",
        "plt.axvline(x=0.0)\n",
        "plt.axhline(y=0.0)"
      ],
      "metadata": {
        "id": "oJyXVVDRJgq6"
      },
      "execution_count": null,
      "outputs": []
    },
    {
      "cell_type": "code",
      "source": [
        "mds2.stress_"
      ],
      "metadata": {
        "id": "YiPedKS6JiH7"
      },
      "execution_count": null,
      "outputs": []
    },
    {
      "cell_type": "code",
      "source": [
        "pd.concat([datos2, Ejes], axis=1)"
      ],
      "metadata": {
        "id": "Gbc-z9bXqpe8"
      },
      "execution_count": null,
      "outputs": []
    },
    {
      "cell_type": "code",
      "source": [
        "pd.concat([datos2, Ejes], axis=1).corr()"
      ],
      "metadata": {
        "id": "ERZh79tPJkAC"
      },
      "execution_count": null,
      "outputs": []
    },
    {
      "cell_type": "markdown",
      "source": [
        "### **Ejemplo 2**"
      ],
      "metadata": {
        "id": "h5iKARf_KJ9r"
      }
    },
    {
      "cell_type": "markdown",
      "source": [
        "El archivo 05 - Datos - 3.xlsx contiene puntajes referidos a programas de ciertos rubros(información, documentales, concursos, deportes, música) de 9 canales de televisión, a los que se les agrega el canal 10 (PERFECTO) y el canal 11 (EL PEOR DE TODOS)."
      ],
      "metadata": {
        "id": "r0UbPPpbKMzn"
      }
    },
    {
      "cell_type": "code",
      "source": [
        "datos3 = pd.read_excel('05 - Datos - 3.xlsx', index_col = 0)\n",
        "datos3"
      ],
      "metadata": {
        "id": "GTyTEUviKR87"
      },
      "execution_count": null,
      "outputs": []
    },
    {
      "cell_type": "code",
      "source": [
        "# elegir la cantidad de ejes según el estress\n",
        "stress = []\n",
        "for dim in range(2, 10):\n",
        "    # Configurar el objeto MDS\n",
        "    mds = MDS(n_components = dim, random_state = 8) # dissimilarity, default='euclidean'\n",
        "    # Aplicar MDS\n",
        "    pts = mds.fit_transform(datos3)\n",
        "    # Obtener el valor de estrés\n",
        "    stress.append(mds.stress_)\n",
        "# Graficar stress vs. n_components\n",
        "plt.plot(range(2, 10), stress)\n",
        "plt.xticks(range(2, 10, 2))\n",
        "plt.xlabel('n_components')\n",
        "plt.ylabel('stress')\n",
        "plt.show()"
      ],
      "metadata": {
        "id": "HnYZarvpKWHU"
      },
      "execution_count": null,
      "outputs": []
    },
    {
      "cell_type": "code",
      "source": [
        "mds  = MDS(n_components = 4, random_state = 8)\n",
        "Ejes = mds.fit_transform(datos3)\n",
        "Ejes = pd.DataFrame(Ejes,\n",
        "                    index = ['1','2','3','4','5','6','7','8','9','10','11'],\n",
        "                    columns = ['Eje1','Eje2','Eje3','Eje4'] )\n",
        "Ejes # scores o coordenadas"
      ],
      "metadata": {
        "id": "IXCwjmRaKY4x"
      },
      "execution_count": null,
      "outputs": []
    },
    {
      "cell_type": "code",
      "source": [
        "plt.scatter(Ejes[['Eje1']],Ejes[['Eje2']], marker= '.')\n",
        "for i in range(Ejes.shape[0]):\n",
        " plt.text(x = Ejes.Eje1[i]+0.3,\n",
        "          y = Ejes.Eje2[i]+0.3,\n",
        "          s = Ejes.index[i])\n",
        "plt.axvline(x=0.0)\n",
        "plt.axhline(y=0.0)"
      ],
      "metadata": {
        "id": "KDzRbCLoKbig"
      },
      "execution_count": null,
      "outputs": []
    },
    {
      "cell_type": "code",
      "source": [
        "m = Ejes[['Eje1','Eje2','Eje3']].to_numpy()\n",
        "m"
      ],
      "metadata": {
        "id": "DlEJfoJPKdEr"
      },
      "execution_count": null,
      "outputs": []
    },
    {
      "cell_type": "code",
      "source": [
        "from matplotlib import pyplot\n",
        "from pylab import figure\n",
        "\n",
        "fig = figure()\n",
        "ax = fig.add_subplot(projection='3d')\n",
        "\n",
        "for i in range(len(m)): #grafica cada punto + texto\n",
        "    ax.scatter(m[i,0],m[i,1],m[i,2],color='b')\n",
        "    ax.text(m[i,0],m[i,1],m[i,2],'%s' % (str(Ejes.index[i])), size = 15, color='k')\n",
        "\n",
        "ax.set_xlabel('Eje 1')\n",
        "ax.set_ylabel('Eje 2')\n",
        "ax.set_zlabel('Eje 3')\n",
        "pyplot.show()"
      ],
      "metadata": {
        "id": "2jlppzlfKeiB"
      },
      "execution_count": null,
      "outputs": []
    }
  ]
}