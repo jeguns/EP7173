{
  "nbformat": 4,
  "nbformat_minor": 0,
  "metadata": {
    "colab": {
      "provenance": [],
      "authorship_tag": "ABX9TyMDKjT02jVu3cku8M7EpSF4",
      "include_colab_link": true
    },
    "kernelspec": {
      "name": "python3",
      "display_name": "Python 3"
    },
    "language_info": {
      "name": "python"
    }
  },
  "cells": [
    {
      "cell_type": "markdown",
      "metadata": {
        "id": "view-in-github",
        "colab_type": "text"
      },
      "source": [
        "<a href=\"https://colab.research.google.com/github/jeguns/EP7173/blob/main/Unidad%2002/02_Ejercicio.ipynb\" target=\"_parent\"><img src=\"https://colab.research.google.com/assets/colab-badge.svg\" alt=\"Open In Colab\"/></a>"
      ]
    },
    {
      "cell_type": "markdown",
      "source": [
        "El Organismo Supervisor de la Inversión en Energía y Minería es una institución pública adscrita a la Presidencia del Consejo de Ministros del Perú y está encargada de supervisar que las empresas eléctricas, las de combustibles y las del régimen general de Minería del Perú cumplan las normas legales de las actividades que desarrollan.\n",
        "\n",
        "En [Plataforma Nacional de Datos Abiertos](https://www.datosabiertos.gob.pe/dataset/registro-de-hidrocarburos-l%C3%ADquidos-diciembre-2023-osinergmin/resource/7b1c501c-00f4-4451\n",
        ") se tiene disponible el registro de grifos y estaciones de servicios, actualizado al 22 de diciembre del 2023.\n"
      ],
      "metadata": {
        "id": "yN0KBqrfmajL"
      }
    },
    {
      "cell_type": "markdown",
      "source": [
        "1. Leer el archivo de datos y e indicar cuál es el tipo de dato que contiene cada atributo."
      ],
      "metadata": {
        "id": "XEt5i-SEnVdK"
      }
    },
    {
      "cell_type": "code",
      "execution_count": null,
      "metadata": {
        "id": "gzN92yvlcKym"
      },
      "outputs": [],
      "source": [
        "import pandas as pd"
      ]
    },
    {
      "cell_type": "code",
      "source": [
        "pd.set_option('display.max_columns', None)"
      ],
      "metadata": {
        "id": "S9ll49OVcqCm"
      },
      "execution_count": null,
      "outputs": []
    },
    {
      "cell_type": "code",
      "source": [
        "datos = pd.read_csv('Grifos y Estaciones de Servicios_Dic2023.csv', sep = \";\")\n",
        "datos"
      ],
      "metadata": {
        "id": "FJPAR85qcfsL"
      },
      "execution_count": null,
      "outputs": []
    },
    {
      "cell_type": "code",
      "source": [
        "datos.info()"
      ],
      "metadata": {
        "id": "j4mhsrU_ckXy"
      },
      "execution_count": null,
      "outputs": []
    },
    {
      "cell_type": "markdown",
      "source": [
        "2. Seleccione los establecimientos que son de tipo \"ESTACIONES DE SERVICIOS\" cuya fecha de emisión de registro se encuentre entre el 10 de febrero del 2022 y el 15 de mayo del 2023. Una vez realizado el filtro, seleccionar las columnas RUC, RAZON SOCIAL, TIPO DE ESTABLECIMIENTO, FEC. DE EMISION Y REPRESENTANTE, ordenadas de la fecha más reciente a la antigua, y exportar el data frame resultante en datos2.csv"
      ],
      "metadata": {
        "id": "rOeRW5hboiMX"
      }
    },
    {
      "cell_type": "code",
      "source": [
        "datos[['TIPO DE ESTABLECIMIENTO']].value_counts()"
      ],
      "metadata": {
        "id": "NMq5WkheircA"
      },
      "execution_count": null,
      "outputs": []
    },
    {
      "cell_type": "code",
      "source": [
        "datos['FECHA'] = pd.to_datetime(datos['FEC. EMISION'], format = '%d/%m/%Y')\n",
        "datos[['FECHA','FEC. EMISION']].head()"
      ],
      "metadata": {
        "id": "1qkuXOKYdlzq"
      },
      "execution_count": null,
      "outputs": []
    },
    {
      "cell_type": "code",
      "source": [
        "fecha_inicio = pd.to_datetime('2021-02-10')\n",
        "fecha_fin    = pd.to_datetime('2023-05-15')\n",
        "datos2       = datos.loc[(datos['TIPO DE ESTABLECIMIENTO'] == \"ESTACIONES DE SERVICIOS\") & (datos['FECHA'] >= fecha_inicio) & (datos['FECHA'] <= fecha_fin)]\n",
        "datos2       = datos2[['RUC','RAZON SOCIAL','TIPO DE ESTABLECIMIENTO','FECHA','REPRESENTANTE']].sort_values(by='FECHA', ascending=False).reset_index()\n",
        "datos2.to_csv('datos2.csv', index=False)"
      ],
      "metadata": {
        "id": "W1HV1IDfo-6w"
      },
      "execution_count": null,
      "outputs": []
    },
    {
      "cell_type": "markdown",
      "source": [
        "3. Seleccionar los tipos de establecimiento que son PUESTO DE VENTA DE COMBUSTIBLE - GRIFOS que se hayan registrado a inicio o a fin de mes del año 2023. Luego del filtro, seleccionar los atributos RUC, RAZON SOCIAL, DEPARTAMENTO, PROVINCIA, DISTRITO y una columna indicando si el registro se hizo a inicio o fin de mes, y exportar el data frame resultante como datos3.xlsx"
      ],
      "metadata": {
        "id": "M8YA04p5qke8"
      }
    },
    {
      "cell_type": "code",
      "source": [
        "import numpy as np\n",
        "datos['ANHO']       = datos['FECHA'].dt.year\n",
        "datos['INICIA_MES'] = datos['FECHA'].dt.is_month_start\n",
        "datos['FIN_MES']    = datos['FECHA'].dt.is_month_end\n",
        "datos['MOMENTO']    = np.where(datos['INICIA_MES'] == True, 'INICIO DE MES','FIN DE MES')\n",
        "datos3 = datos.loc[\n",
        "    (datos['TIPO DE ESTABLECIMIENTO'] == \"PUESTO DE VENTA DE COMBUSTIBLE - GRIFOS\") &\n",
        "     (datos['ANHO'] == 2023) &\n",
        "      ((datos['INICIA_MES'] == True) | (datos['FIN_MES'] == True))]\n",
        "datos3 = datos3[['RUC','RAZON SOCIAL','DEPARTAMENTO','PROVINCIA','DISTRITO','MOMENTO']]\n",
        "datos3.to_excel('datos3.xlsx', index=False)"
      ],
      "metadata": {
        "id": "SZxfLWm2quku"
      },
      "execution_count": null,
      "outputs": []
    },
    {
      "cell_type": "code",
      "source": [
        "datos['INICIA_TRIM']  = datos['FECHA'].dt.is_quarter_start\n",
        "datos['FIN_TRIM']     = datos['FECHA'].dt.is_quarter_end\n",
        "datos['INICIA_ANHO']  = datos['FECHA'].dt.is_year_start\n",
        "datos['FIN_ANHO']     = datos['FECHA'].dt.is_year_end"
      ],
      "metadata": {
        "id": "8Z5Zvn6jvnlT"
      },
      "execution_count": null,
      "outputs": []
    },
    {
      "cell_type": "markdown",
      "source": [
        "4. Obtener la capacidad total promedio de combustibles líquidos de los registros realizados los días lunes y que se encuentren dentro de los 5 primeros días del mes."
      ],
      "metadata": {
        "id": "12XE22l7ryrP"
      }
    },
    {
      "cell_type": "code",
      "source": [
        "datos['DIA_NOMBRE'] = datos['FECHA'].dt.day_name()\n",
        "datos['DIA_SEMANA'] = datos['FECHA'].dt.weekday + 1\n",
        "datos['DIA_MES']    = datos['FECHA'].dt.day\n",
        "datos4              = datos.loc[(datos['DIA_NOMBRE']==\"Monday\") & (datos['DIA_MES']<=5)]\n",
        "datos4['CAP.TOTAL CL (gln)'].mean()"
      ],
      "metadata": {
        "id": "jckeak8_mIvS"
      },
      "execution_count": null,
      "outputs": []
    },
    {
      "cell_type": "code",
      "source": [
        "datos.loc[(datos['FECHA'].dt.day_name() == \"Monday\") & (datos['FECHA'].dt.day <= 5)]['CAP.TOTAL CL (gln)'].mean()"
      ],
      "metadata": {
        "id": "MtYh6AAin_Xl"
      },
      "execution_count": null,
      "outputs": []
    },
    {
      "cell_type": "code",
      "source": [
        "datos.loc[(datos['FECHA'].dt.weekday == 0) & (datos['FECHA'].dt.day <= 5)]['CAP.TOTAL CL (gln)'].mean()"
      ],
      "metadata": {
        "id": "XaX1JME1oMq2"
      },
      "execution_count": null,
      "outputs": []
    },
    {
      "cell_type": "markdown",
      "source": [
        "5. Seleccionar el RUC, Codigo OSINERGMIN, Provincia y Fecha de registro de las instancias correspondientes a la provincia de Lima o Arequipa, y hayan sido hechos en el último dia de los meses que tienen 31 días."
      ],
      "metadata": {
        "id": "-lzZj7k3sf5c"
      }
    },
    {
      "cell_type": "code",
      "source": [
        "datos['DIAS_MES']   = datos['FECHA'].dt.days_in_month\n",
        "datos.loc[((datos['PROVINCIA'] == \"LIMA\") | (datos['PROVINCIA'] == \"AREQUIPA\")) & (datos['DIAS_MES'] == 31) & (datos['FIN_MES'] == True)][['RUC','CODIGO OSINERGMIN','PROVINCIA','FECHA']]"
      ],
      "metadata": {
        "id": "BOCemFA7opDK"
      },
      "execution_count": null,
      "outputs": []
    },
    {
      "cell_type": "code",
      "source": [
        "datos.loc[(datos['PROVINCIA'].isin(['LIMA','AREQUIPA']))  & (datos['DIAS_MES'] == 31) & (datos['FIN_MES'] == True)][['RUC','CODIGO OSINERGMIN','PROVINCIA','FECHA']]"
      ],
      "metadata": {
        "id": "ZQamT0P4p6C4"
      },
      "execution_count": null,
      "outputs": []
    },
    {
      "cell_type": "markdown",
      "source": [
        "6. Seleccionar el departamento, provincia, distrito y fecha de los registros correspondientes al segundo semestre del año 2023 y que no sean del departamento de Lima. Luego, obtener e interpretar la moda de departamento, provincia y distrito."
      ],
      "metadata": {
        "id": "UcLONJKvs1M3"
      }
    },
    {
      "cell_type": "code",
      "source": [
        "import math\n",
        "datos['TRIMESTRE'] =  datos['FECHA'].dt.quarter\n",
        "datos['SEMESTRE']  =  datos['TRIMESTRE'].apply(lambda x: math.ceil(x/2))\n",
        "datos6 = datos.loc[(datos['SEMESTRE'] == 2) & (datos['ANHO'] == 2023) & (datos['DEPARTAMENTO'] != \"LIMA\")][['DEPARTAMENTO','PROVINCIA','DISTRITO','FECHA']]\n",
        "datos6"
      ],
      "metadata": {
        "id": "dNXj499Xryv6"
      },
      "execution_count": null,
      "outputs": []
    },
    {
      "cell_type": "code",
      "source": [
        "datos6 = datos.loc[(datos['FECHA'].dt.quarter.isin([3,4])) & (datos['ANHO'] == 2023) & (datos['DEPARTAMENTO'] != \"LIMA\")][['DEPARTAMENTO','PROVINCIA','DISTRITO','FECHA']]\n",
        "datos6"
      ],
      "metadata": {
        "id": "JNrAXPhhsMCT"
      },
      "execution_count": null,
      "outputs": []
    },
    {
      "cell_type": "code",
      "source": [
        "datos6.DEPARTAMENTO.value_counts()"
      ],
      "metadata": {
        "id": "ODxE9qhlUFtK"
      },
      "execution_count": null,
      "outputs": []
    },
    {
      "cell_type": "code",
      "source": [
        "datos6.DEPARTAMENTO.value_counts().idxmax()"
      ],
      "metadata": {
        "id": "lCmugOTosdCu"
      },
      "execution_count": null,
      "outputs": []
    },
    {
      "cell_type": "code",
      "source": [
        "datos6.DEPARTAMENTO.mode()"
      ],
      "metadata": {
        "id": "wubEWEgzSCE4"
      },
      "execution_count": null,
      "outputs": []
    },
    {
      "cell_type": "code",
      "source": [
        "import statistics\n",
        "statistics.mode(datos6[\"DEPARTAMENTO\"].tolist())"
      ],
      "metadata": {
        "id": "OoJlvRiSSFu1"
      },
      "execution_count": null,
      "outputs": []
    },
    {
      "cell_type": "code",
      "source": [
        "datos6.PROVINCIA.value_counts().idxmax()"
      ],
      "metadata": {
        "id": "WXAR__C-shb1"
      },
      "execution_count": null,
      "outputs": []
    },
    {
      "cell_type": "code",
      "source": [
        "datos6.PROVINCIA.mode()"
      ],
      "metadata": {
        "id": "hjJwO_hEtNlg"
      },
      "execution_count": null,
      "outputs": []
    },
    {
      "cell_type": "code",
      "source": [
        "statistics.mode(datos6.PROVINCIA.tolist())"
      ],
      "metadata": {
        "id": "kkmbUZhXsrcb"
      },
      "execution_count": null,
      "outputs": []
    },
    {
      "cell_type": "code",
      "source": [
        "datos6.DISTRITO.value_counts().idxmax()"
      ],
      "metadata": {
        "id": "24tDGpWVtqCr"
      },
      "execution_count": null,
      "outputs": []
    },
    {
      "cell_type": "code",
      "source": [
        "datos6.DISTRITO.mode()"
      ],
      "metadata": {
        "id": "TBkTIuzYUOtF"
      },
      "execution_count": null,
      "outputs": []
    },
    {
      "cell_type": "code",
      "source": [
        "statistics.mode(datos6.DISTRITO.tolist())"
      ],
      "metadata": {
        "id": "wEbML8jJUQsf"
      },
      "execution_count": null,
      "outputs": []
    },
    {
      "cell_type": "markdown",
      "source": [
        "7. Seleccionar el tipo de establecimiento y la fecha de los registros que hayan sido realizados en mayo, noviembre, diciembre o enero del año 2021 o 2023."
      ],
      "metadata": {
        "id": "5p-9pECzss3V"
      }
    },
    {
      "cell_type": "code",
      "source": [
        "datos['MES']  = datos['FECHA'].dt.month\n",
        "datos.loc[(datos['MES'].isin([5,11,12])) & datos['ANHO'].isin([2021,2023])][['TIPO DE ESTABLECIMIENTO','FECHA']]"
      ],
      "metadata": {
        "id": "MQP3K5EVqNTh"
      },
      "execution_count": null,
      "outputs": []
    },
    {
      "cell_type": "code",
      "source": [
        "datos.loc[(datos['FECHA'].dt.month.isin([5,11,12])) & datos['FECHA'].dt.year.isin([2021,2023])][['TIPO DE ESTABLECIMIENTO','FECHA']]"
      ],
      "metadata": {
        "id": "do87j9CPqyih"
      },
      "execution_count": null,
      "outputs": []
    },
    {
      "cell_type": "code",
      "source": [
        "datos7 = datos.loc[(datos['FECHA'].dt.month_name().isin(['May','November','December'])) & datos['FECHA'].dt.year.isin([2021,2023])][['TIPO DE ESTABLECIMIENTO','FECHA']]"
      ],
      "metadata": {
        "id": "mhluvFH0rDia"
      },
      "execution_count": null,
      "outputs": []
    },
    {
      "cell_type": "code",
      "source": [
        "datos7.FECHA.value_counts()"
      ],
      "metadata": {
        "id": "Ui-AGTdNUkBb"
      },
      "execution_count": null,
      "outputs": []
    },
    {
      "cell_type": "code",
      "source": [
        "datos7.FECHA.value_counts().idxmax() # precaución con el resultado!"
      ],
      "metadata": {
        "id": "mgA5lmGoTgmd"
      },
      "execution_count": null,
      "outputs": []
    },
    {
      "cell_type": "code",
      "source": [
        "datos7.FECHA.mode()"
      ],
      "metadata": {
        "id": "E2kPY1QrUfq9"
      },
      "execution_count": null,
      "outputs": []
    },
    {
      "cell_type": "code",
      "source": [
        "statistics.mode(datos7.FECHA.tolist()) # precaución con el resultado!"
      ],
      "metadata": {
        "id": "7MetE13fUrAj"
      },
      "execution_count": null,
      "outputs": []
    },
    {
      "cell_type": "markdown",
      "source": [
        "8. Seleccionar los registros de los 50 primeros días del año 2023 y cuyo término de vigencia no sea indefinido."
      ],
      "metadata": {
        "id": "pobKn4RotEIo"
      }
    },
    {
      "cell_type": "code",
      "source": [
        "datos['ANHO']     = datos['FECHA'].dt.year\n",
        "datos['DIA_ANHO'] = datos['FECHA'].dt.day_of_year\n",
        "datos.loc[(datos['FECHA'].dt.year == 2023) & (datos['FECHA'].dt.day_of_year <= 50) & (datos['TÉRMINO DE VIGENCIA'] != \"INDEFINIDO\")]['FECHA']"
      ],
      "metadata": {
        "id": "gKjV6TLPtA8M"
      },
      "execution_count": null,
      "outputs": []
    },
    {
      "cell_type": "markdown",
      "source": [
        "9. Seleccionar los registros que hayan sido realizados al menos 360 días antes de la fecha actual. Luego, obtener el promedio de días de anticipación."
      ],
      "metadata": {
        "id": "SepQAI0YuawK"
      }
    },
    {
      "cell_type": "code",
      "source": [
        "from datetime import datetime\n",
        "\n",
        "datos['ANTICIPACION'] = (datetime.now() - datos['FECHA']).dt.days\n",
        "datos9 = datos[datos['ANTICIPACION'] >= 360]\n",
        "datos9[['FECHA','ANTICIPACION']]"
      ],
      "metadata": {
        "id": "iR7FnXJHuzGo"
      },
      "execution_count": null,
      "outputs": []
    },
    {
      "cell_type": "code",
      "source": [
        "datos9.ANTICIPACION.mean()"
      ],
      "metadata": {
        "id": "eZJgg8xVvAK_"
      },
      "execution_count": null,
      "outputs": []
    },
    {
      "cell_type": "markdown",
      "source": [
        "10. Seleccionar los registros que hayan sido realizados a partir del 28 de julio del 2023, indicando el RUC, DEPARTAMENTO, FECHA y días desde la fecha de registro."
      ],
      "metadata": {
        "id": "4_oabPEIvvk2"
      }
    },
    {
      "cell_type": "code",
      "source": [
        "datos['DIAS_DFP'] = (datos['FECHA'] - datetime(2023, 7, 28)).dt.days\n",
        "datos.loc[(datos['DIAS_DFP'] > 0)][['RUC','DEPARTAMENTO','FECHA','DIAS_DFP']]"
      ],
      "metadata": {
        "id": "nQDIEDbfl9Ny"
      },
      "execution_count": null,
      "outputs": []
    },
    {
      "cell_type": "code",
      "source": [
        "import datetime\n",
        "\n",
        "dt = datetime.date(2023, 9, 16)\n",
        "day_of_week = dt.weekday()\n",
        "day_of_week"
      ],
      "metadata": {
        "id": "bwX9e_CoieNC"
      },
      "execution_count": null,
      "outputs": []
    }
  ]
}