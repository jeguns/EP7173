{
  "nbformat": 4,
  "nbformat_minor": 0,
  "metadata": {
    "colab": {
      "provenance": [],
      "authorship_tag": "ABX9TyOKkNj8N3GQ2x5qYXnwm66A",
      "include_colab_link": true
    },
    "kernelspec": {
      "name": "python3",
      "display_name": "Python 3"
    },
    "language_info": {
      "name": "python"
    }
  },
  "cells": [
    {
      "cell_type": "markdown",
      "metadata": {
        "id": "view-in-github",
        "colab_type": "text"
      },
      "source": [
        "<a href=\"https://colab.research.google.com/github/jeguns/EP7173/blob/main/Unidad%2002/02_Procedimientos_b%C3%A1sicos_de_preprocesamiento_de_datos.ipynb\" target=\"_parent\"><img src=\"https://colab.research.google.com/assets/colab-badge.svg\" alt=\"Open In Colab\"/></a>"
      ]
    },
    {
      "cell_type": "markdown",
      "source": [
        "# **Procedimientos básicos de preprocesamiento de datos**"
      ],
      "metadata": {
        "id": "HL1KMLnEx66O"
      }
    },
    {
      "cell_type": "markdown",
      "source": [
        "En esta oportunidad, trabajaremos con tablas de datos provenientes de la Encuesta Nacional de Hogares (ENAHO) del primer trimestre del año 2024. En específico, utilizaremos los módulos 100 (Características de la Vivienda y del Hogar) y 200 (Características de los Miembros del Hogar).\n",
        "\n",
        "Fuente de datos: https://proyectos.inei.gob.pe/microdatos/"
      ],
      "metadata": {
        "id": "7uQKV66HymJ3"
      }
    },
    {
      "cell_type": "markdown",
      "source": [
        "## **Pregunta 1**\n",
        "\n",
        "Leer cada uno de los archivos indicados"
      ],
      "metadata": {
        "id": "liILuIev5r4e"
      }
    },
    {
      "cell_type": "code",
      "execution_count": null,
      "metadata": {
        "id": "8PZkIpOXqj_b"
      },
      "outputs": [],
      "source": [
        "import pandas as pd"
      ]
    },
    {
      "cell_type": "code",
      "source": [
        "pd.set_option('display.max_columns', None)"
      ],
      "metadata": {
        "id": "1i-K070Pt7du"
      },
      "execution_count": null,
      "outputs": []
    },
    {
      "cell_type": "code",
      "source": [
        "datos1=pd.read_csv('Enaho01-2024-100.csv', encoding='latin-1')\n",
        "datos2=pd.read_csv('Enaho01-2024-200.csv', encoding='latin-1')"
      ],
      "metadata": {
        "id": "0o-l29tIrOlM"
      },
      "execution_count": null,
      "outputs": []
    },
    {
      "cell_type": "code",
      "source": [
        "datos1"
      ],
      "metadata": {
        "id": "zblwYYChsNkP"
      },
      "execution_count": null,
      "outputs": []
    },
    {
      "cell_type": "code",
      "source": [
        "datos2"
      ],
      "metadata": {
        "id": "Qu_B3NlxsOZ-"
      },
      "execution_count": null,
      "outputs": []
    },
    {
      "cell_type": "markdown",
      "source": [
        "## **Pregunta 2**\n",
        "\n",
        "Seleccione las variables que se mencionan a continuación:\n",
        "\n",
        "Para ambos módulos, considerar las siguientes variables:\n",
        "\n",
        "- CONGLOME: Número de conglomerado\n",
        "\n",
        "- VIVIENDA: Número de selección de vivienda\n",
        "\n",
        "- HOGAR: Número secuencial del Hogar\n",
        "\n",
        "- UBIGEO: Ubicación geográfica\n",
        "\n",
        "En particular, del módulo 100 se requerirá:\n",
        "\n",
        "- FECENT: Fecha de Resultado final de la encuesta (Mes/Día/Año)\n",
        "\n",
        "- P101: Tipo de vivienda\n",
        "    1. Casa independiente\n",
        "    2. Departamento en edificio\n",
        "    3. Vivienda en quinta\n",
        "    4. Vivienda en casa de vecindad(callejón solar o corralón)\n",
        "    5. Choza o cabaña\n",
        "    6. Vivienda improvisada\n",
        "    7. Local no destinado para habitación humana\n",
        "    8. Otro\n",
        "\n",
        "- P104: ¿Cuántas habitaciones en total tiene la vivienda, sin contar el baño,la cocina, los pasadizos, ni el garage?\n",
        "\n",
        "- P106: ¿Cuánto cree que le pagarían de alquiler mensual (en S/.) ?\n",
        "\n",
        "- P106A: ¿Esta vivienda tiene titulo de propiedad?\n",
        "    1. Si\n",
        "    2. No\n",
        "\n",
        "- P110: El agua que utilizan en el hogar ¿Procede principalmente de:\n",
        "    1. Red pública, dentro de la vivienda\n",
        "    2. Red pública, fuera de la vivienda pero dentro del edificio\n",
        "    3. Pilón o pileta de uso público\n",
        "    4. Camión-cisterna u otro similar\n",
        "    5. Pozo (agua subterránea)\n",
        "    6. Manantial o puquio\n",
        "    7. Otra\n",
        "    8. Río, acequia, lago, laguna\n",
        "\n",
        "- P1141: Su hogar tiene: Teléfono (fijo):\n",
        "    0. Pase\n",
        "    1. Teléfono(fijo)\n",
        "\n",
        "- P1142: Su hogar tiene: Teléfono Celular:\n",
        "    0. Pase\n",
        "    1. Teléfono Celular\n",
        "\n",
        "- P1143: Su hogar tiene: Conexion a TV por cable o satelital\n",
        "    0. Pase\n",
        "    1. Conexión a TV por cable o satelital\n",
        "\n",
        "- P1144: Su hogar tiene: Conexion a Internet\n",
        "    0. Pase\n",
        "    1. Conexión a Internet\n",
        "\n",
        "Por otro lado, del módulo 200 se requerirá:\n",
        "\n",
        "- CODPERSO: Número de orden de la persona\n",
        "\n",
        "- P203: ¿Cuál es la relación de parentesco con el jefe(a) del hogar?\n",
        "    0. Panel\n",
        "    1. Jefe/Jefa\n",
        "    2. Esposo(a)/compañero(a)\n",
        "    3. Hijo(a)/Hijastro(a)\n",
        "    4. Yerno/Nuera\n",
        "    5. Nieto(a)\n",
        "    6. Padres/Suegros\n",
        "    7. Otros parientes\n",
        "    8. Trabajador Hogar\n",
        "    9. Pensionista\n",
        "    10. Otros no parientes\n",
        "    11. Hermano(a)\n",
        "\n",
        "- P207: Sexo\n",
        "    1. Hombre\n",
        "    2. Mujer\n",
        "\n",
        "- P208A: ¿Qúe edad tiene en años cumplidos ? (En años)\n",
        "\n",
        "- P209: ¿Cuál es su estado civil o conyugal?\n",
        "    1. Conviviente\n",
        "    2. Casado(a)\n",
        "    3. Viudo(a)\n",
        "    4. Divorciado(a)\n",
        "    5. Separado(a)\n",
        "    6. Soltero(a)\n",
        "\n",
        "- TICUEST01: Origen de cuestionario\n",
        "    1. Cuestionario en hojas\n",
        "    2. Cuestionario en Tablet\n"
      ],
      "metadata": {
        "id": "7XQ5EFmC5_JY"
      }
    },
    {
      "cell_type": "code",
      "source": [
        "datos1 = datos1[['CONGLOME','VIVIENDA','HOGAR','UBIGEO','FECENT','P101','P104','P106','P106A','P110','P1141','P1142','P1143','P1144']]\n",
        "datos1"
      ],
      "metadata": {
        "id": "A8PL6tzt6uF9"
      },
      "execution_count": null,
      "outputs": []
    },
    {
      "cell_type": "code",
      "source": [
        "datos2 = datos2[['CONGLOME','VIVIENDA','HOGAR','UBIGEO','CODPERSO','P203','P207','P208A','P209','TICUEST01']]\n",
        "datos2"
      ],
      "metadata": {
        "id": "4zRXcmIDwgeQ"
      },
      "execution_count": null,
      "outputs": []
    },
    {
      "cell_type": "markdown",
      "source": [
        "## **Pregunta 3**\n",
        "\n",
        "Cree las columnas ID_HOGAR e id_hogar en los data frames de los módulos 100 y 200, respectivamente, concatenando los datos de conglomerado, vivienda y hogar."
      ],
      "metadata": {
        "id": "olfGlBlD7J8E"
      }
    },
    {
      "cell_type": "code",
      "source": [
        "datos1 = datos1.assign(ID_HOGAR = datos1['CONGLOME'].astype(str) + datos1['VIVIENDA'].astype(str) + datos1['HOGAR'].astype(str))"
      ],
      "metadata": {
        "id": "IOMR4Cc5mhro"
      },
      "execution_count": null,
      "outputs": []
    },
    {
      "cell_type": "code",
      "source": [
        "datos1.info()"
      ],
      "metadata": {
        "id": "m_vdee7TuXrX"
      },
      "execution_count": null,
      "outputs": []
    },
    {
      "cell_type": "code",
      "source": [
        "datos2 = datos2.assign(id_hogar = datos2['CONGLOME'].astype(str) + datos2['VIVIENDA'].astype(str) + datos2['HOGAR'].astype(str))"
      ],
      "metadata": {
        "id": "3XsCUz5qm121"
      },
      "execution_count": null,
      "outputs": []
    },
    {
      "cell_type": "code",
      "source": [
        "datos2.info()"
      ],
      "metadata": {
        "id": "SRq8GyNKw5pC"
      },
      "execution_count": null,
      "outputs": []
    },
    {
      "cell_type": "code",
      "source": [
        "datos1"
      ],
      "metadata": {
        "id": "7nRUXd_YJNCs"
      },
      "execution_count": null,
      "outputs": []
    },
    {
      "cell_type": "code",
      "source": [
        "datos2"
      ],
      "metadata": {
        "id": "uIquJiFgJPDH"
      },
      "execution_count": null,
      "outputs": []
    },
    {
      "cell_type": "markdown",
      "source": [
        "## **Pregunta 4**\n",
        "\n",
        "Usando las columnas ID_HOGAR e id_hogar, combine los data frames mediante las siguientes reglas:\n",
        "\n",
        "  a) Nombre de data frame: datos_personas\n",
        "  \n",
        "  Considerar a todas las personas, independientemente si pertenecen o no a un hogar."
      ],
      "metadata": {
        "id": "W3ITDBu47pTl"
      }
    },
    {
      "cell_type": "code",
      "source": [
        "datos_personas = pd.merge(datos1, datos2, left_on='ID_HOGAR', right_on='id_hogar', how='right', indicator=True)\n",
        "datos_personas"
      ],
      "metadata": {
        "id": "Qpiugc_awabm"
      },
      "execution_count": null,
      "outputs": []
    },
    {
      "cell_type": "code",
      "source": [
        "datos_personas[datos_personas['_merge'] != \"both\"] # filtramos los datos de modo que _merge sea distinto a both\n",
        "# filtramos los datos que no hayan coincidido en ambas tablas"
      ],
      "metadata": {
        "id": "22jjRPRe8LKZ"
      },
      "execution_count": null,
      "outputs": []
    },
    {
      "cell_type": "markdown",
      "source": [
        "  b) Nombre de data frame: datos_hogares\n",
        "  \n",
        "  Considerar a todos los hogares, independientemente si encuestaron a alguna persona o no dentro de cada uno de ellos."
      ],
      "metadata": {
        "id": "-Xha1V-I74EA"
      }
    },
    {
      "cell_type": "code",
      "source": [
        "datos_hogares = pd.merge(datos1, datos2, left_on='ID_HOGAR', right_on='id_hogar', how='left', indicator=True)\n",
        "datos_hogares"
      ],
      "metadata": {
        "id": "7RDtmHYCtaKf"
      },
      "execution_count": null,
      "outputs": []
    },
    {
      "cell_type": "code",
      "source": [
        "datos_hogares[datos_hogares['_merge'] != \"both\"]"
      ],
      "metadata": {
        "id": "_GuVn1g7x3h5"
      },
      "execution_count": null,
      "outputs": []
    },
    {
      "cell_type": "markdown",
      "source": [
        "  c) Nombre de data frame: datos_int\n",
        "  \n",
        "  Considerar a todos los hogares en los que haya sido entrevistada alguna persona, y en consecuencia a todas las personas que pertenezcan a algún hogar (no hogares vacíos ni personas sin vivienda u hogar)."
      ],
      "metadata": {
        "id": "9PVJD4Q_8dKC"
      }
    },
    {
      "cell_type": "code",
      "source": [
        "datos_int = pd.merge(datos1, datos2, left_on='ID_HOGAR', right_on='id_hogar', how='inner', indicator=True)\n",
        "datos_int"
      ],
      "metadata": {
        "id": "F4DPs3-es5-D"
      },
      "execution_count": null,
      "outputs": []
    },
    {
      "cell_type": "code",
      "source": [
        "datos_int[datos_int['_merge'] != \"both\"]"
      ],
      "metadata": {
        "id": "BzGrMbBhxnMX"
      },
      "execution_count": null,
      "outputs": []
    },
    {
      "cell_type": "markdown",
      "source": [
        " d) Nombre de data frame: datos_uni\n",
        "\n",
        "  Considerar a todos los hogares (con o sin personas entrevistadas) así como a todas las personas (que pertenezcan o no a algún hogar)."
      ],
      "metadata": {
        "id": "-pk5pLEx8fjY"
      }
    },
    {
      "cell_type": "code",
      "source": [
        "datos_uni = pd.merge(datos1, datos2, left_on='ID_HOGAR', right_on='id_hogar', how='outer',indicator=True)\n",
        "datos_uni"
      ],
      "metadata": {
        "id": "MEZiq6AewkTG"
      },
      "execution_count": null,
      "outputs": []
    },
    {
      "cell_type": "code",
      "source": [
        "datos_uni[datos_uni['_merge'] != \"both\"]"
      ],
      "metadata": {
        "id": "Y8CmoKEvxqNJ"
      },
      "execution_count": null,
      "outputs": []
    },
    {
      "cell_type": "markdown",
      "source": [
        "## **Pregunta 5**\n",
        "\n",
        "A partir de esta pregunta, ejecutar los códigos usando datos_int. Cambiar los nombres de las variables:\n",
        "\n",
        "  - CONGLOME_x: Conglome\n",
        "  -\tVIVIENDA_x: Vivienda\n",
        "  - HOGAR_x: Hogar\n",
        "  - UBIGEO_x: Ubigeo\n",
        "  - FECENT: FecEnt\n",
        "  - P101: TipoVivienda\n",
        "  - P104: NumHab\n",
        "  - P106: ValorAlq\n",
        "  - P106A: Titulo\n",
        "  - P110: Agua\n",
        "  - P1141: TelFijo\n",
        "  - P1142: TelCel\n",
        "  - P1143: tvCable\n",
        "  - P1144: Internet\n",
        "  - CODPERSO: CodPerso\n",
        "  - P203: Parentesco\n",
        "  - P207: Sexo\n",
        "  - P208A: Edad\n",
        "  - P209: EstCivil\n",
        "  - TICUEST01: TipoCuest"
      ],
      "metadata": {
        "id": "anfJGo9lA_E9"
      }
    },
    {
      "cell_type": "code",
      "source": [
        "nuevos_nombres = {'CONGLOME_x':'Conglome', 'VIVIENDA_x':'Vivienda', 'HOGAR_x':'Hogar', 'UBIGEO_x':'Ubigeo', 'FECENT':'FecEnt',\n",
        "                  'P101':'TipoVivienda', 'P104':'NumHab', 'P106':'ValorAlq', 'P106A':'Titulo','P110':'Agua',\n",
        "                  'P1141':'TelFijo', 'P1142':'TelCel', 'P1143':'tvCable', 'P1144':'Internet',\n",
        "                  'CODPERSO':'CodPerso', 'P203':'Parentesco', 'P207':'Sexo', 'P208A':'Edad', 'P209':'EstCivil', 'TICUEST01': 'TipoCuest'}\n",
        "datos_int.rename(columns=nuevos_nombres, inplace=True)\n",
        "datos_int"
      ],
      "metadata": {
        "id": "RkjdrdfjLjwx"
      },
      "execution_count": null,
      "outputs": []
    },
    {
      "cell_type": "code",
      "source": [
        "columnas_drop = [col for col in datos_int.columns if col.endswith(\"_y\")] + [\"id_hogar\", \"_merge\"] # almacenamos en una lista las variables que serán eliminadas\n",
        "datos_int.drop(columnas_drop, axis=1, inplace = True) # realizamos la eliminación de las variables que han sido definidas"
      ],
      "metadata": {
        "id": "vqG7m5MdwkZ6"
      },
      "execution_count": null,
      "outputs": []
    },
    {
      "cell_type": "code",
      "source": [
        "columnas = datos_int.columns.tolist()\n",
        "columnas = ['ID_HOGAR'] + [col for col in columnas if col != 'ID_HOGAR']\n",
        "datos_int = datos_int[columnas]"
      ],
      "metadata": {
        "id": "2wG0BOEsNIIu"
      },
      "execution_count": null,
      "outputs": []
    },
    {
      "cell_type": "markdown",
      "source": [
        "## **Pregunta 7**\n",
        "\n",
        "Identificar cuantos valores perdidos hay en cada variable, ¿existe alguna totalmente completa? ¿cuál es la que tiene mayor cantidad de perdidos?"
      ],
      "metadata": {
        "id": "aLuH-paL8Tfs"
      }
    },
    {
      "cell_type": "code",
      "source": [
        "datos_int.isna().sum(axis=0) # Suma la cantidad de datos perdidos por columnas"
      ],
      "metadata": {
        "id": "X0NLlXyj8WGD"
      },
      "execution_count": null,
      "outputs": []
    },
    {
      "cell_type": "code",
      "source": [
        "datos_int.info()"
      ],
      "metadata": {
        "id": "rnD4m3gi8qnN"
      },
      "execution_count": null,
      "outputs": []
    },
    {
      "cell_type": "code",
      "source": [
        "datos_int"
      ],
      "metadata": {
        "id": "b2_EswUL4o4P"
      },
      "execution_count": null,
      "outputs": []
    },
    {
      "cell_type": "code",
      "source": [
        "import numpy as np\n",
        "datos_int.replace([\" \", \"\",\"999\",\"99999\"], np.NAN, inplace=True)\n",
        "datos_int.isna().sum(axis=0)"
      ],
      "metadata": {
        "id": "CE8VtcVD8t4j"
      },
      "execution_count": null,
      "outputs": []
    },
    {
      "cell_type": "code",
      "source": [
        "datos_int"
      ],
      "metadata": {
        "id": "qDkGWYFPNEWS"
      },
      "execution_count": null,
      "outputs": []
    },
    {
      "cell_type": "markdown",
      "source": [
        "## **Pregunta 8**\n",
        "\n",
        "Verifique que cada una de las variables sea del tipo que se indica a continuación. De no ser así, modificar:\n",
        "\n",
        "- Conglome: string\n",
        "\n",
        "- Vivienda: string\n",
        "\n",
        "- Hogar: string\n",
        "\n",
        "- Ubigeo: string\n",
        "\n",
        "- FecEnt: string\n",
        "\n",
        "- TipoVivienda: string\n",
        "\n",
        "- NumHab: int\n",
        "\n",
        "- ValorAlq: float\n",
        "\n",
        "- Titulo: string\n",
        "\n",
        "- Agua: string\n",
        "\n",
        "- TelFijo: string\n",
        "\n",
        "- TelCel: string\n",
        "\n",
        "- tvCable: string\n",
        "\n",
        "- Internet: string\n",
        "\n",
        "- Parentesco: string\n",
        "\n",
        "- Sexo: string\n",
        "\n",
        "- Edad: int\n",
        "\n",
        "- EstCivil: string\n",
        "\n",
        "- TipoCuest: string"
      ],
      "metadata": {
        "id": "eW-VntJExD2O"
      }
    },
    {
      "cell_type": "markdown",
      "source": [
        "Revisar [aquí](https://pbpython.com/pandas_dtypes.html) acerca de los tipos de datos en Python"
      ],
      "metadata": {
        "id": "mCO9L-o1zZj8"
      }
    },
    {
      "cell_type": "markdown",
      "source": [
        "Ya que el resultado es False, el tipo de dato en Conglome no es string"
      ],
      "metadata": {
        "id": "oMqTz-bfxH4O"
      }
    },
    {
      "cell_type": "code",
      "source": [
        "datos_int[\"Conglome\"].dtype == str # se valida si el tipo de dato almacenado en Conglome es string"
      ],
      "metadata": {
        "id": "RVUvWd_7x-9R"
      },
      "execution_count": null,
      "outputs": []
    },
    {
      "cell_type": "code",
      "source": [
        "datos_int[\"Conglome\"]"
      ],
      "metadata": {
        "id": "v5Y20o9_brNm"
      },
      "execution_count": null,
      "outputs": []
    },
    {
      "cell_type": "code",
      "source": [
        "datos_int.dtypes"
      ],
      "metadata": {
        "id": "ZHM5vHHeyZIK"
      },
      "execution_count": null,
      "outputs": []
    },
    {
      "cell_type": "code",
      "source": [
        "datos_int[\"Conglome\"] = datos_int[\"Conglome\"].astype(str)"
      ],
      "metadata": {
        "id": "tlPconsk2uF5"
      },
      "execution_count": null,
      "outputs": []
    },
    {
      "cell_type": "code",
      "source": [
        "for col in [\"Vivienda\", \"Hogar\", \"Ubigeo\", \"FecEnt\", \"Parentesco\", \"TipoCuest\"]:\n",
        "  datos_int[col] = datos_int[col].apply(str)"
      ],
      "metadata": {
        "id": "FbQ4l9y72rS9"
      },
      "execution_count": null,
      "outputs": []
    },
    {
      "cell_type": "code",
      "source": [
        "for col in [\"NumHab\", \"Edad\"]:\n",
        "  datos_int[col] = datos_int[col].fillna(999)\n",
        "  datos_int[col] = datos_int[col].apply(int)\n",
        "  datos_int[col] = datos_int[col].replace(999, np.nan)"
      ],
      "metadata": {
        "id": "q4ZZO-Rs3Wr1"
      },
      "execution_count": null,
      "outputs": []
    },
    {
      "cell_type": "code",
      "source": [
        "for col in [\"ValorAlq\"]:\n",
        "  datos_int[col] = datos_int[col].apply(float)"
      ],
      "metadata": {
        "id": "5dIGnYFM3cqJ"
      },
      "execution_count": null,
      "outputs": []
    },
    {
      "cell_type": "code",
      "source": [
        "datos_int.dtypes"
      ],
      "metadata": {
        "id": "g4kxWT8Q2zFo"
      },
      "execution_count": null,
      "outputs": []
    },
    {
      "cell_type": "markdown",
      "source": [
        "## **Pregunta 9**\n",
        "\n",
        "Recategorizar la variable TipoVivienda, de modo que los nuevos valores sean:\n",
        "\n",
        "- Antes: Casa independiente (1), Departamento en edificio (2)\n",
        "\n",
        "  Ahora: Vivienda adecuada (1)\n",
        "\n",
        "- Antes: Vivienda en quinta (3), Vivienda en casa de vecindad (4), Choza o cabaña (5), Vivienda improvisada (6), Local no destinado para habitación humana (7)\n",
        "\n",
        "  Ahora: Vivienda precaria (2)\n",
        "\n",
        "\n"
      ],
      "metadata": {
        "id": "YZjg0NcNCryn"
      }
    },
    {
      "cell_type": "code",
      "source": [
        "datos_int[\"TipoVivienda\"].value_counts() # Obtenemos una tabla de frecuencias para la variable TipoVivienda, ordenada por frecuencias."
      ],
      "metadata": {
        "id": "Go6HKA6OzNEs"
      },
      "execution_count": null,
      "outputs": []
    },
    {
      "cell_type": "code",
      "source": [
        "datos_int[\"TipoVivienda\"].value_counts().reset_index().sort_values(by = \"TipoVivienda\") # Obtenemos una tabla de frecuencias para la variable TipoVivienda, ordenada por categorías."
      ],
      "metadata": {
        "id": "y3jtrBnctSsP"
      },
      "execution_count": null,
      "outputs": []
    },
    {
      "cell_type": "code",
      "source": [
        "datos_int.groupby('TipoVivienda').size().reset_index(name='Frecuencia') # Otra manera de obtener la tabla de frecuencias"
      ],
      "metadata": {
        "id": "hXeAu4FPtuHp"
      },
      "execution_count": null,
      "outputs": []
    },
    {
      "cell_type": "code",
      "source": [
        "pip install researchpy"
      ],
      "metadata": {
        "id": "hShwrWkDM__Z"
      },
      "execution_count": null,
      "outputs": []
    },
    {
      "cell_type": "code",
      "source": [
        "import researchpy as rp"
      ],
      "metadata": {
        "id": "hXKritWVM9Qe"
      },
      "execution_count": null,
      "outputs": []
    },
    {
      "cell_type": "code",
      "source": [
        "rp.summary_cat(datos_int['TipoVivienda'])"
      ],
      "metadata": {
        "id": "I3BhTbIRNGpW"
      },
      "execution_count": null,
      "outputs": []
    },
    {
      "cell_type": "code",
      "source": [
        "rp.summary_cat(datos_int['TipoVivienda'])"
      ],
      "metadata": {
        "id": "iH1M4LRDNbYK"
      },
      "execution_count": null,
      "outputs": []
    },
    {
      "cell_type": "code",
      "source": [
        "datos_int[\"TipoVivienda2\"] = datos_int[\"TipoVivienda\"].replace({\"1\": \"1\",\n",
        "                                                                \"2\": \"1\",\n",
        "                                                                \"3\": \"2\",\n",
        "                                                                \"4\": \"2\",\n",
        "                                                                \"5\": \"2\",\n",
        "                                                                \"6\": \"2\",\n",
        "                                                                \"7\": \"2\"})\n",
        "datos_int.groupby('TipoVivienda2').size().reset_index(name='Frecuencia')"
      ],
      "metadata": {
        "id": "-lUuP3VID8dR"
      },
      "execution_count": null,
      "outputs": []
    },
    {
      "cell_type": "code",
      "source": [
        "datos_int[\"TipoVivienda3\"] = datos_int[\"TipoVivienda\"].replace([\"1\",\"2\"], \"1\")\n",
        "datos_int[\"TipoVivienda3\"] = datos_int[\"TipoVivienda3\"].replace([\"3\",\"4\",\"5\",\"6\",\"7\"], \"2\")"
      ],
      "metadata": {
        "id": "NbgskvntuGT2"
      },
      "execution_count": null,
      "outputs": []
    },
    {
      "cell_type": "code",
      "source": [
        "#datos_int[\"TipoVivienda\"].replace([\"1\",\"2\"], \"1\", inplace = True)\n",
        "#datos_int[\"TipoVivienda\"].replace([\"3\",\"4\",\"5\",\"6\",\"7\"], \"2\", inplace = True)\n",
        "#¿Qué sucedería su ejecutamos este código?"
      ],
      "metadata": {
        "id": "JEPytRDVg8qu"
      },
      "execution_count": null,
      "outputs": []
    },
    {
      "cell_type": "code",
      "source": [
        "pd.crosstab(datos_int[\"TipoVivienda\"], datos_int[\"TipoVivienda2\"]) # Realizamos una tabla cruzada de la variable original y la variable recategorizada"
      ],
      "metadata": {
        "id": "p6aGQIUIExti"
      },
      "execution_count": null,
      "outputs": []
    },
    {
      "cell_type": "code",
      "source": [
        "pd.crosstab(datos_int[\"TipoVivienda\"], datos_int[\"TipoVivienda3\"]) # Realizamos una tabla cruzada de la variable original y la variable recategorizada"
      ],
      "metadata": {
        "id": "Ihe1aK3sul9z"
      },
      "execution_count": null,
      "outputs": []
    },
    {
      "cell_type": "markdown",
      "source": [
        "De esta manera, hemos verificado que las categorías se han actualizado correctamente."
      ],
      "metadata": {
        "id": "4pYfcXbg2sE7"
      }
    },
    {
      "cell_type": "markdown",
      "source": [
        "## **Pregunta 10**\n",
        "\n",
        "Categorizar la variable Edad, de modo que se consideren las siguientes reglas:\n",
        "\n",
        "- De 0 a 11 años: Niño\n",
        "- De 12 a 17 años: Adolescente\n",
        "- De 18 a 29 años: Joven\n",
        "- De 30 a 59 años: Adulto\n",
        "- De 60 a más años: Adulto mayor\n"
      ],
      "metadata": {
        "id": "oy3OGGrdFQID"
      }
    },
    {
      "cell_type": "code",
      "source": [
        "datos_int.Edad.value_counts()"
      ],
      "metadata": {
        "id": "ClzaCpdYztu-"
      },
      "execution_count": null,
      "outputs": []
    },
    {
      "cell_type": "code",
      "source": [
        "#datos_int.Edad.value_counts().reset_index().sort_values(by = \"Edad\")\n",
        "datos_int.groupby('Edad').size().reset_index(name='Frecuencia')"
      ],
      "metadata": {
        "id": "gsUpILiYOOwW"
      },
      "execution_count": null,
      "outputs": []
    },
    {
      "cell_type": "code",
      "source": [
        "datos_int['Grupo_Edad'] = pd.cut(datos_int['Edad'],\n",
        "                                 bins = [-1, 11, 17, 29, 59, 100, float('inf')],\n",
        "                                 #labels = ['Niño', 'Adolescente', 'Joven', 'Adulto', 'Adulto mayor', 'Sin datos'],\n",
        "                                 right = True)"
      ],
      "metadata": {
        "id": "yrc6fzn2OyK2"
      },
      "execution_count": null,
      "outputs": []
    },
    {
      "cell_type": "code",
      "source": [
        "datos_int['Grupo_Edad'] = pd.cut(datos_int['Edad'],\n",
        "                                 bins = [0, 12, 18, 30, 60, 101, float('inf')],\n",
        "                                 labels = ['Niño', 'Adolescente', 'Joven', 'Adulto', 'Adulto mayor', 'Sin datos'],\n",
        "                                 right = False)"
      ],
      "metadata": {
        "id": "ypm6fnI85MWv"
      },
      "execution_count": null,
      "outputs": []
    },
    {
      "cell_type": "code",
      "source": [
        "datos_int[['Edad','Grupo_Edad']]"
      ],
      "metadata": {
        "id": "QoTJFCwTPUDu"
      },
      "execution_count": null,
      "outputs": []
    },
    {
      "cell_type": "code",
      "source": [
        "#datos_int.Grupo_Edad.value_counts().reset_index().sort_values(by = \"Grupo_Edad\")\n",
        "datos_int.groupby('Grupo_Edad').size().reset_index(name='Frecuencia')"
      ],
      "metadata": {
        "id": "9MXwmblx0GI_"
      },
      "execution_count": null,
      "outputs": []
    },
    {
      "cell_type": "markdown",
      "source": [
        "## **Pregunta 11**\n",
        "\n",
        "Crear variables dummy a partir de la variable categórica creada en la pregunta anterior."
      ],
      "metadata": {
        "id": "bCthyk2wQSHr"
      }
    },
    {
      "cell_type": "code",
      "source": [
        "datos_int"
      ],
      "metadata": {
        "id": "FgK0D0qT8RA1"
      },
      "execution_count": null,
      "outputs": []
    },
    {
      "cell_type": "code",
      "source": [
        "datos_int = pd.get_dummies(datos_int, columns=['Grupo_Edad'], prefix=['DU'])\n",
        "datos_int"
      ],
      "metadata": {
        "id": "SnYEQYgIPtcN"
      },
      "execution_count": null,
      "outputs": []
    },
    {
      "cell_type": "code",
      "source": [
        "variables_dummy = pd.get_dummies(datos_int['EstCivil'].astype(str), prefix='EC')\n",
        "datos_int = pd.concat([datos_int, variables_dummy], axis=1)\n",
        "datos_int"
      ],
      "metadata": {
        "id": "zcGVaWLdwv9n"
      },
      "execution_count": null,
      "outputs": []
    },
    {
      "cell_type": "markdown",
      "source": [
        "### **Pregunta 12**\n",
        "\n",
        "Estandarizar la variable ValorAlq"
      ],
      "metadata": {
        "id": "hraOnFG2SQ6C"
      }
    },
    {
      "cell_type": "code",
      "source": [
        "datos_int['ValorAlq_st'] = (datos_int['ValorAlq'] - datos_int['ValorAlq'].mean()) / datos_int['ValorAlq'].std()\n",
        "datos_int[['ValorAlq','ValorAlq_st']]"
      ],
      "metadata": {
        "id": "U8uUYvhkSUiw"
      },
      "execution_count": null,
      "outputs": []
    },
    {
      "cell_type": "code",
      "source": [
        "from sklearn.preprocessing import StandardScaler\n",
        "scaler = StandardScaler()\n",
        "datos_int['ValorAlq_st2'] = scaler.fit_transform(datos_int[['ValorAlq']])\n",
        "datos_int[['ValorAlq','ValorAlq_st','ValorAlq_st2']]"
      ],
      "metadata": {
        "id": "W2bVHBe9ylzr"
      },
      "execution_count": null,
      "outputs": []
    },
    {
      "cell_type": "code",
      "source": [
        "datos_int['ValorAlq_st3'] = (datos_int['ValorAlq'] - datos_int['ValorAlq'].min()) / (datos_int['ValorAlq'].max()- datos_int['ValorAlq'].min())\n",
        "datos_int[['ValorAlq','ValorAlq_st3']]"
      ],
      "metadata": {
        "id": "0ujho_V09P-0"
      },
      "execution_count": null,
      "outputs": []
    },
    {
      "cell_type": "code",
      "source": [
        "from sklearn.preprocessing import MinMaxScaler\n",
        "scaler = MinMaxScaler()\n",
        "datos_int['ValorAlq_st4'] = scaler.fit_transform(datos_int[['ValorAlq']])\n",
        "datos_int[['ValorAlq','ValorAlq_st3','ValorAlq_st4']]"
      ],
      "metadata": {
        "id": "bGRgTvWbzDFy"
      },
      "execution_count": null,
      "outputs": []
    },
    {
      "cell_type": "markdown",
      "source": [
        "### **Pregunta 13**\n",
        "\n",
        "A partir de la columna FecEnt, crear una variable llamada Mes_Ent, que viene a ser el mes del resultado de la encuesta"
      ],
      "metadata": {
        "id": "yJxE93bZ0VtY"
      }
    },
    {
      "cell_type": "code",
      "source": [
        "datos_int['FecEnt']"
      ],
      "metadata": {
        "id": "6eBZMdp4TXAj"
      },
      "execution_count": null,
      "outputs": []
    },
    {
      "cell_type": "code",
      "source": [
        "datos_int['Mes_Ent']   = pd.to_datetime(datos_int['FecEnt']).dt.month"
      ],
      "metadata": {
        "id": "XwXOLs383fA7"
      },
      "execution_count": null,
      "outputs": []
    },
    {
      "cell_type": "code",
      "source": [
        "datos_int[['FecEnt','Mes_Ent']]"
      ],
      "metadata": {
        "id": "7xwenMTp3hAa"
      },
      "execution_count": null,
      "outputs": []
    },
    {
      "cell_type": "code",
      "source": [
        "datos_int['Fecha_Ent'] = pd.to_datetime(datos_int['FecEnt'])\n",
        "datos_int['Mes_Ent']   = datos_int['Fecha_Ent'].dt.month\n",
        "\n",
        "datos_int['Mes_Ent']   = pd.to_datetime(datos_int['FecEnt']).dt.month\n",
        "\n",
        "datos_int[['FecEnt','Fecha_Ent','Mes_Ent']]"
      ],
      "metadata": {
        "id": "QOsiZHy5ThEN"
      },
      "execution_count": null,
      "outputs": []
    },
    {
      "cell_type": "markdown",
      "source": [
        "¿Cuál fue el primer y último día en el que se ejecutó la encuesta correspondiente al primer trimestre del 2022?"
      ],
      "metadata": {
        "id": "lzX7-avR11xr"
      }
    },
    {
      "cell_type": "code",
      "source": [
        "print('Primer día:', datos_int['Fecha_Ent'].min())"
      ],
      "metadata": {
        "id": "xj_rLpqx1xH-"
      },
      "execution_count": null,
      "outputs": []
    },
    {
      "cell_type": "code",
      "source": [
        "print('Primer día:', datos_int['Fecha_Ent'].min().strftime('%Y-%m-%d'))"
      ],
      "metadata": {
        "id": "rqPHDsVF2O3N"
      },
      "execution_count": null,
      "outputs": []
    },
    {
      "cell_type": "code",
      "source": [
        "print('Último día:', datos_int['Fecha_Ent'].max().strftime('%d-%b-%y'))"
      ],
      "metadata": {
        "id": "DFrDM38B2Bfz"
      },
      "execution_count": null,
      "outputs": []
    },
    {
      "cell_type": "markdown",
      "source": [
        "### **Pregunta 14**\n",
        "\n",
        "Seleccionar a las personas que son menores de edad"
      ],
      "metadata": {
        "id": "ly2av4f90iCn"
      }
    },
    {
      "cell_type": "code",
      "source": [
        "datos_f1 = datos_int.loc[datos_int['Edad'] < 18]\n",
        "datos_f1[['Edad']].describe()"
      ],
      "metadata": {
        "id": "sPw2GWm2UvHJ"
      },
      "execution_count": null,
      "outputs": []
    },
    {
      "cell_type": "markdown",
      "source": [
        "- Hay 8874 menores de edad en la muestra\n",
        "- La edad promedio de los menores de edad es de 9.16 años\n",
        "- Al menos el 50% de los menores de edad tiene 9 años como máximo.\n",
        "- Al menos el 75% de los menores de edad tiene hasta 14 años."
      ],
      "metadata": {
        "id": "5x6oiVCmC1l5"
      }
    },
    {
      "cell_type": "markdown",
      "source": [
        "### **Pregunta 15**\n",
        "\n",
        "Seleccionar los hogares ubicados en viviendas que son adecuadas, que cuentan con teléfono fijo pero no internet.\n",
        "\n",
        "¿La edad promedio de las personas de estos hogares es mayor que en aquellos que tienen estas mismas características excepto que no cuentan con teléfono fijo?"
      ],
      "metadata": {
        "id": "UT3f6Hz11n6s"
      }
    },
    {
      "cell_type": "code",
      "source": [
        "# viviendas que son adecuadas, que cuentan con teléfono fijo pero no internet.\n",
        "datos_f2 = datos_int.loc[(datos_int['TipoVivienda2'] == \"1\") & (datos_int['Internet'] == \"0\") & (datos_int['TelFijo'] == \"1\")]"
      ],
      "metadata": {
        "id": "zNeIg6L1T4Qz"
      },
      "execution_count": null,
      "outputs": []
    },
    {
      "cell_type": "code",
      "source": [
        "# viviendas que son adecuadas, que no cuentan con teléfono fijo pero no internet.\n",
        "datos_f3 = datos_int.loc[(datos_int['TipoVivienda2'] == \"1\") & (datos_int['Internet'] == \"0\") & (datos_int['TelFijo'] == \"0\")]"
      ],
      "metadata": {
        "id": "pf4-OFAe2j3L"
      },
      "execution_count": null,
      "outputs": []
    },
    {
      "cell_type": "code",
      "source": [
        "datos_f2.Edad.mean() # con teléfono fijo, sin internet"
      ],
      "metadata": {
        "id": "0ddCAMwX2pKH"
      },
      "execution_count": null,
      "outputs": []
    },
    {
      "cell_type": "code",
      "source": [
        "datos_f3.Edad.mean() # sin teléfono fijo, sin internet"
      ],
      "metadata": {
        "id": "rQo9ezbk12GW"
      },
      "execution_count": null,
      "outputs": []
    },
    {
      "cell_type": "markdown",
      "source": [
        "La edad promedio de las personas que habitan una vivienda adecuada, no tienen internet pero sí teléfono fijo es de 60.9 años. Mientras que aquellas que **no tienen el servicio de teléfono fijo**, tienen una edad media **26 años menor**."
      ],
      "metadata": {
        "id": "MRjMRUPMEBhS"
      }
    },
    {
      "cell_type": "markdown",
      "source": [
        "### **Pregunta 16**\n",
        "\n",
        "Filtrar a las mujeres que tienen más de 55 años y que habitan en viviendas con menos de 5 habitaciones y cuyo servicio de agua proviene de la red pública, dentro de la vivienda."
      ],
      "metadata": {
        "id": "DluQeFXs2zIR"
      }
    },
    {
      "cell_type": "code",
      "source": [
        "# Importante: colocar cada condición entre paréntesis, de lo contrario arroja error\n",
        "datos_f4 = datos_int.loc[(datos_int['Sexo'] == \"2\") & (datos_int['Edad']>55) & (datos_int['NumHab'] < 5) & (datos_int['Agua'] == \"1\")]\n",
        "datos_f4[['Sexo','Edad','NumHab','Agua']]"
      ],
      "metadata": {
        "id": "OOBd2-iLTtUh"
      },
      "execution_count": null,
      "outputs": []
    },
    {
      "cell_type": "code",
      "source": [
        "datos_f4[['Sexo','Edad','NumHab','Agua']].describe()"
      ],
      "metadata": {
        "id": "x72-oKwtFHML"
      },
      "execution_count": null,
      "outputs": []
    },
    {
      "cell_type": "code",
      "source": [
        "datos_f4[['Sexo','Edad','NumHab','Agua']].describe(include = 'all')"
      ],
      "metadata": {
        "id": "lk6igNlK3aaU"
      },
      "execution_count": null,
      "outputs": []
    },
    {
      "cell_type": "markdown",
      "source": [
        "### **Pregunta 17**\n",
        "\n",
        "Seleccionar los hogares que cuentan con título de propiedad y que reciben agua de Pilón o pileta de uso público o Camión-cisterna u otro similar. Luego, verifique si el precio mediano de alquiler de estas viviendas es mayor a 350 soles, y comente su distribución / forma / asimetría."
      ],
      "metadata": {
        "id": "dIFM8syQ3bww"
      }
    },
    {
      "cell_type": "code",
      "source": [
        "datos_f5 = datos_int.loc[(datos_int['Titulo'] == \"1\") & ((datos_int['Agua'] == \"3\") | (datos_int['Agua'] == \"4\"))]"
      ],
      "metadata": {
        "id": "D1ALzNvRO86M"
      },
      "execution_count": null,
      "outputs": []
    },
    {
      "cell_type": "code",
      "source": [
        "datos_f5.ValorAlq.median()"
      ],
      "metadata": {
        "id": "EiuwOBZGGJWF"
      },
      "execution_count": null,
      "outputs": []
    },
    {
      "cell_type": "markdown",
      "source": [
        "Al menos el 50% de los hogares que cuentan con título de propiedad y que reciben agua de Pilón o pileta de uso público o Camión-cisterna u otro similar considera que recibiría 150 soles o menos por alquiler"
      ],
      "metadata": {
        "id": "FhBEpvNrGR8c"
      }
    },
    {
      "cell_type": "code",
      "source": [
        "from scipy.stats import skew\n",
        "skew(datos_f5['ValorAlq'])"
      ],
      "metadata": {
        "id": "ifn1qleGQT2J"
      },
      "execution_count": null,
      "outputs": []
    },
    {
      "cell_type": "markdown",
      "source": [
        "Los montos percibidos de alquiler tienen una distribución asimétrica a la derecha, eso significa que gran parte de los precios están concentrados en valores bajos."
      ],
      "metadata": {
        "id": "XjKjnqGLHYwn"
      }
    },
    {
      "cell_type": "code",
      "source": [
        "import matplotlib.pyplot as plt\n",
        "plt.hist(datos_f5['ValorAlq'], color='skyblue', edgecolor='black')\n",
        "plt.xlabel('Valor en soles')\n",
        "plt.ylabel('Frecuencia')\n",
        "plt.title('Distribución del precio')\n",
        "plt.show()"
      ],
      "metadata": {
        "id": "iwJ-iEQW3yGg"
      },
      "execution_count": null,
      "outputs": []
    }
  ]
}