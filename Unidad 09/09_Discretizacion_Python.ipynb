{
  "nbformat": 4,
  "nbformat_minor": 0,
  "metadata": {
    "colab": {
      "provenance": [],
      "toc_visible": true,
      "include_colab_link": true
    },
    "kernelspec": {
      "name": "python3",
      "display_name": "Python 3"
    },
    "language_info": {
      "name": "python"
    }
  },
  "cells": [
    {
      "cell_type": "markdown",
      "metadata": {
        "id": "view-in-github",
        "colab_type": "text"
      },
      "source": [
        "<a href=\"https://colab.research.google.com/github/jeguns/EP7173/blob/main/Unidad%2009/09_Discretizacion_Python.ipynb\" target=\"_parent\"><img src=\"https://colab.research.google.com/assets/colab-badge.svg\" alt=\"Open In Colab\"/></a>"
      ]
    },
    {
      "cell_type": "code",
      "source": [
        "import pandas as pd"
      ],
      "metadata": {
        "id": "n-CUQIbNSou9"
      },
      "execution_count": null,
      "outputs": []
    },
    {
      "cell_type": "code",
      "source": [
        "datos1 = pd.read_excel('datos_intro_balanceo.xlsx')"
      ],
      "metadata": {
        "id": "G9zalWmtSpvv"
      },
      "execution_count": null,
      "outputs": []
    },
    {
      "cell_type": "code",
      "source": [
        "tabla = datos1['DESAPRUEBA'].value_counts(normalize=True).reset_index(name='prop')\n",
        "tabla"
      ],
      "metadata": {
        "id": "rGhkrcIMS-Vu"
      },
      "execution_count": null,
      "outputs": []
    },
    {
      "cell_type": "code",
      "source": [
        "tabla['prop'].iloc[0]/tabla['prop'].iloc[1]"
      ],
      "metadata": {
        "id": "z3OF0hOBSz-v"
      },
      "execution_count": null,
      "outputs": []
    },
    {
      "cell_type": "code",
      "source": [
        "import matplotlib.pyplot as plt\n",
        "import seaborn as sns\n",
        "\n",
        "def plot_dataframe(dataframe, x_col='EP', y_col='EF', hue_col='DESAPRUEBA'):\n",
        "    \"\"\"\n",
        "    Genera un gráfico de dispersión personalizado con las líneas guía.\n",
        "\n",
        "    Parameters:\n",
        "    - dataframe: pd.DataFrame, DataFrame con los datos a graficar.\n",
        "    - x_col: str, nombre de la columna para el eje x.\n",
        "    - y_col: str, nombre de la columna para el eje y.\n",
        "    - hue_col: str, nombre de la columna para diferenciar por colores.\n",
        "    \"\"\"\n",
        "    plt.figure(figsize=(6, 6))\n",
        "    scatter = sns.scatterplot(data=dataframe, x=x_col, y=y_col, hue=hue_col, s=25)\n",
        "\n",
        "    plt.axhline(y=10.5, color='gray', linestyle='--')\n",
        "    plt.axvline(x=10.5, color='gray', linestyle='--')\n",
        "\n",
        "    plt.title(\"Gráfico de EP vs EF por DESAPRUEBA\")\n",
        "    plt.xlabel(x_col)\n",
        "    plt.ylabel(y_col)\n",
        "    plt.legend(title=hue_col)\n",
        "    plt.grid(True)\n",
        "    plt.tight_layout()\n",
        "\n",
        "    plt.show()\n",
        "\n",
        "plot_dataframe(datos1)"
      ],
      "metadata": {
        "id": "fDlnW8VwTp8K"
      },
      "execution_count": null,
      "outputs": []
    },
    {
      "cell_type": "markdown",
      "source": [
        "# Undersampling"
      ],
      "metadata": {
        "id": "e_5voDnhU9wb"
      }
    },
    {
      "cell_type": "markdown",
      "source": [
        "## Random Undersampling"
      ],
      "metadata": {
        "id": "aolMi3p7U_1p"
      }
    },
    {
      "cell_type": "code",
      "source": [
        "import numpy as np\n",
        "from imblearn.under_sampling import RandomUnderSampler, CondensedNearestNeighbour, TomekLinks, EditedNearestNeighbours, NeighbourhoodCleaningRule\n",
        "\n",
        "X = datos1.drop(columns=['DESAPRUEBA'])\n",
        "y = datos1['DESAPRUEBA']"
      ],
      "metadata": {
        "id": "i_0GNZMQh8Eh"
      },
      "execution_count": null,
      "outputs": []
    },
    {
      "cell_type": "code",
      "source": [
        "np.random.seed(44)\n",
        "rus = RandomUnderSampler(random_state=9)\n",
        "X_rus, y_rus = rus.fit_resample(X, y)\n",
        "\n",
        "datos1_rus = pd.concat([pd.DataFrame(X_rus, columns=X.columns),\n",
        "                        pd.DataFrame(y_rus, columns=['DESAPRUEBA'])], axis=1)\n",
        "\n",
        "tabla1_rus = datos1_rus['DESAPRUEBA'].value_counts(normalize=True).reset_index(name='prop')\n",
        "tabla1_rus['prop'].iloc[0]/tabla1_rus['prop'].iloc[1]"
      ],
      "metadata": {
        "id": "VgPOA-JVh-4j"
      },
      "execution_count": null,
      "outputs": []
    },
    {
      "cell_type": "code",
      "source": [
        "plot_dataframe(datos1_rus)"
      ],
      "metadata": {
        "id": "SgYtw2QBhmoN"
      },
      "execution_count": null,
      "outputs": []
    },
    {
      "cell_type": "markdown",
      "source": [
        "## Condensed Nearest Neighbor"
      ],
      "metadata": {
        "id": "lCovKAykgQle"
      }
    },
    {
      "cell_type": "code",
      "source": [
        "np.random.seed(44)\n",
        "cnn = CondensedNearestNeighbour(sampling_strategy='majority') # ?CondensedNearestNeighbour\n",
        "X_resampled, y_resampled = cnn.fit_resample(X, y)\n",
        "\n",
        "datos1_cnn = pd.concat([pd.DataFrame(X_resampled, columns=X.columns),\n",
        "                        pd.DataFrame(y_resampled, columns=['DESAPRUEBA'])], axis=1)\n",
        "\n",
        "tabla_cnn = datos1_cnn['DESAPRUEBA'].value_counts(normalize=True).reset_index(name='prop')\n",
        "tabla_cnn['prop'].iloc[0]/tabla_cnn['prop'].iloc[1]"
      ],
      "metadata": {
        "id": "XH9kMPdOeH_y"
      },
      "execution_count": null,
      "outputs": []
    },
    {
      "cell_type": "code",
      "source": [
        "plot_dataframe(datos1_cnn)"
      ],
      "metadata": {
        "id": "Rgan2Bh1iOiO"
      },
      "execution_count": null,
      "outputs": []
    },
    {
      "cell_type": "markdown",
      "source": [
        "## Tomek Links"
      ],
      "metadata": {
        "id": "QLIqFdaggTNs"
      }
    },
    {
      "cell_type": "code",
      "source": [
        "np.random.seed(44)\n",
        "tomek = TomekLinks(sampling_strategy='majority')\n",
        "X_resampled, y_resampled = tomek.fit_resample(X, y)\n",
        "\n",
        "datos1_tomek = pd.concat([pd.DataFrame(X_resampled, columns=X.columns),\n",
        "                          pd.DataFrame(y_resampled, columns=['DESAPRUEBA'])], axis=1)\n",
        "\n",
        "tabla_tomek = datos1_tomek['DESAPRUEBA'].value_counts(normalize=True).reset_index(name='prop')\n",
        "tabla_tomek['prop'].iloc[0]/tabla_tomek['prop'].iloc[1]"
      ],
      "metadata": {
        "id": "ixd-EXj_fy2-"
      },
      "execution_count": null,
      "outputs": []
    },
    {
      "cell_type": "code",
      "source": [
        "plot_dataframe(datos1_tomek)"
      ],
      "metadata": {
        "id": "D4kBeApRiRt9"
      },
      "execution_count": null,
      "outputs": []
    },
    {
      "cell_type": "markdown",
      "source": [
        "## One Side Selection"
      ],
      "metadata": {
        "id": "Cw5OL3iqgUjb"
      }
    },
    {
      "cell_type": "code",
      "source": [
        "np.random.seed(44)\n",
        "cnn = CondensedNearestNeighbour(sampling_strategy='majority')\n",
        "X_cnn, y_cnn = cnn.fit_resample(X, y)\n",
        "tomek = TomekLinks(sampling_strategy='majority')\n",
        "X_oss, y_oss = tomek.fit_resample(X_cnn, y_cnn)\n",
        "\n",
        "datos1_oss = pd.concat([pd.DataFrame(X_oss, columns=X.columns),\n",
        "                        pd.DataFrame(y_oss, columns=['DESAPRUEBA'])], axis=1)\n",
        "\n",
        "tabla_oss = datos1_oss['DESAPRUEBA'].value_counts(normalize=True).reset_index(name='prop')\n",
        "tabla_oss['prop'].iloc[0]/tabla_oss['prop'].iloc[1]"
      ],
      "metadata": {
        "id": "aZIsHF-PgW5R"
      },
      "execution_count": null,
      "outputs": []
    },
    {
      "cell_type": "code",
      "source": [
        "plot_dataframe(datos1_oss)"
      ],
      "metadata": {
        "id": "f2SAgwtAiVcQ"
      },
      "execution_count": null,
      "outputs": []
    },
    {
      "cell_type": "markdown",
      "source": [
        "## Edited Nearest Neighbors"
      ],
      "metadata": {
        "id": "C-pjl0Q6goAS"
      }
    },
    {
      "cell_type": "code",
      "source": [
        "np.random.seed(44)\n",
        "enn = EditedNearestNeighbours(sampling_strategy='majority')\n",
        "X_enn, y_enn = enn.fit_resample(X, y)\n",
        "\n",
        "datos1_enn = pd.concat([pd.DataFrame(X_enn, columns=X.columns),\n",
        "                        pd.DataFrame(y_enn, columns=['DESAPRUEBA'])], axis=1)\n",
        "\n",
        "tabla_enn = datos1_enn['DESAPRUEBA'].value_counts(normalize=True).reset_index(name='prop')\n",
        "tabla_enn['prop'].iloc[0]/tabla_enn['prop'].iloc[1]"
      ],
      "metadata": {
        "id": "csIklXRSgykT"
      },
      "execution_count": null,
      "outputs": []
    },
    {
      "cell_type": "code",
      "source": [
        "plot_dataframe(datos1_enn)"
      ],
      "metadata": {
        "id": "De4joOQFiXsx"
      },
      "execution_count": null,
      "outputs": []
    },
    {
      "cell_type": "markdown",
      "source": [
        "## Neighborhood Cleaning Rule"
      ],
      "metadata": {
        "id": "h5GXP1-xhDm8"
      }
    },
    {
      "cell_type": "code",
      "source": [
        "np.random.seed(44)\n",
        "ncl = NeighbourhoodCleaningRule(sampling_strategy='majority')\n",
        "X_ncl, y_ncl = ncl.fit_resample(X, y)\n",
        "\n",
        "datos1_ncl = pd.concat([pd.DataFrame(X_ncl, columns=X.columns),\n",
        "                        pd.DataFrame(y_ncl, columns=['DESAPRUEBA'])], axis=1)\n",
        "\n",
        "tabla_ncl = datos1_ncl['DESAPRUEBA'].value_counts(normalize=True).reset_index(name='prop')\n",
        "tabla_ncl['prop'].iloc[0]/tabla_ncl['prop'].iloc[1]"
      ],
      "metadata": {
        "id": "gIuHkDxghPN3"
      },
      "execution_count": null,
      "outputs": []
    },
    {
      "cell_type": "code",
      "source": [
        "plot_dataframe(datos1_ncl)"
      ],
      "metadata": {
        "id": "TBsVNprwiZfe"
      },
      "execution_count": null,
      "outputs": []
    },
    {
      "cell_type": "markdown",
      "source": [
        "# Oversampling"
      ],
      "metadata": {
        "id": "gaTBX63OiczW"
      }
    },
    {
      "cell_type": "code",
      "source": [
        "import numpy as np\n",
        "from imblearn.over_sampling import RandomOverSampler, SMOTE\n",
        "\n",
        "X = datos1.drop(columns=['DESAPRUEBA'])\n",
        "y = datos1['DESAPRUEBA']"
      ],
      "metadata": {
        "id": "180LRFHghhDl"
      },
      "execution_count": null,
      "outputs": []
    },
    {
      "cell_type": "markdown",
      "source": [
        "## Random Oversampling\n"
      ],
      "metadata": {
        "id": "IjbRtXNdifYL"
      }
    },
    {
      "cell_type": "code",
      "source": [
        "np.random.seed(119)\n",
        "ros = RandomOverSampler()\n",
        "X_ros, y_ros = ros.fit_resample(X, y)\n",
        "\n",
        "datos1_ros = pd.concat([pd.DataFrame(X_ros, columns=X.columns),\n",
        "                        pd.DataFrame(y_ros, columns=['DESAPRUEBA'])], axis=1)\n",
        "\n",
        "tabla_ros= datos1_ros['DESAPRUEBA'].value_counts(normalize=True).reset_index(name='prop')\n",
        "tabla_ros['prop'].iloc[0]/tabla_ros['prop'].iloc[1]"
      ],
      "metadata": {
        "id": "mw5TCnw9itr_"
      },
      "execution_count": null,
      "outputs": []
    },
    {
      "cell_type": "code",
      "source": [
        "plot_dataframe(datos1_ros)"
      ],
      "metadata": {
        "id": "OciTGpwYjAHz"
      },
      "execution_count": null,
      "outputs": []
    },
    {
      "cell_type": "markdown",
      "source": [
        "## SMOTE"
      ],
      "metadata": {
        "id": "94mfeOf-jHjH"
      }
    },
    {
      "cell_type": "code",
      "source": [
        "np.random.seed(129)\n",
        "smote = SMOTE(sampling_strategy = 'minority')\n",
        "X_smote, y_smote = smote.fit_resample(X, y)\n",
        "\n",
        "datos1_smote1 = pd.concat([pd.DataFrame(X_smote, columns=X.columns),\n",
        "                           pd.DataFrame(y_smote, columns=['DESAPRUEBA'])], axis=1)\n",
        "\n",
        "tabla_smote= datos1_smote1['DESAPRUEBA'].value_counts(normalize=True).reset_index(name='prop')\n",
        "tabla_smote['prop'].iloc[0]/tabla_smote['prop'].iloc[1]"
      ],
      "metadata": {
        "id": "-s3TKewajRC1"
      },
      "execution_count": null,
      "outputs": []
    },
    {
      "cell_type": "code",
      "source": [
        "plot_dataframe(datos1_smote1)"
      ],
      "metadata": {
        "id": "sSsDkH5TjpV7"
      },
      "execution_count": null,
      "outputs": []
    },
    {
      "cell_type": "markdown",
      "source": [
        "# Oversampling + Undersampling"
      ],
      "metadata": {
        "id": "oxY7wpzSl6E7"
      }
    },
    {
      "cell_type": "markdown",
      "source": [
        "## Random Oversampling + Undersampling"
      ],
      "metadata": {
        "id": "UBV-vYMxl86H"
      }
    },
    {
      "cell_type": "code",
      "source": [
        "np.random.seed(9)\n",
        "count_classes = y.value_counts()\n",
        "target_size = int(count_classes.mean())\n",
        "\n",
        "ros = RandomOverSampler(sampling_strategy={count_classes.idxmin(): target_size})\n",
        "X_oversampled, y_oversampled = ros.fit_resample(X, y)\n",
        "rus = RandomUnderSampler(sampling_strategy={count_classes.idxmax(): target_size})\n",
        "X_balanced, y_balanced = rus.fit_resample(X_oversampled, y_oversampled)\n",
        "\n",
        "datos1_balanced = pd.concat([pd.DataFrame(X_balanced, columns=X.columns),\n",
        "                             pd.DataFrame(y_balanced, columns=['DESAPRUEBA'])], axis=1)\n",
        "\n",
        "tabla_balanced = datos1_balanced['DESAPRUEBA'].value_counts(normalize=True).reset_index(name='prop')\n",
        "tabla_balanced['prop'].iloc[0]/tabla_balanced['prop'].iloc[1]"
      ],
      "metadata": {
        "id": "DBq-MCwplkVp"
      },
      "execution_count": null,
      "outputs": []
    },
    {
      "cell_type": "code",
      "source": [
        "datos1_balanced['DESAPRUEBA'].value_counts()"
      ],
      "metadata": {
        "id": "xZ4FvW_fl0bF"
      },
      "execution_count": null,
      "outputs": []
    },
    {
      "cell_type": "code",
      "source": [
        "plot_dataframe(datos1_balanced)"
      ],
      "metadata": {
        "id": "yxifAeaVlvWj"
      },
      "execution_count": null,
      "outputs": []
    },
    {
      "cell_type": "markdown",
      "source": [
        "## SMOTE ENN"
      ],
      "metadata": {
        "id": "oJR76xGimB7g"
      }
    },
    {
      "cell_type": "code",
      "source": [
        "from imblearn.combine import SMOTETomek\n",
        "\n",
        "np.random.seed(9)\n",
        "smote_tomek = SMOTETomek(sampling_strategy = \"minority\")\n",
        "X_both, y_both = smote_tomek.fit_resample(X, y)\n",
        "\n",
        "datos1_both1 = pd.concat([pd.DataFrame(X_both, columns=X.columns),\n",
        "                          pd.DataFrame(y_both, columns=['DESAPRUEBA'])], axis=1)\n",
        "\n",
        "tabla_both = datos1_both1['DESAPRUEBA'].value_counts(normalize=True).reset_index(name='prop')\n",
        "tabla_both['prop'].iloc[0]/tabla_both['prop'].iloc[1]"
      ],
      "metadata": {
        "id": "FNRdhtQ3mDQE"
      },
      "execution_count": null,
      "outputs": []
    },
    {
      "cell_type": "code",
      "source": [
        "datos1_both1['DESAPRUEBA'].value_counts()"
      ],
      "metadata": {
        "id": "w6_gm1z0mUxn"
      },
      "execution_count": null,
      "outputs": []
    },
    {
      "cell_type": "code",
      "source": [
        "plot_dataframe(datos1_both1)"
      ],
      "metadata": {
        "id": "JrUaZaC-mR0D"
      },
      "execution_count": null,
      "outputs": []
    }
  ]
}