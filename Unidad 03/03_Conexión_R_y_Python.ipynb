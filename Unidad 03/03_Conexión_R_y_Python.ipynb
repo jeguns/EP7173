{
  "nbformat": 4,
  "nbformat_minor": 0,
  "metadata": {
    "colab": {
      "provenance": [],
      "authorship_tag": "ABX9TyMypVpYncDzEjQkUxXYrTY5",
      "include_colab_link": true
    },
    "kernelspec": {
      "name": "python3",
      "display_name": "Python 3"
    },
    "language_info": {
      "name": "python"
    }
  },
  "cells": [
    {
      "cell_type": "markdown",
      "metadata": {
        "id": "view-in-github",
        "colab_type": "text"
      },
      "source": [
        "<a href=\"https://colab.research.google.com/github/jeguns/EP7173/blob/main/Unidad%2003/03_Conexi%C3%B3n_R_y_Python.ipynb\" target=\"_parent\"><img src=\"https://colab.research.google.com/assets/colab-badge.svg\" alt=\"Open In Colab\"/></a>"
      ]
    },
    {
      "cell_type": "code",
      "source": [
        "pip install rpy2 &> /dev/null"
      ],
      "metadata": {
        "id": "f_Su4SVyl-4l"
      },
      "execution_count": null,
      "outputs": []
    },
    {
      "cell_type": "code",
      "source": [
        "import rpy2"
      ],
      "metadata": {
        "id": "Q59qSHoyIB3D"
      },
      "execution_count": null,
      "outputs": []
    },
    {
      "cell_type": "code",
      "source": [
        "print(rpy2.__version__)"
      ],
      "metadata": {
        "id": "bWtzkq3QH-6j"
      },
      "execution_count": null,
      "outputs": []
    },
    {
      "cell_type": "code",
      "source": [
        "# pip install pandas==1.5.3 &> /dev/null"
      ],
      "metadata": {
        "id": "R8ZOjGYiHJ1Y"
      },
      "execution_count": null,
      "outputs": []
    },
    {
      "cell_type": "code",
      "source": [
        "pip install pandas &> /dev/null"
      ],
      "metadata": {
        "id": "KQ584ki53xAG"
      },
      "execution_count": null,
      "outputs": []
    },
    {
      "cell_type": "code",
      "source": [
        "import pandas as pd"
      ],
      "metadata": {
        "id": "kbGcnqiuHda_"
      },
      "execution_count": null,
      "outputs": []
    },
    {
      "cell_type": "code",
      "source": [
        "print(pd.__version__)"
      ],
      "metadata": {
        "id": "zUSFlwtbHjGZ"
      },
      "execution_count": null,
      "outputs": []
    },
    {
      "cell_type": "markdown",
      "source": [
        "# **De Python a R**"
      ],
      "metadata": {
        "id": "eAs8abFIl43I"
      }
    },
    {
      "cell_type": "code",
      "execution_count": null,
      "metadata": {
        "id": "jhuaI-8PlrpL"
      },
      "outputs": [],
      "source": [
        "x_python = 1"
      ]
    },
    {
      "cell_type": "code",
      "source": [
        "%load_ext rpy2.ipython"
      ],
      "metadata": {
        "id": "eJAXzCyumCE_"
      },
      "execution_count": null,
      "outputs": []
    },
    {
      "cell_type": "code",
      "source": [
        "%R -i x_python # pasamos objeto de Python a R"
      ],
      "metadata": {
        "id": "30NvY4I6mDB-"
      },
      "execution_count": null,
      "outputs": []
    },
    {
      "cell_type": "code",
      "source": [
        "%R x_python + 50"
      ],
      "metadata": {
        "id": "XrpImGaSmF09"
      },
      "execution_count": null,
      "outputs": []
    },
    {
      "cell_type": "code",
      "source": [
        "%%R\n",
        "x_python + 50"
      ],
      "metadata": {
        "id": "3JbfXsGRmJRJ"
      },
      "execution_count": null,
      "outputs": []
    },
    {
      "cell_type": "code",
      "source": [
        "%%R\n",
        "(lxp = log10(x_python))"
      ],
      "metadata": {
        "id": "DdDahDkGmNtj"
      },
      "execution_count": null,
      "outputs": []
    },
    {
      "cell_type": "code",
      "source": [
        "%%R\n",
        "lxp + 3"
      ],
      "metadata": {
        "id": "EcyrBu1fmYlm"
      },
      "execution_count": null,
      "outputs": []
    },
    {
      "cell_type": "code",
      "source": [
        "%R x=seq(from = 1, to = 10, by = 0.5) + rnorm(19)\n",
        "%R plot(x)"
      ],
      "metadata": {
        "id": "axi5Pl3dm2e1"
      },
      "execution_count": null,
      "outputs": []
    },
    {
      "cell_type": "code",
      "source": [
        "%%R\n",
        "install.packages(\"dplyr\")\n",
        "library(dplyr)"
      ],
      "metadata": {
        "id": "E71gq1Sdntps"
      },
      "execution_count": null,
      "outputs": []
    },
    {
      "cell_type": "code",
      "source": [
        "data = {'Nombre': ['Juan', 'María', 'Pedro', 'Ana'],\n",
        "        'Edad'  : [25, 30, 35, 40],\n",
        "        'Ciudad': ['Lima', 'Cusco', 'Arequipa', 'Trujillo']}\n",
        "\n",
        "df = pd.DataFrame(data)\n",
        "df"
      ],
      "metadata": {
        "id": "Oo5lMklkCWCy"
      },
      "execution_count": null,
      "outputs": []
    },
    {
      "cell_type": "code",
      "source": [
        "%R -i df # pasamos objeto de Python a R"
      ],
      "metadata": {
        "id": "vfsDDOddEbWs"
      },
      "execution_count": null,
      "outputs": []
    },
    {
      "cell_type": "code",
      "source": [
        "%%R\n",
        "str(df)"
      ],
      "metadata": {
        "id": "ZP4mbP-UMAeB"
      },
      "execution_count": null,
      "outputs": []
    },
    {
      "cell_type": "code",
      "source": [
        "%%R\n",
        "df |> filter(Edad>30)"
      ],
      "metadata": {
        "id": "lXFzMuoaMK_Y"
      },
      "execution_count": null,
      "outputs": []
    },
    {
      "cell_type": "code",
      "source": [
        "%R df |> filter(Edad>30)"
      ],
      "metadata": {
        "id": "mxjlCAgiMCyr"
      },
      "execution_count": null,
      "outputs": []
    },
    {
      "cell_type": "markdown",
      "source": [
        "# **De R a Python**"
      ],
      "metadata": {
        "id": "iKWoRMLLmcmh"
      }
    },
    {
      "cell_type": "code",
      "source": [
        "%%R\n",
        "x_r = 3"
      ],
      "metadata": {
        "id": "TPdp_O84mfb-"
      },
      "execution_count": null,
      "outputs": []
    },
    {
      "cell_type": "code",
      "source": [
        "x_r"
      ],
      "metadata": {
        "id": "SQ7qSsOJQMzj"
      },
      "execution_count": null,
      "outputs": []
    },
    {
      "cell_type": "code",
      "source": [
        "%R -o x_r ### pasamos objeto de R a Python"
      ],
      "metadata": {
        "id": "PowBxp7tmjtq"
      },
      "execution_count": null,
      "outputs": []
    },
    {
      "cell_type": "code",
      "source": [
        "x_r"
      ],
      "metadata": {
        "id": "MOi_3UR0mr_b"
      },
      "execution_count": null,
      "outputs": []
    },
    {
      "cell_type": "code",
      "source": [
        "print(x_r)"
      ],
      "metadata": {
        "id": "rvj405VfmtH6"
      },
      "execution_count": null,
      "outputs": []
    },
    {
      "cell_type": "code",
      "source": [
        "x = %R x_r ### pasamos el objeto x_r a Python, almacenándolo en x"
      ],
      "metadata": {
        "id": "JKs3hG40mvRa"
      },
      "execution_count": null,
      "outputs": []
    },
    {
      "cell_type": "code",
      "source": [
        "print(x**2)"
      ],
      "metadata": {
        "id": "wGffHdLrmxQG"
      },
      "execution_count": null,
      "outputs": []
    }
  ]
}