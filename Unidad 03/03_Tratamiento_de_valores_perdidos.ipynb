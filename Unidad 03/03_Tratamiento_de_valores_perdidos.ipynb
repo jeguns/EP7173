{
  "nbformat": 4,
  "nbformat_minor": 0,
  "metadata": {
    "colab": {
      "provenance": [],
      "toc_visible": true,
      "authorship_tag": "ABX9TyPkqODzEq0grYSc9dQKPd1r",
      "include_colab_link": true
    },
    "kernelspec": {
      "name": "python3",
      "display_name": "Python 3"
    },
    "language_info": {
      "name": "python"
    }
  },
  "cells": [
    {
      "cell_type": "markdown",
      "metadata": {
        "id": "view-in-github",
        "colab_type": "text"
      },
      "source": [
        "<a href=\"https://colab.research.google.com/github/jeguns/EP7173/blob/main/Unidad%2003/03_Tratamiento_de_valores_perdidos.ipynb\" target=\"_parent\"><img src=\"https://colab.research.google.com/assets/colab-badge.svg\" alt=\"Open In Colab\"/></a>"
      ]
    },
    {
      "cell_type": "markdown",
      "source": [
        "### Paquetes"
      ],
      "metadata": {
        "id": "JhyE98W9lWmH"
      }
    },
    {
      "cell_type": "code",
      "source": [
        "#pip install rpy2 &> /dev/null"
      ],
      "metadata": {
        "id": "xYqiBA_Lmk6V"
      },
      "execution_count": null,
      "outputs": []
    },
    {
      "cell_type": "code",
      "source": [
        "#pip install pandas==1.5.3 &> /dev/null"
      ],
      "metadata": {
        "id": "B3o1HaRgmYVI"
      },
      "execution_count": null,
      "outputs": []
    },
    {
      "cell_type": "code",
      "source": [
        "#pip install fancyimpute &> /dev/null"
      ],
      "metadata": {
        "id": "mLiAzePlZkME"
      },
      "execution_count": null,
      "outputs": []
    },
    {
      "cell_type": "markdown",
      "source": [
        "### Lectura de datos"
      ],
      "metadata": {
        "id": "j5H4-Mmgld6_"
      }
    },
    {
      "cell_type": "markdown",
      "source": [
        "Los datos corresponden a la Encuesta Nacional de Hogares del año 2022, en específico de los hogares de la Costa Norte. Seleccionaremos solo algunas columnas de interés:\n",
        "\n",
        "- RESULT: Resultado Final de la Encuesta\n",
        "1. Completa\n",
        "2. Incompleta\n",
        "3. Rechazo\n",
        "4. Ausente\n",
        "5. Vivienda Desocupada\n",
        "6. No se Inició la Entrevista\n",
        "7. Otro\n",
        "\n",
        "- P24A: Las paredes exteriores de la vivienda tienen fachada: Con tarrajeo\n",
        "1. Total\n",
        "2. Parcial\n",
        "3. No está tarrajeada\n",
        "4. No corresponde\n",
        "\n",
        "- P24B: Las paredes exteriores de la vivienda tienen fachada:\n",
        "1. Totalmente\n",
        "2. Parcialmente\n",
        "3. Sin pintar\n",
        "\n",
        "- P101: Tipo de vivienda\n",
        "1. Casa independiente\n",
        "2. Departamento en edificio\n",
        "3. Vivienda en quinta\n",
        "4. Vivienda en casa de vecindad(callejón solar o corralón)\n",
        "5. Choza o cabaña\n",
        "6. Vivienda improvisada\n",
        "7. Local no destinado para habitación humana\n",
        "8. Otro\n",
        "\n",
        "- P102: El material predominante en las paredes exteriores es:\n",
        "1. Ladrillo o bloque de cemento\n",
        "2. Piedra o sillar con cal o cemento\n",
        "3. Adobe\n",
        "4. Tapia\n",
        "5. Quincha (caña con barro)\n",
        "6. Piedra con barro\n",
        "7. Madera (pona, tornillo, etc)\n",
        "8. Triplay/calamina/estera\n",
        "9. Otro material\n",
        "\n",
        "- P104: ¿Cuántas habitaciones en total tiene la vivienda, sin contar el baño,la cocina, los pasadizos, ni el garage?\n",
        "\n",
        "- P105A: La vivienda que ocupa su hogar es:\n",
        "1. Alquilada\n",
        "2. Propia, totalmente pagada\n",
        "3. Propia, por invasión\n",
        "4. Propia, comprándola a plazos\n",
        "5. Cedida por el centro de trabajo\n",
        "6. Cedida por otro hogar o institución\n",
        "7. Otra forma\n",
        "\n",
        "- P106: ¿Cuánto cree que le pagarían de alquiler mensual (en S/.) ?\n",
        "\n",
        "- D106: (Deflactado, mensualizado) ¿Cuánto cree que le pagarían de alquiler mensual?\n",
        "\n",
        "- I106: (Imputado, deflactado, mensualizado) ¿Cuánto cree que le pagarían de alquiler mensual?"
      ],
      "metadata": {
        "id": "M1awqXWXQyo9"
      }
    },
    {
      "cell_type": "code",
      "execution_count": null,
      "metadata": {
        "id": "fdjcTJAqa5B0"
      },
      "outputs": [],
      "source": [
        "import pandas as pd"
      ]
    },
    {
      "cell_type": "code",
      "source": [
        "pd.set_option('display.max_columns', None)"
      ],
      "metadata": {
        "id": "U6SLEhHsHykE"
      },
      "execution_count": null,
      "outputs": []
    },
    {
      "cell_type": "code",
      "source": [
        "df_0 = pd.read_csv('03 - enaho1_costanorte.csv',encoding='latin-1', na_values = [99999,999999,'99999','999999',' ','  ','   '])\n",
        "df_0.head()"
      ],
      "metadata": {
        "id": "pSuIRF53bFC9"
      },
      "execution_count": null,
      "outputs": []
    },
    {
      "cell_type": "markdown",
      "source": [
        "### Preprocesamiento"
      ],
      "metadata": {
        "id": "JGRVGpqRllvG"
      }
    },
    {
      "cell_type": "code",
      "source": [
        "df_1 = df_0[((df_0['RESULT'] == 1) | (df_0['RESULT'] == 2))& (df_0['P105A'] != 1)][['P24A','P24B','P101','P102','P104','P105A','P106','D106','I106']].reset_index(drop = True)\n",
        "df_1.head()"
      ],
      "metadata": {
        "id": "gUSBxzr3iwgQ"
      },
      "execution_count": null,
      "outputs": []
    },
    {
      "cell_type": "code",
      "source": [
        "nuevos_nombres = {'P24A':'PARED_TARRAJEO', 'P24B':'PARED_PINTURA',\n",
        "                  'P101':'TIPO_VIVIENDA', 'P102': 'MATERIAL_PARED',\n",
        "                  'P104':'NUMHAB', 'P105A': 'VIVIENDA',\n",
        "                  'P106':'VALOR_ALQ', 'D106':'VALOR_ALQ_DEF','I106':'VALOR_ALQ_DEF_IMP'}\n",
        "df_1.rename(columns=nuevos_nombres, inplace=True)\n",
        "df_1.info()"
      ],
      "metadata": {
        "id": "k_bhuTb3t0QV"
      },
      "execution_count": null,
      "outputs": []
    },
    {
      "cell_type": "markdown",
      "source": [
        "### Identificación de valores perdidos\n",
        "\n"
      ],
      "metadata": {
        "id": "JS4VW2hFlsv8"
      }
    },
    {
      "cell_type": "markdown",
      "source": [
        "#### Exploración"
      ],
      "metadata": {
        "id": "lkRPIwmin9nM"
      }
    },
    {
      "cell_type": "code",
      "source": [
        "df_1.isnull().sum()"
      ],
      "metadata": {
        "id": "azCYZ1zMnZl6"
      },
      "execution_count": null,
      "outputs": []
    },
    {
      "cell_type": "code",
      "source": [
        "col_str = ['PARED_TARRAJEO', 'PARED_PINTURA', 'TIPO_VIVIENDA', 'MATERIAL_PARED','VIVIENDA']\n",
        "df_1[col_str] = df_1[col_str].astype(str)\n",
        "df_1.head(20)"
      ],
      "metadata": {
        "id": "qrm_UtooI7mO"
      },
      "execution_count": null,
      "outputs": []
    },
    {
      "cell_type": "code",
      "source": [
        "df_1.isnull().sum()"
      ],
      "metadata": {
        "id": "mW3_E_DBnMrr"
      },
      "execution_count": null,
      "outputs": []
    },
    {
      "cell_type": "code",
      "source": [
        "import numpy as np\n",
        "df_1 = df_1.replace(['nan', 'null'], np.nan)"
      ],
      "metadata": {
        "id": "2-9dQVoknCbw"
      },
      "execution_count": null,
      "outputs": []
    },
    {
      "cell_type": "code",
      "source": [
        "df_1.isnull().sum()"
      ],
      "metadata": {
        "id": "Kq6VDkzyqSbe"
      },
      "execution_count": null,
      "outputs": []
    },
    {
      "cell_type": "code",
      "source": [
        "import missingno as msno\n",
        "import matplotlib.pyplot as plt\n",
        "msno.bar(df_1, figsize=(15,7), fontsize=12, color='steelblue')\n",
        "plt.title('Frecuencia de valores completos en el dataset', fontsize=16)\n",
        "plt.show()"
      ],
      "metadata": {
        "id": "8jKMpQnLqhaP"
      },
      "execution_count": null,
      "outputs": []
    },
    {
      "cell_type": "code",
      "source": [
        "msno.matrix(df_1) # permite ver los missings como espacios en blanco\n",
        "plt.title('Ubicación de los valores perdidos en el dataset', fontsize=16)\n",
        "plt.show()"
      ],
      "metadata": {
        "id": "5AuSxIcUqkKS"
      },
      "execution_count": null,
      "outputs": []
    },
    {
      "cell_type": "code",
      "source": [
        "msno.dendrogram(df_1)\n",
        "plt.title('Valores perdidos en el dataset', fontsize=16)\n",
        "plt.show()"
      ],
      "metadata": {
        "id": "WfpjvHlAqo1q"
      },
      "execution_count": null,
      "outputs": []
    },
    {
      "cell_type": "code",
      "source": [
        "msno.heatmap(df_1)\n",
        "plt.title('Asociación de pérdida de valores', fontsize=16)\n",
        "plt.show()"
      ],
      "metadata": {
        "id": "RefyVGNzqsCZ"
      },
      "execution_count": null,
      "outputs": []
    },
    {
      "cell_type": "code",
      "source": [
        "%load_ext rpy2.ipython"
      ],
      "metadata": {
        "id": "gAP9mT4rqw0Y"
      },
      "execution_count": null,
      "outputs": []
    },
    {
      "cell_type": "code",
      "source": [
        "%R -i df_1"
      ],
      "metadata": {
        "id": "dDukU6SOq0ty"
      },
      "execution_count": null,
      "outputs": []
    },
    {
      "cell_type": "code",
      "source": [
        "%R df_1 |> head()"
      ],
      "metadata": {
        "id": "4nA4EYp9riqy"
      },
      "execution_count": null,
      "outputs": []
    },
    {
      "cell_type": "code",
      "source": [
        "%R install.packages(\"naniar\")"
      ],
      "metadata": {
        "id": "mNAa0e_rrl6n"
      },
      "execution_count": null,
      "outputs": []
    },
    {
      "cell_type": "code",
      "source": [
        "%%R\n",
        "library(naniar)\n",
        "library(dplyr)\n",
        "df_1 |> gg_miss_upset()"
      ],
      "metadata": {
        "id": "VeAPHQAfrrll"
      },
      "execution_count": null,
      "outputs": []
    },
    {
      "cell_type": "markdown",
      "source": [
        "#### Mecanismos"
      ],
      "metadata": {
        "id": "l__Q768ul1I1"
      }
    },
    {
      "cell_type": "code",
      "source": [
        "df_1[df_1['NUMHAB'].isnull()].describe(include=['object']), df_1[df_1['NUMHAB'].notnull()].describe(include=['object'])"
      ],
      "metadata": {
        "id": "Adx7WEXiGayf"
      },
      "execution_count": null,
      "outputs": []
    },
    {
      "cell_type": "code",
      "source": [
        "df_1[df_1['NUMHAB'].isnull()].describe(include=['number']), df_1[df_1['NUMHAB'].notnull()].describe(include=['number'])"
      ],
      "metadata": {
        "id": "uR3Q2ERAw3FO"
      },
      "execution_count": null,
      "outputs": []
    },
    {
      "cell_type": "code",
      "source": [
        "df_1[df_1['VALOR_ALQ_DEF'].isnull()].describe(include=['object']), df_1[df_1['VALOR_ALQ_DEF'].notnull()].describe(include=['object'])"
      ],
      "metadata": {
        "id": "HDaBRLO1MUkv"
      },
      "execution_count": null,
      "outputs": []
    },
    {
      "cell_type": "code",
      "source": [
        "df_1[df_1['VALOR_ALQ_DEF'].isnull()].describe(include=['number']),df_1[df_1['VALOR_ALQ_DEF'].notnull()].describe(include=['number'])"
      ],
      "metadata": {
        "id": "3j0F0sQ7MbHO"
      },
      "execution_count": null,
      "outputs": []
    },
    {
      "cell_type": "code",
      "source": [
        "%%R\n",
        "table(as_shadow(df_1)$NUMHAB_NA, df_1$VIVIENDA)"
      ],
      "metadata": {
        "id": "n2HNp97oyxHv"
      },
      "execution_count": null,
      "outputs": []
    },
    {
      "cell_type": "code",
      "source": [
        "%%R\n",
        "table(as_shadow(df_1)$NUMHAB_NA, df_1$VIVIENDA) |> chisq.test()"
      ],
      "metadata": {
        "id": "EnW1pUj-yeld"
      },
      "execution_count": null,
      "outputs": []
    },
    {
      "cell_type": "code",
      "source": [
        "%%R\n",
        "table(as_shadow(df_1)$VALOR_ALQ_DEF_NA, df_1$VIVIENDA)"
      ],
      "metadata": {
        "id": "7bBCAOcHy2zB"
      },
      "execution_count": null,
      "outputs": []
    },
    {
      "cell_type": "code",
      "source": [
        "%%R\n",
        "table(as_shadow(df_1)$VALOR_ALQ_DEF_NA, df_1$VIVIENDA) |> chisq.test()"
      ],
      "metadata": {
        "id": "gY9r2jDiy9RT"
      },
      "execution_count": null,
      "outputs": []
    },
    {
      "cell_type": "code",
      "source": [
        "%%R\n",
        "table(as_shadow(df_1)$VALOR_ALQ_DEF_NA, df_1$PARED_TARRAJEO)"
      ],
      "metadata": {
        "id": "-CEmqRUqMMC1"
      },
      "execution_count": null,
      "outputs": []
    },
    {
      "cell_type": "code",
      "source": [
        "%%R\n",
        "table(as_shadow(df_1)$VALOR_ALQ_DEF_NA, df_1$PARED_TARRAJEO) |> chisq.test()"
      ],
      "metadata": {
        "id": "R0ziZ8qxy_Fu"
      },
      "execution_count": null,
      "outputs": []
    },
    {
      "cell_type": "code",
      "source": [
        "%%R\n",
        "df_1 |> mcar_test()"
      ],
      "metadata": {
        "id": "cvKYmSQhOWXY"
      },
      "execution_count": null,
      "outputs": []
    },
    {
      "cell_type": "markdown",
      "source": [
        "### Eliminación de datos perdidos"
      ],
      "metadata": {
        "id": "1h0ZLHyZot9P"
      }
    },
    {
      "cell_type": "code",
      "source": [
        "df_1.dropna(axis=0).info() # axis = 0 elimina filas que tienen al menos un valor perdido (eliminación listwise)"
      ],
      "metadata": {
        "id": "6Y3RgmiFOclg"
      },
      "execution_count": null,
      "outputs": []
    },
    {
      "cell_type": "code",
      "source": [
        "df_1.dropna(axis=1).info() # axis = 1 elimina columnas que tienen al menos un valor perdido"
      ],
      "metadata": {
        "id": "KnvUbDDcPG_x"
      },
      "execution_count": null,
      "outputs": []
    },
    {
      "cell_type": "code",
      "source": [
        "df_1.dropna(axis = 0, how='all').info() # Siempre que toda la fila (axis=0) o columna (axis=1) esté ausente"
      ],
      "metadata": {
        "id": "Oj0_2uxwOhJK"
      },
      "execution_count": null,
      "outputs": []
    },
    {
      "cell_type": "code",
      "source": [
        "df_1.dropna(axis = 0, thresh = 3).info() # umbral mínimo de valores completos, debe tener 3 o más valores completos por fila (axis=0) o por columna (axis=1)"
      ],
      "metadata": {
        "id": "8mhIMFHWPPzQ"
      },
      "execution_count": null,
      "outputs": []
    },
    {
      "cell_type": "code",
      "source": [
        "df_1.dropna(axis = 0, thresh = 7).info() # umbral mínimo de valores completos, solo considerará las filas con 13 o más valores completos"
      ],
      "metadata": {
        "id": "JJz9DCZiPTdt"
      },
      "execution_count": null,
      "outputs": []
    },
    {
      "cell_type": "markdown",
      "source": [
        "### Imputación"
      ],
      "metadata": {
        "id": "zcPpZ3wRo5Id"
      }
    },
    {
      "cell_type": "markdown",
      "source": [
        "#### Hot Deck"
      ],
      "metadata": {
        "id": "qbEWnXExo6z-"
      }
    },
    {
      "cell_type": "code",
      "source": [
        "df_1_hotdeck1 = df_1.fillna(method='bfill') # backward fill\n",
        "df_1_hotdeck1.info()"
      ],
      "metadata": {
        "id": "IiZpBmF7PW69"
      },
      "execution_count": null,
      "outputs": []
    },
    {
      "cell_type": "code",
      "source": [
        "df_1_hotdeck1[['VALOR_ALQ','VALOR_ALQ_DEF','VALOR_ALQ_DEF_IMP']].describe()"
      ],
      "metadata": {
        "id": "6PXlFe67PoFo"
      },
      "execution_count": null,
      "outputs": []
    },
    {
      "cell_type": "code",
      "source": [
        "df_1.iloc[14:21]"
      ],
      "metadata": {
        "id": "TPtwPpFWQAl-"
      },
      "execution_count": null,
      "outputs": []
    },
    {
      "cell_type": "code",
      "source": [
        "df_1_hotdeck1.iloc[14:21]"
      ],
      "metadata": {
        "id": "f-uGyPb9P06I"
      },
      "execution_count": null,
      "outputs": []
    },
    {
      "cell_type": "code",
      "source": [
        "df_1_hotdeck2 = df_1.fillna(method='ffill') # forward fill\n",
        "df_1_hotdeck2.info()"
      ],
      "metadata": {
        "id": "qCaYxUgpPdN3"
      },
      "execution_count": null,
      "outputs": []
    },
    {
      "cell_type": "code",
      "source": [
        "df_1_hotdeck2[['VALOR_ALQ','VALOR_ALQ_DEF','VALOR_ALQ_DEF_IMP']].describe()"
      ],
      "metadata": {
        "id": "bqBZ7n-8PtHW"
      },
      "execution_count": null,
      "outputs": []
    },
    {
      "cell_type": "code",
      "source": [
        "df_1_hotdeck2.iloc[14:21]"
      ],
      "metadata": {
        "id": "Yehjx6ClRP_R"
      },
      "execution_count": null,
      "outputs": []
    },
    {
      "cell_type": "markdown",
      "source": [
        "#### Imputación por la media"
      ],
      "metadata": {
        "id": "pW_34y41pRL_"
      }
    },
    {
      "cell_type": "code",
      "source": [
        "df_1.iloc[[15,27, 140, 2746]]# datos originales"
      ],
      "metadata": {
        "id": "y71GqOsfpims"
      },
      "execution_count": null,
      "outputs": []
    },
    {
      "cell_type": "code",
      "source": [
        "df_1_media = df_1.copy()\n",
        "df_1_media[['NUMHAB','VALOR_ALQ','VALOR_ALQ_DEF']] = df_1_media[['NUMHAB','VALOR_ALQ','VALOR_ALQ_DEF']].fillna(df_1.mean(numeric_only=True))\n",
        "df_1_media.iloc[[15,27, 140, 2746]] # datos imputados"
      ],
      "metadata": {
        "id": "cQ42paNpRYV-"
      },
      "execution_count": null,
      "outputs": []
    },
    {
      "cell_type": "code",
      "source": [
        "df_1_media[['VALOR_ALQ','VALOR_ALQ_DEF','VALOR_ALQ_DEF_IMP']].describe()"
      ],
      "metadata": {
        "id": "IvL0aDwKSJpo"
      },
      "execution_count": null,
      "outputs": []
    },
    {
      "cell_type": "markdown",
      "source": [
        "#### Imputación por la mediana"
      ],
      "metadata": {
        "id": "13vzwuyDpqIR"
      }
    },
    {
      "cell_type": "code",
      "source": [
        "df_1.iloc[[15,27, 140, 2746]] # datos originales"
      ],
      "metadata": {
        "id": "ZSGLgy8gpxCx"
      },
      "execution_count": null,
      "outputs": []
    },
    {
      "cell_type": "code",
      "source": [
        "df_1_mediana = df_1.copy()\n",
        "df_1_mediana[['NUMHAB','VALOR_ALQ','VALOR_ALQ_DEF']] = df_1[['NUMHAB','VALOR_ALQ','VALOR_ALQ_DEF']].fillna(df_1.median())\n",
        "df_1_mediana.iloc[[15,27, 140, 2746]] # datos imputados"
      ],
      "metadata": {
        "id": "o5EgyDjkSCWm"
      },
      "execution_count": null,
      "outputs": []
    },
    {
      "cell_type": "code",
      "source": [
        "df_1_mediana[['VALOR_ALQ','VALOR_ALQ_DEF','VALOR_ALQ_DEF_IMP']].describe()"
      ],
      "metadata": {
        "id": "Gg3rZpC6W-Hn"
      },
      "execution_count": null,
      "outputs": []
    },
    {
      "cell_type": "markdown",
      "source": [
        "#### Imputación por la moda"
      ],
      "metadata": {
        "id": "FqOtGV2Rp0zz"
      }
    },
    {
      "cell_type": "code",
      "source": [
        "df_1.iloc[[15,32,4039]] # datos originales"
      ],
      "metadata": {
        "id": "Zw36SQa1Tgfa"
      },
      "execution_count": null,
      "outputs": []
    },
    {
      "cell_type": "code",
      "source": [
        "df_1_moda = df_1.copy()\n",
        "df_1_moda[['TIPO_VIVIENDA', 'MATERIAL_PARED']] = df_1[['TIPO_VIVIENDA', 'MATERIAL_PARED']].fillna(df_1.mode().iloc[0])\n",
        "df_1_moda.iloc[[15,32,4039]] # datos imputados"
      ],
      "metadata": {
        "id": "09C4837JU3Ld"
      },
      "execution_count": null,
      "outputs": []
    },
    {
      "cell_type": "markdown",
      "source": [
        "#### Imputación por interpolación\n",
        "\n",
        "\n",
        "\n"
      ],
      "metadata": {
        "id": "HlIaKOlrp6vn"
      }
    },
    {
      "cell_type": "code",
      "source": [
        "df_1.iloc[[15,27, 140, 2746]] # datos originales"
      ],
      "metadata": {
        "id": "fMthaaLDq7m0"
      },
      "execution_count": null,
      "outputs": []
    },
    {
      "cell_type": "code",
      "source": [
        "df_1_interp1 = df_1.copy()\n",
        "df_1_interp1['NUMHAB'] = df_1['NUMHAB'].interpolate(method='linear')\n",
        "df_1_interp1['VALOR_ALQ_DEF'] = df_1['VALOR_ALQ_DEF'].interpolate(method='linear')\n",
        "df_1_interp1['VALOR_ALQ'] = df_1['VALOR_ALQ'].interpolate(method='linear')\n",
        "df_1_interp1.iloc[[15,27, 140, 2746]] # con interpolación"
      ],
      "metadata": {
        "id": "0FwzQ8-oVG9V"
      },
      "execution_count": null,
      "outputs": []
    },
    {
      "cell_type": "code",
      "source": [
        "df_1_interp1[['VALOR_ALQ','VALOR_ALQ_DEF','VALOR_ALQ_DEF_IMP']].describe()"
      ],
      "metadata": {
        "id": "-y9s-8HtWAE4"
      },
      "execution_count": null,
      "outputs": []
    },
    {
      "cell_type": "code",
      "source": [
        "df_1_interp2 = df_1.copy()\n",
        "df_1_interp2['NUMHAB'] = df_1['NUMHAB'].interpolate(method='quadratic')\n",
        "df_1_interp2['VALOR_ALQ_DEF'] = df_1['VALOR_ALQ_DEF'].interpolate(method='quadratic')\n",
        "df_1_interp2['VALOR_ALQ'] = df_1['VALOR_ALQ'].interpolate(method='quadratic')\n",
        "df_1_interp2.iloc[[15,27, 140, 2746]] # con interpolación"
      ],
      "metadata": {
        "id": "QXvSBYgnXH4Q"
      },
      "execution_count": null,
      "outputs": []
    },
    {
      "cell_type": "code",
      "source": [
        "df_1_interp2[['VALOR_ALQ','VALOR_ALQ_DEF','VALOR_ALQ_DEF_IMP']].describe()"
      ],
      "metadata": {
        "id": "05oyPcoZXNyo"
      },
      "execution_count": null,
      "outputs": []
    },
    {
      "cell_type": "markdown",
      "source": [
        "#### Imputación por regresión\n"
      ],
      "metadata": {
        "id": "TsaUTpzbrNoE"
      }
    },
    {
      "cell_type": "code",
      "source": [
        "df_2 = pd.get_dummies(df_1, columns = ['PARED_TARRAJEO', 'PARED_PINTURA', 'TIPO_VIVIENDA', 'MATERIAL_PARED'])\n",
        "df_2.info()"
      ],
      "metadata": {
        "id": "doAfQtOkXjyp"
      },
      "execution_count": null,
      "outputs": []
    },
    {
      "cell_type": "code",
      "source": [
        "new_columns = [col.replace('.0', '') for col in df_2.columns]\n",
        "df_2.columns = new_columns\n",
        "df_2 = df_2.drop('VALOR_ALQ_DEF_IMP', axis=1)\n",
        "df_2.head()"
      ],
      "metadata": {
        "id": "Zfm6wH04XmCY"
      },
      "execution_count": null,
      "outputs": []
    },
    {
      "cell_type": "code",
      "source": [
        "df_1.iloc[[15,27, 32,140, 2746, 4039]][['NUMHAB','VALOR_ALQ','VALOR_ALQ_DEF','VALOR_ALQ_DEF_IMP']]"
      ],
      "metadata": {
        "id": "yVvPqReerVwG"
      },
      "execution_count": null,
      "outputs": []
    },
    {
      "cell_type": "code",
      "source": [
        "from sklearn.linear_model import LinearRegression\n",
        "from sklearn.experimental import enable_iterative_imputer\n",
        "from sklearn.impute import IterativeImputer\n",
        "model   = LinearRegression() # definimos la regresión\n",
        "imputer = IterativeImputer(estimator=model) # definimos el mecanismo de imputación basado en el modelo de regresión\n",
        "df_2_regre = pd.DataFrame(imputer.fit_transform(df_2)) # aplicamos el mecanismo de imputación\n",
        "df_2_regre.columns = df_2.columns # el data frame imputado pasa a tener los mismos nombres de columna que el df original"
      ],
      "metadata": {
        "id": "EhTkz6D5Xtqn"
      },
      "execution_count": null,
      "outputs": []
    },
    {
      "cell_type": "code",
      "source": [
        "df_2_regre.iloc[[15,27, 32,140, 2746, 4039]][['NUMHAB','VALOR_ALQ','VALOR_ALQ_DEF']]"
      ],
      "metadata": {
        "id": "yoyiHiWwX_ws"
      },
      "execution_count": null,
      "outputs": []
    },
    {
      "cell_type": "code",
      "source": [
        "df_1[['VALOR_ALQ_DEF_IMP']].describe()"
      ],
      "metadata": {
        "id": "CSs0d48jYzLi"
      },
      "execution_count": null,
      "outputs": []
    },
    {
      "cell_type": "code",
      "source": [
        "df_2_regre[['NUMHAB','VALOR_ALQ','VALOR_ALQ_DEF']].describe()"
      ],
      "metadata": {
        "id": "h_HlGK6KY4yy"
      },
      "execution_count": null,
      "outputs": []
    },
    {
      "cell_type": "markdown",
      "source": [
        "#### Imputación por verosimilitud\n"
      ],
      "metadata": {
        "id": "E2mEJxmzrmuj"
      }
    },
    {
      "cell_type": "code",
      "source": [
        "df_1.iloc[[15,27, 32,140, 2746, 4039]][['NUMHAB','VALOR_ALQ','VALOR_ALQ_DEF','VALOR_ALQ_DEF_IMP']]"
      ],
      "metadata": {
        "id": "tCqVb8RhsAC2"
      },
      "execution_count": null,
      "outputs": []
    },
    {
      "cell_type": "code",
      "source": [
        "from fancyimpute import IterativeImputer\n",
        "\n",
        "imp_vero   = IterativeImputer() # definimos el mecanismo de imputación\n",
        "df_2_vero = pd.DataFrame(imp_vero.fit_transform(df_2), columns = df_2.columns) # aplicamos el mecanismo de imputación\n",
        "df_2_vero.iloc[[15,27, 32,140, 2746, 4039]][['NUMHAB','VALOR_ALQ','VALOR_ALQ_DEF']]"
      ],
      "metadata": {
        "id": "4vBoJm2NZbA5"
      },
      "execution_count": null,
      "outputs": []
    },
    {
      "cell_type": "code",
      "source": [
        "df_1[['VALOR_ALQ_DEF_IMP']].describe()"
      ],
      "metadata": {
        "id": "prfFtVjYrxRC"
      },
      "execution_count": null,
      "outputs": []
    },
    {
      "cell_type": "code",
      "source": [
        "df_2_vero[['NUMHAB','VALOR_ALQ','VALOR_ALQ_DEF']].describe()"
      ],
      "metadata": {
        "id": "aB0v4m4Jrzb6"
      },
      "execution_count": null,
      "outputs": []
    },
    {
      "cell_type": "markdown",
      "source": [
        "#### Imputación por KNN\n"
      ],
      "metadata": {
        "id": "2PbAkDOosPSG"
      }
    },
    {
      "cell_type": "code",
      "source": [
        "df_1.iloc[[15,27, 32,140, 2746, 4039]][['NUMHAB','VALOR_ALQ','VALOR_ALQ_DEF','VALOR_ALQ_DEF_IMP']]"
      ],
      "metadata": {
        "id": "6crHgMCZsahF"
      },
      "execution_count": null,
      "outputs": []
    },
    {
      "cell_type": "code",
      "source": [
        "from sklearn.neighbors import KNeighborsRegressor\n",
        "\n",
        "imp_knn = IterativeImputer(estimator = KNeighborsRegressor()) # Define el mecanismo de imputación\n",
        "imp_knn.fit(df_2) # aplica el mecanismo de imputación\n",
        "df_2_knn = pd.DataFrame(imp_knn.transform(df_2), columns = df_2.columns) # contruye el data frame con los valores imputados\n",
        "df_2_knn.iloc[[15,27, 32,140, 2746, 4039]][['NUMHAB','VALOR_ALQ','VALOR_ALQ_DEF']]"
      ],
      "metadata": {
        "id": "4W0jx01EsP-D"
      },
      "execution_count": null,
      "outputs": []
    },
    {
      "cell_type": "code",
      "source": [
        "df_1[['VALOR_ALQ_DEF_IMP']].describe()"
      ],
      "metadata": {
        "id": "mFpwfJrmsl2g"
      },
      "execution_count": null,
      "outputs": []
    },
    {
      "cell_type": "code",
      "source": [
        "df_2_knn[['NUMHAB','VALOR_ALQ','VALOR_ALQ_DEF']].describe()"
      ],
      "metadata": {
        "id": "0LV_YuqIsnoe"
      },
      "execution_count": null,
      "outputs": []
    },
    {
      "cell_type": "markdown",
      "source": [
        "#### Imputación mediante KNN ponderado"
      ],
      "metadata": {
        "id": "c8uOx7_ysyJH"
      }
    },
    {
      "cell_type": "code",
      "source": [
        "df_1.iloc[[15,27, 32,140, 2746, 4039]][['NUMHAB','VALOR_ALQ','VALOR_ALQ_DEF','VALOR_ALQ_DEF_IMP']]"
      ],
      "metadata": {
        "id": "vP7iXReLs08i"
      },
      "execution_count": null,
      "outputs": []
    },
    {
      "cell_type": "code",
      "source": [
        "from sklearn.neighbors import KNeighborsRegressor\n",
        "\n",
        "imp_knnw = IterativeImputer(estimator = KNeighborsRegressor(weights='distance')) # Se añade la distancia como peso (más distancia, menos peso, y viceversa)\n",
        "imp_knnw.fit(df_2)\n",
        "df_2_knnw = pd.DataFrame(imp_knnw.transform(df_2), columns = df_2.columns)\n",
        "df_2_knnw.iloc[[15,27, 32,140, 2746, 4039]][['NUMHAB','VALOR_ALQ','VALOR_ALQ_DEF']]"
      ],
      "metadata": {
        "id": "HY9Bjbd4sxbG"
      },
      "execution_count": null,
      "outputs": []
    },
    {
      "cell_type": "code",
      "source": [
        "df_1[['VALOR_ALQ_DEF_IMP']].describe()"
      ],
      "metadata": {
        "id": "x-62nD8Ls6Wo"
      },
      "execution_count": null,
      "outputs": []
    },
    {
      "cell_type": "code",
      "source": [
        "df_2_knnw[['NUMHAB','VALOR_ALQ','VALOR_ALQ_DEF']].describe()"
      ],
      "metadata": {
        "id": "0pQXUva1s_-a"
      },
      "execution_count": null,
      "outputs": []
    },
    {
      "cell_type": "markdown",
      "source": [
        "#### Imputación mediante Regresión Ridge Bayesiana"
      ],
      "metadata": {
        "id": "fk2Z7yv3tFPj"
      }
    },
    {
      "cell_type": "code",
      "source": [
        "df_1.iloc[[15,27, 32,140, 2746, 4039]][['NUMHAB','VALOR_ALQ','VALOR_ALQ_DEF','VALOR_ALQ_DEF_IMP']]"
      ],
      "metadata": {
        "id": "syWpuUkStJ8R"
      },
      "execution_count": null,
      "outputs": []
    },
    {
      "cell_type": "code",
      "source": [
        "from sklearn.linear_model import BayesianRidge\n",
        "\n",
        "imp_bridge = IterativeImputer(estimator = BayesianRidge()) ##### esta línea de código es la que cambia respecto a las anteriores\n",
        "imp_bridge.fit(df_2)\n",
        "df_2_br = pd.DataFrame(imp_bridge.transform(df_2), columns = df_2.columns)\n",
        "df_2_br.iloc[[15,27, 32,140, 2746, 4039]][['NUMHAB','VALOR_ALQ','VALOR_ALQ_DEF']]"
      ],
      "metadata": {
        "id": "DPZXJUoXtIZf"
      },
      "execution_count": null,
      "outputs": []
    },
    {
      "cell_type": "code",
      "source": [
        "df_1[['VALOR_ALQ_DEF_IMP']].describe()"
      ],
      "metadata": {
        "id": "pCs6wnmMtS_w"
      },
      "execution_count": null,
      "outputs": []
    },
    {
      "cell_type": "code",
      "source": [
        "df_2_br[['NUMHAB','VALOR_ALQ','VALOR_ALQ_DEF']].describe()"
      ],
      "metadata": {
        "id": "nHMebwjvtUeI"
      },
      "execution_count": null,
      "outputs": []
    },
    {
      "cell_type": "markdown",
      "source": [
        "#### Multiple Imputation by Chained Equations (MICE)"
      ],
      "metadata": {
        "id": "u0TIY4_Atb-w"
      }
    },
    {
      "cell_type": "code",
      "source": [
        "df_1.iloc[[15,27, 32,140, 2746, 4039]][['NUMHAB','VALOR_ALQ','VALOR_ALQ_DEF','VALOR_ALQ_DEF_IMP']]"
      ],
      "metadata": {
        "id": "13IJMd1utnuw"
      },
      "execution_count": null,
      "outputs": []
    },
    {
      "cell_type": "code",
      "source": [
        "imp_mice = IterativeImputer(random_state=100, max_iter=10)\n",
        "imp_mice.fit(df_2)\n",
        "df_2_mice = pd.DataFrame(imp_mice.transform(df_2), columns = df_2.columns)\n",
        "df_2_mice = imputer.transform(df_2_mice)\n",
        "df_2_mice = pd.DataFrame(df_2_mice, columns = df_2.columns)\n",
        "df_2_mice.iloc[[15,27, 32,140, 2746, 4039]][['NUMHAB','VALOR_ALQ','VALOR_ALQ_DEF']]"
      ],
      "metadata": {
        "id": "FyMlChOztftF"
      },
      "execution_count": null,
      "outputs": []
    },
    {
      "cell_type": "code",
      "source": [
        "df_1[['VALOR_ALQ_DEF_IMP']].describe()"
      ],
      "metadata": {
        "id": "BEhLXspMttHv"
      },
      "execution_count": null,
      "outputs": []
    },
    {
      "cell_type": "code",
      "source": [
        "df_2_mice[['NUMHAB','VALOR_ALQ','VALOR_ALQ_DEF']].describe()"
      ],
      "metadata": {
        "id": "NnlZvCcRtudz"
      },
      "execution_count": null,
      "outputs": []
    }
  ]
}