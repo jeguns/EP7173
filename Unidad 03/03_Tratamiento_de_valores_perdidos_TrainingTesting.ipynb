{
  "nbformat": 4,
  "nbformat_minor": 0,
  "metadata": {
    "colab": {
      "provenance": [],
      "authorship_tag": "ABX9TyO5OfgqO6+mNucUi+X4xVrW",
      "include_colab_link": true
    },
    "kernelspec": {
      "name": "python3",
      "display_name": "Python 3"
    },
    "language_info": {
      "name": "python"
    }
  },
  "cells": [
    {
      "cell_type": "markdown",
      "metadata": {
        "id": "view-in-github",
        "colab_type": "text"
      },
      "source": [
        "<a href=\"https://colab.research.google.com/github/jeguns/EP7173/blob/main/Unidad%2003/03_Tratamiento_de_valores_perdidos_TrainingTesting.ipynb\" target=\"_parent\"><img src=\"https://colab.research.google.com/assets/colab-badge.svg\" alt=\"Open In Colab\"/></a>"
      ]
    },
    {
      "cell_type": "code",
      "source": [
        "pip install fancyimpute &> /dev/null"
      ],
      "metadata": {
        "id": "UwOegdSGhmBg"
      },
      "execution_count": null,
      "outputs": []
    },
    {
      "cell_type": "code",
      "execution_count": null,
      "metadata": {
        "id": "YL-4ok6uhYFS"
      },
      "outputs": [],
      "source": [
        "import pandas as pd\n",
        "import numpy as np\n",
        "from fancyimpute import IterativeImputer\n",
        "from sklearn.model_selection import KFold, train_test_split, GridSearchCV\n",
        "from sklearn.ensemble import RandomForestClassifier\n",
        "from sklearn.metrics import accuracy_score"
      ]
    },
    {
      "cell_type": "code",
      "source": [
        "np.random.seed(42)\n",
        "data = pd.DataFrame({\n",
        "    'Feature1': [1, 2, np.nan, 4, 5, np.nan, 7, 8, 9, 10, 11, 12, 13, 14, 15, 16, 17, 18, 19],\n",
        "    'Feature2': [5, 3, 4, np.nan, 2, 1, 2, 3, np.nan, 4, 5, 2, 4, 2, 3, 1, 2, 3, 4],\n",
        "    'Feature3': [10, 9, 8, 7, 6, np.nan, 4, np.nan, 2, 1, 3, 2, 1, 3, 2, 2, 3, 3, 2],\n",
        "    'Target': [1, 0, 1, 0, 1, 0, 1, 0, 1, 0, 1, 0, 1, 1, 1, 0, 1, 1, 1]\n",
        "})\n",
        "\n",
        "data"
      ],
      "metadata": {
        "id": "FTvlgWnQhdhv"
      },
      "execution_count": null,
      "outputs": []
    },
    {
      "cell_type": "code",
      "source": [
        "train_data, test_data = train_test_split(data, test_size=0.2, random_state=45)\n",
        "\n",
        "X_train = train_data.drop(columns=['Target'])\n",
        "y_train = train_data['Target']\n",
        "\n",
        "X_test = test_data.drop(columns=['Target'])\n",
        "y_test = test_data['Target']"
      ],
      "metadata": {
        "id": "twHbqpo_hfWa"
      },
      "execution_count": null,
      "outputs": []
    },
    {
      "cell_type": "code",
      "source": [
        "X_train.shape, y_train.shape, X_test.shape, y_test.shape"
      ],
      "metadata": {
        "id": "VUG9pm1Tik2i"
      },
      "execution_count": null,
      "outputs": []
    },
    {
      "cell_type": "code",
      "source": [
        "cv = KFold(n_splits=5, random_state=1, shuffle=True)\n",
        "\n",
        "param_grid = {\n",
        "    'n_estimators': [50, 100, 200],\n",
        "    'max_depth': [None, 5, 10],\n",
        "    'min_samples_split': [2, 5, 10]\n",
        "}"
      ],
      "metadata": {
        "id": "w5mhI19fi0sL"
      },
      "execution_count": null,
      "outputs": []
    },
    {
      "cell_type": "code",
      "source": [
        "fold = 1\n",
        "for train_index, val_index in cv.split(X_train):\n",
        "    print(f\"\\nFold {fold}\")\n",
        "\n",
        "    X_train_fold, X_val_fold = X_train.iloc[train_index], X_train.iloc[val_index]\n",
        "    y_train_fold, y_val_fold = y_train.iloc[train_index], y_train.iloc[val_index]\n",
        "\n",
        "    imp_mice = IterativeImputer(random_state=42, max_iter=10, tol=1e-09)\n",
        "    imp_mice.fit(X_train_fold) # Se ajusta la imputación solo en el training del fold\n",
        "\n",
        "    X_train_fold_imputed = pd.DataFrame(imp_mice.transform(X_train_fold), columns=X_train.columns) # se aplica en training\n",
        "    X_val_fold_imputed = pd.DataFrame(imp_mice.transform(X_val_fold), columns=X_train.columns) # se aplica en validation\n",
        "\n",
        "    print(\"\\nConjunto de entrenamiento imputado para el pliegue actual:\")\n",
        "    print(X_train_fold_imputed)\n",
        "\n",
        "    print(\"\\nConjunto de validación imputado para el pliegue actual:\")\n",
        "    print(X_val_fold_imputed)\n",
        "\n",
        "    rf = RandomForestClassifier(random_state=42)\n",
        "    grid_search = GridSearchCV(estimator=rf, param_grid=param_grid, cv=3, n_jobs=-1, scoring='accuracy') # Se configura GridSearch para tuneo de hiperp.\n",
        "    grid_search.fit(X_train_fold_imputed, y_train_fold) # Entrenar el modelo utilizando el conjunto de entrenamiento imputado\n",
        "    best_rf = grid_search.best_estimator_ # Se obtiene el mejor modelo de Random Forest encontrado\n",
        "    y_val_pred = best_rf.predict(X_val_fold_imputed)  # Evaluar el modelo en el conjunto de validación imputado\n",
        "    accuracy = accuracy_score(y_val_fold, y_val_pred)\n",
        "    print(f\"Accuracy en el conjunto de validación para el Fold {fold}: {accuracy}\")\n",
        "    print(f\"Mejores hiperparámetros para el Fold {fold}: {grid_search.best_params_}\")\n",
        "\n",
        "    fold += 1"
      ],
      "metadata": {
        "id": "rxeGg14ui3Jn"
      },
      "execution_count": null,
      "outputs": []
    },
    {
      "cell_type": "code",
      "source": [
        "imp_mice_final = IterativeImputer(random_state=42, max_iter=10)\n",
        "imp_mice_final.fit(X_train) # fit solo con X_train"
      ],
      "metadata": {
        "id": "3FGAuoy6jWV7"
      },
      "execution_count": null,
      "outputs": []
    },
    {
      "cell_type": "code",
      "source": [
        "X_train_final_imputed = pd.DataFrame(imp_mice_final.transform(X_train), columns=X_train.columns)\n",
        "X_test_imputed        = pd.DataFrame(imp_mice_final.transform(X_test), columns=X_test.columns)"
      ],
      "metadata": {
        "id": "rMWMX2jJlUEf"
      },
      "execution_count": null,
      "outputs": []
    },
    {
      "cell_type": "code",
      "source": [
        "best_rf_final = RandomForestClassifier(random_state=42, **grid_search.best_params_)\n",
        "best_rf_final.fit(X_train_final_imputed, y_train)"
      ],
      "metadata": {
        "id": "ARdPt_3mlVJj"
      },
      "execution_count": null,
      "outputs": []
    },
    {
      "cell_type": "code",
      "source": [
        "y_test_pred = best_rf_final.predict(X_test_imputed)\n",
        "test_accuracy = accuracy_score(y_test, y_test_pred)\n",
        "print(\"\\nAccuracy en el conjunto de prueba final: \", test_accuracy)"
      ],
      "metadata": {
        "id": "-Xqtx_nilf3H"
      },
      "execution_count": null,
      "outputs": []
    },
    {
      "cell_type": "code",
      "source": [
        "y_test, y_test_pred"
      ],
      "metadata": {
        "id": "OLY5bRmqoTKn"
      },
      "execution_count": null,
      "outputs": []
    }
  ]
}