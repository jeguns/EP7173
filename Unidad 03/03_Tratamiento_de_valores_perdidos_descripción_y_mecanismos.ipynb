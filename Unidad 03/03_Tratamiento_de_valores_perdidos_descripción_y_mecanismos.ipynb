{
  "nbformat": 4,
  "nbformat_minor": 0,
  "metadata": {
    "colab": {
      "provenance": [],
      "authorship_tag": "ABX9TyOt/jB6RhhcpKMTqqS9x25R",
      "include_colab_link": true
    },
    "kernelspec": {
      "name": "python3",
      "display_name": "Python 3"
    },
    "language_info": {
      "name": "python"
    }
  },
  "cells": [
    {
      "cell_type": "markdown",
      "metadata": {
        "id": "view-in-github",
        "colab_type": "text"
      },
      "source": [
        "<a href=\"https://colab.research.google.com/github/jeguns/EP7173/blob/main/Unidad%2003/03_Tratamiento_de_valores_perdidos_descripci%C3%B3n_y_mecanismos.ipynb\" target=\"_parent\"><img src=\"https://colab.research.google.com/assets/colab-badge.svg\" alt=\"Open In Colab\"/></a>"
      ]
    },
    {
      "cell_type": "markdown",
      "source": [
        "# **Instalación de paquetes**"
      ],
      "metadata": {
        "id": "juI8y5oJumJe"
      }
    },
    {
      "cell_type": "code",
      "source": [
        "pip install pandas==1.5.3 &> /dev/null"
      ],
      "metadata": {
        "id": "1AdFkgj4UbGt"
      },
      "execution_count": null,
      "outputs": []
    },
    {
      "cell_type": "code",
      "source": [
        "import pandas as pd"
      ],
      "metadata": {
        "id": "MCYGwUsfVclR"
      },
      "execution_count": null,
      "outputs": []
    },
    {
      "cell_type": "code",
      "source": [
        "print(pd.__version__)"
      ],
      "metadata": {
        "id": "vW79DnZtVQV7"
      },
      "execution_count": null,
      "outputs": []
    },
    {
      "cell_type": "code",
      "source": [
        "pip install rpy2 &> /dev/null"
      ],
      "metadata": {
        "id": "leyhllOqi6J3"
      },
      "execution_count": null,
      "outputs": []
    },
    {
      "cell_type": "code",
      "source": [
        "import rpy2"
      ],
      "metadata": {
        "id": "tQMqeUgIV5FY"
      },
      "execution_count": null,
      "outputs": []
    },
    {
      "cell_type": "code",
      "source": [
        "print(rpy2.__version__)"
      ],
      "metadata": {
        "id": "HrpM5BoXVVK4"
      },
      "execution_count": null,
      "outputs": []
    },
    {
      "cell_type": "markdown",
      "source": [
        "# **Ejemplo**"
      ],
      "metadata": {
        "id": "Mqujlef2rOqk"
      }
    },
    {
      "cell_type": "markdown",
      "source": [
        "Archivo: 03 - Datos - 1.xlsx\n",
        "\n",
        "Conjunto de datos de 20 observaciones y 6 columnas:\n",
        "* IQ: Coeficiente intelectual del trabajador\n",
        "* JP_COM: Desempeño laboral (columna completa)\n",
        "* JP_MCAR: Desempeño laboral (valores perdidos acorde a un mecanismo MCAR)\n",
        "* JP_MAR: Desempeño laboral (valores perdidos acorde a un mecanismo MAR)\n",
        "* JP_MNAR: Desempeño laboral (valores perdidos acorde a un mecanismo MNAR)\n",
        "* AREA: Área a la que pertenece el trabajador"
      ],
      "metadata": {
        "id": "8i8V349OG5R3"
      }
    },
    {
      "cell_type": "code",
      "source": [
        "datos = pd.read_csv('03 - datos_diabetes.csv',  sep = \";\")\n",
        "datos.info()"
      ],
      "metadata": {
        "id": "bINxdkU_GoLh"
      },
      "execution_count": null,
      "outputs": []
    },
    {
      "cell_type": "markdown",
      "source": [
        "La lectura inicial de los datos ha sido incorrecta en cuanto a los tipos de variables y la cantidad de datos perdidos reconocidos, que en este caso son 0. Entonces, al momento de realizar la lectura, se puede declarar cuál es (o cuáles son) la manera de identificar un dato perdido."
      ],
      "metadata": {
        "id": "z2f-mHaXw5Rr"
      }
    },
    {
      "cell_type": "code",
      "source": [
        "datos = pd.read_csv('03 - datos_diabetes.csv', sep = \";\", na_values=[\"-\"])\n",
        "datos.info()"
      ],
      "metadata": {
        "id": "ZjreJYw0G9zc"
      },
      "execution_count": null,
      "outputs": []
    },
    {
      "cell_type": "code",
      "source": [
        "new_column_names = {\n",
        "    'Ingresos Anuales': 'Ingresos',\n",
        "    'Horas de Sueño por Noche': 'Sueno',\n",
        "    'Historial de Enfermedades Crónicas': 'Enfermedades',\n",
        "    'Nivel de Estrés': 'Estres'\n",
        "}\n",
        "\n",
        "datos = datos.rename(columns=new_column_names)"
      ],
      "metadata": {
        "id": "XUPF-k_SEX4b"
      },
      "execution_count": null,
      "outputs": []
    },
    {
      "cell_type": "markdown",
      "source": [
        "# Identificación de valores perdidos"
      ],
      "metadata": {
        "id": "J-8ww1wWHHkU"
      }
    },
    {
      "cell_type": "markdown",
      "source": [
        "En Python, nan significa Not a Number, es decir es un valor perdido de tipo numérico (un valor numérico indefinido). Se utiliza principalmente para representar valores faltantes o no definidos en cálculos matemáticos y científicos. Por otro lado, None es de tipo object, se utiliza para representar la ausencia de un valor en cualquier tipo de objeto."
      ],
      "metadata": {
        "id": "fE5peybcHLrG"
      }
    },
    {
      "cell_type": "code",
      "source": [
        "import numpy as np\n",
        "a = np.nan\n",
        "a-3, a*2, type(a)"
      ],
      "metadata": {
        "id": "W2miDIZeHK_C"
      },
      "execution_count": null,
      "outputs": []
    },
    {
      "cell_type": "code",
      "source": [
        "b = None\n",
        "# b*2 # Quite el # inicial y ejecute"
      ],
      "metadata": {
        "id": "h3Y1U-MNHPlK"
      },
      "execution_count": null,
      "outputs": []
    },
    {
      "cell_type": "markdown",
      "source": [
        "¿Dónde están los valores perdidos?"
      ],
      "metadata": {
        "id": "ZgAuymhaHR4-"
      }
    },
    {
      "cell_type": "code",
      "source": [
        "datos.head(5).isna()"
      ],
      "metadata": {
        "id": "biJX_csYHUVg"
      },
      "execution_count": null,
      "outputs": []
    },
    {
      "cell_type": "markdown",
      "source": [
        "  False hace referencia a una celda con dato, mientras que True se refiere a una celda vacía."
      ],
      "metadata": {
        "id": "mpfm-FmLy0OR"
      }
    },
    {
      "cell_type": "code",
      "source": [
        "datos.head(5).isnull()"
      ],
      "metadata": {
        "id": "o9CToEH5HV1T"
      },
      "execution_count": null,
      "outputs": []
    },
    {
      "cell_type": "code",
      "source": [
        "datos.head(5).notna()"
      ],
      "metadata": {
        "id": "RzqihdkUHVaY"
      },
      "execution_count": null,
      "outputs": []
    },
    {
      "cell_type": "markdown",
      "source": [
        "True hace referencia a un dato completo, mientras que Falso, a un valor perdido."
      ],
      "metadata": {
        "id": "-ZCG2wEGzA_k"
      }
    },
    {
      "cell_type": "markdown",
      "source": [
        "¿Cuántos valores perdidos / completos hay? ¿En qué columnas o filas están los datos perdidos?"
      ],
      "metadata": {
        "id": "EMDSwgEOHadZ"
      }
    },
    {
      "cell_type": "code",
      "source": [
        "datos.isna().any() # Para cada una de las columnas, devuelve True si por lo menos hay un valor faltante, y False si toda la columna está completa"
      ],
      "metadata": {
        "id": "r3lLil52Hbyi"
      },
      "execution_count": null,
      "outputs": []
    },
    {
      "cell_type": "code",
      "source": [
        "datos.isna().sum() # Suma la cantidad de celdas nulas o sin datos por columna"
      ],
      "metadata": {
        "id": "ge9usat0Hhs2"
      },
      "execution_count": null,
      "outputs": []
    },
    {
      "cell_type": "code",
      "source": [
        "datos.count()"
      ],
      "metadata": {
        "id": "R_RdEt-OHkde"
      },
      "execution_count": null,
      "outputs": []
    },
    {
      "cell_type": "code",
      "source": [
        "datos.describe()"
      ],
      "metadata": {
        "id": "WyQ6JcWDHm10"
      },
      "execution_count": null,
      "outputs": []
    },
    {
      "cell_type": "code",
      "source": [
        "datos.describe(include = \"all\")"
      ],
      "metadata": {
        "id": "HuIjB6CXHodi"
      },
      "execution_count": null,
      "outputs": []
    },
    {
      "cell_type": "markdown",
      "source": [
        "¿Cómo podemos visualizar los datos perdidos?"
      ],
      "metadata": {
        "id": "Z6gs0eXgHsFD"
      }
    },
    {
      "cell_type": "code",
      "source": [
        "import missingno as msno\n",
        "import matplotlib.pyplot as plt\n",
        "msno.bar(datos, figsize=(15, 8), fontsize=12, color='steelblue')\n",
        "plt.title('Frecuencia de valores completos en el dataset', fontsize=16)\n",
        "plt.show()"
      ],
      "metadata": {
        "id": "wi53QVyhHt8A"
      },
      "execution_count": null,
      "outputs": []
    },
    {
      "cell_type": "code",
      "source": [
        "msno.matrix(datos) # permite ver los missings como espacios en blanco\n",
        "plt.title('Ubicación de los valores perdidos en el dataset', fontsize=16)\n",
        "plt.show()"
      ],
      "metadata": {
        "id": "rdU43AsXHybU"
      },
      "execution_count": null,
      "outputs": []
    },
    {
      "cell_type": "code",
      "source": [
        "msno.dendrogram(datos)\n",
        "plt.title('Valores perdidos en el dataset', fontsize=16)\n",
        "plt.show()"
      ],
      "metadata": {
        "id": "4uS2eDSCH0uY"
      },
      "execution_count": null,
      "outputs": []
    },
    {
      "cell_type": "code",
      "source": [
        "msno.heatmap(datos)\n",
        "plt.title('Asociación de pérdida de valores', fontsize=16)\n",
        "plt.show()\n",
        "# Varía entre -1 (si una variable está presente, la otra está ausente, y viceversa)\n",
        "# 0 (la presencia o ausencia de datos de una variable no se relaciona con la otra) a\n",
        "# 1 (si una variable está presente, la otra también, o si una está ausente la otra también)."
      ],
      "metadata": {
        "id": "lS4ZOopnsqFD"
      },
      "execution_count": null,
      "outputs": []
    },
    {
      "cell_type": "code",
      "source": [
        "%load_ext rpy2.ipython"
      ],
      "metadata": {
        "id": "nlQ8KciEjBvh"
      },
      "execution_count": null,
      "outputs": []
    },
    {
      "cell_type": "code",
      "source": [
        "%R -i datos"
      ],
      "metadata": {
        "id": "HkKgtvXsjD84"
      },
      "execution_count": null,
      "outputs": []
    },
    {
      "cell_type": "code",
      "source": [
        "%R datos |> head(5)"
      ],
      "metadata": {
        "id": "G5-rd12IjGHF"
      },
      "execution_count": null,
      "outputs": []
    },
    {
      "cell_type": "code",
      "source": [
        "%R install.packages(\"naniar\")"
      ],
      "metadata": {
        "id": "u4gBBmwkUg52"
      },
      "execution_count": null,
      "outputs": []
    },
    {
      "cell_type": "code",
      "source": [
        "%%R\n",
        "library(naniar)\n",
        "datos |> gg_miss_upset()"
      ],
      "metadata": {
        "id": "uuubnEytUqEk"
      },
      "execution_count": null,
      "outputs": []
    },
    {
      "cell_type": "markdown",
      "source": [
        "# **Comparación MCAR vs MAR**"
      ],
      "metadata": {
        "id": "j3uahUXbJFJI"
      }
    },
    {
      "cell_type": "markdown",
      "source": [
        "## Revisión exploratoria"
      ],
      "metadata": {
        "id": "3fwFChb3JZOE"
      }
    },
    {
      "cell_type": "code",
      "source": [
        "datos[datos['Ingresos'].isnull()].describe(), datos[datos['Ingresos'].notnull()].describe()"
      ],
      "metadata": {
        "id": "13gLyWf3Auly"
      },
      "execution_count": null,
      "outputs": []
    },
    {
      "cell_type": "code",
      "source": [
        "datos[datos['Sueno'].isnull()].describe(), datos[datos['Sueno'].notnull()].describe()"
      ],
      "metadata": {
        "id": "pauaqsHfA7-D"
      },
      "execution_count": null,
      "outputs": []
    },
    {
      "cell_type": "code",
      "source": [
        "datos[datos['Estres'].isnull()].describe(), datos[datos['Estres'].notnull()].describe()"
      ],
      "metadata": {
        "id": "uKVQx1DwBUA6"
      },
      "execution_count": null,
      "outputs": []
    },
    {
      "cell_type": "markdown",
      "source": [
        "## RBtest\n",
        "\n",
        "Test de verificación de tipo de valores perdidos usando el enfoque de regresión\n",
        "\n",
        "La respuesta puede dar:\n",
        "\n",
        "- 0: variable(s) con datos MCAR\n",
        "\n",
        "- 1: variable(s) con datos MAR\n",
        "\n",
        "- -1: variable(s) con datos completos"
      ],
      "metadata": {
        "id": "M039bOiaxgij"
      }
    },
    {
      "cell_type": "code",
      "source": [
        "%R install.packages(\"RBtest\")"
      ],
      "metadata": {
        "id": "ldHpKoswjQ0U"
      },
      "execution_count": null,
      "outputs": []
    },
    {
      "cell_type": "code",
      "source": [
        "%%R\n",
        "library(RBtest)\n",
        "library(dplyr)"
      ],
      "metadata": {
        "id": "ziy446a5j-Li"
      },
      "execution_count": null,
      "outputs": []
    },
    {
      "cell_type": "code",
      "source": [
        "%%R\n",
        "datos |> RBtest()"
      ],
      "metadata": {
        "id": "apQzgoFIkBaK"
      },
      "execution_count": null,
      "outputs": []
    },
    {
      "cell_type": "markdown",
      "source": [
        "## Test MCAR de Little\n",
        "\n",
        "$H_0$: Los datos siguen un patrón MCAR\n",
        "\n",
        "$H_1$: Los datos no siguen un patrón MCAR"
      ],
      "metadata": {
        "id": "KUz4UI-nxtZi"
      }
    },
    {
      "cell_type": "code",
      "source": [
        "%%R\n",
        "datos |> select(Edad,Sexo,Enfermedades) |> mcar_test()"
      ],
      "metadata": {
        "id": "khSMRcW_k3ut"
      },
      "execution_count": null,
      "outputs": []
    },
    {
      "cell_type": "markdown",
      "source": [
        "El pvalor nos sirve para tomar una decisión respecto a la **hipótesis ...**. La regla de decisión es: **Si ..., entonces ...**\n",
        "\n",
        "Recordar que todo pvalor toma valores entre ... y ....\n",
        "\n",
        "Entonces, en este caso pvalor = ..., por lo tanto se debería .... (los datos siguen un patrón ...). Sin embargo, los datos están completos. Por lo tanto, solo se debe usar esta prueba cuando hay al menos un dato perdido en el data frame."
      ],
      "metadata": {
        "id": "6AfwB3LF_y3z"
      }
    },
    {
      "cell_type": "code",
      "source": [
        "%%R\n",
        "datos |> mcar_test()"
      ],
      "metadata": {
        "id": "N92_A0I0k7RP"
      },
      "execution_count": null,
      "outputs": []
    },
    {
      "cell_type": "markdown",
      "source": [
        "El pvalor (0.169) es alto (mayor que los niveles de significancia usuales), por lo tanto se ... la hipótesis nula de mecanismo MCAR."
      ],
      "metadata": {
        "id": "aMpkfQIEBQ4E"
      }
    },
    {
      "cell_type": "code",
      "source": [
        "%%R\n",
        "datos |> select(Edad,Sexo,Enfermedades,Estres) |> mcar_test()"
      ],
      "metadata": {
        "id": "mXOfT1ARlC1P"
      },
      "execution_count": null,
      "outputs": []
    },
    {
      "cell_type": "markdown",
      "source": [
        "El pvalor (0.0066) es muy pequeño (menor a los niveles de significancia 0.01, 0.05, 0.10). Entonces se ...  la hipótesis nula, por lo tanto los datos ... siguen un patrón MCAR."
      ],
      "metadata": {
        "id": "LTaLifo5Bp6L"
      }
    },
    {
      "cell_type": "markdown",
      "source": [
        "## Prueba de independencia - Prueba Chi Cuadrado\n",
        "\n",
        "Cuando se tiene interés en cruzar el mecanismo de datos perdidos en una variable con otra (categórica) de interés (completa).\n",
        "\n",
        "$H_0:$ El mecanismo de datos perdidos en [variable con datos perdidos] y la [variable de interés completa] son independientes\n",
        "\n",
        "$H_1:$ El mecanismo de datos perdidos en [variable con datos perdidos] y la [variable de interés completa] **no** son independientes\n",
        "\n",
        "**El tamaño de muestra debe ser grande, de modo que la frecuencia esperada en cada celda sea superior a 5.**\n",
        "\n",
        "Solo a modo de ejemplo (ya que el tamaño de muestra es pequeño), para el conjunto de datos en estudio, se analizará la asociación del mecanismo de datos perdidos con la variable ÁREA.\n",
        "\n",
        "Asumiendo $\\alpha=0.10$"
      ],
      "metadata": {
        "id": "MRUhg8O7x5pv"
      }
    },
    {
      "cell_type": "code",
      "source": [
        "%%R\n",
        "chisq.test(table(as_shadow(datos)$Ingresos_NA, datos$Sexo))"
      ],
      "metadata": {
        "id": "Rw_2RGDmyAXf"
      },
      "execution_count": null,
      "outputs": []
    },
    {
      "cell_type": "code",
      "source": [
        "%%R\n",
        "chisq.test(table(as_shadow(datos)$Ingresos_NA, datos$Enfermedades))"
      ],
      "metadata": {
        "id": "xNmQup3-ldv6"
      },
      "execution_count": null,
      "outputs": []
    },
    {
      "cell_type": "code",
      "source": [
        "%%R\n",
        "chisq.test(table(as_shadow(datos)$Sueno_NA, datos$Enfermedades))"
      ],
      "metadata": {
        "id": "mIyl-Si4lntd"
      },
      "execution_count": null,
      "outputs": []
    }
  ]
}