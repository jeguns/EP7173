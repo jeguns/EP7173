{
  "cells": [
    {
      "cell_type": "markdown",
      "metadata": {
        "id": "view-in-github",
        "colab_type": "text"
      },
      "source": [
        "<a href=\"https://colab.research.google.com/github/jeguns/EP7173/blob/main/Unidad%2006/Selecci%C3%B3n_de_atributos_en_modelos_de_regresi%C3%B3n.ipynb\" target=\"_parent\"><img src=\"https://colab.research.google.com/assets/colab-badge.svg\" alt=\"Open In Colab\"/></a>"
      ]
    },
    {
      "cell_type": "markdown",
      "metadata": {
        "id": "i8Psx_-FCL3x"
      },
      "source": [
        "## Instalación de paquetes"
      ]
    },
    {
      "cell_type": "code",
      "execution_count": null,
      "metadata": {
        "id": "wURIrMVBCED8"
      },
      "outputs": [],
      "source": [
        "pip install boruta"
      ]
    },
    {
      "cell_type": "markdown",
      "metadata": {
        "id": "byzsKcMpCOZv"
      },
      "source": [
        "## Lectura de datos"
      ]
    },
    {
      "cell_type": "markdown",
      "metadata": {
        "id": "yiKY6xqaT1iM"
      },
      "source": [
        "El dataset Boston tiene su origen en un estudio realizado en la década de 1970 por el Departamento de Investigación y Desarrollo de la Comisión de Boston en colaboración con el economista David Harrison y el profesor de estadística del MIT, Daniel L. Rubinfeld.\n",
        "\n",
        "El objetivo del dataset es predecir el valor medio de las casas en diferentes áreas de Boston basándose en diversas características socioeconómicas, geográficas y ambientales.\n",
        "\n",
        "Variables contenidas:\n",
        "\n",
        "CRIM - Tasa de criminalidad per cápita por ciudad.\n",
        "\n",
        "ZN - Proporción de suelo residencial zonificado para lotes de más de 25,000 pies cuadrados.\n",
        "\n",
        "INDUS - Proporción de acres comerciales no minoristas por ciudad.\n",
        "\n",
        "CHAS - Variable indicadora de Charles River (1 si el área está al lado del río; 0 en caso contrario).\n",
        "\n",
        "NOX - Concentración de óxidos de nitrógeno (partes por 10 millones).\n",
        "\n",
        "RM - Número medio de habitaciones por vivienda.\n",
        "\n",
        "AGE - Proporción de unidades ocupadas por propietarios construidas antes de 1940.\n",
        "\n",
        "DIS - Distancia ponderada a cinco centros de empleo de Boston.\n",
        "\n",
        "RAD - Índice de accesibilidad a carreteras radiales.\n",
        "\n",
        "TAX - Tasa de impuesto a la propiedad por cada $10,000.\n",
        "\n",
        "PTRATIO - Ratio de alumnos por maestro en la ciudad.\n",
        "\n",
        "B - 1000(Bk - 0.63)^2  donde Bk es la proporción de personas de raza negra en la ciudad.\n",
        "\n",
        "LSTAT - Porcentaje de población con bajo estatus socioeconómico.\n",
        "\n",
        "MEDV - Valor medio de las viviendas ocupadas por propietarios en $1,000 (variable objetivo)."
      ]
    },
    {
      "cell_type": "code",
      "execution_count": null,
      "metadata": {
        "id": "Y8RwrhV_VPcI"
      },
      "outputs": [],
      "source": [
        "import pandas as pd\n",
        "import numpy as np\n",
        "column_names = ['CRIM', 'ZN', 'INDUS', 'CHAS', 'NOX', 'RM', 'AGE', 'DIS', 'RAD', 'TAX', 'PTRATIO', 'B', 'LSTAT', 'MEDV']\n",
        "datos = pd.read_csv('housing.csv', delim_whitespace=True, names=column_names)\n",
        "datos.head()"
      ]
    },
    {
      "cell_type": "code",
      "execution_count": null,
      "metadata": {
        "id": "aDMQj1hjVjKM"
      },
      "outputs": [],
      "source": [
        "array = datos.values\n",
        "X = array[:,0:13]\n",
        "Y = array[:,13]"
      ]
    },
    {
      "cell_type": "code",
      "execution_count": null,
      "metadata": {
        "id": "FbwzM3a032UT"
      },
      "outputs": [],
      "source": [
        "datos.describe()"
      ]
    },
    {
      "cell_type": "markdown",
      "metadata": {
        "id": "NeZGJnwPCfS_"
      },
      "source": [
        "# Filtros"
      ]
    },
    {
      "cell_type": "markdown",
      "metadata": {
        "id": "IWq0ofeHCQ5Z"
      },
      "source": [
        "## Selección por umbral de varianza"
      ]
    },
    {
      "cell_type": "code",
      "execution_count": null,
      "metadata": {
        "id": "Mns6U6J73Pzj"
      },
      "outputs": [],
      "source": [
        "from sklearn.feature_selection import VarianceThreshold, SelectKBest, SelectPercentile, SelectFpr, SelectFdr, SelectFwe\n",
        "\n",
        "selector_var = VarianceThreshold(threshold = 0)\n",
        "selector_var.fit_transform(X)"
      ]
    },
    {
      "cell_type": "code",
      "execution_count": null,
      "metadata": {
        "id": "ns6DCyTz3e3-"
      },
      "outputs": [],
      "source": [
        "selected_columns = datos.drop('MEDV', axis=1).columns[selector_var.get_support()]\n",
        "selected_columns"
      ]
    },
    {
      "cell_type": "code",
      "execution_count": null,
      "metadata": {
        "id": "4jE36yyI3itN"
      },
      "outputs": [],
      "source": [
        "df_selected = pd.DataFrame(selector_var.transform(X), columns=selected_columns)\n",
        "df_selected.head()"
      ]
    },
    {
      "cell_type": "markdown",
      "metadata": {
        "id": "ppVl1Vci0i3m"
      },
      "source": [
        "## Selección por correlación"
      ]
    },
    {
      "cell_type": "code",
      "execution_count": null,
      "metadata": {
        "id": "FxzHeZ0gyFVS"
      },
      "outputs": [],
      "source": [
        "from sklearn.feature_selection import r_regression, f_regression, mutual_info_regression\n",
        "\n",
        "selector_cor = SelectKBest(score_func = r_regression, k=4).fit(X, Y)\n",
        "selector_cor"
      ]
    },
    {
      "cell_type": "code",
      "execution_count": null,
      "metadata": {
        "id": "aPGBwFXPydTI"
      },
      "outputs": [],
      "source": [
        "selector_cor.scores_"
      ]
    },
    {
      "cell_type": "code",
      "execution_count": null,
      "metadata": {
        "id": "QnZkiTXz5S4x"
      },
      "outputs": [],
      "source": [
        "selector_cor.n_features_in_"
      ]
    },
    {
      "cell_type": "code",
      "execution_count": null,
      "metadata": {
        "id": "Gw16KbS02_Fg"
      },
      "outputs": [],
      "source": [
        "selector_cor.get_support()"
      ]
    },
    {
      "cell_type": "code",
      "execution_count": null,
      "metadata": {
        "id": "RchpSSgMyRZI"
      },
      "outputs": [],
      "source": [
        "datos.drop('MEDV', axis=1).columns[selector_cor.get_support()]"
      ]
    },
    {
      "cell_type": "markdown",
      "source": [
        "Seleccionando las variables más asociadas (independientemente si la asociación es directa o inversa)"
      ],
      "metadata": {
        "id": "2AcUlwL-9L3I"
      }
    },
    {
      "cell_type": "code",
      "source": [
        "selected_indices = np.argsort(np.abs(selector_cor.scores_))[-4:]\n",
        "selected_indices"
      ],
      "metadata": {
        "id": "kSUyKqHa8MUS"
      },
      "execution_count": null,
      "outputs": []
    },
    {
      "cell_type": "code",
      "source": [
        "selected_columns = datos.columns[selected_indices]\n",
        "selected_columns"
      ],
      "metadata": {
        "id": "pl4XtbBq88g1"
      },
      "execution_count": null,
      "outputs": []
    },
    {
      "cell_type": "code",
      "execution_count": null,
      "metadata": {
        "id": "3qnu0awiyTE-"
      },
      "outputs": [],
      "source": [
        "df_selected = pd.DataFrame(X[:, selected_indices], columns = selected_columns)\n",
        "df_selected.head()"
      ]
    },
    {
      "cell_type": "markdown",
      "metadata": {
        "id": "37rysqQ50myW"
      },
      "source": [
        "## Selección por el estadístico F de ANOVA"
      ]
    },
    {
      "cell_type": "code",
      "execution_count": null,
      "metadata": {
        "id": "mB6v8d34zkd9"
      },
      "outputs": [],
      "source": [
        "selector_anova = SelectKBest(score_func=f_regression, k=4).fit(X, Y)\n",
        "selector_anova.scores_"
      ]
    },
    {
      "cell_type": "code",
      "execution_count": null,
      "metadata": {
        "id": "pQ_ajqq-5t0V"
      },
      "outputs": [],
      "source": [
        "selector_anova.pvalues_"
      ]
    },
    {
      "cell_type": "code",
      "execution_count": null,
      "metadata": {
        "id": "v3rilQXv7inG"
      },
      "outputs": [],
      "source": [
        "selector_anova.n_features_in_"
      ]
    },
    {
      "cell_type": "code",
      "execution_count": null,
      "metadata": {
        "id": "hVYZIzch7kXN"
      },
      "outputs": [],
      "source": [
        "selector_anova.get_support()"
      ]
    },
    {
      "cell_type": "code",
      "execution_count": null,
      "metadata": {
        "id": "8VMXCDPszzpM"
      },
      "outputs": [],
      "source": [
        "selected_columns = datos.drop('MEDV', axis=1).columns[selector_anova.get_support()]\n",
        "df_selected = pd.DataFrame(selector_anova.transform(X), columns=selected_columns)\n",
        "df_selected.head()"
      ]
    },
    {
      "cell_type": "code",
      "execution_count": null,
      "metadata": {
        "id": "Iv7nZuma7pHk"
      },
      "outputs": [],
      "source": [
        "selector_anova_k = SelectKBest(score_func=f_regression, k=4).fit(X, Y)\n",
        "selected_columns = datos.drop('MEDV', axis=1).columns[selector_anova_k.get_support()]\n",
        "df_selected = pd.DataFrame(selector_anova_k.transform(X), columns=selected_columns)\n",
        "df_selected.head()"
      ]
    },
    {
      "cell_type": "code",
      "execution_count": null,
      "metadata": {
        "id": "8VD-N-wJ7vzk"
      },
      "outputs": [],
      "source": [
        "selector_anova_perc = SelectPercentile(score_func=f_regression, percentile = 50).fit(X, Y)\n",
        "selected_columns = datos.drop('MEDV', axis=1).columns[selector_anova_perc.get_support()]\n",
        "df_selected = pd.DataFrame(selector_anova_perc.transform(X), columns=selected_columns)\n",
        "df_selected.head()"
      ]
    },
    {
      "cell_type": "code",
      "execution_count": null,
      "metadata": {
        "id": "LI8B1i-h9GUc"
      },
      "outputs": [],
      "source": [
        "selector_anova_fpr = SelectFpr(score_func=f_regression, alpha = 0.01).fit(X, Y)\n",
        "selected_columns = datos.drop('MEDV', axis=1).columns[selector_anova_fpr.get_support()]\n",
        "df_selected = pd.DataFrame(selector_anova_fpr.transform(X), columns=selected_columns)\n",
        "df_selected.head()"
      ]
    },
    {
      "cell_type": "code",
      "execution_count": null,
      "metadata": {
        "id": "cKB8kRJt9keT"
      },
      "outputs": [],
      "source": [
        "selector_anova_fdr = SelectFpr(score_func=f_regression, alpha = 0.01).fit(X, Y)\n",
        "selected_columns = datos.drop('MEDV', axis=1).columns[selector_anova_fdr.get_support()]\n",
        "df_selected = pd.DataFrame(selector_anova_fdr.transform(X), columns=selected_columns)\n",
        "df_selected.head()"
      ]
    },
    {
      "cell_type": "code",
      "execution_count": null,
      "metadata": {
        "id": "sqH0BHFC9nff"
      },
      "outputs": [],
      "source": [
        "selector_anova_fwe = SelectFpr(score_func=f_regression, alpha = 0.01).fit(X, Y)\n",
        "selected_columns = datos.drop('MEDV', axis=1).columns[selector_anova_fwe.get_support()]\n",
        "df_selected = pd.DataFrame(selector_anova_fwe.transform(X), columns=selected_columns)\n",
        "df_selected.head()"
      ]
    },
    {
      "cell_type": "markdown",
      "metadata": {
        "id": "T09nWBVV0w3s"
      },
      "source": [
        "## Selección por el indicador de información mutua"
      ]
    },
    {
      "cell_type": "code",
      "execution_count": null,
      "metadata": {
        "id": "dnumGzQ7_vZQ"
      },
      "outputs": [],
      "source": [
        "selector_im = SelectKBest(score_func=lambda X, y: mutual_info_regression(X, Y, random_state=42), k=4).fit(X, Y)\n",
        "selector_im.scores_"
      ]
    },
    {
      "cell_type": "code",
      "execution_count": null,
      "metadata": {
        "id": "qpYGcbo79sXf"
      },
      "outputs": [],
      "source": [
        "selector_im.get_support()"
      ]
    },
    {
      "cell_type": "code",
      "execution_count": null,
      "metadata": {
        "id": "ipcqY50j04UG"
      },
      "outputs": [],
      "source": [
        "selected_columns = datos.drop('MEDV', axis=1).columns[selector_im.get_support()]\n",
        "df_selected = pd.DataFrame(selector_im.transform(X), columns=selected_columns)\n",
        "df_selected.head()"
      ]
    },
    {
      "cell_type": "code",
      "execution_count": null,
      "metadata": {
        "id": "ztJlMWVV90yB"
      },
      "outputs": [],
      "source": [
        "selector_im_k = SelectKBest(score_func=lambda X, y: mutual_info_regression(X, Y, random_state=42), k=4).fit(X, Y)\n",
        "selected_columns = datos.drop('MEDV', axis=1).columns[selector_im_k.get_support()]\n",
        "df_selected = pd.DataFrame(selector_im_k.transform(X), columns=selected_columns)\n",
        "df_selected.head()"
      ]
    },
    {
      "cell_type": "code",
      "execution_count": null,
      "metadata": {
        "id": "WpWdAjBP95eP"
      },
      "outputs": [],
      "source": [
        "selector_im_perc = SelectPercentile(score_func=lambda X, y: mutual_info_regression(X, Y, random_state=42), percentile=50).fit(X, Y)\n",
        "selected_columns = datos.drop('MEDV', axis=1).columns[selector_im_perc.get_support()]\n",
        "df_selected = pd.DataFrame(selector_im_perc.transform(X), columns=selected_columns)\n",
        "df_selected.head()"
      ]
    },
    {
      "cell_type": "markdown",
      "metadata": {
        "id": "3HiP9QLKCjIq"
      },
      "source": [
        "# Wrappers"
      ]
    },
    {
      "cell_type": "code",
      "execution_count": null,
      "metadata": {
        "id": "n-z9_gtPiMBw"
      },
      "outputs": [],
      "source": [
        "from sklearn.linear_model import LinearRegression\n",
        "model = LinearRegression()"
      ]
    },
    {
      "cell_type": "code",
      "execution_count": null,
      "metadata": {
        "id": "MjxQ11j8u_QI"
      },
      "outputs": [],
      "source": [
        "x = datos.drop('MEDV', axis=1)\n",
        "y = datos['MEDV']"
      ]
    },
    {
      "cell_type": "markdown",
      "metadata": {
        "id": "9DtrYBb6kig7"
      },
      "source": [
        "## Forward selection"
      ]
    },
    {
      "cell_type": "code",
      "execution_count": null,
      "metadata": {
        "id": "ld3VAjIRiQEF"
      },
      "outputs": [],
      "source": [
        "from sklearn.feature_selection import SequentialFeatureSelector, RFE\n",
        "selector_forward = SequentialFeatureSelector(model, n_features_to_select = 'auto', scoring = 'neg_mean_squared_error', direction='forward', tol = 1e-3).fit(x, y)"
      ]
    },
    {
      "cell_type": "markdown",
      "metadata": {
        "id": "Y-W81jUxR-Oz"
      },
      "source": [
        "Revisar [aquí](https://scikit-learn.org/dev/modules/model_evaluation.html#scoring-parameter) los posibles valores para el argumento scoring"
      ]
    },
    {
      "cell_type": "code",
      "execution_count": null,
      "metadata": {
        "id": "RMfuNbTzjyoa"
      },
      "outputs": [],
      "source": [
        "selector_forward.n_features_in_"
      ]
    },
    {
      "cell_type": "code",
      "execution_count": null,
      "metadata": {
        "id": "6erLgT2xm88w"
      },
      "outputs": [],
      "source": [
        "selector_forward.feature_names_in_"
      ]
    },
    {
      "cell_type": "code",
      "execution_count": null,
      "metadata": {
        "id": "lHLuW_vQj25x"
      },
      "outputs": [],
      "source": [
        "selector_forward.get_support()"
      ]
    },
    {
      "cell_type": "code",
      "execution_count": null,
      "metadata": {
        "id": "VnVA_R4hnB38"
      },
      "outputs": [],
      "source": [
        "selector_forward.get_feature_names_out()"
      ]
    },
    {
      "cell_type": "code",
      "execution_count": null,
      "metadata": {
        "id": "1zZiUJsCoJ7X"
      },
      "outputs": [],
      "source": [
        "selector_forward.transform(x)"
      ]
    },
    {
      "cell_type": "code",
      "execution_count": null,
      "metadata": {
        "id": "MrPfXpojkLEU"
      },
      "outputs": [],
      "source": [
        "df_selected = datos[selector_forward.get_feature_names_out()]\n",
        "df_selected.head()"
      ]
    },
    {
      "cell_type": "code",
      "source": [
        "selector_forward = SequentialFeatureSelector(model, n_features_to_select = 'auto', scoring = 'neg_mean_squared_error', direction='forward', tol = 5e-1).fit(x, y)\n",
        "df_selected = datos[selector_forward.get_feature_names_out()]\n",
        "df_selected.head()"
      ],
      "metadata": {
        "id": "NxI37Tk5ATXc"
      },
      "execution_count": null,
      "outputs": []
    },
    {
      "cell_type": "code",
      "execution_count": null,
      "metadata": {
        "id": "P9U-i5-FkZy9"
      },
      "outputs": [],
      "source": [
        "selector_forward = SequentialFeatureSelector(model, n_features_to_select = 'auto', scoring = 'neg_mean_squared_error', direction='forward', tol = 1e-1).fit(x, y)\n",
        "df_selected = datos[selector_forward.get_feature_names_out()]\n",
        "df_selected.head()"
      ]
    },
    {
      "cell_type": "code",
      "execution_count": null,
      "metadata": {
        "id": "_gSUfOR_mTYZ"
      },
      "outputs": [],
      "source": [
        "selector_forward = SequentialFeatureSelector(model, n_features_to_select = 'auto', scoring = 'neg_mean_squared_error', direction='forward', tol = 1e-3).fit(x, y)\n",
        "df_selected = datos[selector_forward.get_feature_names_out()]\n",
        "df_selected.head()"
      ]
    },
    {
      "cell_type": "code",
      "execution_count": null,
      "metadata": {
        "id": "Eo2-Ni5nmasj"
      },
      "outputs": [],
      "source": [
        "selector_forward = SequentialFeatureSelector(model, n_features_to_select = 'auto', scoring = 'neg_mean_squared_error', direction='forward').fit(x, y)\n",
        "df_selected = datos[selector_forward.get_feature_names_out()]\n",
        "df_selected.head()"
      ]
    },
    {
      "cell_type": "markdown",
      "metadata": {
        "id": "zlrliaDQksIC"
      },
      "source": [
        "## Backward selection"
      ]
    },
    {
      "cell_type": "code",
      "execution_count": null,
      "metadata": {
        "id": "UBdc2GNGkuFb"
      },
      "outputs": [],
      "source": [
        "selector_backward = SequentialFeatureSelector(model, n_features_to_select = 'auto', scoring = 'neg_mean_squared_error', direction='backward', tol = -8e-1).fit(x, y)\n",
        "df_selected = datos[selector_backward.get_feature_names_out()]\n",
        "df_selected.head()"
      ]
    },
    {
      "cell_type": "code",
      "execution_count": null,
      "metadata": {
        "id": "9pIXZBrPmkHB"
      },
      "outputs": [],
      "source": [
        "selector_backward = SequentialFeatureSelector(model, n_features_to_select = 'auto', scoring = 'neg_mean_squared_error', direction='backward', tol = -1e-1).fit(x, y)\n",
        "df_selected = datos[selector_backward.get_feature_names_out()]\n",
        "df_selected.head()"
      ]
    },
    {
      "cell_type": "code",
      "execution_count": null,
      "metadata": {
        "id": "o_oPBWIumo7x"
      },
      "outputs": [],
      "source": [
        "selector_backward = SequentialFeatureSelector(model, n_features_to_select = 'auto', scoring = 'neg_mean_squared_error', direction='backward').fit(x, y)\n",
        "df_selected = datos[selector_backward.get_feature_names_out()]\n",
        "df_selected.head()"
      ]
    },
    {
      "cell_type": "markdown",
      "metadata": {
        "id": "EhaTu9CZo4-q"
      },
      "source": [
        "## Recursive Feature Elimination (RFE)"
      ]
    },
    {
      "cell_type": "code",
      "execution_count": null,
      "metadata": {
        "id": "i3-W4LVko59f"
      },
      "outputs": [],
      "source": [
        "selector_rfe = RFE(model, n_features_to_select= 3).fit(x, y)"
      ]
    },
    {
      "cell_type": "code",
      "execution_count": null,
      "metadata": {
        "id": "HyTbUNJ_pc1z"
      },
      "outputs": [],
      "source": [
        "selector_rfe.ranking_"
      ]
    },
    {
      "cell_type": "code",
      "execution_count": null,
      "metadata": {
        "id": "QfthyjYmpmGy"
      },
      "outputs": [],
      "source": [
        "selector_rfe.get_support()"
      ]
    },
    {
      "cell_type": "code",
      "execution_count": null,
      "metadata": {
        "id": "Q_N5SfyopiF4"
      },
      "outputs": [],
      "source": [
        "selector_rfe.get_feature_names_out()"
      ]
    },
    {
      "cell_type": "code",
      "execution_count": null,
      "metadata": {
        "id": "RtGK38l7pgXG"
      },
      "outputs": [],
      "source": [
        "df_selected = datos[selector_rfe.get_feature_names_out()]\n",
        "df_selected.head()"
      ]
    },
    {
      "cell_type": "code",
      "execution_count": null,
      "metadata": {
        "id": "z3aIjborpNJ2"
      },
      "outputs": [],
      "source": [
        "selector_rfe = RFE(model, n_features_to_select = 0.7).fit(x, y)\n",
        "df_selected = datos[selector_rfe.get_feature_names_out()]\n",
        "df_selected.head()"
      ]
    },
    {
      "cell_type": "code",
      "execution_count": null,
      "metadata": {
        "id": "g19wNnttpP9S"
      },
      "outputs": [],
      "source": [
        "selector_rfe = RFE(model).fit(x, y)\n",
        "df_selected = datos[selector_rfe.get_feature_names_out()]\n",
        "df_selected.head()"
      ]
    },
    {
      "cell_type": "markdown",
      "source": [
        "## Exhaustive Feature Selection"
      ],
      "metadata": {
        "id": "t2pSZeLnLkaO"
      }
    },
    {
      "cell_type": "code",
      "source": [
        "from mlxtend.feature_selection import ExhaustiveFeatureSelector\n",
        "selector_efs = ExhaustiveFeatureSelector(model,\n",
        "                                         min_features=1,\n",
        "                                         max_features=4,\n",
        "                                         scoring='neg_mean_squared_error',\n",
        "                                         print_progress=True,\n",
        "                                         cv=5)"
      ],
      "metadata": {
        "id": "ZKmkdneQFiCT"
      },
      "execution_count": null,
      "outputs": []
    },
    {
      "cell_type": "code",
      "source": [
        "import warnings\n",
        "warnings.filterwarnings('ignore')\n",
        "selector_efs.fit(x,y)"
      ],
      "metadata": {
        "id": "5t9Zw8ZlGjlC"
      },
      "execution_count": null,
      "outputs": []
    },
    {
      "cell_type": "code",
      "source": [
        "warnings.filterwarnings('default')"
      ],
      "metadata": {
        "id": "DkTLQFa_Ly5u"
      },
      "execution_count": null,
      "outputs": []
    },
    {
      "cell_type": "code",
      "source": [
        "selector_efs.subsets_[0]"
      ],
      "metadata": {
        "id": "D-tdk6ZOIkZn"
      },
      "execution_count": null,
      "outputs": []
    },
    {
      "cell_type": "code",
      "source": [
        "selector_efs.subsets_[20]"
      ],
      "metadata": {
        "id": "IeYTlIoTIZK5"
      },
      "execution_count": null,
      "outputs": []
    },
    {
      "cell_type": "code",
      "source": [
        "selector_efs.best_score_"
      ],
      "metadata": {
        "id": "2t4Q2hOOItSy"
      },
      "execution_count": null,
      "outputs": []
    },
    {
      "cell_type": "code",
      "source": [
        "selector_efs.best_idx_"
      ],
      "metadata": {
        "id": "gbkcdw3gIyVQ"
      },
      "execution_count": null,
      "outputs": []
    },
    {
      "cell_type": "code",
      "source": [
        "selected_features = selector_efs.best_feature_names_\n",
        "selected_features"
      ],
      "metadata": {
        "id": "6skWUKMUI04e"
      },
      "execution_count": null,
      "outputs": []
    },
    {
      "cell_type": "code",
      "source": [
        "df_selected = datos[list(selected_features)]\n",
        "df_selected.head()"
      ],
      "metadata": {
        "id": "OWrvohKlHWMv"
      },
      "execution_count": null,
      "outputs": []
    },
    {
      "cell_type": "markdown",
      "source": [
        "Otros modelos:"
      ],
      "metadata": {
        "id": "tQfkR08GL2sS"
      }
    },
    {
      "cell_type": "code",
      "execution_count": null,
      "metadata": {
        "id": "rVn13RBtqffH"
      },
      "outputs": [],
      "source": [
        "from sklearn.svm import SVR\n",
        "model_svr = SVR(kernel='linear')\n",
        "selector_forward = SequentialFeatureSelector(model_svr, n_features_to_select = 'auto', direction='forward', tol = 1e-5).fit(x, y)\n",
        "df_selected = datos[selector_forward.get_feature_names_out()]\n",
        "df_selected.head()"
      ]
    },
    {
      "cell_type": "code",
      "execution_count": null,
      "metadata": {
        "id": "TDN5wg-Yqmsf"
      },
      "outputs": [],
      "source": [
        "from sklearn.neighbors import KNeighborsRegressor\n",
        "model_knr = KNeighborsRegressor(n_neighbors=5)\n",
        "selector_forward = SequentialFeatureSelector(model_knr, n_features_to_select = 'auto', direction='forward', tol = 1e-5).fit(x, y)\n",
        "df_selected = datos[selector_forward.get_feature_names_out()]\n",
        "df_selected.head()"
      ]
    },
    {
      "cell_type": "markdown",
      "metadata": {
        "id": "HWUV7xrPClWb"
      },
      "source": [
        "## Boruta"
      ]
    },
    {
      "cell_type": "code",
      "execution_count": null,
      "metadata": {
        "id": "o6C6Z7tABIe3"
      },
      "outputs": [],
      "source": [
        "from sklearn.ensemble import RandomForestRegressor\n",
        "from boruta import BorutaPy"
      ]
    },
    {
      "cell_type": "code",
      "execution_count": null,
      "metadata": {
        "id": "fkbuobvaA_HZ"
      },
      "outputs": [],
      "source": [
        "x = datos.drop('MEDV', axis=1)\n",
        "y = datos['MEDV']\n",
        "\n",
        "rf = RandomForestRegressor(n_estimators=100)"
      ]
    },
    {
      "cell_type": "code",
      "execution_count": null,
      "metadata": {
        "id": "PnfFR739BGrZ"
      },
      "outputs": [],
      "source": [
        "boruta_selector = BorutaPy(estimator=rf, n_estimators='auto', verbose=0, random_state=2024)"
      ]
    },
    {
      "cell_type": "code",
      "execution_count": null,
      "metadata": {
        "id": "3wD-bTk7BZ81"
      },
      "outputs": [],
      "source": [
        "boruta_selector.fit(x.values, y.values)"
      ]
    },
    {
      "cell_type": "code",
      "execution_count": null,
      "metadata": {
        "id": "5LgtAOLo6T-n"
      },
      "outputs": [],
      "source": [
        "boruta_selector.support_"
      ]
    },
    {
      "cell_type": "code",
      "execution_count": null,
      "metadata": {
        "id": "PtYjwn5r6VVc"
      },
      "outputs": [],
      "source": [
        "boruta_selector.ranking_"
      ]
    },
    {
      "cell_type": "code",
      "execution_count": null,
      "metadata": {
        "id": "B5ZpmtgeBk0z"
      },
      "outputs": [],
      "source": [
        "selected_features = x.columns[boruta_selector.support_].tolist()\n",
        "selected_features"
      ]
    },
    {
      "cell_type": "code",
      "execution_count": null,
      "metadata": {
        "id": "MUdZATVIB25Q"
      },
      "outputs": [],
      "source": [
        "datos[selected_features + ['MEDV']]"
      ]
    }
  ],
  "metadata": {
    "colab": {
      "provenance": [],
      "authorship_tag": "ABX9TyM8K2xwGKDEcjm3hh/Ru2Ci",
      "include_colab_link": true
    },
    "kernelspec": {
      "display_name": "Python 3",
      "name": "python3"
    },
    "language_info": {
      "name": "python"
    }
  },
  "nbformat": 4,
  "nbformat_minor": 0
}