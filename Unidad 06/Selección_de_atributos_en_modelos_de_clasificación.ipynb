{
  "nbformat": 4,
  "nbformat_minor": 0,
  "metadata": {
    "colab": {
      "provenance": [],
      "authorship_tag": "ABX9TyM1Nev6We0drNrOIVTmjtqI",
      "include_colab_link": true
    },
    "kernelspec": {
      "name": "python3",
      "display_name": "Python 3"
    },
    "language_info": {
      "name": "python"
    }
  },
  "cells": [
    {
      "cell_type": "markdown",
      "metadata": {
        "id": "view-in-github",
        "colab_type": "text"
      },
      "source": [
        "<a href=\"https://colab.research.google.com/github/jeguns/EP7173/blob/main/Unidad%2006/Selecci%C3%B3n_de_atributos_en_modelos_de_clasificaci%C3%B3n.ipynb\" target=\"_parent\"><img src=\"https://colab.research.google.com/assets/colab-badge.svg\" alt=\"Open In Colab\"/></a>"
      ]
    },
    {
      "cell_type": "markdown",
      "source": [
        "## Instalación de paquetes"
      ],
      "metadata": {
        "id": "i8Psx_-FCL3x"
      }
    },
    {
      "cell_type": "code",
      "source": [
        "pip install boruta"
      ],
      "metadata": {
        "id": "wURIrMVBCED8"
      },
      "execution_count": null,
      "outputs": []
    },
    {
      "cell_type": "markdown",
      "source": [
        "## Lectura de datos"
      ],
      "metadata": {
        "id": "byzsKcMpCOZv"
      }
    },
    {
      "cell_type": "markdown",
      "source": [
        "El archivo diabetes.csv es originalmente del Instituto Nacional de Diabetes y Enfermedades Digestivas y Renales. El objetivo del conjunto de datos es predecir diagnósticamente si un paciente tiene o no diabetes, en función de ciertas mediciones diagnósticas incluidas en el conjunto de datos. Se impusieron varias restricciones a la selección de estos casos de una base de datos más grande. En particular, todos los pacientes aquí son mujeres de al menos 21 años de edad de ascendencia indígena Pima.\n",
        "\n",
        "Variables contenidas:\n",
        "- Pregnancies: Número de embarazos\n",
        "\n",
        "- Glucose: Concentración de glucosa en un test oral de tolerancia a la glucosa.\n",
        "\n",
        "- BloodPresure: Presión sistólica (en mmHg)\n",
        "\n",
        "- SkinThickness: Grosor del pliegue cutáneo del tríceps (mm)\n",
        "\n",
        "- BMI: Índice de Masa Corporal (en kg/altura^2)\n",
        "\n",
        "- DiabetesPedigreeFunction: Diabetes pedigree function\n",
        "\n",
        "- Age: Edad (en años)\n",
        "\n",
        "- Outcome: Target que indica si tiene o no diabetes"
      ],
      "metadata": {
        "id": "yiKY6xqaT1iM"
      }
    },
    {
      "cell_type": "code",
      "execution_count": null,
      "metadata": {
        "id": "Y8RwrhV_VPcI"
      },
      "outputs": [],
      "source": [
        "import pandas as pd\n",
        "import numpy as np\n",
        "datos = pd.read_csv('diabetes.csv')\n",
        "datos.head()"
      ]
    },
    {
      "cell_type": "code",
      "source": [
        "array = datos.values\n",
        "X = array[:,0:8]\n",
        "Y = array[:,8]"
      ],
      "metadata": {
        "id": "aDMQj1hjVjKM"
      },
      "execution_count": null,
      "outputs": []
    },
    {
      "cell_type": "code",
      "source": [
        "datos.describe()"
      ],
      "metadata": {
        "id": "FbwzM3a032UT"
      },
      "execution_count": null,
      "outputs": []
    },
    {
      "cell_type": "markdown",
      "source": [
        "# Filtros"
      ],
      "metadata": {
        "id": "NeZGJnwPCfS_"
      }
    },
    {
      "cell_type": "markdown",
      "source": [
        "## Selección por umbral de varianza"
      ],
      "metadata": {
        "id": "IWq0ofeHCQ5Z"
      }
    },
    {
      "cell_type": "code",
      "source": [
        "from sklearn.feature_selection import VarianceThreshold, SelectKBest, SelectPercentile, SelectFpr, SelectFdr, SelectFwe\n",
        "\n",
        "selector_var = VarianceThreshold(threshold = 20)\n",
        "selector_var.fit_transform(X)"
      ],
      "metadata": {
        "id": "Mns6U6J73Pzj"
      },
      "execution_count": null,
      "outputs": []
    },
    {
      "cell_type": "code",
      "source": [
        "selected_columns = datos.drop('Outcome', axis=1).columns[selector_var.get_support()]\n",
        "selected_columns"
      ],
      "metadata": {
        "id": "ns6DCyTz3e3-"
      },
      "execution_count": null,
      "outputs": []
    },
    {
      "cell_type": "code",
      "source": [
        "df_selected = pd.DataFrame(selector_var.transform(X), columns=selected_columns)\n",
        "df_selected.head()"
      ],
      "metadata": {
        "id": "4jE36yyI3itN"
      },
      "execution_count": null,
      "outputs": []
    },
    {
      "cell_type": "markdown",
      "source": [
        "## Selección por el estadístico Chi^2"
      ],
      "metadata": {
        "id": "ppVl1Vci0i3m"
      }
    },
    {
      "cell_type": "code",
      "source": [
        "from sklearn.feature_selection import chi2, f_classif, mutual_info_classif\n",
        "\n",
        "selector_chi2 = SelectKBest(score_func=chi2, k=4).fit(X, Y)\n",
        "selector_chi2"
      ],
      "metadata": {
        "id": "FxzHeZ0gyFVS"
      },
      "execution_count": null,
      "outputs": []
    },
    {
      "cell_type": "code",
      "source": [
        "selector_chi2.scores_"
      ],
      "metadata": {
        "id": "aPGBwFXPydTI"
      },
      "execution_count": null,
      "outputs": []
    },
    {
      "cell_type": "code",
      "source": [
        "selector_chi2.pvalues_"
      ],
      "metadata": {
        "id": "P_w6Jt-75PRR"
      },
      "execution_count": null,
      "outputs": []
    },
    {
      "cell_type": "code",
      "source": [
        "selector_chi2.n_features_in_"
      ],
      "metadata": {
        "id": "QnZkiTXz5S4x"
      },
      "execution_count": null,
      "outputs": []
    },
    {
      "cell_type": "code",
      "source": [
        "selector_chi2.get_support()"
      ],
      "metadata": {
        "id": "Gw16KbS02_Fg"
      },
      "execution_count": null,
      "outputs": []
    },
    {
      "cell_type": "code",
      "source": [
        "selected_columns = datos.drop('Outcome', axis=1).columns[selector_chi2.get_support()]\n",
        "selected_columns"
      ],
      "metadata": {
        "id": "RchpSSgMyRZI"
      },
      "execution_count": null,
      "outputs": []
    },
    {
      "cell_type": "code",
      "source": [
        "selector_chi2.transform(X)"
      ],
      "metadata": {
        "id": "e1xTqFpg3M57"
      },
      "execution_count": null,
      "outputs": []
    },
    {
      "cell_type": "code",
      "source": [
        "df_selected = pd.DataFrame(selector_chi2.transform(X), columns = selected_columns)\n",
        "df_selected.head()"
      ],
      "metadata": {
        "id": "3qnu0awiyTE-"
      },
      "execution_count": null,
      "outputs": []
    },
    {
      "cell_type": "code",
      "source": [
        "selector_chi2_k = SelectKBest(score_func=chi2, k=4).fit(X, Y)\n",
        "selected_columns = datos.drop('Outcome', axis=1).columns[selector_chi2_k.get_support()]\n",
        "df_selected = pd.DataFrame(selector_chi2_k.transform(X), columns=selected_columns)\n",
        "df_selected.head()"
      ],
      "metadata": {
        "id": "F5-q5yjuzgJg"
      },
      "execution_count": null,
      "outputs": []
    },
    {
      "cell_type": "code",
      "source": [
        "selector_chi2_perc = SelectPercentile(score_func = chi2, percentile = 50).fit(X, Y)\n",
        "selected_columns = datos.drop('Outcome', axis=1).columns[selector_chi2_perc.get_support()]\n",
        "df_selected = pd.DataFrame(selector_chi2_perc.transform(X), columns=selected_columns)\n",
        "df_selected.head()"
      ],
      "metadata": {
        "id": "FAJZu52bzqEw"
      },
      "execution_count": null,
      "outputs": []
    },
    {
      "cell_type": "code",
      "source": [
        "selector_chi2_fpr = SelectFpr(score_func = chi2, alpha = 1e-2).fit(X, Y)\n",
        "selected_columns = datos.drop('Outcome', axis=1).columns[selector_chi2_fpr.get_support()]\n",
        "df_selected = pd.DataFrame(selector_chi2_fpr.transform(X), columns=selected_columns)\n",
        "df_selected.head()"
      ],
      "metadata": {
        "id": "ISGg6s4z6PNg"
      },
      "execution_count": null,
      "outputs": []
    },
    {
      "cell_type": "code",
      "source": [
        "selector_chi2_fpr.pvalues_"
      ],
      "metadata": {
        "id": "bnAhZjz7x_GI"
      },
      "execution_count": null,
      "outputs": []
    },
    {
      "cell_type": "code",
      "source": [
        "selector_chi2_fpr.get_support()"
      ],
      "metadata": {
        "id": "Mxl5Vs29x-Ri"
      },
      "execution_count": null,
      "outputs": []
    },
    {
      "cell_type": "code",
      "source": [
        "selector_chi2_fpr = SelectFpr(score_func = chi2, alpha = 1e-5).fit(X, Y)\n",
        "selected_columns = datos.drop('Outcome', axis=1).columns[selector_chi2_fpr.get_support()]\n",
        "df_selected = pd.DataFrame(selector_chi2_fpr.transform(X), columns=selected_columns)\n",
        "df_selected.head()"
      ],
      "metadata": {
        "id": "Ads-EQnyxnfl"
      },
      "execution_count": null,
      "outputs": []
    },
    {
      "cell_type": "code",
      "source": [
        "selector_chi2_fpr.pvalues_"
      ],
      "metadata": {
        "id": "gIlEeZPixwQx"
      },
      "execution_count": null,
      "outputs": []
    },
    {
      "cell_type": "code",
      "source": [
        "selector_chi2_fpr.get_support()"
      ],
      "metadata": {
        "id": "TzQixqJZxyGy"
      },
      "execution_count": null,
      "outputs": []
    },
    {
      "cell_type": "code",
      "source": [
        "selector_chi2_fdr = SelectFdr(score_func = chi2, alpha = 0.01).fit(X, Y) #  Benjamini-Hochberg\n",
        "selected_columns = datos.drop('Outcome', axis=1).columns[selector_chi2_fdr.get_support()]\n",
        "df_selected = pd.DataFrame(selector_chi2_fdr.transform(X), columns=selected_columns)\n",
        "df_selected.head()"
      ],
      "metadata": {
        "id": "WIzf6Yqf5ixA"
      },
      "execution_count": null,
      "outputs": []
    },
    {
      "cell_type": "code",
      "source": [
        "selector_chi2_fwe = SelectFwe(score_func = chi2, alpha = 0.01).fit(X, Y)\n",
        "selected_columns = datos.drop('Outcome', axis=1).columns[selector_chi2_fwe.get_support()]\n",
        "df_selected = pd.DataFrame(selector_chi2_fwe.transform(X), columns=selected_columns)\n",
        "df_selected.head()"
      ],
      "metadata": {
        "id": "8afgugdB62uV"
      },
      "execution_count": null,
      "outputs": []
    },
    {
      "cell_type": "markdown",
      "source": [
        "## Selección por el estadístico F de ANOVA"
      ],
      "metadata": {
        "id": "37rysqQ50myW"
      }
    },
    {
      "cell_type": "code",
      "source": [
        "selector_anova = SelectKBest(score_func=f_classif, k=4).fit(X, Y)\n",
        "selector_anova.scores_"
      ],
      "metadata": {
        "id": "mB6v8d34zkd9"
      },
      "execution_count": null,
      "outputs": []
    },
    {
      "cell_type": "code",
      "source": [
        "selector_anova.pvalues_"
      ],
      "metadata": {
        "id": "pQ_ajqq-5t0V"
      },
      "execution_count": null,
      "outputs": []
    },
    {
      "cell_type": "code",
      "source": [
        "selector_anova.n_features_in_"
      ],
      "metadata": {
        "id": "v3rilQXv7inG"
      },
      "execution_count": null,
      "outputs": []
    },
    {
      "cell_type": "code",
      "source": [
        "selector_anova.get_support()"
      ],
      "metadata": {
        "id": "hVYZIzch7kXN"
      },
      "execution_count": null,
      "outputs": []
    },
    {
      "cell_type": "code",
      "source": [
        "selected_columns = datos.drop('Outcome', axis=1).columns[selector_anova.get_support()]\n",
        "df_selected = pd.DataFrame(selector_anova.transform(X), columns=selected_columns)\n",
        "df_selected.head()"
      ],
      "metadata": {
        "id": "8VMXCDPszzpM"
      },
      "execution_count": null,
      "outputs": []
    },
    {
      "cell_type": "code",
      "source": [
        "selector_anova_k = SelectKBest(score_func=f_classif, k=4).fit(X, Y)\n",
        "selected_columns = datos.drop('Outcome', axis=1).columns[selector_anova_k.get_support()]\n",
        "df_selected = pd.DataFrame(selector_anova_k.transform(X), columns=selected_columns)\n",
        "df_selected.head()"
      ],
      "metadata": {
        "id": "Iv7nZuma7pHk"
      },
      "execution_count": null,
      "outputs": []
    },
    {
      "cell_type": "code",
      "source": [
        "selector_anova_perc = SelectPercentile(score_func=f_classif, percentile = 50).fit(X, Y)\n",
        "selected_columns = datos.drop('Outcome', axis=1).columns[selector_anova_perc.get_support()]\n",
        "df_selected = pd.DataFrame(selector_anova_perc.transform(X), columns=selected_columns)\n",
        "df_selected.head()"
      ],
      "metadata": {
        "id": "8VD-N-wJ7vzk"
      },
      "execution_count": null,
      "outputs": []
    },
    {
      "cell_type": "code",
      "source": [
        "selector_anova_fpr = SelectFpr(score_func=f_classif, alpha = 0.01).fit(X, Y)\n",
        "selected_columns = datos.drop('Outcome', axis=1).columns[selector_anova_fpr.get_support()]\n",
        "df_selected = pd.DataFrame(selector_anova_fpr.transform(X), columns=selected_columns)\n",
        "df_selected.head()"
      ],
      "metadata": {
        "id": "LI8B1i-h9GUc"
      },
      "execution_count": null,
      "outputs": []
    },
    {
      "cell_type": "code",
      "source": [
        "selector_anova_fdr = SelectFpr(score_func=f_classif, alpha = 0.01).fit(X, Y)\n",
        "selected_columns = datos.drop('Outcome', axis=1).columns[selector_anova_fdr.get_support()]\n",
        "df_selected = pd.DataFrame(selector_anova_fdr.transform(X), columns=selected_columns)\n",
        "df_selected.head()"
      ],
      "metadata": {
        "id": "cKB8kRJt9keT"
      },
      "execution_count": null,
      "outputs": []
    },
    {
      "cell_type": "code",
      "source": [
        "selector_anova_fwe = SelectFpr(score_func=f_classif, alpha = 0.01).fit(X, Y)\n",
        "selected_columns = datos.drop('Outcome', axis=1).columns[selector_anova_fwe.get_support()]\n",
        "df_selected = pd.DataFrame(selector_anova_fwe.transform(X), columns=selected_columns)\n",
        "df_selected.head()"
      ],
      "metadata": {
        "id": "sqH0BHFC9nff"
      },
      "execution_count": null,
      "outputs": []
    },
    {
      "cell_type": "markdown",
      "source": [
        "## Selección por el indicador de información mutua"
      ],
      "metadata": {
        "id": "T09nWBVV0w3s"
      }
    },
    {
      "cell_type": "markdown",
      "source": [
        "$$I(X;Y) = \\sum_x\\sum_y{p(x,y)\\log\\left(\\frac{p(x,y)}{p(x)p(y)}\\right)}$$"
      ],
      "metadata": {
        "id": "p9jaSmXzPAcN"
      }
    },
    {
      "cell_type": "code",
      "source": [
        "selector_im = SelectKBest(score_func=lambda X, y: mutual_info_classif(X, Y, random_state=42), k=4).fit(X, Y)\n",
        "selector_im.scores_"
      ],
      "metadata": {
        "id": "dnumGzQ7_vZQ"
      },
      "execution_count": null,
      "outputs": []
    },
    {
      "cell_type": "code",
      "source": [
        "selector_im.get_support()"
      ],
      "metadata": {
        "id": "qpYGcbo79sXf"
      },
      "execution_count": null,
      "outputs": []
    },
    {
      "cell_type": "code",
      "source": [
        "selected_columns = datos.drop('Outcome', axis=1).columns[selector_im.get_support()]\n",
        "df_selected = pd.DataFrame(selector_im.transform(X), columns=selected_columns)\n",
        "df_selected.head()"
      ],
      "metadata": {
        "id": "ipcqY50j04UG"
      },
      "execution_count": null,
      "outputs": []
    },
    {
      "cell_type": "code",
      "source": [
        "selector_im_k = SelectKBest(score_func=lambda X, y: mutual_info_classif(X, Y, random_state=42), k=4).fit(X, Y)\n",
        "selected_columns = datos.drop('Outcome', axis=1).columns[selector_im_k.get_support()]\n",
        "df_selected = pd.DataFrame(selector_im_k.transform(X), columns=selected_columns)\n",
        "df_selected.head()"
      ],
      "metadata": {
        "id": "ztJlMWVV90yB"
      },
      "execution_count": null,
      "outputs": []
    },
    {
      "cell_type": "code",
      "source": [
        "selector_im_perc = SelectPercentile(score_func=lambda X, y: mutual_info_classif(X, Y, random_state=42), percentile=50).fit(X, Y)\n",
        "selected_columns = datos.drop('Outcome', axis=1).columns[selector_im_perc.get_support()]\n",
        "df_selected = pd.DataFrame(selector_im_perc.transform(X), columns=selected_columns)\n",
        "df_selected.head()"
      ],
      "metadata": {
        "id": "WpWdAjBP95eP"
      },
      "execution_count": null,
      "outputs": []
    },
    {
      "cell_type": "markdown",
      "source": [
        "# Wrappers"
      ],
      "metadata": {
        "id": "3HiP9QLKCjIq"
      }
    },
    {
      "cell_type": "code",
      "source": [
        "from sklearn.linear_model import LogisticRegression\n",
        "model = LogisticRegression(max_iter = 400)"
      ],
      "metadata": {
        "id": "n-z9_gtPiMBw"
      },
      "execution_count": null,
      "outputs": []
    },
    {
      "cell_type": "code",
      "source": [
        "x = datos.drop('Outcome', axis=1)\n",
        "y = datos['Outcome']"
      ],
      "metadata": {
        "id": "MjxQ11j8u_QI"
      },
      "execution_count": null,
      "outputs": []
    },
    {
      "cell_type": "markdown",
      "source": [
        "## Forward selection"
      ],
      "metadata": {
        "id": "9DtrYBb6kig7"
      }
    },
    {
      "cell_type": "code",
      "source": [
        "from sklearn.feature_selection import SequentialFeatureSelector, RFE\n",
        "selector_forward = SequentialFeatureSelector(model, n_features_to_select= 'auto', scoring = 'f1', direction='forward', tol = 1e-3).fit(x, y)"
      ],
      "metadata": {
        "id": "ld3VAjIRiQEF"
      },
      "execution_count": null,
      "outputs": []
    },
    {
      "cell_type": "markdown",
      "source": [
        "Revisar [aquí](https://scikit-learn.org/dev/modules/model_evaluation.html#scoring-parameter) los posibles valores para el argumento scoring"
      ],
      "metadata": {
        "id": "Y-W81jUxR-Oz"
      }
    },
    {
      "cell_type": "code",
      "source": [
        "selector_forward.n_features_in_"
      ],
      "metadata": {
        "id": "RMfuNbTzjyoa"
      },
      "execution_count": null,
      "outputs": []
    },
    {
      "cell_type": "code",
      "source": [
        "selector_forward.feature_names_in_"
      ],
      "metadata": {
        "id": "6erLgT2xm88w"
      },
      "execution_count": null,
      "outputs": []
    },
    {
      "cell_type": "code",
      "source": [
        "selector_forward.get_support()"
      ],
      "metadata": {
        "id": "lHLuW_vQj25x"
      },
      "execution_count": null,
      "outputs": []
    },
    {
      "cell_type": "code",
      "source": [
        "selector_forward.get_feature_names_out()"
      ],
      "metadata": {
        "id": "VnVA_R4hnB38"
      },
      "execution_count": null,
      "outputs": []
    },
    {
      "cell_type": "code",
      "source": [
        "selector_forward.transform(x)"
      ],
      "metadata": {
        "id": "1zZiUJsCoJ7X"
      },
      "execution_count": null,
      "outputs": []
    },
    {
      "cell_type": "code",
      "source": [
        "df_selected = datos[selector_forward.get_feature_names_out()]\n",
        "df_selected.head()"
      ],
      "metadata": {
        "id": "MrPfXpojkLEU"
      },
      "execution_count": null,
      "outputs": []
    },
    {
      "cell_type": "code",
      "source": [
        "selector_forward = SequentialFeatureSelector(model, n_features_to_select = 'auto', scoring = 'f1', direction='forward', tol = 1e-1).fit(x, y)\n",
        "df_selected = datos[selector_forward.get_feature_names_out()]\n",
        "df_selected.head()"
      ],
      "metadata": {
        "id": "P9U-i5-FkZy9"
      },
      "execution_count": null,
      "outputs": []
    },
    {
      "cell_type": "code",
      "source": [
        "selector_forward = SequentialFeatureSelector(model, n_features_to_select = 'auto', scoring = 'f1', direction='forward', tol = 1e-3).fit(x, y)\n",
        "df_selected = datos[selector_forward.get_feature_names_out()]\n",
        "df_selected.head()"
      ],
      "metadata": {
        "id": "_gSUfOR_mTYZ"
      },
      "execution_count": null,
      "outputs": []
    },
    {
      "cell_type": "code",
      "source": [
        "selector_forward = SequentialFeatureSelector(model, n_features_to_select = 'auto', scoring = 'f1', direction='forward', tol = 1e-5).fit(x, y)\n",
        "df_selected = datos[selector_forward.get_feature_names_out()]\n",
        "df_selected.head()"
      ],
      "metadata": {
        "id": "RxP3Q1hqmTsj"
      },
      "execution_count": null,
      "outputs": []
    },
    {
      "cell_type": "code",
      "source": [
        "selector_forward = SequentialFeatureSelector(model, n_features_to_select = 'auto', scoring = 'f1', direction='forward').fit(x, y)\n",
        "df_selected = datos[selector_forward.get_feature_names_out()]\n",
        "df_selected.head()"
      ],
      "metadata": {
        "id": "Eo2-Ni5nmasj"
      },
      "execution_count": null,
      "outputs": []
    },
    {
      "cell_type": "markdown",
      "source": [
        "## Backward selection"
      ],
      "metadata": {
        "id": "zlrliaDQksIC"
      }
    },
    {
      "cell_type": "code",
      "source": [
        "selector_backward = SequentialFeatureSelector(model, n_features_to_select = 'auto', scoring = 'f1', direction='backward', tol = -1e-1).fit(x, y)\n",
        "df_selected = datos[selector_backward.get_feature_names_out()]\n",
        "df_selected.head()"
      ],
      "metadata": {
        "id": "UBdc2GNGkuFb"
      },
      "execution_count": null,
      "outputs": []
    },
    {
      "cell_type": "code",
      "source": [
        "selector_backward = SequentialFeatureSelector(model, n_features_to_select = 'auto', scoring = 'f1', direction='backward', tol = -1e-3).fit(x, y)\n",
        "df_selected = datos[selector_backward.get_feature_names_out()]\n",
        "df_selected.head()"
      ],
      "metadata": {
        "id": "9pIXZBrPmkHB"
      },
      "execution_count": null,
      "outputs": []
    },
    {
      "cell_type": "code",
      "source": [
        "selector_backward = SequentialFeatureSelector(model, n_features_to_select = 'auto', scoring = 'f1', direction='backward', tol = -1e-8).fit(x, y)\n",
        "df_selected = datos[selector_backward.get_feature_names_out()]\n",
        "df_selected.head()"
      ],
      "metadata": {
        "id": "_VtJqqilmlp9"
      },
      "execution_count": null,
      "outputs": []
    },
    {
      "cell_type": "code",
      "source": [
        "selector_backward = SequentialFeatureSelector(model, n_features_to_select = 'auto', scoring = 'f1', direction='backward').fit(x, y)\n",
        "df_selected = datos[selector_backward.get_feature_names_out()]\n",
        "df_selected.head()"
      ],
      "metadata": {
        "id": "o_oPBWIumo7x"
      },
      "execution_count": null,
      "outputs": []
    },
    {
      "cell_type": "markdown",
      "source": [
        "## RFE"
      ],
      "metadata": {
        "id": "EhaTu9CZo4-q"
      }
    },
    {
      "cell_type": "code",
      "source": [
        "selector_rfe = RFE(model, n_features_to_select= 3).fit(x, y)"
      ],
      "metadata": {
        "id": "i3-W4LVko59f"
      },
      "execution_count": null,
      "outputs": []
    },
    {
      "cell_type": "code",
      "source": [
        "selector_rfe.ranking_"
      ],
      "metadata": {
        "id": "HyTbUNJ_pc1z"
      },
      "execution_count": null,
      "outputs": []
    },
    {
      "cell_type": "code",
      "source": [
        "selector_rfe.get_support()"
      ],
      "metadata": {
        "id": "QfthyjYmpmGy"
      },
      "execution_count": null,
      "outputs": []
    },
    {
      "cell_type": "code",
      "source": [
        "selector_rfe.get_feature_names_out()"
      ],
      "metadata": {
        "id": "Q_N5SfyopiF4"
      },
      "execution_count": null,
      "outputs": []
    },
    {
      "cell_type": "code",
      "source": [
        "df_selected = datos[selector_rfe.get_feature_names_out()]\n",
        "df_selected.head()"
      ],
      "metadata": {
        "id": "RtGK38l7pgXG"
      },
      "execution_count": null,
      "outputs": []
    },
    {
      "cell_type": "code",
      "source": [
        "selector_rfe = RFE(model, n_features_to_select = 0.7).fit(x, y)\n",
        "df_selected = datos[selector_rfe.get_feature_names_out()]\n",
        "df_selected.head()"
      ],
      "metadata": {
        "id": "z3aIjborpNJ2"
      },
      "execution_count": null,
      "outputs": []
    },
    {
      "cell_type": "code",
      "source": [
        "selector_rfe = RFE(model).fit(x, y)\n",
        "df_selected = datos[selector_rfe.get_feature_names_out()]\n",
        "df_selected.head()"
      ],
      "metadata": {
        "id": "g19wNnttpP9S"
      },
      "execution_count": null,
      "outputs": []
    },
    {
      "cell_type": "code",
      "source": [
        "from sklearn.tree import DecisionTreeClassifier\n",
        "model_tree = DecisionTreeClassifier()\n",
        "selector_forward = SequentialFeatureSelector(model_tree, n_features_to_select = 'auto', direction='forward', tol = 1e-5).fit(x, y)\n",
        "df_selected = datos[selector_forward.get_feature_names_out()]\n",
        "df_selected.head()"
      ],
      "metadata": {
        "id": "rVn13RBtqffH"
      },
      "execution_count": null,
      "outputs": []
    },
    {
      "cell_type": "code",
      "source": [
        "from sklearn.ensemble import RandomForestClassifier\n",
        "model_rf = RandomForestClassifier(n_estimators=100, random_state=42)\n",
        "selector_forward = SequentialFeatureSelector(model_rf, n_features_to_select = 'auto', direction='forward', tol = 1e-5).fit(x, y)\n",
        "df_selected = datos[selector_forward.get_feature_names_out()]\n",
        "df_selected.head()"
      ],
      "metadata": {
        "id": "TDN5wg-Yqmsf"
      },
      "execution_count": null,
      "outputs": []
    },
    {
      "cell_type": "code",
      "source": [
        "from sklearn.svm import SVC\n",
        "model_svm = SVC(kernel='linear')\n",
        "selector_forward = SequentialFeatureSelector(model_svm, n_features_to_select = 'auto', direction='forward', tol = 1e-5).fit(x, y)\n",
        "df_selected = datos[selector_forward.get_feature_names_out()]\n",
        "df_selected.head()"
      ],
      "metadata": {
        "id": "8571kuKRqsBK"
      },
      "execution_count": null,
      "outputs": []
    },
    {
      "cell_type": "markdown",
      "source": [
        "## Boruta"
      ],
      "metadata": {
        "id": "HWUV7xrPClWb"
      }
    },
    {
      "cell_type": "code",
      "source": [
        "from sklearn.ensemble import RandomForestClassifier\n",
        "from boruta import BorutaPy"
      ],
      "metadata": {
        "id": "o6C6Z7tABIe3"
      },
      "execution_count": null,
      "outputs": []
    },
    {
      "cell_type": "code",
      "source": [
        "x = datos.drop('Outcome', axis=1)\n",
        "y = datos['Outcome']\n",
        "\n",
        "rf = RandomForestClassifier(n_jobs=-1, class_weight='balanced', max_depth=5)"
      ],
      "metadata": {
        "id": "fkbuobvaA_HZ"
      },
      "execution_count": null,
      "outputs": []
    },
    {
      "cell_type": "code",
      "source": [
        "boruta_selector = BorutaPy(estimator=rf, n_estimators='auto', verbose=0, random_state=2024)"
      ],
      "metadata": {
        "id": "PnfFR739BGrZ"
      },
      "execution_count": null,
      "outputs": []
    },
    {
      "cell_type": "code",
      "source": [
        "boruta_selector.fit(x.values, y.values)"
      ],
      "metadata": {
        "id": "3wD-bTk7BZ81"
      },
      "execution_count": null,
      "outputs": []
    },
    {
      "cell_type": "code",
      "source": [
        "selected_features = x.columns[boruta_selector.support_].tolist()\n",
        "selected_features"
      ],
      "metadata": {
        "id": "B5ZpmtgeBk0z"
      },
      "execution_count": null,
      "outputs": []
    },
    {
      "cell_type": "code",
      "source": [
        "datos[selected_features + ['Outcome']]"
      ],
      "metadata": {
        "id": "MUdZATVIB25Q"
      },
      "execution_count": null,
      "outputs": []
    }
  ]
}