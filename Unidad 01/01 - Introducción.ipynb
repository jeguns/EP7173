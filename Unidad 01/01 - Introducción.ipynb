{
 "cells": [
  {
   "cell_type": "markdown",
   "metadata": {
    "id": "CFiJtc_DbpLR"
   },
   "source": [
    "# **Operaciones básicas en lenguaje Python**\n"
   ]
  },
  {
   "cell_type": "markdown",
   "metadata": {
    "id": "TvFzdEgYCRBl"
   },
   "source": [
    "# **Título**\n",
    "\n",
    "## *Subtítulo*\n",
    "\n",
    "### Sección 1\n",
    "\n",
    "#### Subsección 1"
   ]
  },
  {
   "cell_type": "markdown",
   "metadata": {
    "id": "QLNMII8HDFnA"
   },
   "source": [
    "Texto de introducción al Python\n",
    "\n",
    "Podemos usar $\\LaTeX$\n",
    "\n",
    "$$x^2 + y^2 = 1$$"
   ]
  },
  {
   "cell_type": "markdown",
   "metadata": {
    "id": "fvxCQTm3UFww"
   },
   "source": [
    "Este archivo es para ir aprendiendo Python"
   ]
  },
  {
   "cell_type": "code",
   "execution_count": 1,
   "metadata": {
    "colab": {
     "base_uri": "https://localhost:8080/"
    },
    "executionInfo": {
     "elapsed": 5,
     "status": "ok",
     "timestamp": 1711411216927,
     "user": {
      "displayName": "Jesus Eduardo Gamboa",
      "userId": "16477715403542876139"
     },
     "user_tz": 300
    },
    "id": "fs4kh7WNDlYr",
    "outputId": "097b8e0c-86c7-4fcb-eab1-4fbd5586a68e"
   },
   "outputs": [
    {
     "data": {
      "text/plain": [
       "9"
      ]
     },
     "execution_count": 1,
     "metadata": {},
     "output_type": "execute_result"
    }
   ],
   "source": [
    "5+4"
   ]
  },
  {
   "cell_type": "code",
   "execution_count": 2,
   "metadata": {
    "colab": {
     "base_uri": "https://localhost:8080/"
    },
    "executionInfo": {
     "elapsed": 2,
     "status": "ok",
     "timestamp": 1711411226903,
     "user": {
      "displayName": "Jesus Eduardo Gamboa",
      "userId": "16477715403542876139"
     },
     "user_tz": 300
    },
    "id": "k-Qz8pVnbh1Y",
    "outputId": "78ada17c-6088-4498-8bb9-9f367ac01edf"
   },
   "outputs": [
    {
     "data": {
      "text/plain": [
       "8"
      ]
     },
     "execution_count": 2,
     "metadata": {},
     "output_type": "execute_result"
    }
   ],
   "source": [
    "2+6"
   ]
  },
  {
   "cell_type": "code",
   "execution_count": 3,
   "metadata": {
    "colab": {
     "base_uri": "https://localhost:8080/"
    },
    "executionInfo": {
     "elapsed": 3,
     "status": "ok",
     "timestamp": 1711411229301,
     "user": {
      "displayName": "Jesus Eduardo Gamboa",
      "userId": "16477715403542876139"
     },
     "user_tz": 300
    },
    "id": "SW5ofEE8fF3k",
    "outputId": "7b3c14dc-54b1-4b3b-80dc-030d5f7eb48d"
   },
   "outputs": [
    {
     "data": {
      "text/plain": [
       "-4"
      ]
     },
     "execution_count": 3,
     "metadata": {},
     "output_type": "execute_result"
    }
   ],
   "source": [
    "2-6"
   ]
  },
  {
   "cell_type": "code",
   "execution_count": 4,
   "metadata": {
    "colab": {
     "base_uri": "https://localhost:8080/"
    },
    "executionInfo": {
     "elapsed": 4,
     "status": "ok",
     "timestamp": 1711411230378,
     "user": {
      "displayName": "Jesus Eduardo Gamboa",
      "userId": "16477715403542876139"
     },
     "user_tz": 300
    },
    "id": "X2usPjEFfWk6",
    "outputId": "10bf7d9a-8246-4339-9f1d-18a19d8aa2e5"
   },
   "outputs": [
    {
     "data": {
      "text/plain": [
       "12"
      ]
     },
     "execution_count": 4,
     "metadata": {},
     "output_type": "execute_result"
    }
   ],
   "source": [
    "2*6"
   ]
  },
  {
   "cell_type": "code",
   "execution_count": 5,
   "metadata": {
    "colab": {
     "base_uri": "https://localhost:8080/"
    },
    "executionInfo": {
     "elapsed": 7,
     "status": "ok",
     "timestamp": 1711411231890,
     "user": {
      "displayName": "Jesus Eduardo Gamboa",
      "userId": "16477715403542876139"
     },
     "user_tz": 300
    },
    "id": "kG3uTyd6gLjw",
    "outputId": "c3875dec-0763-4c3e-d625-64d1eb3c51d5"
   },
   "outputs": [
    {
     "data": {
      "text/plain": [
       "3.3333333333333335"
      ]
     },
     "execution_count": 5,
     "metadata": {},
     "output_type": "execute_result"
    }
   ],
   "source": [
    "20/6"
   ]
  },
  {
   "cell_type": "code",
   "execution_count": 6,
   "metadata": {
    "colab": {
     "base_uri": "https://localhost:8080/"
    },
    "executionInfo": {
     "elapsed": 2,
     "status": "ok",
     "timestamp": 1711411232292,
     "user": {
      "displayName": "Jesus Eduardo Gamboa",
      "userId": "16477715403542876139"
     },
     "user_tz": 300
    },
    "id": "cXAt1wG6rBay",
    "outputId": "9ef90ac1-e2d9-4e8c-cec8-79e2151e7c77"
   },
   "outputs": [
    {
     "data": {
      "text/plain": [
       "3"
      ]
     },
     "execution_count": 6,
     "metadata": {},
     "output_type": "execute_result"
    }
   ],
   "source": [
    "20//6 # parte entera del cociente"
   ]
  },
  {
   "cell_type": "code",
   "execution_count": 7,
   "metadata": {
    "colab": {
     "base_uri": "https://localhost:8080/"
    },
    "executionInfo": {
     "elapsed": 4,
     "status": "ok",
     "timestamp": 1711411234377,
     "user": {
      "displayName": "Jesus Eduardo Gamboa",
      "userId": "16477715403542876139"
     },
     "user_tz": 300
    },
    "id": "17-l7UcQrDVS",
    "outputId": "0adf6338-e063-4f03-9e76-96bf84b27133"
   },
   "outputs": [
    {
     "data": {
      "text/plain": [
       "2"
      ]
     },
     "execution_count": 7,
     "metadata": {},
     "output_type": "execute_result"
    }
   ],
   "source": [
    "20%6 # residuo del cociente"
   ]
  },
  {
   "cell_type": "code",
   "execution_count": 8,
   "metadata": {
    "colab": {
     "base_uri": "https://localhost:8080/"
    },
    "executionInfo": {
     "elapsed": 368,
     "status": "ok",
     "timestamp": 1711411282377,
     "user": {
      "displayName": "Jesus Eduardo Gamboa",
      "userId": "16477715403542876139"
     },
     "user_tz": 300
    },
    "id": "bDjTqRaZrFbw",
    "outputId": "35b62004-f7d1-4145-fb6a-b6e8e8621fc4"
   },
   "outputs": [
    {
     "data": {
      "text/plain": [
       "(3, 2)"
      ]
     },
     "execution_count": 8,
     "metadata": {},
     "output_type": "execute_result"
    }
   ],
   "source": [
    "divmod(20,6) # parte entera del cociente y residuo"
   ]
  },
  {
   "cell_type": "code",
   "execution_count": 9,
   "metadata": {
    "colab": {
     "base_uri": "https://localhost:8080/"
    },
    "executionInfo": {
     "elapsed": 320,
     "status": "ok",
     "timestamp": 1711411288660,
     "user": {
      "displayName": "Jesus Eduardo Gamboa",
      "userId": "16477715403542876139"
     },
     "user_tz": 300
    },
    "id": "_mgtUMNnrGlj",
    "outputId": "6ad9e5b6-e986-4f92-d902-4666c5e4706a"
   },
   "outputs": [
    {
     "data": {
      "text/plain": [
       "9"
      ]
     },
     "execution_count": 9,
     "metadata": {},
     "output_type": "execute_result"
    }
   ],
   "source": [
    "3**2 # 3 elevado al cuadrado"
   ]
  },
  {
   "cell_type": "code",
   "execution_count": 10,
   "metadata": {
    "colab": {
     "base_uri": "https://localhost:8080/"
    },
    "executionInfo": {
     "elapsed": 296,
     "status": "ok",
     "timestamp": 1711411378448,
     "user": {
      "displayName": "Jesus Eduardo Gamboa",
      "userId": "16477715403542876139"
     },
     "user_tz": 300
    },
    "id": "TEBYVTTaEHFo",
    "outputId": "8d83330d-f28e-4bba-9989-e797d8a45b98"
   },
   "outputs": [
    {
     "data": {
      "text/plain": [
       "14"
      ]
     },
     "execution_count": 10,
     "metadata": {},
     "output_type": "execute_result"
    }
   ],
   "source": [
    "20 // 5 + 10 # suma el cociente de 20 entre 5, más 10\n"
   ]
  },
  {
   "cell_type": "code",
   "execution_count": 11,
   "metadata": {
    "colab": {
     "base_uri": "https://localhost:8080/"
    },
    "executionInfo": {
     "elapsed": 266,
     "status": "ok",
     "timestamp": 1711411485313,
     "user": {
      "displayName": "Jesus Eduardo Gamboa",
      "userId": "16477715403542876139"
     },
     "user_tz": 300
    },
    "id": "IRc9ZI1gElmk",
    "outputId": "3bc30af4-2c0d-4aaf-a3df-08641625a1fa"
   },
   "outputs": [
    {
     "data": {
      "text/plain": [
       "5.477225575051661"
      ]
     },
     "execution_count": 11,
     "metadata": {},
     "output_type": "execute_result"
    }
   ],
   "source": [
    "30**0.5 # calcula la raíz cuadrada de 30"
   ]
  },
  {
   "cell_type": "markdown",
   "metadata": {
    "id": "RAJIt1aurN1Q"
   },
   "source": [
    "# **Tipos de datos en lenguaje Python**"
   ]
  },
  {
   "cell_type": "markdown",
   "metadata": {
    "id": "pKUDkqzbreEQ"
   },
   "source": [
    "## **Entero (Integer)**"
   ]
  },
  {
   "cell_type": "code",
   "execution_count": 12,
   "metadata": {
    "colab": {
     "base_uri": "https://localhost:8080/"
    },
    "executionInfo": {
     "elapsed": 260,
     "status": "ok",
     "timestamp": 1711411915290,
     "user": {
      "displayName": "Jesus Eduardo Gamboa",
      "userId": "16477715403542876139"
     },
     "user_tz": 300
    },
    "id": "dHdC9Oudrbgi",
    "outputId": "df44baff-9fa6-4033-e608-6ffd9fc0d54f"
   },
   "outputs": [
    {
     "data": {
      "text/plain": [
       "4"
      ]
     },
     "execution_count": 12,
     "metadata": {},
     "output_type": "execute_result"
    }
   ],
   "source": [
    "4"
   ]
  },
  {
   "cell_type": "code",
   "execution_count": 13,
   "metadata": {
    "colab": {
     "base_uri": "https://localhost:8080/"
    },
    "executionInfo": {
     "elapsed": 336,
     "status": "ok",
     "timestamp": 1711411917312,
     "user": {
      "displayName": "Jesus Eduardo Gamboa",
      "userId": "16477715403542876139"
     },
     "user_tz": 300
    },
    "id": "YEv4NPqOrlz9",
    "outputId": "c5e06d67-e9b7-4d20-a638-0ed0710d0475"
   },
   "outputs": [
    {
     "data": {
      "text/plain": [
       "int"
      ]
     },
     "execution_count": 13,
     "metadata": {},
     "output_type": "execute_result"
    }
   ],
   "source": [
    "type(4)"
   ]
  },
  {
   "cell_type": "code",
   "execution_count": 14,
   "metadata": {
    "executionInfo": {
     "elapsed": 303,
     "status": "ok",
     "timestamp": 1711411937040,
     "user": {
      "displayName": "Jesus Eduardo Gamboa",
      "userId": "16477715403542876139"
     },
     "user_tz": 300
    },
    "id": "-_WwK0Wrroqt"
   },
   "outputs": [],
   "source": [
    "a = 32"
   ]
  },
  {
   "cell_type": "code",
   "execution_count": 15,
   "metadata": {
    "colab": {
     "base_uri": "https://localhost:8080/"
    },
    "executionInfo": {
     "elapsed": 324,
     "status": "ok",
     "timestamp": 1711411938938,
     "user": {
      "displayName": "Jesus Eduardo Gamboa",
      "userId": "16477715403542876139"
     },
     "user_tz": 300
    },
    "id": "rBK9BP8DWB3Y",
    "outputId": "9334030a-32f9-4070-f1da-d8f29ec9ecfb"
   },
   "outputs": [
    {
     "data": {
      "text/plain": [
       "32"
      ]
     },
     "execution_count": 15,
     "metadata": {},
     "output_type": "execute_result"
    }
   ],
   "source": [
    "a"
   ]
  },
  {
   "cell_type": "code",
   "execution_count": 16,
   "metadata": {
    "colab": {
     "base_uri": "https://localhost:8080/"
    },
    "executionInfo": {
     "elapsed": 322,
     "status": "ok",
     "timestamp": 1711411941304,
     "user": {
      "displayName": "Jesus Eduardo Gamboa",
      "userId": "16477715403542876139"
     },
     "user_tz": 300
    },
    "id": "i5DIuof4rqiu",
    "outputId": "4bcc0808-d795-4f8f-d1de-02a6493c541e"
   },
   "outputs": [
    {
     "data": {
      "text/plain": [
       "int"
      ]
     },
     "execution_count": 16,
     "metadata": {},
     "output_type": "execute_result"
    }
   ],
   "source": [
    "type(a)"
   ]
  },
  {
   "cell_type": "code",
   "execution_count": 17,
   "metadata": {
    "colab": {
     "base_uri": "https://localhost:8080/"
    },
    "executionInfo": {
     "elapsed": 4,
     "status": "ok",
     "timestamp": 1711411954140,
     "user": {
      "displayName": "Jesus Eduardo Gamboa",
      "userId": "16477715403542876139"
     },
     "user_tz": 300
    },
    "id": "hGzlioViruSt",
    "outputId": "183c454d-1c50-4f9d-aea0-6cb94ee5b640"
   },
   "outputs": [
    {
     "data": {
      "text/plain": [
       "True"
      ]
     },
     "execution_count": 17,
     "metadata": {},
     "output_type": "execute_result"
    }
   ],
   "source": [
    "type(a) is int # valida si el tipo de dato de a es entero"
   ]
  },
  {
   "cell_type": "code",
   "execution_count": 18,
   "metadata": {
    "colab": {
     "base_uri": "https://localhost:8080/"
    },
    "executionInfo": {
     "elapsed": 268,
     "status": "ok",
     "timestamp": 1711411979039,
     "user": {
      "displayName": "Jesus Eduardo Gamboa",
      "userId": "16477715403542876139"
     },
     "user_tz": 300
    },
    "id": "l1Fru165kdYB",
    "outputId": "37612ced-27db-4adc-83c1-2b1d5cb04bfd"
   },
   "outputs": [
    {
     "name": "stdout",
     "output_type": "stream",
     "text": [
      "El número 32 es de tipo <class 'int'>\n"
     ]
    }
   ],
   "source": [
    "print(\"El número\",a,\"es de tipo\",type(a))"
   ]
  },
  {
   "cell_type": "code",
   "execution_count": 19,
   "metadata": {
    "colab": {
     "base_uri": "https://localhost:8080/"
    },
    "executionInfo": {
     "elapsed": 322,
     "status": "ok",
     "timestamp": 1711412005223,
     "user": {
      "displayName": "Jesus Eduardo Gamboa",
      "userId": "16477715403542876139"
     },
     "user_tz": 300
    },
    "id": "mqWuS6R8sJSx",
    "outputId": "f63ac34b-0a5e-4746-cfe6-e38d9d5fa583"
   },
   "outputs": [
    {
     "name": "stdout",
     "output_type": "stream",
     "text": [
      "El número 32 es de tipo int\n"
     ]
    }
   ],
   "source": [
    "print(\"El número\",a,\"es de tipo\",type(a).__name__)"
   ]
  },
  {
   "cell_type": "markdown",
   "metadata": {
    "id": "rLZG6-17sNbL"
   },
   "source": [
    "## **Flotante (float)**"
   ]
  },
  {
   "cell_type": "code",
   "execution_count": 20,
   "metadata": {
    "executionInfo": {
     "elapsed": 284,
     "status": "ok",
     "timestamp": 1711412030537,
     "user": {
      "displayName": "Jesus Eduardo Gamboa",
      "userId": "16477715403542876139"
     },
     "user_tz": 300
    },
    "id": "faKeOsDdsR_v"
   },
   "outputs": [],
   "source": [
    "b = 13.2"
   ]
  },
  {
   "cell_type": "code",
   "execution_count": 21,
   "metadata": {
    "colab": {
     "base_uri": "https://localhost:8080/"
    },
    "executionInfo": {
     "elapsed": 320,
     "status": "ok",
     "timestamp": 1711412038637,
     "user": {
      "displayName": "Jesus Eduardo Gamboa",
      "userId": "16477715403542876139"
     },
     "user_tz": 300
    },
    "id": "1gJjgOJIsUXo",
    "outputId": "c2671bad-eedf-4af0-cdcc-8e6aa6119a5e"
   },
   "outputs": [
    {
     "data": {
      "text/plain": [
       "float"
      ]
     },
     "execution_count": 21,
     "metadata": {},
     "output_type": "execute_result"
    }
   ],
   "source": [
    "type(b)"
   ]
  },
  {
   "cell_type": "code",
   "execution_count": 22,
   "metadata": {
    "colab": {
     "base_uri": "https://localhost:8080/"
    },
    "executionInfo": {
     "elapsed": 306,
     "status": "ok",
     "timestamp": 1711412042789,
     "user": {
      "displayName": "Jesus Eduardo Gamboa",
      "userId": "16477715403542876139"
     },
     "user_tz": 300
    },
    "id": "LlEpqOE9sXk-",
    "outputId": "9857e1e4-c6f6-4590-dbd3-9d9ae10d8ff5"
   },
   "outputs": [
    {
     "data": {
      "text/plain": [
       "float"
      ]
     },
     "execution_count": 22,
     "metadata": {},
     "output_type": "execute_result"
    }
   ],
   "source": [
    "type(a+b)"
   ]
  },
  {
   "cell_type": "code",
   "execution_count": 23,
   "metadata": {
    "colab": {
     "base_uri": "https://localhost:8080/"
    },
    "executionInfo": {
     "elapsed": 310,
     "status": "ok",
     "timestamp": 1711412065424,
     "user": {
      "displayName": "Jesus Eduardo Gamboa",
      "userId": "16477715403542876139"
     },
     "user_tz": 300
    },
    "id": "Bynb9CZ7scij",
    "outputId": "938355e6-f5ed-4f3f-f94d-065cb1c7a46d"
   },
   "outputs": [
    {
     "data": {
      "text/plain": [
       "int"
      ]
     },
     "execution_count": 23,
     "metadata": {},
     "output_type": "execute_result"
    }
   ],
   "source": [
    "type(a+5)"
   ]
  },
  {
   "cell_type": "code",
   "execution_count": 24,
   "metadata": {
    "executionInfo": {
     "elapsed": 305,
     "status": "ok",
     "timestamp": 1711412097325,
     "user": {
      "displayName": "Jesus Eduardo Gamboa",
      "userId": "16477715403542876139"
     },
     "user_tz": 300
    },
    "id": "C6AJAb0TG9g7"
   },
   "outputs": [],
   "source": [
    "b = 13.0"
   ]
  },
  {
   "cell_type": "code",
   "execution_count": 25,
   "metadata": {
    "colab": {
     "base_uri": "https://localhost:8080/"
    },
    "executionInfo": {
     "elapsed": 5,
     "status": "ok",
     "timestamp": 1711412098561,
     "user": {
      "displayName": "Jesus Eduardo Gamboa",
      "userId": "16477715403542876139"
     },
     "user_tz": 300
    },
    "id": "fQt4pOhNG_Ot",
    "outputId": "c2cd0b0a-e949-43f3-d388-0c3390f4aa3d"
   },
   "outputs": [
    {
     "data": {
      "text/plain": [
       "float"
      ]
     },
     "execution_count": 25,
     "metadata": {},
     "output_type": "execute_result"
    }
   ],
   "source": [
    "type(b)"
   ]
  },
  {
   "cell_type": "markdown",
   "metadata": {
    "id": "MrrBr9-dslx9"
   },
   "source": [
    "## **Complejo (complex)**"
   ]
  },
  {
   "cell_type": "code",
   "execution_count": 26,
   "metadata": {
    "colab": {
     "base_uri": "https://localhost:8080/"
    },
    "executionInfo": {
     "elapsed": 316,
     "status": "ok",
     "timestamp": 1711412160349,
     "user": {
      "displayName": "Jesus Eduardo Gamboa",
      "userId": "16477715403542876139"
     },
     "user_tz": 300
    },
    "id": "3OKh8qB5sp7K",
    "outputId": "e17a03d5-c119-4748-ce23-c5becd8338d9"
   },
   "outputs": [
    {
     "data": {
      "text/plain": [
       "(1+3j)"
      ]
     },
     "execution_count": 26,
     "metadata": {},
     "output_type": "execute_result"
    }
   ],
   "source": [
    "c = 1 + 3j\n",
    "c"
   ]
  },
  {
   "cell_type": "code",
   "execution_count": 27,
   "metadata": {
    "colab": {
     "base_uri": "https://localhost:8080/"
    },
    "executionInfo": {
     "elapsed": 316,
     "status": "ok",
     "timestamp": 1711412162290,
     "user": {
      "displayName": "Jesus Eduardo Gamboa",
      "userId": "16477715403542876139"
     },
     "user_tz": 300
    },
    "id": "QLjY-JbwsuPP",
    "outputId": "bed12a79-586d-4441-d7cd-f9cafbf01d5c"
   },
   "outputs": [
    {
     "data": {
      "text/plain": [
       "complex"
      ]
     },
     "execution_count": 27,
     "metadata": {},
     "output_type": "execute_result"
    }
   ],
   "source": [
    "type(c)"
   ]
  },
  {
   "cell_type": "code",
   "execution_count": 28,
   "metadata": {
    "colab": {
     "base_uri": "https://localhost:8080/"
    },
    "executionInfo": {
     "elapsed": 2,
     "status": "ok",
     "timestamp": 1711412173858,
     "user": {
      "displayName": "Jesus Eduardo Gamboa",
      "userId": "16477715403542876139"
     },
     "user_tz": 300
    },
    "id": "faszhi_RswUt",
    "outputId": "c5270de9-8122-4c1b-9e0f-2a10f9a7cd0c"
   },
   "outputs": [
    {
     "data": {
      "text/plain": [
       "complex"
      ]
     },
     "execution_count": 28,
     "metadata": {},
     "output_type": "execute_result"
    }
   ],
   "source": [
    "r = (-1)**0.5\n",
    "type(r)"
   ]
  },
  {
   "cell_type": "code",
   "execution_count": 29,
   "metadata": {
    "colab": {
     "base_uri": "https://localhost:8080/"
    },
    "executionInfo": {
     "elapsed": 283,
     "status": "ok",
     "timestamp": 1711412186683,
     "user": {
      "displayName": "Jesus Eduardo Gamboa",
      "userId": "16477715403542876139"
     },
     "user_tz": 300
    },
    "id": "Qb9mG4FOHYTb",
    "outputId": "54d0672c-2479-4784-de03-2e0c66d41f16"
   },
   "outputs": [
    {
     "data": {
      "text/plain": [
       "(6.123233995736766e-17+1j)"
      ]
     },
     "execution_count": 29,
     "metadata": {},
     "output_type": "execute_result"
    }
   ],
   "source": [
    "r"
   ]
  },
  {
   "cell_type": "code",
   "execution_count": 30,
   "metadata": {
    "colab": {
     "base_uri": "https://localhost:8080/"
    },
    "executionInfo": {
     "elapsed": 324,
     "status": "ok",
     "timestamp": 1711412285484,
     "user": {
      "displayName": "Jesus Eduardo Gamboa",
      "userId": "16477715403542876139"
     },
     "user_tz": 300
    },
    "id": "yGjRE6jctSo4",
    "outputId": "c45be354-afc8-4b37-b98a-ca0cc6968ca8"
   },
   "outputs": [
    {
     "data": {
      "text/plain": [
       "complex"
      ]
     },
     "execution_count": 30,
     "metadata": {},
     "output_type": "execute_result"
    }
   ],
   "source": [
    "type(r+a)"
   ]
  },
  {
   "cell_type": "markdown",
   "metadata": {
    "id": "mZrteg9TtHeD"
   },
   "source": [
    "## **Lógico o booleano (boolean)**"
   ]
  },
  {
   "cell_type": "code",
   "execution_count": 31,
   "metadata": {
    "executionInfo": {
     "elapsed": 7,
     "status": "ok",
     "timestamp": 1711412365140,
     "user": {
      "displayName": "Jesus Eduardo Gamboa",
      "userId": "16477715403542876139"
     },
     "user_tz": 300
    },
    "id": "dJBqZ1UUtNmL"
   },
   "outputs": [],
   "source": [
    "d = True\n",
    "e = False"
   ]
  },
  {
   "cell_type": "code",
   "execution_count": 32,
   "metadata": {
    "colab": {
     "base_uri": "https://localhost:8080/"
    },
    "executionInfo": {
     "elapsed": 2,
     "status": "ok",
     "timestamp": 1711412371610,
     "user": {
      "displayName": "Jesus Eduardo Gamboa",
      "userId": "16477715403542876139"
     },
     "user_tz": 300
    },
    "id": "ajSG3bfctQ_R",
    "outputId": "5efbf995-0c0f-4bbe-afca-e70fbcc96e2f"
   },
   "outputs": [
    {
     "data": {
      "text/plain": [
       "bool"
      ]
     },
     "execution_count": 32,
     "metadata": {},
     "output_type": "execute_result"
    }
   ],
   "source": [
    "type(d)"
   ]
  },
  {
   "cell_type": "code",
   "execution_count": 33,
   "metadata": {
    "colab": {
     "base_uri": "https://localhost:8080/"
    },
    "executionInfo": {
     "elapsed": 2,
     "status": "ok",
     "timestamp": 1711412391960,
     "user": {
      "displayName": "Jesus Eduardo Gamboa",
      "userId": "16477715403542876139"
     },
     "user_tz": 300
    },
    "id": "dJG1JIqUIKbK",
    "outputId": "5648a623-7236-4a29-d6c8-9604688337d0"
   },
   "outputs": [
    {
     "data": {
      "text/plain": [
       "32"
      ]
     },
     "execution_count": 33,
     "metadata": {},
     "output_type": "execute_result"
    }
   ],
   "source": [
    "a"
   ]
  },
  {
   "cell_type": "code",
   "execution_count": 34,
   "metadata": {
    "colab": {
     "base_uri": "https://localhost:8080/"
    },
    "executionInfo": {
     "elapsed": 289,
     "status": "ok",
     "timestamp": 1711412385386,
     "user": {
      "displayName": "Jesus Eduardo Gamboa",
      "userId": "16477715403542876139"
     },
     "user_tz": 300
    },
    "id": "l_7yKpwA4mI_",
    "outputId": "47b5dfea-7895-4a8c-ddde-8b043d2358e4"
   },
   "outputs": [
    {
     "data": {
      "text/plain": [
       "33"
      ]
     },
     "execution_count": 34,
     "metadata": {},
     "output_type": "execute_result"
    }
   ],
   "source": [
    "d+a"
   ]
  },
  {
   "cell_type": "code",
   "execution_count": 35,
   "metadata": {
    "colab": {
     "base_uri": "https://localhost:8080/"
    },
    "executionInfo": {
     "elapsed": 2,
     "status": "ok",
     "timestamp": 1711412442323,
     "user": {
      "displayName": "Jesus Eduardo Gamboa",
      "userId": "16477715403542876139"
     },
     "user_tz": 300
    },
    "id": "RkNeJ81FtWl8",
    "outputId": "aee1863d-32b3-42cd-bbf7-e5bb9c0ca39d"
   },
   "outputs": [
    {
     "data": {
      "text/plain": [
       "int"
      ]
     },
     "execution_count": 35,
     "metadata": {},
     "output_type": "execute_result"
    }
   ],
   "source": [
    "type(d+a)"
   ]
  },
  {
   "cell_type": "code",
   "execution_count": 36,
   "metadata": {
    "colab": {
     "base_uri": "https://localhost:8080/"
    },
    "executionInfo": {
     "elapsed": 339,
     "status": "ok",
     "timestamp": 1711412449952,
     "user": {
      "displayName": "Jesus Eduardo Gamboa",
      "userId": "16477715403542876139"
     },
     "user_tz": 300
    },
    "id": "X9GsrpkKYG6w",
    "outputId": "2b7feba4-3198-47d6-b363-8bc0c3b6621b"
   },
   "outputs": [
    {
     "data": {
      "text/plain": [
       "True"
      ]
     },
     "execution_count": 36,
     "metadata": {},
     "output_type": "execute_result"
    }
   ],
   "source": [
    "d"
   ]
  },
  {
   "cell_type": "code",
   "execution_count": 37,
   "metadata": {
    "colab": {
     "base_uri": "https://localhost:8080/"
    },
    "executionInfo": {
     "elapsed": 298,
     "status": "ok",
     "timestamp": 1711412451869,
     "user": {
      "displayName": "Jesus Eduardo Gamboa",
      "userId": "16477715403542876139"
     },
     "user_tz": 300
    },
    "id": "5BgFfmNyYNOP",
    "outputId": "606bda71-b646-4b57-851f-1e4cbe3b536b"
   },
   "outputs": [
    {
     "data": {
      "text/plain": [
       "32"
      ]
     },
     "execution_count": 37,
     "metadata": {},
     "output_type": "execute_result"
    }
   ],
   "source": [
    "a"
   ]
  },
  {
   "cell_type": "code",
   "execution_count": 38,
   "metadata": {
    "colab": {
     "base_uri": "https://localhost:8080/"
    },
    "executionInfo": {
     "elapsed": 305,
     "status": "ok",
     "timestamp": 1711412453503,
     "user": {
      "displayName": "Jesus Eduardo Gamboa",
      "userId": "16477715403542876139"
     },
     "user_tz": 300
    },
    "id": "9TREZJzFYPFB",
    "outputId": "a726cdc4-1129-4071-b950-cf06760bc950"
   },
   "outputs": [
    {
     "data": {
      "text/plain": [
       "33"
      ]
     },
     "execution_count": 38,
     "metadata": {},
     "output_type": "execute_result"
    }
   ],
   "source": [
    "d+a"
   ]
  },
  {
   "cell_type": "code",
   "execution_count": 39,
   "metadata": {
    "colab": {
     "base_uri": "https://localhost:8080/"
    },
    "executionInfo": {
     "elapsed": 4,
     "status": "ok",
     "timestamp": 1711412460623,
     "user": {
      "displayName": "Jesus Eduardo Gamboa",
      "userId": "16477715403542876139"
     },
     "user_tz": 300
    },
    "id": "FLywKpiBIbOc",
    "outputId": "5bd3ccbf-2ca2-4a1a-8541-0584d73b1327"
   },
   "outputs": [
    {
     "data": {
      "text/plain": [
       "13.0"
      ]
     },
     "execution_count": 39,
     "metadata": {},
     "output_type": "execute_result"
    }
   ],
   "source": [
    "b"
   ]
  },
  {
   "cell_type": "code",
   "execution_count": 40,
   "metadata": {
    "colab": {
     "base_uri": "https://localhost:8080/"
    },
    "executionInfo": {
     "elapsed": 312,
     "status": "ok",
     "timestamp": 1711412478724,
     "user": {
      "displayName": "Jesus Eduardo Gamboa",
      "userId": "16477715403542876139"
     },
     "user_tz": 300
    },
    "id": "jvPulI60Ifss",
    "outputId": "274c841e-4ecd-45ea-b859-3dce13a0fd07"
   },
   "outputs": [
    {
     "data": {
      "text/plain": [
       "False"
      ]
     },
     "execution_count": 40,
     "metadata": {},
     "output_type": "execute_result"
    }
   ],
   "source": [
    "e"
   ]
  },
  {
   "cell_type": "code",
   "execution_count": 41,
   "metadata": {
    "colab": {
     "base_uri": "https://localhost:8080/"
    },
    "executionInfo": {
     "elapsed": 5,
     "status": "ok",
     "timestamp": 1711412473170,
     "user": {
      "displayName": "Jesus Eduardo Gamboa",
      "userId": "16477715403542876139"
     },
     "user_tz": 300
    },
    "id": "2yNhKcLttXnM",
    "outputId": "4b40793d-5f9d-44f7-cb31-2eb0f2745afb"
   },
   "outputs": [
    {
     "data": {
      "text/plain": [
       "float"
      ]
     },
     "execution_count": 41,
     "metadata": {},
     "output_type": "execute_result"
    }
   ],
   "source": [
    "type(e+b)"
   ]
  },
  {
   "cell_type": "code",
   "execution_count": 42,
   "metadata": {
    "colab": {
     "base_uri": "https://localhost:8080/"
    },
    "executionInfo": {
     "elapsed": 2,
     "status": "ok",
     "timestamp": 1711412528348,
     "user": {
      "displayName": "Jesus Eduardo Gamboa",
      "userId": "16477715403542876139"
     },
     "user_tz": 300
    },
    "id": "ePOynMg4tXgT",
    "outputId": "4713f052-bfa9-4134-aa8b-2c8784835786"
   },
   "outputs": [
    {
     "data": {
      "text/plain": [
       "bool"
      ]
     },
     "execution_count": 42,
     "metadata": {},
     "output_type": "execute_result"
    }
   ],
   "source": [
    "f = 5+6 == 8\n",
    "type(f)"
   ]
  },
  {
   "cell_type": "code",
   "execution_count": 43,
   "metadata": {
    "colab": {
     "base_uri": "https://localhost:8080/"
    },
    "executionInfo": {
     "elapsed": 289,
     "status": "ok",
     "timestamp": 1711412593278,
     "user": {
      "displayName": "Jesus Eduardo Gamboa",
      "userId": "16477715403542876139"
     },
     "user_tz": 300
    },
    "id": "tUb5ftR15KFf",
    "outputId": "d83d8dd4-705a-4d54-904f-de51417e3707"
   },
   "outputs": [
    {
     "data": {
      "text/plain": [
       "False"
      ]
     },
     "execution_count": 43,
     "metadata": {},
     "output_type": "execute_result"
    }
   ],
   "source": [
    "f"
   ]
  },
  {
   "cell_type": "code",
   "execution_count": 44,
   "metadata": {
    "colab": {
     "base_uri": "https://localhost:8080/"
    },
    "executionInfo": {
     "elapsed": 259,
     "status": "ok",
     "timestamp": 1711412617465,
     "user": {
      "displayName": "Jesus Eduardo Gamboa",
      "userId": "16477715403542876139"
     },
     "user_tz": 300
    },
    "id": "Wbezlbpetnay",
    "outputId": "f8b1f242-5fc4-47c5-a652-515b038186ce"
   },
   "outputs": [
    {
     "data": {
      "text/plain": [
       "True"
      ]
     },
     "execution_count": 44,
     "metadata": {},
     "output_type": "execute_result"
    }
   ],
   "source": [
    "g = 9/3 >= 1\n",
    "g"
   ]
  },
  {
   "cell_type": "markdown",
   "metadata": {
    "id": "TSfTYqCStwPE"
   },
   "source": [
    "## **Cadena (string)**"
   ]
  },
  {
   "cell_type": "code",
   "execution_count": 45,
   "metadata": {
    "colab": {
     "base_uri": "https://localhost:8080/"
    },
    "executionInfo": {
     "elapsed": 290,
     "status": "ok",
     "timestamp": 1711412857468,
     "user": {
      "displayName": "Jesus Eduardo Gamboa",
      "userId": "16477715403542876139"
     },
     "user_tz": 300
    },
    "id": "3cJx7qIutyk2",
    "outputId": "403101cf-0915-4476-d23c-691177fd90a6"
   },
   "outputs": [
    {
     "data": {
      "text/plain": [
       "str"
      ]
     },
     "execution_count": 45,
     "metadata": {},
     "output_type": "execute_result"
    }
   ],
   "source": [
    "i = 'Técnicas de preprocesamiento de datos'\n",
    "type(i)"
   ]
  },
  {
   "cell_type": "code",
   "execution_count": 46,
   "metadata": {
    "colab": {
     "base_uri": "https://localhost:8080/",
     "height": 35
    },
    "executionInfo": {
     "elapsed": 314,
     "status": "ok",
     "timestamp": 1711412746982,
     "user": {
      "displayName": "Jesus Eduardo Gamboa",
      "userId": "16477715403542876139"
     },
     "user_tz": 300
    },
    "id": "fmsNzKFauHt-",
    "outputId": "84e37804-7888-4686-895b-b92c98b67504"
   },
   "outputs": [
    {
     "data": {
      "text/plain": [
       "'T'"
      ]
     },
     "execution_count": 46,
     "metadata": {},
     "output_type": "execute_result"
    }
   ],
   "source": [
    "i[0]"
   ]
  },
  {
   "cell_type": "code",
   "execution_count": 47,
   "metadata": {
    "colab": {
     "base_uri": "https://localhost:8080/",
     "height": 35
    },
    "executionInfo": {
     "elapsed": 378,
     "status": "ok",
     "timestamp": 1711412764724,
     "user": {
      "displayName": "Jesus Eduardo Gamboa",
      "userId": "16477715403542876139"
     },
     "user_tz": 300
    },
    "id": "JphHjEeruJ3p",
    "outputId": "63fc8a7a-cce4-4941-e46a-c2963c1ac63f"
   },
   "outputs": [
    {
     "data": {
      "text/plain": [
       "'é'"
      ]
     },
     "execution_count": 47,
     "metadata": {},
     "output_type": "execute_result"
    }
   ],
   "source": [
    "i[1]"
   ]
  },
  {
   "cell_type": "code",
   "execution_count": 48,
   "metadata": {
    "colab": {
     "base_uri": "https://localhost:8080/",
     "height": 35
    },
    "executionInfo": {
     "elapsed": 4,
     "status": "ok",
     "timestamp": 1711412858486,
     "user": {
      "displayName": "Jesus Eduardo Gamboa",
      "userId": "16477715403542876139"
     },
     "user_tz": 300
    },
    "id": "FSOJz0mpt6R7",
    "outputId": "11a5ff9b-c33b-4dca-cdac-f63e135b0bb6"
   },
   "outputs": [
    {
     "data": {
      "text/plain": [
       "'Técnicas de preprocesamiento de datos Semestre 2024 1'"
      ]
     },
     "execution_count": 48,
     "metadata": {},
     "output_type": "execute_result"
    }
   ],
   "source": [
    "i = i+ \" Semestre 2024 1\"\n",
    "i"
   ]
  },
  {
   "cell_type": "code",
   "execution_count": 49,
   "metadata": {
    "colab": {
     "base_uri": "https://localhost:8080/"
    },
    "executionInfo": {
     "elapsed": 335,
     "status": "ok",
     "timestamp": 1711412878853,
     "user": {
      "displayName": "Jesus Eduardo Gamboa",
      "userId": "16477715403542876139"
     },
     "user_tz": 300
    },
    "id": "RLgwtSuVuMEN",
    "outputId": "07c81f42-42ee-42db-eabd-19e8dec5beea"
   },
   "outputs": [
    {
     "data": {
      "text/plain": [
       "53"
      ]
     },
     "execution_count": 49,
     "metadata": {},
     "output_type": "execute_result"
    }
   ],
   "source": [
    "len(i) # length = longitud"
   ]
  },
  {
   "cell_type": "code",
   "execution_count": 50,
   "metadata": {
    "colab": {
     "base_uri": "https://localhost:8080/",
     "height": 141
    },
    "executionInfo": {
     "elapsed": 284,
     "status": "error",
     "timestamp": 1711412928666,
     "user": {
      "displayName": "Jesus Eduardo Gamboa",
      "userId": "16477715403542876139"
     },
     "user_tz": 300
    },
    "id": "9hWL4bZvQLW_",
    "outputId": "5bfe26ec-f700-48ff-f5ec-4bf528c45f11"
   },
   "outputs": [
    {
     "ename": "IndexError",
     "evalue": "string index out of range",
     "output_type": "error",
     "traceback": [
      "\u001b[1;31m---------------------------------------------------------------------------\u001b[0m",
      "\u001b[1;31mIndexError\u001b[0m                                Traceback (most recent call last)",
      "Cell \u001b[1;32mIn[50], line 1\u001b[0m\n\u001b[1;32m----> 1\u001b[0m i[\u001b[38;5;241m53\u001b[39m]\n",
      "\u001b[1;31mIndexError\u001b[0m: string index out of range"
     ]
    }
   ],
   "source": [
    "i[53]"
   ]
  },
  {
   "cell_type": "code",
   "execution_count": 51,
   "metadata": {
    "colab": {
     "base_uri": "https://localhost:8080/",
     "height": 35
    },
    "executionInfo": {
     "elapsed": 320,
     "status": "ok",
     "timestamp": 1711412950879,
     "user": {
      "displayName": "Jesus Eduardo Gamboa",
      "userId": "16477715403542876139"
     },
     "user_tz": 300
    },
    "id": "Q8r-BOsKuNhV",
    "outputId": "ed48ec99-76c4-41b9-abb2-d1a0e8c30f68"
   },
   "outputs": [
    {
     "data": {
      "text/plain": [
       "'1'"
      ]
     },
     "execution_count": 51,
     "metadata": {},
     "output_type": "execute_result"
    }
   ],
   "source": [
    "i[52]"
   ]
  },
  {
   "cell_type": "code",
   "execution_count": 52,
   "metadata": {
    "colab": {
     "base_uri": "https://localhost:8080/",
     "height": 35
    },
    "executionInfo": {
     "elapsed": 302,
     "status": "ok",
     "timestamp": 1711413030530,
     "user": {
      "displayName": "Jesus Eduardo Gamboa",
      "userId": "16477715403542876139"
     },
     "user_tz": 300
    },
    "id": "vYrPz2U_avdc",
    "outputId": "633438a4-134a-4434-ce82-fc35913a6451"
   },
   "outputs": [
    {
     "data": {
      "text/plain": [
       "'1'"
      ]
     },
     "execution_count": 52,
     "metadata": {},
     "output_type": "execute_result"
    }
   ],
   "source": [
    "i[-1] # con negativo, cuenta del final hacia el comienzo"
   ]
  },
  {
   "cell_type": "code",
   "execution_count": 53,
   "metadata": {
    "colab": {
     "base_uri": "https://localhost:8080/",
     "height": 35
    },
    "executionInfo": {
     "elapsed": 408,
     "status": "ok",
     "timestamp": 1711413055905,
     "user": {
      "displayName": "Jesus Eduardo Gamboa",
      "userId": "16477715403542876139"
     },
     "user_tz": 300
    },
    "id": "YV88jT3HpJxv",
    "outputId": "08d95bf1-95bc-47b8-965d-99cc0c730826"
   },
   "outputs": [
    {
     "data": {
      "text/plain": [
       "' '"
      ]
     },
     "execution_count": 53,
     "metadata": {},
     "output_type": "execute_result"
    }
   ],
   "source": [
    "i[-2]"
   ]
  },
  {
   "cell_type": "code",
   "execution_count": 54,
   "metadata": {
    "colab": {
     "base_uri": "https://localhost:8080/",
     "height": 35
    },
    "executionInfo": {
     "elapsed": 265,
     "status": "ok",
     "timestamp": 1711413081378,
     "user": {
      "displayName": "Jesus Eduardo Gamboa",
      "userId": "16477715403542876139"
     },
     "user_tz": 300
    },
    "id": "1qfd1qCRuiEd",
    "outputId": "ba288174-9ade-4a56-fb47-0ae8ff748476"
   },
   "outputs": [
    {
     "data": {
      "text/plain": [
       "'Téc'"
      ]
     },
     "execution_count": 54,
     "metadata": {},
     "output_type": "execute_result"
    }
   ],
   "source": [
    "i[0:3]"
   ]
  },
  {
   "cell_type": "code",
   "execution_count": 55,
   "metadata": {
    "colab": {
     "base_uri": "https://localhost:8080/",
     "height": 35
    },
    "executionInfo": {
     "elapsed": 312,
     "status": "ok",
     "timestamp": 1711413094721,
     "user": {
      "displayName": "Jesus Eduardo Gamboa",
      "userId": "16477715403542876139"
     },
     "user_tz": 300
    },
    "id": "zPGn8ygduj1u",
    "outputId": "87bb6723-97df-459f-fb61-bbe54d6c2406"
   },
   "outputs": [
    {
     "data": {
      "text/plain": [
       "'icas d'"
      ]
     },
     "execution_count": 55,
     "metadata": {},
     "output_type": "execute_result"
    }
   ],
   "source": [
    "i[4:10] # extrae desde la posiciòn 4 hasta la posición 9 (considerando que el conteo es desde cero)"
   ]
  },
  {
   "cell_type": "code",
   "execution_count": 56,
   "metadata": {
    "colab": {
     "base_uri": "https://localhost:8080/",
     "height": 35
    },
    "executionInfo": {
     "elapsed": 294,
     "status": "ok",
     "timestamp": 1711413106533,
     "user": {
      "displayName": "Jesus Eduardo Gamboa",
      "userId": "16477715403542876139"
     },
     "user_tz": 300
    },
    "id": "xZy6WHt2uvsX",
    "outputId": "05c906b7-29f0-4b04-b79c-3cc9ff3dcefc"
   },
   "outputs": [
    {
     "data": {
      "text/plain": [
       "'cnicas de preprocesamiento de datos Semestre 2024 1'"
      ]
     },
     "execution_count": 56,
     "metadata": {},
     "output_type": "execute_result"
    }
   ],
   "source": [
    "i[2:] # extrae desde la posición 2 hasta el final (considerando que se cuenta desde cero)"
   ]
  },
  {
   "cell_type": "code",
   "execution_count": 57,
   "metadata": {
    "colab": {
     "base_uri": "https://localhost:8080/",
     "height": 35
    },
    "executionInfo": {
     "elapsed": 320,
     "status": "ok",
     "timestamp": 1711413128131,
     "user": {
      "displayName": "Jesus Eduardo Gamboa",
      "userId": "16477715403542876139"
     },
     "user_tz": 300
    },
    "id": "Rs3wsTQ8uyOh",
    "outputId": "91c1a9de-1352-4e08-b6fd-270236fb32cc"
   },
   "outputs": [
    {
     "data": {
      "text/plain": [
       "'Té'"
      ]
     },
     "execution_count": 57,
     "metadata": {},
     "output_type": "execute_result"
    }
   ],
   "source": [
    "i[:2] # extrae desde el inicio hasta antes de la posiciòn 2 (hasta la posición 1)"
   ]
  },
  {
   "cell_type": "code",
   "execution_count": 58,
   "metadata": {
    "colab": {
     "base_uri": "https://localhost:8080/",
     "height": 35
    },
    "executionInfo": {
     "elapsed": 317,
     "status": "ok",
     "timestamp": 1711413157050,
     "user": {
      "displayName": "Jesus Eduardo Gamboa",
      "userId": "16477715403542876139"
     },
     "user_tz": 300
    },
    "id": "ag0B8IJfuCrg",
    "outputId": "b436ab6c-0b83-4b0a-ac98-b080f3f3b22a"
   },
   "outputs": [
    {
     "data": {
      "text/plain": [
       "''"
      ]
     },
     "execution_count": 58,
     "metadata": {},
     "output_type": "execute_result"
    }
   ],
   "source": [
    "j = ''\n",
    "j"
   ]
  },
  {
   "cell_type": "code",
   "execution_count": 59,
   "metadata": {
    "colab": {
     "base_uri": "https://localhost:8080/"
    },
    "executionInfo": {
     "elapsed": 284,
     "status": "ok",
     "timestamp": 1711413158749,
     "user": {
      "displayName": "Jesus Eduardo Gamboa",
      "userId": "16477715403542876139"
     },
     "user_tz": 300
    },
    "id": "pnGz_gMSuFvS",
    "outputId": "f028b7f6-9fe2-4d3b-d3b7-37d48b1daffe"
   },
   "outputs": [
    {
     "data": {
      "text/plain": [
       "str"
      ]
     },
     "execution_count": 59,
     "metadata": {},
     "output_type": "execute_result"
    }
   ],
   "source": [
    "type(j)"
   ]
  }
 ],
 "metadata": {
  "colab": {
   "provenance": [
    {
     "file_id": "10uB_vapoFD9BI-X6-0_oKKCkP2cm0Hls",
     "timestamp": 1693512789561
    }
   ]
  },
  "kernelspec": {
   "display_name": "Python 3 (ipykernel)",
   "language": "python",
   "name": "python3"
  },
  "language_info": {
   "codemirror_mode": {
    "name": "ipython",
    "version": 3
   },
   "file_extension": ".py",
   "mimetype": "text/x-python",
   "name": "python",
   "nbconvert_exporter": "python",
   "pygments_lexer": "ipython3",
   "version": "3.12.4"
  }
 },
 "nbformat": 4,
 "nbformat_minor": 4
}
