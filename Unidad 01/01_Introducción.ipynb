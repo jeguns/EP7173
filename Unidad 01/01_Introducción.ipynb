{
  "nbformat": 4,
  "nbformat_minor": 0,
  "metadata": {
    "colab": {
      "provenance": [],
      "include_colab_link": true
    },
    "kernelspec": {
      "name": "python3",
      "display_name": "Python 3"
    },
    "language_info": {
      "name": "python"
    }
  },
  "cells": [
    {
      "cell_type": "markdown",
      "metadata": {
        "id": "view-in-github",
        "colab_type": "text"
      },
      "source": [
        "<a href=\"https://colab.research.google.com/github/jeguns/EP7173/blob/main/Unidad%2001/01_Introducci%C3%B3n.ipynb\" target=\"_parent\"><img src=\"https://colab.research.google.com/assets/colab-badge.svg\" alt=\"Open In Colab\"/></a>"
      ]
    },
    {
      "cell_type": "markdown",
      "source": [
        "# **Operaciones básicas en lenguaje Python**\n"
      ],
      "metadata": {
        "id": "CFiJtc_DbpLR"
      }
    },
    {
      "cell_type": "markdown",
      "source": [
        "# **Título**\n",
        "\n",
        "## *Subtítulo*\n",
        "\n",
        "### Sección 1\n",
        "\n",
        "#### Subsección 1"
      ],
      "metadata": {
        "id": "TvFzdEgYCRBl"
      }
    },
    {
      "cell_type": "markdown",
      "source": [
        "Texto de introducción al Python\n",
        "\n",
        "$$x^2 + y^2 = 1$$"
      ],
      "metadata": {
        "id": "QLNMII8HDFnA"
      }
    },
    {
      "cell_type": "markdown",
      "source": [
        "Este archivo es para ir aprendiendo Python"
      ],
      "metadata": {
        "id": "fvxCQTm3UFww"
      }
    },
    {
      "cell_type": "code",
      "source": [
        "5+4"
      ],
      "metadata": {
        "colab": {
          "base_uri": "https://localhost:8080/"
        },
        "id": "fs4kh7WNDlYr",
        "outputId": "097b8e0c-86c7-4fcb-eab1-4fbd5586a68e"
      },
      "execution_count": null,
      "outputs": [
        {
          "output_type": "execute_result",
          "data": {
            "text/plain": [
              "9"
            ]
          },
          "metadata": {},
          "execution_count": 1
        }
      ]
    },
    {
      "cell_type": "code",
      "execution_count": null,
      "metadata": {
        "id": "k-Qz8pVnbh1Y",
        "colab": {
          "base_uri": "https://localhost:8080/"
        },
        "outputId": "78ada17c-6088-4498-8bb9-9f367ac01edf"
      },
      "outputs": [
        {
          "output_type": "execute_result",
          "data": {
            "text/plain": [
              "8"
            ]
          },
          "metadata": {},
          "execution_count": 2
        }
      ],
      "source": [
        "2+6"
      ]
    },
    {
      "cell_type": "code",
      "source": [
        "2-6"
      ],
      "metadata": {
        "id": "SW5ofEE8fF3k",
        "colab": {
          "base_uri": "https://localhost:8080/"
        },
        "outputId": "7b3c14dc-54b1-4b3b-80dc-030d5f7eb48d"
      },
      "execution_count": null,
      "outputs": [
        {
          "output_type": "execute_result",
          "data": {
            "text/plain": [
              "-4"
            ]
          },
          "metadata": {},
          "execution_count": 3
        }
      ]
    },
    {
      "cell_type": "code",
      "source": [
        "2*6"
      ],
      "metadata": {
        "id": "X2usPjEFfWk6",
        "colab": {
          "base_uri": "https://localhost:8080/"
        },
        "outputId": "10bf7d9a-8246-4339-9f1d-18a19d8aa2e5"
      },
      "execution_count": null,
      "outputs": [
        {
          "output_type": "execute_result",
          "data": {
            "text/plain": [
              "12"
            ]
          },
          "metadata": {},
          "execution_count": 4
        }
      ]
    },
    {
      "cell_type": "code",
      "source": [
        "20/6"
      ],
      "metadata": {
        "id": "kG3uTyd6gLjw",
        "colab": {
          "base_uri": "https://localhost:8080/"
        },
        "outputId": "c3875dec-0763-4c3e-d625-64d1eb3c51d5"
      },
      "execution_count": null,
      "outputs": [
        {
          "output_type": "execute_result",
          "data": {
            "text/plain": [
              "3.3333333333333335"
            ]
          },
          "metadata": {},
          "execution_count": 5
        }
      ]
    },
    {
      "cell_type": "code",
      "source": [
        "20//6 # parte entera del cociente"
      ],
      "metadata": {
        "id": "cXAt1wG6rBay",
        "colab": {
          "base_uri": "https://localhost:8080/"
        },
        "outputId": "9ef90ac1-e2d9-4e8c-cec8-79e2151e7c77"
      },
      "execution_count": null,
      "outputs": [
        {
          "output_type": "execute_result",
          "data": {
            "text/plain": [
              "3"
            ]
          },
          "metadata": {},
          "execution_count": 6
        }
      ]
    },
    {
      "cell_type": "code",
      "source": [
        "20%6 # residuo del cociente"
      ],
      "metadata": {
        "id": "17-l7UcQrDVS",
        "colab": {
          "base_uri": "https://localhost:8080/"
        },
        "outputId": "0adf6338-e063-4f03-9e76-96bf84b27133"
      },
      "execution_count": null,
      "outputs": [
        {
          "output_type": "execute_result",
          "data": {
            "text/plain": [
              "2"
            ]
          },
          "metadata": {},
          "execution_count": 7
        }
      ]
    },
    {
      "cell_type": "code",
      "source": [
        "divmod(20,6) # parte entera del cociente y residuo"
      ],
      "metadata": {
        "id": "bDjTqRaZrFbw",
        "colab": {
          "base_uri": "https://localhost:8080/"
        },
        "outputId": "35b62004-f7d1-4145-fb6a-b6e8e8621fc4"
      },
      "execution_count": null,
      "outputs": [
        {
          "output_type": "execute_result",
          "data": {
            "text/plain": [
              "(3, 2)"
            ]
          },
          "metadata": {},
          "execution_count": 8
        }
      ]
    },
    {
      "cell_type": "code",
      "source": [
        "3**2 # 3 elevado al cuadrado"
      ],
      "metadata": {
        "id": "_mgtUMNnrGlj",
        "colab": {
          "base_uri": "https://localhost:8080/"
        },
        "outputId": "6ad9e5b6-e986-4f92-d902-4666c5e4706a"
      },
      "execution_count": null,
      "outputs": [
        {
          "output_type": "execute_result",
          "data": {
            "text/plain": [
              "9"
            ]
          },
          "metadata": {},
          "execution_count": 9
        }
      ]
    },
    {
      "cell_type": "code",
      "source": [
        "# prompt: suma el cociente de 20 entre 5, más 10\n",
        "\n",
        "20 // 5 + 10\n"
      ],
      "metadata": {
        "colab": {
          "base_uri": "https://localhost:8080/"
        },
        "id": "TEBYVTTaEHFo",
        "outputId": "8d83330d-f28e-4bba-9989-e797d8a45b98"
      },
      "execution_count": null,
      "outputs": [
        {
          "output_type": "execute_result",
          "data": {
            "text/plain": [
              "14"
            ]
          },
          "metadata": {},
          "execution_count": 11
        }
      ]
    },
    {
      "cell_type": "code",
      "source": [
        "30**0.5 # calcula la raíz cuadrada de 30"
      ],
      "metadata": {
        "colab": {
          "base_uri": "https://localhost:8080/"
        },
        "id": "IRc9ZI1gElmk",
        "outputId": "3bc30af4-2c0d-4aaf-a3df-08641625a1fa"
      },
      "execution_count": null,
      "outputs": [
        {
          "output_type": "execute_result",
          "data": {
            "text/plain": [
              "5.477225575051661"
            ]
          },
          "metadata": {},
          "execution_count": 12
        }
      ]
    },
    {
      "cell_type": "markdown",
      "source": [
        "# **Tipos de datos en lenguaje Python**"
      ],
      "metadata": {
        "id": "RAJIt1aurN1Q"
      }
    },
    {
      "cell_type": "markdown",
      "source": [
        "## **Entero (Integer)**"
      ],
      "metadata": {
        "id": "pKUDkqzbreEQ"
      }
    },
    {
      "cell_type": "code",
      "source": [
        "4"
      ],
      "metadata": {
        "id": "dHdC9Oudrbgi",
        "colab": {
          "base_uri": "https://localhost:8080/"
        },
        "outputId": "df44baff-9fa6-4033-e608-6ffd9fc0d54f"
      },
      "execution_count": null,
      "outputs": [
        {
          "output_type": "execute_result",
          "data": {
            "text/plain": [
              "4"
            ]
          },
          "metadata": {},
          "execution_count": 13
        }
      ]
    },
    {
      "cell_type": "code",
      "source": [
        "type(4)"
      ],
      "metadata": {
        "id": "YEv4NPqOrlz9",
        "colab": {
          "base_uri": "https://localhost:8080/"
        },
        "outputId": "c5e06d67-e9b7-4d20-a638-0ed0710d0475"
      },
      "execution_count": null,
      "outputs": [
        {
          "output_type": "execute_result",
          "data": {
            "text/plain": [
              "int"
            ]
          },
          "metadata": {},
          "execution_count": 14
        }
      ]
    },
    {
      "cell_type": "code",
      "source": [
        "a = 32"
      ],
      "metadata": {
        "id": "-_WwK0Wrroqt"
      },
      "execution_count": null,
      "outputs": []
    },
    {
      "cell_type": "code",
      "source": [
        "a"
      ],
      "metadata": {
        "id": "rBK9BP8DWB3Y",
        "colab": {
          "base_uri": "https://localhost:8080/"
        },
        "outputId": "9334030a-32f9-4070-f1da-d8f29ec9ecfb"
      },
      "execution_count": null,
      "outputs": [
        {
          "output_type": "execute_result",
          "data": {
            "text/plain": [
              "32"
            ]
          },
          "metadata": {},
          "execution_count": 16
        }
      ]
    },
    {
      "cell_type": "code",
      "source": [
        "type(a)"
      ],
      "metadata": {
        "id": "i5DIuof4rqiu",
        "colab": {
          "base_uri": "https://localhost:8080/"
        },
        "outputId": "4bcc0808-d795-4f8f-d1de-02a6493c541e"
      },
      "execution_count": null,
      "outputs": [
        {
          "output_type": "execute_result",
          "data": {
            "text/plain": [
              "int"
            ]
          },
          "metadata": {},
          "execution_count": 17
        }
      ]
    },
    {
      "cell_type": "code",
      "source": [
        "type(a) is int # valida si el tipo de dato de a es entero"
      ],
      "metadata": {
        "id": "hGzlioViruSt",
        "colab": {
          "base_uri": "https://localhost:8080/"
        },
        "outputId": "183c454d-1c50-4f9d-aea0-6cb94ee5b640"
      },
      "execution_count": null,
      "outputs": [
        {
          "output_type": "execute_result",
          "data": {
            "text/plain": [
              "True"
            ]
          },
          "metadata": {},
          "execution_count": 18
        }
      ]
    },
    {
      "cell_type": "code",
      "source": [
        "print(\"El número\",a,\"es de tipo\",type(a))"
      ],
      "metadata": {
        "id": "l1Fru165kdYB",
        "colab": {
          "base_uri": "https://localhost:8080/"
        },
        "outputId": "37612ced-27db-4adc-83c1-2b1d5cb04bfd"
      },
      "execution_count": null,
      "outputs": [
        {
          "output_type": "stream",
          "name": "stdout",
          "text": [
            "El número 32 es de tipo <class 'int'>\n"
          ]
        }
      ]
    },
    {
      "cell_type": "code",
      "source": [
        "print(\"El número\",a,\"es de tipo\",type(a).__name__)"
      ],
      "metadata": {
        "id": "mqWuS6R8sJSx",
        "colab": {
          "base_uri": "https://localhost:8080/"
        },
        "outputId": "f63ac34b-0a5e-4746-cfe6-e38d9d5fa583"
      },
      "execution_count": null,
      "outputs": [
        {
          "output_type": "stream",
          "name": "stdout",
          "text": [
            "El número 32 es de tipo int\n"
          ]
        }
      ]
    },
    {
      "cell_type": "markdown",
      "source": [
        "## **Flotante (float)**"
      ],
      "metadata": {
        "id": "rLZG6-17sNbL"
      }
    },
    {
      "cell_type": "code",
      "source": [
        "b = 13.2"
      ],
      "metadata": {
        "id": "faKeOsDdsR_v"
      },
      "execution_count": null,
      "outputs": []
    },
    {
      "cell_type": "code",
      "source": [
        "type(b)"
      ],
      "metadata": {
        "id": "1gJjgOJIsUXo",
        "colab": {
          "base_uri": "https://localhost:8080/"
        },
        "outputId": "c2671bad-eedf-4af0-cdcc-8e6aa6119a5e"
      },
      "execution_count": null,
      "outputs": [
        {
          "output_type": "execute_result",
          "data": {
            "text/plain": [
              "float"
            ]
          },
          "metadata": {},
          "execution_count": 22
        }
      ]
    },
    {
      "cell_type": "code",
      "source": [
        "type(a+b)"
      ],
      "metadata": {
        "id": "LlEpqOE9sXk-",
        "colab": {
          "base_uri": "https://localhost:8080/"
        },
        "outputId": "9857e1e4-c6f6-4590-dbd3-9d9ae10d8ff5"
      },
      "execution_count": null,
      "outputs": [
        {
          "output_type": "execute_result",
          "data": {
            "text/plain": [
              "float"
            ]
          },
          "metadata": {},
          "execution_count": 23
        }
      ]
    },
    {
      "cell_type": "code",
      "source": [
        "type(a+5)"
      ],
      "metadata": {
        "id": "Bynb9CZ7scij",
        "colab": {
          "base_uri": "https://localhost:8080/"
        },
        "outputId": "938355e6-f5ed-4f3f-f94d-065cb1c7a46d"
      },
      "execution_count": null,
      "outputs": [
        {
          "output_type": "execute_result",
          "data": {
            "text/plain": [
              "int"
            ]
          },
          "metadata": {},
          "execution_count": 24
        }
      ]
    },
    {
      "cell_type": "code",
      "source": [
        "b = 13.0"
      ],
      "metadata": {
        "id": "C6AJAb0TG9g7"
      },
      "execution_count": null,
      "outputs": []
    },
    {
      "cell_type": "code",
      "source": [
        "type(b)"
      ],
      "metadata": {
        "colab": {
          "base_uri": "https://localhost:8080/"
        },
        "id": "fQt4pOhNG_Ot",
        "outputId": "c2cd0b0a-e949-43f3-d388-0c3390f4aa3d"
      },
      "execution_count": null,
      "outputs": [
        {
          "output_type": "execute_result",
          "data": {
            "text/plain": [
              "float"
            ]
          },
          "metadata": {},
          "execution_count": 30
        }
      ]
    },
    {
      "cell_type": "markdown",
      "source": [
        "## **Complejo (complex)**"
      ],
      "metadata": {
        "id": "MrrBr9-dslx9"
      }
    },
    {
      "cell_type": "code",
      "source": [
        "c = 1 + 3j\n",
        "c"
      ],
      "metadata": {
        "id": "3OKh8qB5sp7K",
        "colab": {
          "base_uri": "https://localhost:8080/"
        },
        "outputId": "e17a03d5-c119-4748-ce23-c5becd8338d9"
      },
      "execution_count": null,
      "outputs": [
        {
          "output_type": "execute_result",
          "data": {
            "text/plain": [
              "(1+3j)"
            ]
          },
          "metadata": {},
          "execution_count": 31
        }
      ]
    },
    {
      "cell_type": "code",
      "source": [
        "type(c)"
      ],
      "metadata": {
        "id": "QLjY-JbwsuPP",
        "colab": {
          "base_uri": "https://localhost:8080/"
        },
        "outputId": "bed12a79-586d-4441-d7cd-f9cafbf01d5c"
      },
      "execution_count": null,
      "outputs": [
        {
          "output_type": "execute_result",
          "data": {
            "text/plain": [
              "complex"
            ]
          },
          "metadata": {},
          "execution_count": 32
        }
      ]
    },
    {
      "cell_type": "code",
      "source": [
        "r = (-1)**0.5\n",
        "type(r)"
      ],
      "metadata": {
        "id": "faszhi_RswUt",
        "colab": {
          "base_uri": "https://localhost:8080/"
        },
        "outputId": "c5270de9-8122-4c1b-9e0f-2a10f9a7cd0c"
      },
      "execution_count": null,
      "outputs": [
        {
          "output_type": "execute_result",
          "data": {
            "text/plain": [
              "complex"
            ]
          },
          "metadata": {},
          "execution_count": 33
        }
      ]
    },
    {
      "cell_type": "code",
      "source": [
        "r"
      ],
      "metadata": {
        "colab": {
          "base_uri": "https://localhost:8080/"
        },
        "id": "Qb9mG4FOHYTb",
        "outputId": "54d0672c-2479-4784-de03-2e0c66d41f16"
      },
      "execution_count": null,
      "outputs": [
        {
          "output_type": "execute_result",
          "data": {
            "text/plain": [
              "(6.123233995736766e-17+1j)"
            ]
          },
          "metadata": {},
          "execution_count": 34
        }
      ]
    },
    {
      "cell_type": "code",
      "source": [
        "type(r+a)"
      ],
      "metadata": {
        "id": "yGjRE6jctSo4",
        "colab": {
          "base_uri": "https://localhost:8080/"
        },
        "outputId": "c45be354-afc8-4b37-b98a-ca0cc6968ca8"
      },
      "execution_count": null,
      "outputs": [
        {
          "output_type": "execute_result",
          "data": {
            "text/plain": [
              "complex"
            ]
          },
          "metadata": {},
          "execution_count": 35
        }
      ]
    },
    {
      "cell_type": "markdown",
      "source": [
        "## **Lógico o booleano (boolean)**"
      ],
      "metadata": {
        "id": "mZrteg9TtHeD"
      }
    },
    {
      "cell_type": "code",
      "source": [
        "d = True\n",
        "e = False"
      ],
      "metadata": {
        "id": "dJBqZ1UUtNmL"
      },
      "execution_count": null,
      "outputs": []
    },
    {
      "cell_type": "code",
      "source": [
        "type(d)"
      ],
      "metadata": {
        "id": "ajSG3bfctQ_R",
        "colab": {
          "base_uri": "https://localhost:8080/"
        },
        "outputId": "5efbf995-0c0f-4bbe-afca-e70fbcc96e2f"
      },
      "execution_count": null,
      "outputs": [
        {
          "output_type": "execute_result",
          "data": {
            "text/plain": [
              "bool"
            ]
          },
          "metadata": {},
          "execution_count": 37
        }
      ]
    },
    {
      "cell_type": "code",
      "source": [
        "a"
      ],
      "metadata": {
        "colab": {
          "base_uri": "https://localhost:8080/"
        },
        "id": "dJG1JIqUIKbK",
        "outputId": "5648a623-7236-4a29-d6c8-9604688337d0"
      },
      "execution_count": null,
      "outputs": [
        {
          "output_type": "execute_result",
          "data": {
            "text/plain": [
              "32"
            ]
          },
          "metadata": {},
          "execution_count": 39
        }
      ]
    },
    {
      "cell_type": "code",
      "source": [
        "d+a"
      ],
      "metadata": {
        "id": "l_7yKpwA4mI_",
        "colab": {
          "base_uri": "https://localhost:8080/"
        },
        "outputId": "47b5dfea-7895-4a8c-ddde-8b043d2358e4"
      },
      "execution_count": null,
      "outputs": [
        {
          "output_type": "execute_result",
          "data": {
            "text/plain": [
              "33"
            ]
          },
          "metadata": {},
          "execution_count": 38
        }
      ]
    },
    {
      "cell_type": "code",
      "source": [
        "type(d+a)"
      ],
      "metadata": {
        "id": "RkNeJ81FtWl8",
        "colab": {
          "base_uri": "https://localhost:8080/"
        },
        "outputId": "aee1863d-32b3-42cd-bbf7-e5bb9c0ca39d"
      },
      "execution_count": null,
      "outputs": [
        {
          "output_type": "execute_result",
          "data": {
            "text/plain": [
              "int"
            ]
          },
          "metadata": {},
          "execution_count": 40
        }
      ]
    },
    {
      "cell_type": "code",
      "source": [
        "d"
      ],
      "metadata": {
        "id": "X9GsrpkKYG6w",
        "colab": {
          "base_uri": "https://localhost:8080/"
        },
        "outputId": "2b7feba4-3198-47d6-b363-8bc0c3b6621b"
      },
      "execution_count": null,
      "outputs": [
        {
          "output_type": "execute_result",
          "data": {
            "text/plain": [
              "True"
            ]
          },
          "metadata": {},
          "execution_count": 41
        }
      ]
    },
    {
      "cell_type": "code",
      "source": [
        "a"
      ],
      "metadata": {
        "id": "5BgFfmNyYNOP",
        "colab": {
          "base_uri": "https://localhost:8080/"
        },
        "outputId": "606bda71-b646-4b57-851f-1e4cbe3b536b"
      },
      "execution_count": null,
      "outputs": [
        {
          "output_type": "execute_result",
          "data": {
            "text/plain": [
              "32"
            ]
          },
          "metadata": {},
          "execution_count": 42
        }
      ]
    },
    {
      "cell_type": "code",
      "source": [
        "d+a"
      ],
      "metadata": {
        "id": "9TREZJzFYPFB",
        "colab": {
          "base_uri": "https://localhost:8080/"
        },
        "outputId": "a726cdc4-1129-4071-b950-cf06760bc950"
      },
      "execution_count": null,
      "outputs": [
        {
          "output_type": "execute_result",
          "data": {
            "text/plain": [
              "33"
            ]
          },
          "metadata": {},
          "execution_count": 43
        }
      ]
    },
    {
      "cell_type": "code",
      "source": [
        "b"
      ],
      "metadata": {
        "colab": {
          "base_uri": "https://localhost:8080/"
        },
        "id": "FLywKpiBIbOc",
        "outputId": "5bd3ccbf-2ca2-4a1a-8541-0584d73b1327"
      },
      "execution_count": null,
      "outputs": [
        {
          "output_type": "execute_result",
          "data": {
            "text/plain": [
              "13.0"
            ]
          },
          "metadata": {},
          "execution_count": 44
        }
      ]
    },
    {
      "cell_type": "code",
      "source": [
        "e"
      ],
      "metadata": {
        "colab": {
          "base_uri": "https://localhost:8080/"
        },
        "id": "jvPulI60Ifss",
        "outputId": "274c841e-4ecd-45ea-b859-3dce13a0fd07"
      },
      "execution_count": null,
      "outputs": [
        {
          "output_type": "execute_result",
          "data": {
            "text/plain": [
              "False"
            ]
          },
          "metadata": {},
          "execution_count": 46
        }
      ]
    },
    {
      "cell_type": "code",
      "source": [
        "type(e+b)"
      ],
      "metadata": {
        "id": "2yNhKcLttXnM",
        "colab": {
          "base_uri": "https://localhost:8080/"
        },
        "outputId": "4b40793d-5f9d-44f7-cb31-2eb0f2745afb"
      },
      "execution_count": null,
      "outputs": [
        {
          "output_type": "execute_result",
          "data": {
            "text/plain": [
              "float"
            ]
          },
          "metadata": {},
          "execution_count": 45
        }
      ]
    },
    {
      "cell_type": "code",
      "source": [
        "f = 5+6 == 8\n",
        "type(f)"
      ],
      "metadata": {
        "id": "ePOynMg4tXgT",
        "colab": {
          "base_uri": "https://localhost:8080/"
        },
        "outputId": "4713f052-bfa9-4134-aa8b-2c8784835786"
      },
      "execution_count": null,
      "outputs": [
        {
          "output_type": "execute_result",
          "data": {
            "text/plain": [
              "bool"
            ]
          },
          "metadata": {},
          "execution_count": 47
        }
      ]
    },
    {
      "cell_type": "code",
      "source": [
        "f"
      ],
      "metadata": {
        "id": "tUb5ftR15KFf",
        "colab": {
          "base_uri": "https://localhost:8080/"
        },
        "outputId": "d83d8dd4-705a-4d54-904f-de51417e3707"
      },
      "execution_count": null,
      "outputs": [
        {
          "output_type": "execute_result",
          "data": {
            "text/plain": [
              "False"
            ]
          },
          "metadata": {},
          "execution_count": 48
        }
      ]
    },
    {
      "cell_type": "code",
      "source": [
        "g = 9/3 >= 1\n",
        "g"
      ],
      "metadata": {
        "id": "Wbezlbpetnay",
        "colab": {
          "base_uri": "https://localhost:8080/"
        },
        "outputId": "f8b1f242-5fc4-47c5-a652-515b038186ce"
      },
      "execution_count": null,
      "outputs": [
        {
          "output_type": "execute_result",
          "data": {
            "text/plain": [
              "True"
            ]
          },
          "metadata": {},
          "execution_count": 49
        }
      ]
    },
    {
      "cell_type": "markdown",
      "source": [
        "## **Cadena (string)**"
      ],
      "metadata": {
        "id": "TSfTYqCStwPE"
      }
    },
    {
      "cell_type": "code",
      "source": [
        "i = 'Técnicas de preprocesamiento de datos'\n",
        "type(i)"
      ],
      "metadata": {
        "id": "3cJx7qIutyk2",
        "colab": {
          "base_uri": "https://localhost:8080/"
        },
        "outputId": "403101cf-0915-4476-d23c-691177fd90a6"
      },
      "execution_count": null,
      "outputs": [
        {
          "output_type": "execute_result",
          "data": {
            "text/plain": [
              "str"
            ]
          },
          "metadata": {},
          "execution_count": 61
        }
      ]
    },
    {
      "cell_type": "code",
      "source": [
        "i[0]"
      ],
      "metadata": {
        "id": "fmsNzKFauHt-",
        "colab": {
          "base_uri": "https://localhost:8080/",
          "height": 35
        },
        "outputId": "84e37804-7888-4686-895b-b92c98b67504"
      },
      "execution_count": null,
      "outputs": [
        {
          "output_type": "execute_result",
          "data": {
            "text/plain": [
              "'T'"
            ],
            "application/vnd.google.colaboratory.intrinsic+json": {
              "type": "string"
            }
          },
          "metadata": {},
          "execution_count": 54
        }
      ]
    },
    {
      "cell_type": "code",
      "source": [
        "i[1]"
      ],
      "metadata": {
        "id": "JphHjEeruJ3p",
        "colab": {
          "base_uri": "https://localhost:8080/",
          "height": 35
        },
        "outputId": "63fc8a7a-cce4-4941-e46a-c2963c1ac63f"
      },
      "execution_count": null,
      "outputs": [
        {
          "output_type": "execute_result",
          "data": {
            "text/plain": [
              "'é'"
            ],
            "application/vnd.google.colaboratory.intrinsic+json": {
              "type": "string"
            }
          },
          "metadata": {},
          "execution_count": 55
        }
      ]
    },
    {
      "cell_type": "code",
      "source": [
        "i = i+ \" Semestre 2024 1\"\n",
        "i"
      ],
      "metadata": {
        "id": "FSOJz0mpt6R7",
        "colab": {
          "base_uri": "https://localhost:8080/",
          "height": 35
        },
        "outputId": "11a5ff9b-c33b-4dca-cdac-f63e135b0bb6"
      },
      "execution_count": null,
      "outputs": [
        {
          "output_type": "execute_result",
          "data": {
            "text/plain": [
              "'Técnicas de preprocesamiento de datos Semestre 2024 1'"
            ],
            "application/vnd.google.colaboratory.intrinsic+json": {
              "type": "string"
            }
          },
          "metadata": {},
          "execution_count": 62
        }
      ]
    },
    {
      "cell_type": "code",
      "source": [
        "len(i) # length = longitud"
      ],
      "metadata": {
        "id": "RLgwtSuVuMEN",
        "colab": {
          "base_uri": "https://localhost:8080/"
        },
        "outputId": "07c81f42-42ee-42db-eabd-19e8dec5beea"
      },
      "execution_count": null,
      "outputs": [
        {
          "output_type": "execute_result",
          "data": {
            "text/plain": [
              "53"
            ]
          },
          "metadata": {},
          "execution_count": 63
        }
      ]
    },
    {
      "cell_type": "code",
      "source": [
        "i[53]"
      ],
      "metadata": {
        "id": "9hWL4bZvQLW_",
        "colab": {
          "base_uri": "https://localhost:8080/",
          "height": 141
        },
        "outputId": "5bfe26ec-f700-48ff-f5ec-4bf528c45f11"
      },
      "execution_count": null,
      "outputs": [
        {
          "output_type": "error",
          "ename": "IndexError",
          "evalue": "string index out of range",
          "traceback": [
            "\u001b[0;31m---------------------------------------------------------------------------\u001b[0m",
            "\u001b[0;31mIndexError\u001b[0m                                Traceback (most recent call last)",
            "\u001b[0;32m<ipython-input-64-3b375f52eb5e>\u001b[0m in \u001b[0;36m<cell line: 1>\u001b[0;34m()\u001b[0m\n\u001b[0;32m----> 1\u001b[0;31m \u001b[0mi\u001b[0m\u001b[0;34m[\u001b[0m\u001b[0;36m53\u001b[0m\u001b[0;34m]\u001b[0m\u001b[0;34m\u001b[0m\u001b[0;34m\u001b[0m\u001b[0m\n\u001b[0m",
            "\u001b[0;31mIndexError\u001b[0m: string index out of range"
          ]
        }
      ]
    },
    {
      "cell_type": "code",
      "source": [
        "i[52]"
      ],
      "metadata": {
        "id": "Q8r-BOsKuNhV",
        "colab": {
          "base_uri": "https://localhost:8080/",
          "height": 35
        },
        "outputId": "ed48ec99-76c4-41b9-abb2-d1a0e8c30f68"
      },
      "execution_count": null,
      "outputs": [
        {
          "output_type": "execute_result",
          "data": {
            "text/plain": [
              "'1'"
            ],
            "application/vnd.google.colaboratory.intrinsic+json": {
              "type": "string"
            }
          },
          "metadata": {},
          "execution_count": 65
        }
      ]
    },
    {
      "cell_type": "code",
      "source": [
        "i[-1] # con negativo, cuenta del final hacia el comienzo"
      ],
      "metadata": {
        "id": "vYrPz2U_avdc",
        "colab": {
          "base_uri": "https://localhost:8080/",
          "height": 35
        },
        "outputId": "633438a4-134a-4434-ce82-fc35913a6451"
      },
      "execution_count": null,
      "outputs": [
        {
          "output_type": "execute_result",
          "data": {
            "text/plain": [
              "'1'"
            ],
            "application/vnd.google.colaboratory.intrinsic+json": {
              "type": "string"
            }
          },
          "metadata": {},
          "execution_count": 66
        }
      ]
    },
    {
      "cell_type": "code",
      "source": [
        "i[-2]"
      ],
      "metadata": {
        "id": "YV88jT3HpJxv",
        "colab": {
          "base_uri": "https://localhost:8080/",
          "height": 35
        },
        "outputId": "08d95bf1-95bc-47b8-965d-99cc0c730826"
      },
      "execution_count": null,
      "outputs": [
        {
          "output_type": "execute_result",
          "data": {
            "text/plain": [
              "' '"
            ],
            "application/vnd.google.colaboratory.intrinsic+json": {
              "type": "string"
            }
          },
          "metadata": {},
          "execution_count": 67
        }
      ]
    },
    {
      "cell_type": "code",
      "source": [
        "i[0:3]"
      ],
      "metadata": {
        "id": "1qfd1qCRuiEd",
        "colab": {
          "base_uri": "https://localhost:8080/",
          "height": 35
        },
        "outputId": "ba288174-9ade-4a56-fb47-0ae8ff748476"
      },
      "execution_count": null,
      "outputs": [
        {
          "output_type": "execute_result",
          "data": {
            "text/plain": [
              "'Téc'"
            ],
            "application/vnd.google.colaboratory.intrinsic+json": {
              "type": "string"
            }
          },
          "metadata": {},
          "execution_count": 68
        }
      ]
    },
    {
      "cell_type": "code",
      "source": [
        "i[4:10] # extrae desde la posiciòn 4 hasta la posición 9 (considerando que el conteo es desde cero)"
      ],
      "metadata": {
        "id": "zPGn8ygduj1u",
        "colab": {
          "base_uri": "https://localhost:8080/",
          "height": 35
        },
        "outputId": "87bb6723-97df-459f-fb61-bbe54d6c2406"
      },
      "execution_count": null,
      "outputs": [
        {
          "output_type": "execute_result",
          "data": {
            "text/plain": [
              "'icas d'"
            ],
            "application/vnd.google.colaboratory.intrinsic+json": {
              "type": "string"
            }
          },
          "metadata": {},
          "execution_count": 69
        }
      ]
    },
    {
      "cell_type": "code",
      "source": [
        "i[2:] # extrae desde la posición 2 hasta el final (considerando que se cuenta desde cero)"
      ],
      "metadata": {
        "id": "xZy6WHt2uvsX",
        "colab": {
          "base_uri": "https://localhost:8080/",
          "height": 35
        },
        "outputId": "05c906b7-29f0-4b04-b79c-3cc9ff3dcefc"
      },
      "execution_count": null,
      "outputs": [
        {
          "output_type": "execute_result",
          "data": {
            "text/plain": [
              "'cnicas de preprocesamiento de datos Semestre 2024 1'"
            ],
            "application/vnd.google.colaboratory.intrinsic+json": {
              "type": "string"
            }
          },
          "metadata": {},
          "execution_count": 70
        }
      ]
    },
    {
      "cell_type": "code",
      "source": [
        "i[:2] # extrae desde el inicio hasta antes de la posiciòn 2 (hasta la posición 1)"
      ],
      "metadata": {
        "id": "Rs3wsTQ8uyOh",
        "colab": {
          "base_uri": "https://localhost:8080/",
          "height": 35
        },
        "outputId": "91c1a9de-1352-4e08-b6fd-270236fb32cc"
      },
      "execution_count": null,
      "outputs": [
        {
          "output_type": "execute_result",
          "data": {
            "text/plain": [
              "'Té'"
            ],
            "application/vnd.google.colaboratory.intrinsic+json": {
              "type": "string"
            }
          },
          "metadata": {},
          "execution_count": 71
        }
      ]
    },
    {
      "cell_type": "code",
      "source": [
        "j = ''\n",
        "j"
      ],
      "metadata": {
        "id": "ag0B8IJfuCrg",
        "colab": {
          "base_uri": "https://localhost:8080/",
          "height": 35
        },
        "outputId": "b436ab6c-0b83-4b0a-ac98-b080f3f3b22a"
      },
      "execution_count": null,
      "outputs": [
        {
          "output_type": "execute_result",
          "data": {
            "text/plain": [
              "''"
            ],
            "application/vnd.google.colaboratory.intrinsic+json": {
              "type": "string"
            }
          },
          "metadata": {},
          "execution_count": 72
        }
      ]
    },
    {
      "cell_type": "code",
      "source": [
        "type(j)"
      ],
      "metadata": {
        "id": "pnGz_gMSuFvS",
        "colab": {
          "base_uri": "https://localhost:8080/"
        },
        "outputId": "f028b7f6-9fe2-4d3b-d3b7-37d48b1daffe"
      },
      "execution_count": null,
      "outputs": [
        {
          "output_type": "execute_result",
          "data": {
            "text/plain": [
              "str"
            ]
          },
          "metadata": {},
          "execution_count": 73
        }
      ]
    }
  ]
}