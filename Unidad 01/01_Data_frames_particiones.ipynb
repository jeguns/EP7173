{
  "nbformat": 4,
  "nbformat_minor": 0,
  "metadata": {
    "colab": {
      "provenance": [],
      "include_colab_link": true
    },
    "kernelspec": {
      "name": "python3",
      "display_name": "Python 3"
    },
    "language_info": {
      "name": "python"
    }
  },
  "cells": [
    {
      "cell_type": "markdown",
      "metadata": {
        "id": "view-in-github",
        "colab_type": "text"
      },
      "source": [
        "<a href=\"https://colab.research.google.com/github/jeguns/EP7173/blob/main/Unidad%2001/01_Data_frames_particiones.ipynb\" target=\"_parent\"><img src=\"https://colab.research.google.com/assets/colab-badge.svg\" alt=\"Open In Colab\"/></a>"
      ]
    },
    {
      "cell_type": "markdown",
      "source": [
        "# **Lista**\n",
        "\n",
        "- Colección mutable, es decir es posible modificar sus elementos después de haberlas creado (se pueden agregar, eliminar o cambiar elementos).\n",
        "\n",
        "- Se definen utilizando corchetes [].\n",
        "\n",
        "- Ejemplos de lista:"
      ],
      "metadata": {
        "id": "p6KfQWdxRgkS"
      }
    },
    {
      "cell_type": "code",
      "source": [
        "[3, 5, 2]"
      ],
      "metadata": {
        "id": "bUgGYImsR2ab"
      },
      "execution_count": null,
      "outputs": []
    },
    {
      "cell_type": "code",
      "source": [
        "L1 = [2, 0, -3]\n",
        "type(L1)"
      ],
      "metadata": {
        "id": "dOYIiILNR62v"
      },
      "execution_count": null,
      "outputs": []
    },
    {
      "cell_type": "code",
      "source": [
        "L2 = [2, 0, True, 'dat']\n",
        "type(L2)"
      ],
      "metadata": {
        "id": "TaSE-ARTSA9J"
      },
      "execution_count": null,
      "outputs": []
    },
    {
      "cell_type": "code",
      "source": [
        "print(L2[1])\n",
        "print(L2[-1])\n",
        "print(L2[1:])\n",
        "print(L2[:1])"
      ],
      "metadata": {
        "id": "d1MyIPA-SRPS"
      },
      "execution_count": null,
      "outputs": []
    },
    {
      "cell_type": "code",
      "source": [
        "L3 = [1, 3j, [3, 4], 5, 'M']\n",
        "type(L3)"
      ],
      "metadata": {
        "id": "I6sL4UzsSKnN"
      },
      "execution_count": null,
      "outputs": []
    },
    {
      "cell_type": "code",
      "source": [
        "print(L3[1])\n",
        "print(L3[-1])\n",
        "print(L3[1:])\n",
        "print(L3[:1])\n",
        "print(L3[2][1])"
      ],
      "metadata": {
        "id": "Oya6bEc7Sbu5"
      },
      "execution_count": null,
      "outputs": []
    },
    {
      "cell_type": "code",
      "source": [
        "L3.append('+1')\n",
        "L3"
      ],
      "metadata": {
        "id": "e9042PyLSsgr"
      },
      "execution_count": null,
      "outputs": []
    },
    {
      "cell_type": "code",
      "source": [
        "L3.insert(2, 3j)\n",
        "L3"
      ],
      "metadata": {
        "id": "GwxBgX5NSxPX"
      },
      "execution_count": null,
      "outputs": []
    },
    {
      "cell_type": "code",
      "source": [
        "L3.remove(3j)\n",
        "L3"
      ],
      "metadata": {
        "id": "BcDZX1FgTCdK"
      },
      "execution_count": null,
      "outputs": []
    },
    {
      "cell_type": "code",
      "source": [
        "L3.pop()\n",
        "L3"
      ],
      "metadata": {
        "id": "eF8i0PGOTVIB"
      },
      "execution_count": null,
      "outputs": []
    },
    {
      "cell_type": "code",
      "source": [
        "L3.pop(2)\n",
        "L3"
      ],
      "metadata": {
        "id": "Fpw4Jq5TTi3K"
      },
      "execution_count": null,
      "outputs": []
    },
    {
      "cell_type": "code",
      "source": [
        "L3.reverse()\n",
        "L3"
      ],
      "metadata": {
        "id": "_1NlWIPzTse1"
      },
      "execution_count": null,
      "outputs": []
    },
    {
      "cell_type": "markdown",
      "source": [
        "# **Tupla**\n",
        "\n",
        "- Colección inmutable, lo que significa que una vez que se ha creado una tupla, no se pueden cambiar sus elementos.\n",
        "\n",
        "- Se definen utilizando paréntesis () o simplemente separando elementos por comas.\n",
        "\n",
        "- Acceder a los elementos de una tupla suele ser más rápido que en una lista, debido a su inmutabilidad.\n",
        "\n",
        "- Ejemplos de tupla:"
      ],
      "metadata": {
        "id": "RSMgwurxUM13"
      }
    },
    {
      "cell_type": "code",
      "source": [
        "(3, 5, 2)"
      ],
      "metadata": {
        "id": "MkGepjN9Smg4"
      },
      "execution_count": null,
      "outputs": []
    },
    {
      "cell_type": "code",
      "source": [
        "T1 = (2, 0, -3)\n",
        "type(T1)"
      ],
      "metadata": {
        "id": "dyrGc92IUlGS"
      },
      "execution_count": null,
      "outputs": []
    },
    {
      "cell_type": "code",
      "source": [
        "T2 = (2, 0, True, 'dat')\n",
        "type(T2)"
      ],
      "metadata": {
        "id": "5Jo02yQBUsPM"
      },
      "execution_count": null,
      "outputs": []
    },
    {
      "cell_type": "code",
      "source": [
        "print(T2[1])\n",
        "print(T2[-1])\n",
        "print(T2[1:])\n",
        "print(T2[:1])"
      ],
      "metadata": {
        "id": "dLrou5quU4Nb"
      },
      "execution_count": null,
      "outputs": []
    },
    {
      "cell_type": "code",
      "source": [
        "T3 = (1, 3j, [3, 4], 5, 'M')\n",
        "type(T3)"
      ],
      "metadata": {
        "id": "ZWI3ypJuUxCU"
      },
      "execution_count": null,
      "outputs": []
    },
    {
      "cell_type": "code",
      "source": [
        "print(T3[1])\n",
        "print(T3[-1])\n",
        "print(T3[1:])\n",
        "print(T3[:1])\n",
        "print(T3[2][1])"
      ],
      "metadata": {
        "id": "7C-s8ak0U8eV"
      },
      "execution_count": null,
      "outputs": []
    },
    {
      "cell_type": "code",
      "source": [
        "T3.count(5)"
      ],
      "metadata": {
        "id": "YN2c47ULVAle"
      },
      "execution_count": null,
      "outputs": []
    },
    {
      "cell_type": "code",
      "source": [
        "T3.index(5)"
      ],
      "metadata": {
        "id": "qt15O7qxVFxe"
      },
      "execution_count": null,
      "outputs": []
    },
    {
      "cell_type": "markdown",
      "source": [
        "# **Lectura de datos**\n",
        "\n",
        "Verifique previamente que ha subido el archivo de datos (**01 - admitidos.csv**) en el panel del lado izquierdo."
      ],
      "metadata": {
        "id": "MPgPoa6C3pry"
      }
    },
    {
      "cell_type": "code",
      "source": [
        "import pandas as pd"
      ],
      "metadata": {
        "id": "KyVJoDi43vUR"
      },
      "execution_count": null,
      "outputs": []
    },
    {
      "cell_type": "markdown",
      "source": [
        "![image.png](data:image/png;base64,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)"
      ],
      "metadata": {
        "id": "PF0TjEVf4F19"
      }
    },
    {
      "cell_type": "code",
      "source": [
        "datos = pd.read_csv(\"01 - admitidos.csv\")"
      ],
      "metadata": {
        "id": "6VrdFM3M332k"
      },
      "execution_count": null,
      "outputs": []
    },
    {
      "cell_type": "code",
      "source": [
        "datos"
      ],
      "metadata": {
        "id": "JWSGlZb84Ttw"
      },
      "execution_count": null,
      "outputs": []
    },
    {
      "cell_type": "code",
      "source": [
        "datos.head(6) # Muestra las primeras 6 filas"
      ],
      "metadata": {
        "id": "OE2weiwt4VRW"
      },
      "execution_count": null,
      "outputs": []
    },
    {
      "cell_type": "code",
      "source": [
        "datos.tail(10) # Muestra las últimas 10 filas"
      ],
      "metadata": {
        "id": "ROyOVvKl4q9d"
      },
      "execution_count": null,
      "outputs": []
    },
    {
      "cell_type": "code",
      "source": [
        "datos.admit # extrae la columna admit"
      ],
      "metadata": {
        "id": "CkD04WDI4YOs"
      },
      "execution_count": null,
      "outputs": []
    },
    {
      "cell_type": "code",
      "source": [
        "datos['admit']"
      ],
      "metadata": {
        "id": "Qjr8iV1Wu4jW"
      },
      "execution_count": null,
      "outputs": []
    },
    {
      "cell_type": "code",
      "source": [
        "datos.loc[:,'admit']"
      ],
      "metadata": {
        "id": "vgLNOkD0Ve8h"
      },
      "execution_count": null,
      "outputs": []
    },
    {
      "cell_type": "code",
      "source": [
        "type(datos.loc[:,'admit'])"
      ],
      "metadata": {
        "id": "MkfIldePQIY6"
      },
      "execution_count": null,
      "outputs": []
    },
    {
      "cell_type": "code",
      "source": [
        "datos[['admit']]"
      ],
      "metadata": {
        "id": "DCdDJNdcDu06"
      },
      "execution_count": null,
      "outputs": []
    },
    {
      "cell_type": "code",
      "source": [
        "type(datos[['admit']])"
      ],
      "metadata": {
        "id": "FY1gHeYqQnG7"
      },
      "execution_count": null,
      "outputs": []
    },
    {
      "cell_type": "code",
      "source": [
        "datos.loc[:,['gpa','admit']] # extrae las columnas admit y gpa, de todas las filas"
      ],
      "metadata": {
        "id": "Wwf_Fz0AVmNv"
      },
      "execution_count": null,
      "outputs": []
    },
    {
      "cell_type": "code",
      "source": [
        "datos[['admit','gpa']] # extrae las columnas admit y gpa"
      ],
      "metadata": {
        "id": "f3vyAgmMEcm3"
      },
      "execution_count": null,
      "outputs": []
    },
    {
      "cell_type": "code",
      "source": [
        "datos.iloc[:,3] # extrae los valores de todas las filas, y la columna de posición 3"
      ],
      "metadata": {
        "id": "u7Q6ULzMFM3B"
      },
      "execution_count": null,
      "outputs": []
    },
    {
      "cell_type": "code",
      "source": [
        "datos.iloc[:,[0,3]] # extrae los valores de todas las filas, y la columna de posicion 3, como Data Frame"
      ],
      "metadata": {
        "id": "h6g4TfGbFMqp"
      },
      "execution_count": null,
      "outputs": []
    },
    {
      "cell_type": "code",
      "source": [
        "datos.iloc[1] # selecciona la segunda fila como pandas Series"
      ],
      "metadata": {
        "id": "lZN0y2yTF5Al"
      },
      "execution_count": null,
      "outputs": []
    },
    {
      "cell_type": "code",
      "source": [
        "datos.iloc[1,] # selecciona la segunda fila como pandas Series"
      ],
      "metadata": {
        "id": "mx_T3ufZ5ZCb"
      },
      "execution_count": null,
      "outputs": []
    },
    {
      "cell_type": "code",
      "source": [
        "datos.iloc[0:4] # extrae la primera, segunda, tercera y cuarta fila (posiciones 0, 1, 2 y 3) como Data Frame"
      ],
      "metadata": {
        "id": "bgc7reh1BKaF"
      },
      "execution_count": null,
      "outputs": []
    },
    {
      "cell_type": "code",
      "source": [
        "datos.iloc[[3,7,1,12]] # extrae las filas de posiciones 3, 7, 1 y 12, como Data Frame"
      ],
      "metadata": {
        "id": "sEnu4Z3TBdt7"
      },
      "execution_count": null,
      "outputs": []
    },
    {
      "cell_type": "code",
      "source": [
        "datos.iloc[-1,] # extrae la última fila del DF"
      ],
      "metadata": {
        "id": "sDtj1DkaA6mL"
      },
      "execution_count": null,
      "outputs": []
    },
    {
      "cell_type": "code",
      "source": [
        "datos.iloc[-3:,:] # extrae las últimas 3 filas, considerando todas las columnas"
      ],
      "metadata": {
        "id": "4mYLfEIEGSWc"
      },
      "execution_count": null,
      "outputs": []
    },
    {
      "cell_type": "code",
      "source": [
        "datos.iloc[2,2] # tercera fila con tercera columna, porque las ubicaciones se cuentan desde cero"
      ],
      "metadata": {
        "id": "1pD1-v5X5TXT"
      },
      "execution_count": null,
      "outputs": []
    },
    {
      "cell_type": "code",
      "source": [
        "datos.iloc[0,0]"
      ],
      "metadata": {
        "id": "BwOoDgLQ5Xf_"
      },
      "execution_count": null,
      "outputs": []
    },
    {
      "cell_type": "code",
      "source": [
        "datos.iloc[-3:,0:2] # extrae las 3 últimas filas y las dos primeras columnas, como Data Frame"
      ],
      "metadata": {
        "id": "ezZ5dDDBGlt3"
      },
      "execution_count": null,
      "outputs": []
    },
    {
      "cell_type": "code",
      "source": [
        "datos.shape"
      ],
      "metadata": {
        "id": "ubyjEWaCSORZ"
      },
      "execution_count": null,
      "outputs": []
    },
    {
      "cell_type": "code",
      "source": [
        "datos.columns"
      ],
      "metadata": {
        "id": "CsO52YZRSTtP"
      },
      "execution_count": null,
      "outputs": []
    },
    {
      "cell_type": "code",
      "source": [
        "datos.info() # nos informa acerca del tipo y cantidad de datos de cada variable"
      ],
      "metadata": {
        "id": "2f2OucO3SVQO"
      },
      "execution_count": null,
      "outputs": []
    },
    {
      "cell_type": "code",
      "source": [
        "datos.describe() #"
      ],
      "metadata": {
        "id": "-wIpP0g5VK9V"
      },
      "execution_count": null,
      "outputs": []
    },
    {
      "cell_type": "markdown",
      "source": [
        "# **Partición de datos**"
      ],
      "metadata": {
        "id": "zPVyJ7kQVxFT"
      }
    },
    {
      "cell_type": "code",
      "source": [
        "features = ['gre','gpa','rank'] # se define una lista con el nombre de 3 variables, y se le asigna el nombre de features\n",
        "X = datos.loc[:, features] # se seleccionan las columnas indicadas en features y el resultado se almacena en X\n",
        "y = datos.loc[:, 'admit'] # se selecciona la columna adnit y el resultado se almacena en y"
      ],
      "metadata": {
        "id": "aTQr3duQVKjE"
      },
      "execution_count": null,
      "outputs": []
    },
    {
      "cell_type": "code",
      "source": [
        "print(\"Matriz de predictoras\", X, sep='\\n')\n",
        "print(\"--------------------------------------------------\")\n",
        "print(\"Variable respuesta\", y, sep='\\n')"
      ],
      "metadata": {
        "id": "v0dzA5X5fylG"
      },
      "execution_count": null,
      "outputs": []
    },
    {
      "cell_type": "code",
      "source": [
        "type(X)"
      ],
      "metadata": {
        "id": "1MuGdGUiDK7_"
      },
      "execution_count": null,
      "outputs": []
    },
    {
      "cell_type": "code",
      "source": [
        "type(y)"
      ],
      "metadata": {
        "id": "TZRLhB32DMv8"
      },
      "execution_count": null,
      "outputs": []
    },
    {
      "cell_type": "code",
      "source": [
        "print(X.shape, y.shape)"
      ],
      "metadata": {
        "id": "J2sM19UuWdwM"
      },
      "execution_count": null,
      "outputs": []
    },
    {
      "cell_type": "code",
      "source": [
        "y.value_counts() # Realiza un conteo para cada valor de y // una tabla de frecuencias de y"
      ],
      "metadata": {
        "id": "4zKOMPuDDkDc"
      },
      "execution_count": null,
      "outputs": []
    },
    {
      "cell_type": "code",
      "source": [
        "y.value_counts()/sum(y.value_counts()) # se obtienen las frecuencias relativas para cada clase"
      ],
      "metadata": {
        "id": "7dF5NTgwZXeS"
      },
      "execution_count": null,
      "outputs": []
    },
    {
      "cell_type": "code",
      "source": [
        "import random # importa el paquete random\n",
        "from sklearn.model_selection import train_test_split # importa la función train_test_split de sklearn"
      ],
      "metadata": {
        "id": "nxBFtzmNV_hd"
      },
      "execution_count": null,
      "outputs": []
    },
    {
      "cell_type": "code",
      "source": [
        "train_test_split(X, y, random_state = 100, train_size = 0.80) # 80% de 400 = 320"
      ],
      "metadata": {
        "id": "2NBfWQW4R-Rf"
      },
      "execution_count": null,
      "outputs": []
    },
    {
      "cell_type": "code",
      "source": [
        "X_train, X_test, y_train, y_test = train_test_split(X, y, random_state = 100, train_size = 0.80)"
      ],
      "metadata": {
        "id": "ZNCouizdWxZO"
      },
      "execution_count": null,
      "outputs": []
    },
    {
      "cell_type": "code",
      "source": [
        "print(X_train.shape, y_train.shape)"
      ],
      "metadata": {
        "id": "jQPjMNgmWJvW"
      },
      "execution_count": null,
      "outputs": []
    },
    {
      "cell_type": "code",
      "source": [
        "y_train.value_counts()/sum(y_train.value_counts())"
      ],
      "metadata": {
        "id": "lKEOCyTwZHcA"
      },
      "execution_count": null,
      "outputs": []
    },
    {
      "cell_type": "code",
      "source": [
        "print(X_test.shape,y_test.shape)"
      ],
      "metadata": {
        "id": "v4sATkOPWS2E"
      },
      "execution_count": null,
      "outputs": []
    },
    {
      "cell_type": "code",
      "source": [
        "y_test.value_counts()/sum(y_test.value_counts())"
      ],
      "metadata": {
        "id": "d0gpsPiEZ7lo"
      },
      "execution_count": null,
      "outputs": []
    },
    {
      "cell_type": "markdown",
      "source": [
        "## Validación cruzada *k* fold"
      ],
      "metadata": {
        "id": "dy3irpZJeveL"
      }
    },
    {
      "cell_type": "code",
      "source": [
        "from sklearn.model_selection import KFold\n",
        "from sklearn.model_selection import cross_val_score\n",
        "from sklearn.tree import DecisionTreeClassifier"
      ],
      "metadata": {
        "id": "BYmyPvB5bek4"
      },
      "execution_count": null,
      "outputs": []
    },
    {
      "cell_type": "code",
      "source": [
        "# Partición en datos de entrenamiento y de prueba\n",
        "X_train, X_test, y_train, y_test = train_test_split(X, y, random_state = 100, test_size = 0.20)"
      ],
      "metadata": {
        "id": "SIUVG58WdaQW"
      },
      "execution_count": null,
      "outputs": []
    },
    {
      "cell_type": "code",
      "source": [
        "# Configuración de la validación cruzada\n",
        "cv = KFold(n_splits=5, random_state=1, shuffle=True)\n",
        "cv"
      ],
      "metadata": {
        "id": "mMaB8dX1bpzf"
      },
      "execution_count": null,
      "outputs": []
    },
    {
      "cell_type": "code",
      "source": [
        "for max_prof in range(1, 6): # para tunear el hiperparámetro de máxima profundidad\n",
        "    print(f'Probando profundidad = {max_prof}')\n",
        "    val_scores = []\n",
        "\n",
        "    # División en k = 5 folds\n",
        "    for train_index, val_index in cv.split(X_train):\n",
        "        X_train_fold, X_val_fold = X_train.iloc[train_index], X_train.iloc[val_index]\n",
        "        y_train_fold, y_val_fold = y_train.iloc[train_index], y_train.iloc[val_index]\n",
        "        print(f'Dimensión de los datos de entrenamiento para X:{X_train_fold.shape}, para y: {y_train_fold.shape}')\n",
        "        print(f'Dimensión de los datos de validación para X:{X_val_fold.shape}, para y: {y_val_fold.shape}')\n",
        "\n",
        "        # Entrenamiento en cada training fold\n",
        "        model = DecisionTreeClassifier(max_depth = max_prof)\n",
        "        model.fit(X_train_fold, y_train_fold)\n",
        "\n",
        "        # Validación en cada validation fold\n",
        "        val_score = model.score(X_val_fold, y_val_fold)\n",
        "        val_scores.append(val_score)\n",
        "\n",
        "    # Cálculo del puntaje promedio de validación para cada valor de max_prof\n",
        "    mean_val_score = sum(val_scores) / len(val_scores)\n",
        "    print(f'Puntuación media de validación: {mean_val_score:.2f}')\n"
      ],
      "metadata": {
        "id": "P2arxaSheIFl"
      },
      "execution_count": null,
      "outputs": []
    },
    {
      "cell_type": "code",
      "source": [
        "# Elección de la mejor profundidad\n",
        "best_max_depth = 2\n",
        "model = DecisionTreeClassifier(max_depth = best_max_depth)\n",
        "model.fit(X_train, y_train)"
      ],
      "metadata": {
        "id": "Ej0wLAXGebyz"
      },
      "execution_count": null,
      "outputs": []
    },
    {
      "cell_type": "code",
      "source": [
        "# Evaluación del modelo en el conjunto de prueba\n",
        "test_score = model.score(X_test, y_test)\n",
        "print(f'Test score: {test_score:.3f}')"
      ],
      "metadata": {
        "id": "Lk9ntIXSec3A"
      },
      "execution_count": null,
      "outputs": []
    },
    {
      "cell_type": "markdown",
      "source": [
        "## Validación cruzada dejando uno fuera"
      ],
      "metadata": {
        "id": "d54O2r1de0F1"
      }
    },
    {
      "cell_type": "code",
      "source": [
        "from sklearn.model_selection import LeaveOneOut"
      ],
      "metadata": {
        "id": "qr7lDr8Qgysx"
      },
      "execution_count": null,
      "outputs": []
    },
    {
      "cell_type": "code",
      "source": [
        "# Partición en datos de entrenamiento y de prueba\n",
        "X_train, X_test, y_train, y_test = train_test_split(X, y, random_state = 100, test_size = 0.20)"
      ],
      "metadata": {
        "id": "EcnsrRUcgo2S"
      },
      "execution_count": null,
      "outputs": []
    },
    {
      "cell_type": "code",
      "source": [
        "# Configuración de LOOCV (320-fold)\n",
        "loocv = LeaveOneOut()"
      ],
      "metadata": {
        "id": "1Nf5f_wjgrsC"
      },
      "execution_count": null,
      "outputs": []
    },
    {
      "cell_type": "code",
      "source": [
        "for max_prof in range(1, 6):\n",
        "    print(f'Probando profundidad = {max_prof}')\n",
        "    val_scores = []\n",
        "\n",
        "    # División en k = n folds\n",
        "    for train_index, val_index in loocv.split(X_train):\n",
        "        X_train_fold, X_val_fold = X_train.iloc[train_index], X_train.iloc[val_index]\n",
        "        y_train_fold, y_val_fold = y_train.iloc[train_index], y_train.iloc[val_index]\n",
        "        print(f'Dimensión de los datos de entrenamiento para X:{X_train_fold.shape}, para y: {y_train_fold.shape}')\n",
        "        print(f'Dimensión de los datos de validación para X:{X_val_fold.shape}, para y: {y_val_fold.shape}')\n",
        "\n",
        "        # Entrenamiento en cada training fold\n",
        "        model = DecisionTreeClassifier(max_depth = max_prof)\n",
        "        model.fit(X_train_fold, y_train_fold)\n",
        "\n",
        "        # Validación en cada validation fold\n",
        "        val_score = model.score(X_val_fold, y_val_fold)\n",
        "        val_scores.append(val_score)\n",
        "\n",
        "    # Cálculo del puntaje promedio de validación para cada valor de max_prof\n",
        "    mean_val_score = sum(val_scores) / len(val_scores)\n",
        "    print(f'Puntuación media de validación: {mean_val_score:.2f}')"
      ],
      "metadata": {
        "id": "7vQCGIHDg5Rb"
      },
      "execution_count": null,
      "outputs": []
    },
    {
      "cell_type": "code",
      "source": [
        "# Elección de la mejor profundidad\n",
        "best_max_depth = 2\n",
        "model = DecisionTreeClassifier(max_depth=best_max_depth)\n",
        "model.fit(X_train, y_train)"
      ],
      "metadata": {
        "id": "F2t7F3xthPGZ"
      },
      "execution_count": null,
      "outputs": []
    },
    {
      "cell_type": "code",
      "source": [
        "# Evaluación del modelo en el conjunto de prueba o testing\n",
        "test_score = model.score(X_test, y_test)\n",
        "print(f'Test score: {test_score:.2f}')"
      ],
      "metadata": {
        "id": "g3SM15w0cUrP"
      },
      "execution_count": null,
      "outputs": []
    },
    {
      "cell_type": "markdown",
      "source": [
        "## Validación cruzada *k*-fold repetida *m* veces"
      ],
      "metadata": {
        "id": "TycBv4hoeh8P"
      }
    },
    {
      "cell_type": "code",
      "source": [
        "from sklearn.model_selection import RepeatedKFold"
      ],
      "metadata": {
        "id": "bwQ_AQaMiLAM"
      },
      "execution_count": null,
      "outputs": []
    },
    {
      "cell_type": "code",
      "source": [
        "# Partición en datos de entrenamiento y de prueba\n",
        "X_train, X_test, y_train, y_test = train_test_split(X, y, test_size=0.2)"
      ],
      "metadata": {
        "id": "b4S_dd6siMty"
      },
      "execution_count": null,
      "outputs": []
    },
    {
      "cell_type": "code",
      "source": [
        "# Configuración de la Validación cruzada 5-fold repetida 4 veces\n",
        "rkf = RepeatedKFold(n_splits=5, n_repeats=4)"
      ],
      "metadata": {
        "id": "QWrqVwEQiOYg"
      },
      "execution_count": null,
      "outputs": []
    },
    {
      "cell_type": "code",
      "source": [
        "for max_prof in range(1, 6):\n",
        "    print(f'Probando profundidad = {max_prof}')\n",
        "    val_scores = []\n",
        "\n",
        "    # División en k = 5 folds y n = 4 repeticiones\n",
        "    for train_index, val_index in rkf.split(X_train):\n",
        "        X_train_fold, X_val_fold = X_train.iloc[train_index], X_train.iloc[val_index]\n",
        "        y_train_fold, y_val_fold = y_train.iloc[train_index], y_train.iloc[val_index]\n",
        "        print(f'Dimensión de los datos de entrenamiento para X:{X_train_fold.shape}, para y: {y_train_fold.shape}')\n",
        "        print(f'Dimensión de los datos de validación para X:{X_val_fold.shape}, para y: {y_val_fold.shape}')\n",
        "\n",
        "        # Entrenamiento en cada training fold\n",
        "        model = DecisionTreeClassifier(max_depth = max_prof)\n",
        "        model.fit(X_train_fold, y_train_fold)\n",
        "\n",
        "        # Validación en cada validation fold\n",
        "        val_score = model.score(X_val_fold, y_val_fold)\n",
        "        val_scores.append(val_score)\n",
        "\n",
        "    # Cálculo del puntaje promedio de validación para cada valor de max_prof\n",
        "    mean_val_score = sum(val_scores) / len(val_scores)\n",
        "    print(f'Puntuación media de validación: {mean_val_score:.5f}')"
      ],
      "metadata": {
        "id": "WLPfjdQRiXbZ"
      },
      "execution_count": null,
      "outputs": []
    },
    {
      "cell_type": "code",
      "source": [
        "# Elección de la mejor profundidad = mejor accuracy (o en general, el mejor indicador)\n",
        "best_max_depth = 2\n",
        "model = DecisionTreeClassifier(max_depth=best_max_depth)\n",
        "model.fit(X_train, y_train)"
      ],
      "metadata": {
        "id": "ZfL1LiHgePFI"
      },
      "execution_count": null,
      "outputs": []
    },
    {
      "cell_type": "code",
      "source": [
        "# Evaluación del modelo en el conjunto de prueba\n",
        "test_score = model.score(X_test, y_test)\n",
        "print(f'Test score: {test_score:.2f}')"
      ],
      "metadata": {
        "id": "xwmHarpLeZOz"
      },
      "execution_count": null,
      "outputs": []
    }
  ]
}